{
  "nbformat": 4,
  "nbformat_minor": 0,
  "metadata": {
    "colab": {
      "name": "Copy of rl_practice",
      "provenance": [],
      "collapsed_sections": []
    },
    "kernelspec": {
      "display_name": "Python 3",
      "name": "python3"
    },
    "widgets": {
      "application/vnd.jupyter.widget-state+json": {
        "1f15e574b17f44e0b54129170e08f859": {
          "model_module": "@jupyter-widgets/controls",
          "model_name": "HBoxModel",
          "model_module_version": "1.5.0",
          "state": {
            "_view_name": "HBoxView",
            "_dom_classes": [],
            "_model_name": "HBoxModel",
            "_view_module": "@jupyter-widgets/controls",
            "_model_module_version": "1.5.0",
            "_view_count": null,
            "_view_module_version": "1.5.0",
            "box_style": "",
            "layout": "IPY_MODEL_8807ec82c0b74c09924deae5d65072b4",
            "_model_module": "@jupyter-widgets/controls",
            "children": [
              "IPY_MODEL_2c241d0d65d3462cbe967098d625b813",
              "IPY_MODEL_c0e58966de874cecb77d7b3ce192c2fc",
              "IPY_MODEL_4dc650a6fa2c4081be37dee448e189bd"
            ]
          }
        },
        "8807ec82c0b74c09924deae5d65072b4": {
          "model_module": "@jupyter-widgets/base",
          "model_name": "LayoutModel",
          "model_module_version": "1.2.0",
          "state": {
            "_view_name": "LayoutView",
            "grid_template_rows": null,
            "right": null,
            "justify_content": null,
            "_view_module": "@jupyter-widgets/base",
            "overflow": null,
            "_model_module_version": "1.2.0",
            "_view_count": null,
            "flex_flow": null,
            "width": null,
            "min_width": null,
            "border": null,
            "align_items": null,
            "bottom": null,
            "_model_module": "@jupyter-widgets/base",
            "top": null,
            "grid_column": null,
            "overflow_y": null,
            "overflow_x": null,
            "grid_auto_flow": null,
            "grid_area": null,
            "grid_template_columns": null,
            "flex": null,
            "_model_name": "LayoutModel",
            "justify_items": null,
            "grid_row": null,
            "max_height": null,
            "align_content": null,
            "visibility": null,
            "align_self": null,
            "height": null,
            "min_height": null,
            "padding": null,
            "grid_auto_rows": null,
            "grid_gap": null,
            "max_width": null,
            "order": null,
            "_view_module_version": "1.2.0",
            "grid_template_areas": null,
            "object_position": null,
            "object_fit": null,
            "grid_auto_columns": null,
            "margin": null,
            "display": null,
            "left": null
          }
        },
        "2c241d0d65d3462cbe967098d625b813": {
          "model_module": "@jupyter-widgets/controls",
          "model_name": "HTMLModel",
          "model_module_version": "1.5.0",
          "state": {
            "_view_name": "HTMLView",
            "style": "IPY_MODEL_f1b3d01af9bd4a718f3daf0f9370a0c5",
            "_dom_classes": [],
            "description": "",
            "_model_name": "HTMLModel",
            "placeholder": "​",
            "_view_module": "@jupyter-widgets/controls",
            "_model_module_version": "1.5.0",
            "value": "100%",
            "_view_count": null,
            "_view_module_version": "1.5.0",
            "description_tooltip": null,
            "_model_module": "@jupyter-widgets/controls",
            "layout": "IPY_MODEL_8c894a32dc564108af26f08383b5f6ea"
          }
        },
        "c0e58966de874cecb77d7b3ce192c2fc": {
          "model_module": "@jupyter-widgets/controls",
          "model_name": "FloatProgressModel",
          "model_module_version": "1.5.0",
          "state": {
            "_view_name": "ProgressView",
            "style": "IPY_MODEL_867efa839c83455691150bf669db1cc9",
            "_dom_classes": [],
            "description": "",
            "_model_name": "FloatProgressModel",
            "bar_style": "success",
            "max": 10,
            "_view_module": "@jupyter-widgets/controls",
            "_model_module_version": "1.5.0",
            "value": 10,
            "_view_count": null,
            "_view_module_version": "1.5.0",
            "orientation": "horizontal",
            "min": 0,
            "description_tooltip": null,
            "_model_module": "@jupyter-widgets/controls",
            "layout": "IPY_MODEL_408fd3b9a5f74bc4978e879c976f511a"
          }
        },
        "4dc650a6fa2c4081be37dee448e189bd": {
          "model_module": "@jupyter-widgets/controls",
          "model_name": "HTMLModel",
          "model_module_version": "1.5.0",
          "state": {
            "_view_name": "HTMLView",
            "style": "IPY_MODEL_a857587ab4aa4ef9a50bea9eda7c3ee2",
            "_dom_classes": [],
            "description": "",
            "_model_name": "HTMLModel",
            "placeholder": "​",
            "_view_module": "@jupyter-widgets/controls",
            "_model_module_version": "1.5.0",
            "value": " 10/10 [01:03&lt;00:00,  6.56s/it]",
            "_view_count": null,
            "_view_module_version": "1.5.0",
            "description_tooltip": null,
            "_model_module": "@jupyter-widgets/controls",
            "layout": "IPY_MODEL_2762d6ec1833415ca1378e760a348fa2"
          }
        },
        "f1b3d01af9bd4a718f3daf0f9370a0c5": {
          "model_module": "@jupyter-widgets/controls",
          "model_name": "DescriptionStyleModel",
          "model_module_version": "1.5.0",
          "state": {
            "_view_name": "StyleView",
            "_model_name": "DescriptionStyleModel",
            "description_width": "",
            "_view_module": "@jupyter-widgets/base",
            "_model_module_version": "1.5.0",
            "_view_count": null,
            "_view_module_version": "1.2.0",
            "_model_module": "@jupyter-widgets/controls"
          }
        },
        "8c894a32dc564108af26f08383b5f6ea": {
          "model_module": "@jupyter-widgets/base",
          "model_name": "LayoutModel",
          "model_module_version": "1.2.0",
          "state": {
            "_view_name": "LayoutView",
            "grid_template_rows": null,
            "right": null,
            "justify_content": null,
            "_view_module": "@jupyter-widgets/base",
            "overflow": null,
            "_model_module_version": "1.2.0",
            "_view_count": null,
            "flex_flow": null,
            "width": null,
            "min_width": null,
            "border": null,
            "align_items": null,
            "bottom": null,
            "_model_module": "@jupyter-widgets/base",
            "top": null,
            "grid_column": null,
            "overflow_y": null,
            "overflow_x": null,
            "grid_auto_flow": null,
            "grid_area": null,
            "grid_template_columns": null,
            "flex": null,
            "_model_name": "LayoutModel",
            "justify_items": null,
            "grid_row": null,
            "max_height": null,
            "align_content": null,
            "visibility": null,
            "align_self": null,
            "height": null,
            "min_height": null,
            "padding": null,
            "grid_auto_rows": null,
            "grid_gap": null,
            "max_width": null,
            "order": null,
            "_view_module_version": "1.2.0",
            "grid_template_areas": null,
            "object_position": null,
            "object_fit": null,
            "grid_auto_columns": null,
            "margin": null,
            "display": null,
            "left": null
          }
        },
        "867efa839c83455691150bf669db1cc9": {
          "model_module": "@jupyter-widgets/controls",
          "model_name": "ProgressStyleModel",
          "model_module_version": "1.5.0",
          "state": {
            "_view_name": "StyleView",
            "_model_name": "ProgressStyleModel",
            "description_width": "",
            "_view_module": "@jupyter-widgets/base",
            "_model_module_version": "1.5.0",
            "_view_count": null,
            "_view_module_version": "1.2.0",
            "bar_color": null,
            "_model_module": "@jupyter-widgets/controls"
          }
        },
        "408fd3b9a5f74bc4978e879c976f511a": {
          "model_module": "@jupyter-widgets/base",
          "model_name": "LayoutModel",
          "model_module_version": "1.2.0",
          "state": {
            "_view_name": "LayoutView",
            "grid_template_rows": null,
            "right": null,
            "justify_content": null,
            "_view_module": "@jupyter-widgets/base",
            "overflow": null,
            "_model_module_version": "1.2.0",
            "_view_count": null,
            "flex_flow": null,
            "width": null,
            "min_width": null,
            "border": null,
            "align_items": null,
            "bottom": null,
            "_model_module": "@jupyter-widgets/base",
            "top": null,
            "grid_column": null,
            "overflow_y": null,
            "overflow_x": null,
            "grid_auto_flow": null,
            "grid_area": null,
            "grid_template_columns": null,
            "flex": null,
            "_model_name": "LayoutModel",
            "justify_items": null,
            "grid_row": null,
            "max_height": null,
            "align_content": null,
            "visibility": null,
            "align_self": null,
            "height": null,
            "min_height": null,
            "padding": null,
            "grid_auto_rows": null,
            "grid_gap": null,
            "max_width": null,
            "order": null,
            "_view_module_version": "1.2.0",
            "grid_template_areas": null,
            "object_position": null,
            "object_fit": null,
            "grid_auto_columns": null,
            "margin": null,
            "display": null,
            "left": null
          }
        },
        "a857587ab4aa4ef9a50bea9eda7c3ee2": {
          "model_module": "@jupyter-widgets/controls",
          "model_name": "DescriptionStyleModel",
          "model_module_version": "1.5.0",
          "state": {
            "_view_name": "StyleView",
            "_model_name": "DescriptionStyleModel",
            "description_width": "",
            "_view_module": "@jupyter-widgets/base",
            "_model_module_version": "1.5.0",
            "_view_count": null,
            "_view_module_version": "1.2.0",
            "_model_module": "@jupyter-widgets/controls"
          }
        },
        "2762d6ec1833415ca1378e760a348fa2": {
          "model_module": "@jupyter-widgets/base",
          "model_name": "LayoutModel",
          "model_module_version": "1.2.0",
          "state": {
            "_view_name": "LayoutView",
            "grid_template_rows": null,
            "right": null,
            "justify_content": null,
            "_view_module": "@jupyter-widgets/base",
            "overflow": null,
            "_model_module_version": "1.2.0",
            "_view_count": null,
            "flex_flow": null,
            "width": null,
            "min_width": null,
            "border": null,
            "align_items": null,
            "bottom": null,
            "_model_module": "@jupyter-widgets/base",
            "top": null,
            "grid_column": null,
            "overflow_y": null,
            "overflow_x": null,
            "grid_auto_flow": null,
            "grid_area": null,
            "grid_template_columns": null,
            "flex": null,
            "_model_name": "LayoutModel",
            "justify_items": null,
            "grid_row": null,
            "max_height": null,
            "align_content": null,
            "visibility": null,
            "align_self": null,
            "height": null,
            "min_height": null,
            "padding": null,
            "grid_auto_rows": null,
            "grid_gap": null,
            "max_width": null,
            "order": null,
            "_view_module_version": "1.2.0",
            "grid_template_areas": null,
            "object_position": null,
            "object_fit": null,
            "grid_auto_columns": null,
            "margin": null,
            "display": null,
            "left": null
          }
        },
        "19dfc4c37d284a1e9e115235de5e4e70": {
          "model_module": "@jupyter-widgets/controls",
          "model_name": "HBoxModel",
          "model_module_version": "1.5.0",
          "state": {
            "_view_name": "HBoxView",
            "_dom_classes": [],
            "_model_name": "HBoxModel",
            "_view_module": "@jupyter-widgets/controls",
            "_model_module_version": "1.5.0",
            "_view_count": null,
            "_view_module_version": "1.5.0",
            "box_style": "",
            "layout": "IPY_MODEL_a63f8d2382d043f7a55b583239672ac6",
            "_model_module": "@jupyter-widgets/controls",
            "children": [
              "IPY_MODEL_7e9260e3da3d43bd9d05dd6fe8d6327d",
              "IPY_MODEL_139efc7aeb7b4daab7fa4bff07da570e",
              "IPY_MODEL_03822e0ecff84b3ab42e4ec002e733fc"
            ]
          }
        },
        "a63f8d2382d043f7a55b583239672ac6": {
          "model_module": "@jupyter-widgets/base",
          "model_name": "LayoutModel",
          "model_module_version": "1.2.0",
          "state": {
            "_view_name": "LayoutView",
            "grid_template_rows": null,
            "right": null,
            "justify_content": null,
            "_view_module": "@jupyter-widgets/base",
            "overflow": null,
            "_model_module_version": "1.2.0",
            "_view_count": null,
            "flex_flow": null,
            "width": null,
            "min_width": null,
            "border": null,
            "align_items": null,
            "bottom": null,
            "_model_module": "@jupyter-widgets/base",
            "top": null,
            "grid_column": null,
            "overflow_y": null,
            "overflow_x": null,
            "grid_auto_flow": null,
            "grid_area": null,
            "grid_template_columns": null,
            "flex": null,
            "_model_name": "LayoutModel",
            "justify_items": null,
            "grid_row": null,
            "max_height": null,
            "align_content": null,
            "visibility": null,
            "align_self": null,
            "height": null,
            "min_height": null,
            "padding": null,
            "grid_auto_rows": null,
            "grid_gap": null,
            "max_width": null,
            "order": null,
            "_view_module_version": "1.2.0",
            "grid_template_areas": null,
            "object_position": null,
            "object_fit": null,
            "grid_auto_columns": null,
            "margin": null,
            "display": null,
            "left": null
          }
        },
        "7e9260e3da3d43bd9d05dd6fe8d6327d": {
          "model_module": "@jupyter-widgets/controls",
          "model_name": "HTMLModel",
          "model_module_version": "1.5.0",
          "state": {
            "_view_name": "HTMLView",
            "style": "IPY_MODEL_5a248e4b448d4ebe9c36a9370cbe5574",
            "_dom_classes": [],
            "description": "",
            "_model_name": "HTMLModel",
            "placeholder": "​",
            "_view_module": "@jupyter-widgets/controls",
            "_model_module_version": "1.5.0",
            "value": "100%",
            "_view_count": null,
            "_view_module_version": "1.5.0",
            "description_tooltip": null,
            "_model_module": "@jupyter-widgets/controls",
            "layout": "IPY_MODEL_4ed29dd3fb2f498ba98461c5c15ad1a8"
          }
        },
        "139efc7aeb7b4daab7fa4bff07da570e": {
          "model_module": "@jupyter-widgets/controls",
          "model_name": "FloatProgressModel",
          "model_module_version": "1.5.0",
          "state": {
            "_view_name": "ProgressView",
            "style": "IPY_MODEL_26bd94a1a4674414a84ab90f25bbed17",
            "_dom_classes": [],
            "description": "",
            "_model_name": "FloatProgressModel",
            "bar_style": "success",
            "max": 10,
            "_view_module": "@jupyter-widgets/controls",
            "_model_module_version": "1.5.0",
            "value": 10,
            "_view_count": null,
            "_view_module_version": "1.5.0",
            "orientation": "horizontal",
            "min": 0,
            "description_tooltip": null,
            "_model_module": "@jupyter-widgets/controls",
            "layout": "IPY_MODEL_2383ce7cb08a472aa1f962810e757ac9"
          }
        },
        "03822e0ecff84b3ab42e4ec002e733fc": {
          "model_module": "@jupyter-widgets/controls",
          "model_name": "HTMLModel",
          "model_module_version": "1.5.0",
          "state": {
            "_view_name": "HTMLView",
            "style": "IPY_MODEL_547ed884b2e14cc8a24d236316a6d38f",
            "_dom_classes": [],
            "description": "",
            "_model_name": "HTMLModel",
            "placeholder": "​",
            "_view_module": "@jupyter-widgets/controls",
            "_model_module_version": "1.5.0",
            "value": " 10/10 [01:02&lt;00:00,  6.45s/it]",
            "_view_count": null,
            "_view_module_version": "1.5.0",
            "description_tooltip": null,
            "_model_module": "@jupyter-widgets/controls",
            "layout": "IPY_MODEL_c91494c2d45b4d98afc62522fb89d98f"
          }
        },
        "5a248e4b448d4ebe9c36a9370cbe5574": {
          "model_module": "@jupyter-widgets/controls",
          "model_name": "DescriptionStyleModel",
          "model_module_version": "1.5.0",
          "state": {
            "_view_name": "StyleView",
            "_model_name": "DescriptionStyleModel",
            "description_width": "",
            "_view_module": "@jupyter-widgets/base",
            "_model_module_version": "1.5.0",
            "_view_count": null,
            "_view_module_version": "1.2.0",
            "_model_module": "@jupyter-widgets/controls"
          }
        },
        "4ed29dd3fb2f498ba98461c5c15ad1a8": {
          "model_module": "@jupyter-widgets/base",
          "model_name": "LayoutModel",
          "model_module_version": "1.2.0",
          "state": {
            "_view_name": "LayoutView",
            "grid_template_rows": null,
            "right": null,
            "justify_content": null,
            "_view_module": "@jupyter-widgets/base",
            "overflow": null,
            "_model_module_version": "1.2.0",
            "_view_count": null,
            "flex_flow": null,
            "width": null,
            "min_width": null,
            "border": null,
            "align_items": null,
            "bottom": null,
            "_model_module": "@jupyter-widgets/base",
            "top": null,
            "grid_column": null,
            "overflow_y": null,
            "overflow_x": null,
            "grid_auto_flow": null,
            "grid_area": null,
            "grid_template_columns": null,
            "flex": null,
            "_model_name": "LayoutModel",
            "justify_items": null,
            "grid_row": null,
            "max_height": null,
            "align_content": null,
            "visibility": null,
            "align_self": null,
            "height": null,
            "min_height": null,
            "padding": null,
            "grid_auto_rows": null,
            "grid_gap": null,
            "max_width": null,
            "order": null,
            "_view_module_version": "1.2.0",
            "grid_template_areas": null,
            "object_position": null,
            "object_fit": null,
            "grid_auto_columns": null,
            "margin": null,
            "display": null,
            "left": null
          }
        },
        "26bd94a1a4674414a84ab90f25bbed17": {
          "model_module": "@jupyter-widgets/controls",
          "model_name": "ProgressStyleModel",
          "model_module_version": "1.5.0",
          "state": {
            "_view_name": "StyleView",
            "_model_name": "ProgressStyleModel",
            "description_width": "",
            "_view_module": "@jupyter-widgets/base",
            "_model_module_version": "1.5.0",
            "_view_count": null,
            "_view_module_version": "1.2.0",
            "bar_color": null,
            "_model_module": "@jupyter-widgets/controls"
          }
        },
        "2383ce7cb08a472aa1f962810e757ac9": {
          "model_module": "@jupyter-widgets/base",
          "model_name": "LayoutModel",
          "model_module_version": "1.2.0",
          "state": {
            "_view_name": "LayoutView",
            "grid_template_rows": null,
            "right": null,
            "justify_content": null,
            "_view_module": "@jupyter-widgets/base",
            "overflow": null,
            "_model_module_version": "1.2.0",
            "_view_count": null,
            "flex_flow": null,
            "width": null,
            "min_width": null,
            "border": null,
            "align_items": null,
            "bottom": null,
            "_model_module": "@jupyter-widgets/base",
            "top": null,
            "grid_column": null,
            "overflow_y": null,
            "overflow_x": null,
            "grid_auto_flow": null,
            "grid_area": null,
            "grid_template_columns": null,
            "flex": null,
            "_model_name": "LayoutModel",
            "justify_items": null,
            "grid_row": null,
            "max_height": null,
            "align_content": null,
            "visibility": null,
            "align_self": null,
            "height": null,
            "min_height": null,
            "padding": null,
            "grid_auto_rows": null,
            "grid_gap": null,
            "max_width": null,
            "order": null,
            "_view_module_version": "1.2.0",
            "grid_template_areas": null,
            "object_position": null,
            "object_fit": null,
            "grid_auto_columns": null,
            "margin": null,
            "display": null,
            "left": null
          }
        },
        "547ed884b2e14cc8a24d236316a6d38f": {
          "model_module": "@jupyter-widgets/controls",
          "model_name": "DescriptionStyleModel",
          "model_module_version": "1.5.0",
          "state": {
            "_view_name": "StyleView",
            "_model_name": "DescriptionStyleModel",
            "description_width": "",
            "_view_module": "@jupyter-widgets/base",
            "_model_module_version": "1.5.0",
            "_view_count": null,
            "_view_module_version": "1.2.0",
            "_model_module": "@jupyter-widgets/controls"
          }
        },
        "c91494c2d45b4d98afc62522fb89d98f": {
          "model_module": "@jupyter-widgets/base",
          "model_name": "LayoutModel",
          "model_module_version": "1.2.0",
          "state": {
            "_view_name": "LayoutView",
            "grid_template_rows": null,
            "right": null,
            "justify_content": null,
            "_view_module": "@jupyter-widgets/base",
            "overflow": null,
            "_model_module_version": "1.2.0",
            "_view_count": null,
            "flex_flow": null,
            "width": null,
            "min_width": null,
            "border": null,
            "align_items": null,
            "bottom": null,
            "_model_module": "@jupyter-widgets/base",
            "top": null,
            "grid_column": null,
            "overflow_y": null,
            "overflow_x": null,
            "grid_auto_flow": null,
            "grid_area": null,
            "grid_template_columns": null,
            "flex": null,
            "_model_name": "LayoutModel",
            "justify_items": null,
            "grid_row": null,
            "max_height": null,
            "align_content": null,
            "visibility": null,
            "align_self": null,
            "height": null,
            "min_height": null,
            "padding": null,
            "grid_auto_rows": null,
            "grid_gap": null,
            "max_width": null,
            "order": null,
            "_view_module_version": "1.2.0",
            "grid_template_areas": null,
            "object_position": null,
            "object_fit": null,
            "grid_auto_columns": null,
            "margin": null,
            "display": null,
            "left": null
          }
        }
      }
    }
  },
  "cells": [
    {
      "cell_type": "markdown",
      "metadata": {
        "id": "33CSEx0T94SV"
      },
      "source": [
        "In this workshop we will play a bit with 2 popular frameworks for RL.\n",
        "\n",
        "We will start with [RLlib](https://docs.ray.io/en/latest/rllib/index.html). It works the best for training on multiple environments."
      ]
    },
    {
      "cell_type": "code",
      "metadata": {
        "id": "QhOoADYp98aW",
        "colab": {
          "base_uri": "https://localhost:8080/"
        },
        "outputId": "75f7c124-b33a-4d96-8227-df259fe358e9"
      },
      "source": [
        "!pip install 'ray[rllib]'"
      ],
      "execution_count": 1,
      "outputs": [
        {
          "output_type": "stream",
          "name": "stdout",
          "text": [
            "Collecting ray[rllib]\n",
            "  Downloading ray-1.9.0-cp37-cp37m-manylinux2014_x86_64.whl (57.6 MB)\n",
            "\u001b[K     |████████████████████████████████| 57.6 MB 1.8 MB/s \n",
            "\u001b[?25hRequirement already satisfied: filelock in /usr/local/lib/python3.7/dist-packages (from ray[rllib]) (3.4.0)\n",
            "Requirement already satisfied: click>=7.0 in /usr/local/lib/python3.7/dist-packages (from ray[rllib]) (7.1.2)\n",
            "Requirement already satisfied: attrs in /usr/local/lib/python3.7/dist-packages (from ray[rllib]) (21.2.0)\n",
            "Requirement already satisfied: jsonschema in /usr/local/lib/python3.7/dist-packages (from ray[rllib]) (2.6.0)\n",
            "Requirement already satisfied: protobuf>=3.15.3 in /usr/local/lib/python3.7/dist-packages (from ray[rllib]) (3.17.3)\n",
            "Collecting redis>=3.5.0\n",
            "  Downloading redis-4.0.2-py3-none-any.whl (119 kB)\n",
            "\u001b[K     |████████████████████████████████| 119 kB 46.6 MB/s \n",
            "\u001b[?25hRequirement already satisfied: grpcio>=1.28.1 in /usr/local/lib/python3.7/dist-packages (from ray[rllib]) (1.42.0)\n",
            "Requirement already satisfied: msgpack<2.0.0,>=1.0.0 in /usr/local/lib/python3.7/dist-packages (from ray[rllib]) (1.0.3)\n",
            "Requirement already satisfied: pyyaml in /usr/local/lib/python3.7/dist-packages (from ray[rllib]) (3.13)\n",
            "Requirement already satisfied: numpy>=1.16 in /usr/local/lib/python3.7/dist-packages (from ray[rllib]) (1.19.5)\n",
            "Collecting lz4\n",
            "  Downloading lz4-3.1.10-cp37-cp37m-manylinux2010_x86_64.whl (1.8 MB)\n",
            "\u001b[K     |████████████████████████████████| 1.8 MB 44.1 MB/s \n",
            "\u001b[?25hRequirement already satisfied: scikit-image in /usr/local/lib/python3.7/dist-packages (from ray[rllib]) (0.18.3)\n",
            "Requirement already satisfied: requests in /usr/local/lib/python3.7/dist-packages (from ray[rllib]) (2.23.0)\n",
            "Requirement already satisfied: matplotlib!=3.4.3 in /usr/local/lib/python3.7/dist-packages (from ray[rllib]) (3.2.2)\n",
            "Requirement already satisfied: dm-tree in /usr/local/lib/python3.7/dist-packages (from ray[rllib]) (0.1.6)\n",
            "Requirement already satisfied: pandas in /usr/local/lib/python3.7/dist-packages (from ray[rllib]) (1.1.5)\n",
            "Requirement already satisfied: scipy in /usr/local/lib/python3.7/dist-packages (from ray[rllib]) (1.4.1)\n",
            "Collecting tensorboardX>=1.9\n",
            "  Downloading tensorboardX-2.4.1-py2.py3-none-any.whl (124 kB)\n",
            "\u001b[K     |████████████████████████████████| 124 kB 42.1 MB/s \n",
            "\u001b[?25hRequirement already satisfied: tabulate in /usr/local/lib/python3.7/dist-packages (from ray[rllib]) (0.8.9)\n",
            "Requirement already satisfied: gym in /usr/local/lib/python3.7/dist-packages (from ray[rllib]) (0.17.3)\n",
            "Requirement already satisfied: six>=1.5.2 in /usr/local/lib/python3.7/dist-packages (from grpcio>=1.28.1->ray[rllib]) (1.15.0)\n",
            "Requirement already satisfied: cycler>=0.10 in /usr/local/lib/python3.7/dist-packages (from matplotlib!=3.4.3->ray[rllib]) (0.11.0)\n",
            "Requirement already satisfied: python-dateutil>=2.1 in /usr/local/lib/python3.7/dist-packages (from matplotlib!=3.4.3->ray[rllib]) (2.8.2)\n",
            "Requirement already satisfied: kiwisolver>=1.0.1 in /usr/local/lib/python3.7/dist-packages (from matplotlib!=3.4.3->ray[rllib]) (1.3.2)\n",
            "Requirement already satisfied: pyparsing!=2.0.4,!=2.1.2,!=2.1.6,>=2.0.1 in /usr/local/lib/python3.7/dist-packages (from matplotlib!=3.4.3->ray[rllib]) (3.0.6)\n",
            "Collecting deprecated\n",
            "  Downloading Deprecated-1.2.13-py2.py3-none-any.whl (9.6 kB)\n",
            "Requirement already satisfied: wrapt<2,>=1.10 in /usr/local/lib/python3.7/dist-packages (from deprecated->redis>=3.5.0->ray[rllib]) (1.13.3)\n",
            "Requirement already satisfied: pyglet<=1.5.0,>=1.4.0 in /usr/local/lib/python3.7/dist-packages (from gym->ray[rllib]) (1.5.0)\n",
            "Requirement already satisfied: cloudpickle<1.7.0,>=1.2.0 in /usr/local/lib/python3.7/dist-packages (from gym->ray[rllib]) (1.3.0)\n",
            "Requirement already satisfied: future in /usr/local/lib/python3.7/dist-packages (from pyglet<=1.5.0,>=1.4.0->gym->ray[rllib]) (0.16.0)\n",
            "Requirement already satisfied: pytz>=2017.2 in /usr/local/lib/python3.7/dist-packages (from pandas->ray[rllib]) (2018.9)\n",
            "Requirement already satisfied: certifi>=2017.4.17 in /usr/local/lib/python3.7/dist-packages (from requests->ray[rllib]) (2021.10.8)\n",
            "Requirement already satisfied: urllib3!=1.25.0,!=1.25.1,<1.26,>=1.21.1 in /usr/local/lib/python3.7/dist-packages (from requests->ray[rllib]) (1.24.3)\n",
            "Requirement already satisfied: idna<3,>=2.5 in /usr/local/lib/python3.7/dist-packages (from requests->ray[rllib]) (2.10)\n",
            "Requirement already satisfied: chardet<4,>=3.0.2 in /usr/local/lib/python3.7/dist-packages (from requests->ray[rllib]) (3.0.4)\n",
            "Requirement already satisfied: PyWavelets>=1.1.1 in /usr/local/lib/python3.7/dist-packages (from scikit-image->ray[rllib]) (1.2.0)\n",
            "Requirement already satisfied: networkx>=2.0 in /usr/local/lib/python3.7/dist-packages (from scikit-image->ray[rllib]) (2.6.3)\n",
            "Requirement already satisfied: pillow!=7.1.0,!=7.1.1,>=4.3.0 in /usr/local/lib/python3.7/dist-packages (from scikit-image->ray[rllib]) (7.1.2)\n",
            "Requirement already satisfied: imageio>=2.3.0 in /usr/local/lib/python3.7/dist-packages (from scikit-image->ray[rllib]) (2.4.1)\n",
            "Requirement already satisfied: tifffile>=2019.7.26 in /usr/local/lib/python3.7/dist-packages (from scikit-image->ray[rllib]) (2021.11.2)\n",
            "Installing collected packages: deprecated, redis, tensorboardX, ray, lz4\n",
            "Successfully installed deprecated-1.2.13 lz4-3.1.10 ray-1.9.0 redis-4.0.2 tensorboardX-2.4.1\n"
          ]
        }
      ]
    },
    {
      "cell_type": "code",
      "metadata": {
        "id": "9xjWrEw0-Nuu"
      },
      "source": [
        "import os \n",
        "import ray\n",
        "import ray.rllib.agents.dqn as dqn\n",
        "import gym\n",
        "import numpy as np\n",
        "import matplotlib.pyplot as plt\n",
        "from tqdm.notebook import tqdm"
      ],
      "execution_count": 2,
      "outputs": []
    },
    {
      "cell_type": "code",
      "metadata": {
        "id": "qLnxM_pQeb1y"
      },
      "source": [
        "np.random.seed(42)"
      ],
      "execution_count": 3,
      "outputs": []
    },
    {
      "cell_type": "markdown",
      "metadata": {
        "id": "X841Ha4e_pC-"
      },
      "source": [
        "Initialize Ray framework"
      ]
    },
    {
      "cell_type": "code",
      "metadata": {
        "id": "J-eoOj41-XNu",
        "colab": {
          "base_uri": "https://localhost:8080/"
        },
        "outputId": "7abb7b77-b855-427b-f1e3-0ea8ea416ef7"
      },
      "source": [
        "ray.init(ignore_reinit_error=True)"
      ],
      "execution_count": 4,
      "outputs": [
        {
          "output_type": "execute_result",
          "data": {
            "text/plain": [
              "{'metrics_export_port': 55454,\n",
              " 'node_id': 'dd6b8e90c03c833d9a687e56eb634fa9342d7c28433ea81c9e1c1b55',\n",
              " 'node_ip_address': '172.28.0.2',\n",
              " 'object_store_address': '/tmp/ray/session_2021-12-15_14-22-25_969281_60/sockets/plasma_store',\n",
              " 'raylet_ip_address': '172.28.0.2',\n",
              " 'raylet_socket_name': '/tmp/ray/session_2021-12-15_14-22-25_969281_60/sockets/raylet',\n",
              " 'redis_address': '172.28.0.2:6379',\n",
              " 'session_dir': '/tmp/ray/session_2021-12-15_14-22-25_969281_60',\n",
              " 'webui_url': None}"
            ]
          },
          "metadata": {},
          "execution_count": 4
        }
      ]
    },
    {
      "cell_type": "markdown",
      "metadata": {
        "id": "YUmmPAtrLlzq"
      },
      "source": [
        "## DQN Agent for CartPole-v0\n",
        "\n",
        "We will train rl agent to solve gym CartPole enviroment.\n",
        "\n",
        "Gym enviroments are just simple \"games\" to test if rl algoritms works"
      ]
    },
    {
      "cell_type": "markdown",
      "metadata": {
        "id": "C8WyxJ3sL29W"
      },
      "source": [
        "## CartPole-v1 environment\n",
        "\n",
        "A pole is attached by an un-actuated joint to a cart, which moves along a frictionless track. The system is controlled by applying a force of +1 or -1 to the cart. The pendulum starts upright, and the goal is to prevent it from falling over. A reward of +1 is provided for every timestep that the pole remains upright. The episode ends when the pole is more than 15 degrees from vertical, or the cart moves more than 2.4 units from the center.\n",
        "\n",
        "![CartPole.png](https://miro.medium.com/max/1200/1*oMSg2_mKguAGKy1C64UFlw.gif)\n",
        "\n",
        "[official documentation website](https://gym.openai.com/envs/CartPole-v1/)."
      ]
    },
    {
      "cell_type": "markdown",
      "metadata": {
        "id": "qUIGPnWpHDoy"
      },
      "source": [
        "Rllib requies enviroment to accept config argument in constructor, so we add a small wrapper CartpoleRlib"
      ]
    },
    {
      "cell_type": "code",
      "metadata": {
        "id": "KXimpKE7EpUB"
      },
      "source": [
        "class CartpoleRlib(gym.Env):\n",
        "    def __init__(self, config):\n",
        "        self.env = gym.make(\"CartPole-v1\")\n",
        "        self.action_space = self.env.action_space\n",
        "        self.observation_space = self.env.observation_space\n",
        "\n",
        "    def reset(self):\n",
        "        return np.array(self.env.reset())\n",
        "\n",
        "    def step(self, action):\n",
        "        return np.array(self.env.step(action))\n",
        "\n",
        "    def close(self):\n",
        "        self.env.close()"
      ],
      "execution_count": 5,
      "outputs": []
    },
    {
      "cell_type": "markdown",
      "metadata": {
        "id": "EhcklEw8XOi9"
      },
      "source": [
        "## Training DQN agent\n",
        "You could train agents using rlib Trainer classes.\n",
        "\n",
        "It requres 2 paramiters: target enviroment and algorithm configuration.\n",
        "\n",
        "For now we will just use default config.\n",
        "I encourage you to play with parameters and see how it changes performace.\n"
      ]
    },
    {
      "cell_type": "code",
      "metadata": {
        "id": "poLpr9S3E5ER"
      },
      "source": [
        "config = dqn.DEFAULT_CONFIG"
      ],
      "execution_count": 6,
      "outputs": []
    },
    {
      "cell_type": "code",
      "metadata": {
        "id": "wy_cJaA3FAr4",
        "colab": {
          "base_uri": "https://localhost:8080/"
        },
        "outputId": "c6b536e4-20c7-4167-a20b-628580f09a15"
      },
      "source": [
        "# Create trainer for controlling all training process\n",
        "trainer = dqn.DQNTrainer(config = config, env = CartpoleRlib)"
      ],
      "execution_count": 7,
      "outputs": [
        {
          "output_type": "stream",
          "name": "stderr",
          "text": [
            "2021-12-15 14:30:12,279\tINFO trainer.py:723 -- Your framework setting is 'tf', meaning you are using static-graph mode. Set framework='tf2' to enable eager execution with tf2.x. You may also want to then set `eager_tracing=True` in order to reach similar execution speed as with static-graph mode.\n",
            "2021-12-15 14:30:12,282\tINFO dqn.py:142 -- In multi-agent mode, policies will be optimized sequentially by the multi-GPU optimizer. Consider setting simple_optimizer=True if this doesn't work for you.\n",
            "2021-12-15 14:30:12,284\tINFO trainer.py:745 -- Current log_level is WARN. For more information, set 'log_level': 'INFO' / 'DEBUG' or use the -v and -vv flags.\n",
            "2021-12-15 14:30:13,824\tWARNING deprecation.py:46 -- DeprecationWarning: `SampleBatch['is_training']` has been deprecated. Use `SampleBatch.is_training` instead. This will raise an error in the future!\n",
            "2021-12-15 14:30:15,401\tWARNING util.py:57 -- Install gputil for GPU system monitoring.\n"
          ]
        }
      ]
    },
    {
      "cell_type": "code",
      "metadata": {
        "id": "P_Z278F6FHrR",
        "colab": {
          "base_uri": "https://localhost:8080/",
          "height": 287,
          "referenced_widgets": [
            "1f15e574b17f44e0b54129170e08f859",
            "8807ec82c0b74c09924deae5d65072b4",
            "2c241d0d65d3462cbe967098d625b813",
            "c0e58966de874cecb77d7b3ce192c2fc",
            "4dc650a6fa2c4081be37dee448e189bd",
            "f1b3d01af9bd4a718f3daf0f9370a0c5",
            "8c894a32dc564108af26f08383b5f6ea",
            "867efa839c83455691150bf669db1cc9",
            "408fd3b9a5f74bc4978e879c976f511a",
            "a857587ab4aa4ef9a50bea9eda7c3ee2",
            "2762d6ec1833415ca1378e760a348fa2"
          ]
        },
        "outputId": "6b4d740a-e419-4dc8-eced-c53751dd6ca4"
      },
      "source": [
        "num_training_iterations = 10\n",
        "min_rewards = []\n",
        "mean_rewards = []\n",
        "max_rewards = []\n",
        "num_episodes_in_iter = []\n",
        "\n",
        "for iteration in tqdm(list(range(num_training_iterations))):\n",
        "  result = trainer.train()\n",
        "  mean_reward = result[\"episode_reward_mean\"]\n",
        "  max_reward = result[\"episode_reward_max\"]\n",
        "  min_reward = result[\"episode_reward_min\"]\n",
        "  num_episodes_in_this_iter = result[\"episodes_total\"]\n",
        "\n",
        "  min_rewards.append(min_reward)\n",
        "  mean_rewards.append(mean_reward)\n",
        "  max_rewards.append(max_reward)\n",
        "  num_episodes_in_iter.append(num_episodes_in_this_iter)\n",
        "\n",
        "  print(\"Min reward {}; Mean reward {}; Max reward {}.\".format(min_reward, mean_reward, max_reward))\n",
        "\n"
      ],
      "execution_count": 8,
      "outputs": [
        {
          "output_type": "display_data",
          "data": {
            "application/vnd.jupyter.widget-view+json": {
              "model_id": "1f15e574b17f44e0b54129170e08f859",
              "version_minor": 0,
              "version_major": 2
            },
            "text/plain": [
              "  0%|          | 0/10 [00:00<?, ?it/s]"
            ]
          },
          "metadata": {}
        },
        {
          "output_type": "stream",
          "name": "stderr",
          "text": [
            "/usr/local/lib/python3.7/dist-packages/ipykernel_launcher.py:11: VisibleDeprecationWarning: Creating an ndarray from ragged nested sequences (which is a list-or-tuple of lists-or-tuples-or ndarrays with different lengths or shapes) is deprecated. If you meant to do this, you must specify 'dtype=object' when creating the ndarray\n",
            "  # This is added back by InteractiveShellApp.init_path()\n"
          ]
        },
        {
          "output_type": "stream",
          "name": "stdout",
          "text": [
            "Min reward 9.0; Mean reward 23.69047619047619; Max reward 64.0.\n",
            "Min reward 9.0; Mean reward 23.759036144578314; Max reward 75.0.\n",
            "Min reward 9.0; Mean reward 26.01; Max reward 136.0.\n",
            "Min reward 9.0; Mean reward 28.89; Max reward 136.0.\n",
            "Min reward 9.0; Mean reward 34.03; Max reward 136.0.\n",
            "Min reward 9.0; Mean reward 41.87; Max reward 238.0.\n",
            "Min reward 9.0; Mean reward 49.71; Max reward 239.0.\n",
            "Min reward 9.0; Mean reward 57.96; Max reward 247.0.\n",
            "Min reward 12.0; Mean reward 65.15; Max reward 247.0.\n",
            "Min reward 12.0; Mean reward 72.9; Max reward 395.0.\n"
          ]
        }
      ]
    },
    {
      "cell_type": "code",
      "metadata": {
        "id": "4Bi-qJAnlxIb"
      },
      "source": [
        "# clean trainer before starting new training\n",
        "trainer.cleanup()"
      ],
      "execution_count": 9,
      "outputs": []
    },
    {
      "cell_type": "code",
      "metadata": {
        "id": "xyR_fIsmI_9j",
        "colab": {
          "base_uri": "https://localhost:8080/",
          "height": 410
        },
        "outputId": "6986dc73-2ba9-4ffc-9939-c7d094d4f086"
      },
      "source": [
        "plt.figure(figsize=(12,6))\n",
        "plt.plot(num_episodes_in_iter, mean_rewards)\n",
        "plt.xlabel(\"Number of episodes\", size = 14)\n",
        "plt.ylabel(\"Average reward\", size = 14)\n",
        "plt.title(\"DQN on Pendulum-v0\", size = 16)\n",
        "plt.show()"
      ],
      "execution_count": 10,
      "outputs": [
        {
          "output_type": "display_data",
          "data": {
            "image/png": "[encoded data removed]",
            "text/plain": [
              "<Figure size 864x432 with 1 Axes>"
            ]
          },
          "metadata": {
            "needs_background": "light"
          }
        }
      ]
    },
    {
      "cell_type": "markdown",
      "metadata": {
        "id": "msgBYmg8Wwha"
      },
      "source": [
        "## Task 1 \n",
        "\n",
        "Let's be honest, most often you search for working solution without fully undestanding how algoritm works.\n",
        "\n",
        "Here is practice for this! Go **search for best config in Rllib documentatin** for CartPole enviroment and DQN.\n",
        "\n",
        "Use it for traininng and confirm that it better then default config.\n",
        "\n"
      ]
    },
    {
      "cell_type": "code",
      "metadata": {
        "id": "1XKvj67ClDEw",
        "colab": {
          "base_uri": "https://localhost:8080/"
        },
        "outputId": "fa68a9c9-a8fe-48c5-c7b4-4ef65c4164ac"
      },
      "source": [
        "tuned_config = {\n",
        "        'framework': 'tf',\n",
        "        'model': {\n",
        "          'fcnet_hiddens': [64],\n",
        "          'fcnet_activation': 'linear',\n",
        "        },\n",
        "        'n_step': 3}\n",
        "\n",
        "trainer = dqn.DQNTrainer(config = tuned_config, env = CartpoleRlib)"
      ],
      "execution_count": 11,
      "outputs": [
        {
          "output_type": "stream",
          "name": "stderr",
          "text": [
            "2021-12-15 14:42:00,487\tWARNING util.py:57 -- Install gputil for GPU system monitoring.\n"
          ]
        }
      ]
    },
    {
      "cell_type": "code",
      "metadata": {
        "id": "ihWf5s1XIgPH",
        "colab": {
          "base_uri": "https://localhost:8080/",
          "height": 287,
          "referenced_widgets": [
            "19dfc4c37d284a1e9e115235de5e4e70",
            "a63f8d2382d043f7a55b583239672ac6",
            "7e9260e3da3d43bd9d05dd6fe8d6327d",
            "139efc7aeb7b4daab7fa4bff07da570e",
            "03822e0ecff84b3ab42e4ec002e733fc",
            "5a248e4b448d4ebe9c36a9370cbe5574",
            "4ed29dd3fb2f498ba98461c5c15ad1a8",
            "26bd94a1a4674414a84ab90f25bbed17",
            "2383ce7cb08a472aa1f962810e757ac9",
            "547ed884b2e14cc8a24d236316a6d38f",
            "c91494c2d45b4d98afc62522fb89d98f"
          ]
        },
        "outputId": "538809c7-cb67-4556-8b85-cecc0b667e6c"
      },
      "source": [
        "# We will train agent only for 10 iterations to check how it performs\n",
        "num_training_iterations = 10\n",
        "tuned_min_rewards = []\n",
        "tuned_mean_rewards = []\n",
        "tuned_max_rewards = []\n",
        "tuned_num_episodes_in_iter = []\n",
        "\n",
        "for iteration in tqdm(list(range(num_training_iterations))):\n",
        "  result = trainer.train()\n",
        "  tuned_mean_reward = result[\"episode_reward_mean\"]\n",
        "  tuned_max_reward = result[\"episode_reward_max\"]\n",
        "  tuned_min_reward = result[\"episode_reward_min\"]\n",
        "  tuned_num_episodes_in_this_iter = result[\"episodes_total\"]\n",
        "\n",
        "  tuned_min_rewards.append(tuned_min_reward)\n",
        "  tuned_mean_rewards.append(tuned_mean_reward)\n",
        "  tuned_max_rewards.append(tuned_max_reward)\n",
        "  tuned_num_episodes_in_iter.append(tuned_num_episodes_in_this_iter)\n",
        "\n",
        "  print(\"Min reward {}; Mean reward {}; Max reward {}.\".format(tuned_min_reward, tuned_mean_reward, tuned_max_reward))"
      ],
      "execution_count": 12,
      "outputs": [
        {
          "output_type": "display_data",
          "data": {
            "application/vnd.jupyter.widget-view+json": {
              "model_id": "19dfc4c37d284a1e9e115235de5e4e70",
              "version_minor": 0,
              "version_major": 2
            },
            "text/plain": [
              "  0%|          | 0/10 [00:00<?, ?it/s]"
            ]
          },
          "metadata": {}
        },
        {
          "output_type": "stream",
          "name": "stderr",
          "text": [
            "/usr/local/lib/python3.7/dist-packages/ipykernel_launcher.py:11: VisibleDeprecationWarning: Creating an ndarray from ragged nested sequences (which is a list-or-tuple of lists-or-tuples-or ndarrays with different lengths or shapes) is deprecated. If you meant to do this, you must specify 'dtype=object' when creating the ndarray\n",
            "  # This is added back by InteractiveShellApp.init_path()\n"
          ]
        },
        {
          "output_type": "stream",
          "name": "stdout",
          "text": [
            "Min reward 9.0; Mean reward 24.974358974358974; Max reward 73.0.\n",
            "Min reward 9.0; Mean reward 22.602272727272727; Max reward 73.0.\n",
            "Min reward 8.0; Mean reward 22.87; Max reward 70.0.\n",
            "Min reward 8.0; Mean reward 29.15; Max reward 152.0.\n",
            "Min reward 8.0; Mean reward 36.25; Max reward 154.0.\n",
            "Min reward 8.0; Mean reward 43.42; Max reward 154.0.\n",
            "Min reward 8.0; Mean reward 52.39; Max reward 198.0.\n",
            "Min reward 8.0; Mean reward 60.19; Max reward 295.0.\n",
            "Min reward 8.0; Mean reward 69.7; Max reward 295.0.\n",
            "Min reward 8.0; Mean reward 79.69; Max reward 295.0.\n"
          ]
        }
      ]
    },
    {
      "cell_type": "code",
      "metadata": {
        "id": "bYsQi_hGY7OS",
        "colab": {
          "base_uri": "https://localhost:8080/",
          "height": 410
        },
        "outputId": "376dc05c-502b-4290-bcf7-ea9dd9b9e033"
      },
      "source": [
        "plt.figure(figsize=(12,6))\n",
        "plt.plot(tuned_num_episodes_in_iter, tuned_mean_rewards, color = 'orange')\n",
        "plt.xlabel(\"Number of episodes\", size = 14)\n",
        "plt.ylabel(\"Average reward\", size = 14)\n",
        "plt.title(\"Tuned DQN on Pendulum-v0\", size = 16)\n",
        "plt.show()"
      ],
      "execution_count": 13,
      "outputs": [
        {
          "output_type": "display_data",
          "data": {
            "image/png": "[encoded data removed]",
            "text/plain": [
              "<Figure size 864x432 with 1 Axes>"
            ]
          },
          "metadata": {
            "needs_background": "light"
          }
        }
      ]
    },
    {
      "cell_type": "markdown",
      "metadata": {
        "id": "FCq9k5-1dpz3"
      },
      "source": [
        "## Comparison"
      ]
    },
    {
      "cell_type": "code",
      "metadata": {
        "id": "bmgcE4F5eAeo",
        "colab": {
          "base_uri": "https://localhost:8080/",
          "height": 410
        },
        "outputId": "647ba5f7-6fbb-4421-f164-6820e39edbfc"
      },
      "source": [
        "plt.figure(figsize=(12,6))\n",
        "plt.plot(num_episodes_in_iter, mean_rewards, label = \"DQN\")\n",
        "plt.plot(tuned_num_episodes_in_iter, tuned_mean_rewards, label = \"Tuned DQN\")\n",
        "plt.legend(loc=\"upper left\")\n",
        "plt.xlabel(\"Number of episodes\", size = 14)\n",
        "plt.ylabel(\"Average reward\", size = 14)\n",
        "plt.title(\"DQN vs Tuned DQN on Pendulum-v0\", size = 16)\n",
        "plt.show()"
      ],
      "execution_count": 14,
      "outputs": [
        {
          "output_type": "display_data",
          "data": {
            "image/png": "[encoded data removed]",
            "text/plain": [
              "<Figure size 864x432 with 1 Axes>"
            ]
          },
          "metadata": {
            "needs_background": "light"
          }
        }
      ]
    },
    {
      "cell_type": "markdown",
      "metadata": {
        "id": "nPRww4g2nOi-"
      },
      "source": [
        "## Also we will play with stable-baselines3"
      ]
    },
    {
      "cell_type": "code",
      "metadata": {
        "id": "OV32_Ls2nM8u",
        "colab": {
          "base_uri": "https://localhost:8080/"
        },
        "outputId": "d04acb05-150d-4c9f-e7ce-ee956321eede"
      },
      "source": [
        "!pip install stable-baselines3[extra]"
      ],
      "execution_count": 15,
      "outputs": [
        {
          "output_type": "stream",
          "name": "stdout",
          "text": [
            "Collecting stable-baselines3[extra]\n",
            "  Downloading stable_baselines3-1.3.0-py3-none-any.whl (174 kB)\n",
            "\u001b[?25l\r\u001b[K     |█▉                              | 10 kB 21.8 MB/s eta 0:00:01\r\u001b[K     |███▊                            | 20 kB 12.0 MB/s eta 0:00:01\r\u001b[K     |█████▋                          | 30 kB 9.1 MB/s eta 0:00:01\r\u001b[K     |███████▌                        | 40 kB 7.9 MB/s eta 0:00:01\r\u001b[K     |█████████▍                      | 51 kB 4.4 MB/s eta 0:00:01\r\u001b[K     |███████████▎                    | 61 kB 4.6 MB/s eta 0:00:01\r\u001b[K     |█████████████▏                  | 71 kB 4.5 MB/s eta 0:00:01\r\u001b[K     |███████████████                 | 81 kB 5.0 MB/s eta 0:00:01\r\u001b[K     |████████████████▉               | 92 kB 5.3 MB/s eta 0:00:01\r\u001b[K     |██████████████████▊             | 102 kB 4.3 MB/s eta 0:00:01\r\u001b[K     |████████████████████▋           | 112 kB 4.3 MB/s eta 0:00:01\r\u001b[K     |██████████████████████▌         | 122 kB 4.3 MB/s eta 0:00:01\r\u001b[K     |████████████████████████▍       | 133 kB 4.3 MB/s eta 0:00:01\r\u001b[K     |██████████████████████████▎     | 143 kB 4.3 MB/s eta 0:00:01\r\u001b[K     |████████████████████████████▏   | 153 kB 4.3 MB/s eta 0:00:01\r\u001b[K     |██████████████████████████████  | 163 kB 4.3 MB/s eta 0:00:01\r\u001b[K     |███████████████████████████████▉| 174 kB 4.3 MB/s eta 0:00:01\r\u001b[K     |████████████████████████████████| 174 kB 4.3 MB/s \n",
            "\u001b[?25hRequirement already satisfied: matplotlib in /usr/local/lib/python3.7/dist-packages (from stable-baselines3[extra]) (3.2.2)\n",
            "Requirement already satisfied: pandas in /usr/local/lib/python3.7/dist-packages (from stable-baselines3[extra]) (1.1.5)\n",
            "Requirement already satisfied: numpy in /usr/local/lib/python3.7/dist-packages (from stable-baselines3[extra]) (1.19.5)\n",
            "Requirement already satisfied: cloudpickle in /usr/local/lib/python3.7/dist-packages (from stable-baselines3[extra]) (1.3.0)\n",
            "Requirement already satisfied: torch>=1.8.1 in /usr/local/lib/python3.7/dist-packages (from stable-baselines3[extra]) (1.10.0+cu111)\n",
            "Requirement already satisfied: gym<0.20,>=0.17 in /usr/local/lib/python3.7/dist-packages (from stable-baselines3[extra]) (0.17.3)\n",
            "Requirement already satisfied: opencv-python in /usr/local/lib/python3.7/dist-packages (from stable-baselines3[extra]) (4.1.2.30)\n",
            "Requirement already satisfied: psutil in /usr/local/lib/python3.7/dist-packages (from stable-baselines3[extra]) (5.4.8)\n",
            "Requirement already satisfied: pillow in /usr/local/lib/python3.7/dist-packages (from stable-baselines3[extra]) (7.1.2)\n",
            "Requirement already satisfied: tensorboard>=2.2.0 in /usr/local/lib/python3.7/dist-packages (from stable-baselines3[extra]) (2.7.0)\n",
            "Requirement already satisfied: atari-py~=0.2.0 in /usr/local/lib/python3.7/dist-packages (from stable-baselines3[extra]) (0.2.9)\n",
            "Requirement already satisfied: six in /usr/local/lib/python3.7/dist-packages (from atari-py~=0.2.0->stable-baselines3[extra]) (1.15.0)\n",
            "Requirement already satisfied: scipy in /usr/local/lib/python3.7/dist-packages (from gym<0.20,>=0.17->stable-baselines3[extra]) (1.4.1)\n",
            "Requirement already satisfied: pyglet<=1.5.0,>=1.4.0 in /usr/local/lib/python3.7/dist-packages (from gym<0.20,>=0.17->stable-baselines3[extra]) (1.5.0)\n",
            "Requirement already satisfied: future in /usr/local/lib/python3.7/dist-packages (from pyglet<=1.5.0,>=1.4.0->gym<0.20,>=0.17->stable-baselines3[extra]) (0.16.0)\n",
            "Requirement already satisfied: tensorboard-plugin-wit>=1.6.0 in /usr/local/lib/python3.7/dist-packages (from tensorboard>=2.2.0->stable-baselines3[extra]) (1.8.0)\n",
            "Requirement already satisfied: markdown>=2.6.8 in /usr/local/lib/python3.7/dist-packages (from tensorboard>=2.2.0->stable-baselines3[extra]) (3.3.6)\n",
            "Requirement already satisfied: absl-py>=0.4 in /usr/local/lib/python3.7/dist-packages (from tensorboard>=2.2.0->stable-baselines3[extra]) (0.12.0)\n",
            "Requirement already satisfied: tensorboard-data-server<0.7.0,>=0.6.0 in /usr/local/lib/python3.7/dist-packages (from tensorboard>=2.2.0->stable-baselines3[extra]) (0.6.1)\n",
            "Requirement already satisfied: setuptools>=41.0.0 in /usr/local/lib/python3.7/dist-packages (from tensorboard>=2.2.0->stable-baselines3[extra]) (57.4.0)\n",
            "Requirement already satisfied: google-auth-oauthlib<0.5,>=0.4.1 in /usr/local/lib/python3.7/dist-packages (from tensorboard>=2.2.0->stable-baselines3[extra]) (0.4.6)\n",
            "Requirement already satisfied: requests<3,>=2.21.0 in /usr/local/lib/python3.7/dist-packages (from tensorboard>=2.2.0->stable-baselines3[extra]) (2.23.0)\n",
            "Requirement already satisfied: wheel>=0.26 in /usr/local/lib/python3.7/dist-packages (from tensorboard>=2.2.0->stable-baselines3[extra]) (0.37.0)\n",
            "Requirement already satisfied: werkzeug>=0.11.15 in /usr/local/lib/python3.7/dist-packages (from tensorboard>=2.2.0->stable-baselines3[extra]) (1.0.1)\n",
            "Requirement already satisfied: grpcio>=1.24.3 in /usr/local/lib/python3.7/dist-packages (from tensorboard>=2.2.0->stable-baselines3[extra]) (1.42.0)\n",
            "Requirement already satisfied: protobuf>=3.6.0 in /usr/local/lib/python3.7/dist-packages (from tensorboard>=2.2.0->stable-baselines3[extra]) (3.17.3)\n",
            "Requirement already satisfied: google-auth<3,>=1.6.3 in /usr/local/lib/python3.7/dist-packages (from tensorboard>=2.2.0->stable-baselines3[extra]) (1.35.0)\n",
            "Requirement already satisfied: rsa<5,>=3.1.4 in /usr/local/lib/python3.7/dist-packages (from google-auth<3,>=1.6.3->tensorboard>=2.2.0->stable-baselines3[extra]) (4.8)\n",
            "Requirement already satisfied: pyasn1-modules>=0.2.1 in /usr/local/lib/python3.7/dist-packages (from google-auth<3,>=1.6.3->tensorboard>=2.2.0->stable-baselines3[extra]) (0.2.8)\n",
            "Requirement already satisfied: cachetools<5.0,>=2.0.0 in /usr/local/lib/python3.7/dist-packages (from google-auth<3,>=1.6.3->tensorboard>=2.2.0->stable-baselines3[extra]) (4.2.4)\n",
            "Requirement already satisfied: requests-oauthlib>=0.7.0 in /usr/local/lib/python3.7/dist-packages (from google-auth-oauthlib<0.5,>=0.4.1->tensorboard>=2.2.0->stable-baselines3[extra]) (1.3.0)\n",
            "Requirement already satisfied: importlib-metadata>=4.4 in /usr/local/lib/python3.7/dist-packages (from markdown>=2.6.8->tensorboard>=2.2.0->stable-baselines3[extra]) (4.8.2)\n",
            "Requirement already satisfied: zipp>=0.5 in /usr/local/lib/python3.7/dist-packages (from importlib-metadata>=4.4->markdown>=2.6.8->tensorboard>=2.2.0->stable-baselines3[extra]) (3.6.0)\n",
            "Requirement already satisfied: typing-extensions>=3.6.4 in /usr/local/lib/python3.7/dist-packages (from importlib-metadata>=4.4->markdown>=2.6.8->tensorboard>=2.2.0->stable-baselines3[extra]) (3.10.0.2)\n",
            "Requirement already satisfied: pyasn1<0.5.0,>=0.4.6 in /usr/local/lib/python3.7/dist-packages (from pyasn1-modules>=0.2.1->google-auth<3,>=1.6.3->tensorboard>=2.2.0->stable-baselines3[extra]) (0.4.8)\n",
            "Requirement already satisfied: urllib3!=1.25.0,!=1.25.1,<1.26,>=1.21.1 in /usr/local/lib/python3.7/dist-packages (from requests<3,>=2.21.0->tensorboard>=2.2.0->stable-baselines3[extra]) (1.24.3)\n",
            "Requirement already satisfied: chardet<4,>=3.0.2 in /usr/local/lib/python3.7/dist-packages (from requests<3,>=2.21.0->tensorboard>=2.2.0->stable-baselines3[extra]) (3.0.4)\n",
            "Requirement already satisfied: idna<3,>=2.5 in /usr/local/lib/python3.7/dist-packages (from requests<3,>=2.21.0->tensorboard>=2.2.0->stable-baselines3[extra]) (2.10)\n",
            "Requirement already satisfied: certifi>=2017.4.17 in /usr/local/lib/python3.7/dist-packages (from requests<3,>=2.21.0->tensorboard>=2.2.0->stable-baselines3[extra]) (2021.10.8)\n",
            "Requirement already satisfied: oauthlib>=3.0.0 in /usr/local/lib/python3.7/dist-packages (from requests-oauthlib>=0.7.0->google-auth-oauthlib<0.5,>=0.4.1->tensorboard>=2.2.0->stable-baselines3[extra]) (3.1.1)\n",
            "Requirement already satisfied: python-dateutil>=2.1 in /usr/local/lib/python3.7/dist-packages (from matplotlib->stable-baselines3[extra]) (2.8.2)\n",
            "Requirement already satisfied: pyparsing!=2.0.4,!=2.1.2,!=2.1.6,>=2.0.1 in /usr/local/lib/python3.7/dist-packages (from matplotlib->stable-baselines3[extra]) (3.0.6)\n",
            "Requirement already satisfied: cycler>=0.10 in /usr/local/lib/python3.7/dist-packages (from matplotlib->stable-baselines3[extra]) (0.11.0)\n",
            "Requirement already satisfied: kiwisolver>=1.0.1 in /usr/local/lib/python3.7/dist-packages (from matplotlib->stable-baselines3[extra]) (1.3.2)\n",
            "Requirement already satisfied: pytz>=2017.2 in /usr/local/lib/python3.7/dist-packages (from pandas->stable-baselines3[extra]) (2018.9)\n",
            "Installing collected packages: stable-baselines3\n",
            "Successfully installed stable-baselines3-1.3.0\n"
          ]
        }
      ]
    },
    {
      "cell_type": "markdown",
      "metadata": {
        "id": "elfHhHbfMqWy"
      },
      "source": [
        "Some hack for visualisation"
      ]
    },
    {
      "cell_type": "code",
      "metadata": {
        "id": "kqEG2_PtoF_U",
        "colab": {
          "base_uri": "https://localhost:8080/"
        },
        "outputId": "72230705-2af6-47e2-dc8b-6881b0569b2f"
      },
      "source": [
        "!apt update && apt install xvfb\n",
        "!pip install gym-notebook-wrapper"
      ],
      "execution_count": 16,
      "outputs": [
        {
          "output_type": "stream",
          "name": "stdout",
          "text": [
            "Get:1 https://cloud.r-project.org/bin/linux/ubuntu bionic-cran40/ InRelease [3,626 B]\n",
            "Ign:2 https://developer.download.nvidia.com/compute/cuda/repos/ubuntu1804/x86_64  InRelease\n",
            "Get:3 http://security.ubuntu.com/ubuntu bionic-security InRelease [88.7 kB]\n",
            "Ign:4 https://developer.download.nvidia.com/compute/machine-learning/repos/ubuntu1804/x86_64  InRelease\n",
            "Hit:5 https://developer.download.nvidia.com/compute/cuda/repos/ubuntu1804/x86_64  Release\n",
            "Hit:6 https://developer.download.nvidia.com/compute/machine-learning/repos/ubuntu1804/x86_64  Release\n",
            "Get:7 http://ppa.launchpad.net/c2d4u.team/c2d4u4.0+/ubuntu bionic InRelease [15.9 kB]\n",
            "Hit:8 http://archive.ubuntu.com/ubuntu bionic InRelease\n",
            "Get:9 http://archive.ubuntu.com/ubuntu bionic-updates InRelease [88.7 kB]\n",
            "Get:11 https://cloud.r-project.org/bin/linux/ubuntu bionic-cran40/ Packages [73.9 kB]\n",
            "Hit:13 http://ppa.launchpad.net/cran/libgit2/ubuntu bionic InRelease\n",
            "Get:14 http://archive.ubuntu.com/ubuntu bionic-backports InRelease [74.6 kB]\n",
            "Get:15 http://ppa.launchpad.net/deadsnakes/ppa/ubuntu bionic InRelease [15.9 kB]\n",
            "Get:16 http://security.ubuntu.com/ubuntu bionic-security/restricted amd64 Packages [691 kB]\n",
            "Hit:17 http://ppa.launchpad.net/graphics-drivers/ppa/ubuntu bionic InRelease\n",
            "Get:18 http://archive.ubuntu.com/ubuntu bionic-updates/main amd64 Packages [2,898 kB]\n",
            "Get:19 http://ppa.launchpad.net/c2d4u.team/c2d4u4.0+/ubuntu bionic/main Sources [1,820 kB]\n",
            "Get:20 http://security.ubuntu.com/ubuntu bionic-security/universe amd64 Packages [1,452 kB]\n",
            "Get:21 http://security.ubuntu.com/ubuntu bionic-security/main amd64 Packages [2,461 kB]\n",
            "Get:22 http://archive.ubuntu.com/ubuntu bionic-updates/universe amd64 Packages [2,229 kB]\n",
            "Get:23 http://ppa.launchpad.net/c2d4u.team/c2d4u4.0+/ubuntu bionic/main amd64 Packages [933 kB]\n",
            "Get:24 http://ppa.launchpad.net/deadsnakes/ppa/ubuntu bionic/main amd64 Packages [45.9 kB]\n",
            "Fetched 12.9 MB in 7s (1,742 kB/s)\n",
            "Reading package lists... Done\n",
            "Building dependency tree       \n",
            "Reading state information... Done\n",
            "69 packages can be upgraded. Run 'apt list --upgradable' to see them.\n",
            "Reading package lists... Done\n",
            "Building dependency tree       \n",
            "Reading state information... Done\n",
            "The following additional packages will be installed:\n",
            "  xserver-common\n",
            "Recommended packages:\n",
            "  xfonts-base\n",
            "The following NEW packages will be installed:\n",
            "  xvfb\n",
            "The following packages will be upgraded:\n",
            "  xserver-common\n",
            "1 upgraded, 1 newly installed, 0 to remove and 68 not upgraded.\n",
            "Need to get 811 kB of archives.\n",
            "After this operation, 2,272 kB of additional disk space will be used.\n",
            "Get:1 http://archive.ubuntu.com/ubuntu bionic-updates/main amd64 xserver-common all 2:1.19.6-1ubuntu4.10 [26.9 kB]\n",
            "Get:2 http://archive.ubuntu.com/ubuntu bionic-updates/universe amd64 xvfb amd64 2:1.19.6-1ubuntu4.10 [784 kB]\n",
            "Fetched 811 kB in 2s (361 kB/s)\n",
            "(Reading database ... 155222 files and directories currently installed.)\n",
            "Preparing to unpack .../xserver-common_2%3a1.19.6-1ubuntu4.10_all.deb ...\n",
            "Unpacking xserver-common (2:1.19.6-1ubuntu4.10) over (2:1.19.6-1ubuntu4.9) ...\n",
            "Selecting previously unselected package xvfb.\n",
            "Preparing to unpack .../xvfb_2%3a1.19.6-1ubuntu4.10_amd64.deb ...\n",
            "Unpacking xvfb (2:1.19.6-1ubuntu4.10) ...\n",
            "Setting up xserver-common (2:1.19.6-1ubuntu4.10) ...\n",
            "Setting up xvfb (2:1.19.6-1ubuntu4.10) ...\n",
            "Processing triggers for man-db (2.8.3-2ubuntu0.1) ...\n",
            "Collecting gym-notebook-wrapper\n",
            "  Downloading gym_notebook_wrapper-1.2.4-py3-none-any.whl (5.6 kB)\n",
            "Requirement already satisfied: ipython in /usr/local/lib/python3.7/dist-packages (from gym-notebook-wrapper) (5.5.0)\n",
            "Requirement already satisfied: matplotlib in /usr/local/lib/python3.7/dist-packages (from gym-notebook-wrapper) (3.2.2)\n",
            "Collecting pyvirtualdisplay\n",
            "  Downloading PyVirtualDisplay-2.2-py3-none-any.whl (15 kB)\n",
            "Requirement already satisfied: gym in /usr/local/lib/python3.7/dist-packages (from gym-notebook-wrapper) (0.17.3)\n",
            "Requirement already satisfied: cloudpickle<1.7.0,>=1.2.0 in /usr/local/lib/python3.7/dist-packages (from gym->gym-notebook-wrapper) (1.3.0)\n",
            "Requirement already satisfied: pyglet<=1.5.0,>=1.4.0 in /usr/local/lib/python3.7/dist-packages (from gym->gym-notebook-wrapper) (1.5.0)\n",
            "Requirement already satisfied: numpy>=1.10.4 in /usr/local/lib/python3.7/dist-packages (from gym->gym-notebook-wrapper) (1.19.5)\n",
            "Requirement already satisfied: scipy in /usr/local/lib/python3.7/dist-packages (from gym->gym-notebook-wrapper) (1.4.1)\n",
            "Requirement already satisfied: future in /usr/local/lib/python3.7/dist-packages (from pyglet<=1.5.0,>=1.4.0->gym->gym-notebook-wrapper) (0.16.0)\n",
            "Requirement already satisfied: traitlets>=4.2 in /usr/local/lib/python3.7/dist-packages (from ipython->gym-notebook-wrapper) (5.1.1)\n",
            "Requirement already satisfied: pexpect in /usr/local/lib/python3.7/dist-packages (from ipython->gym-notebook-wrapper) (4.8.0)\n",
            "Requirement already satisfied: setuptools>=18.5 in /usr/local/lib/python3.7/dist-packages (from ipython->gym-notebook-wrapper) (57.4.0)\n",
            "Requirement already satisfied: decorator in /usr/local/lib/python3.7/dist-packages (from ipython->gym-notebook-wrapper) (4.4.2)\n",
            "Requirement already satisfied: pygments in /usr/local/lib/python3.7/dist-packages (from ipython->gym-notebook-wrapper) (2.6.1)\n",
            "Requirement already satisfied: simplegeneric>0.8 in /usr/local/lib/python3.7/dist-packages (from ipython->gym-notebook-wrapper) (0.8.1)\n",
            "Requirement already satisfied: pickleshare in /usr/local/lib/python3.7/dist-packages (from ipython->gym-notebook-wrapper) (0.7.5)\n",
            "Requirement already satisfied: prompt-toolkit<2.0.0,>=1.0.4 in /usr/local/lib/python3.7/dist-packages (from ipython->gym-notebook-wrapper) (1.0.18)\n",
            "Requirement already satisfied: six>=1.9.0 in /usr/local/lib/python3.7/dist-packages (from prompt-toolkit<2.0.0,>=1.0.4->ipython->gym-notebook-wrapper) (1.15.0)\n",
            "Requirement already satisfied: wcwidth in /usr/local/lib/python3.7/dist-packages (from prompt-toolkit<2.0.0,>=1.0.4->ipython->gym-notebook-wrapper) (0.2.5)\n",
            "Requirement already satisfied: python-dateutil>=2.1 in /usr/local/lib/python3.7/dist-packages (from matplotlib->gym-notebook-wrapper) (2.8.2)\n",
            "Requirement already satisfied: pyparsing!=2.0.4,!=2.1.2,!=2.1.6,>=2.0.1 in /usr/local/lib/python3.7/dist-packages (from matplotlib->gym-notebook-wrapper) (3.0.6)\n",
            "Requirement already satisfied: kiwisolver>=1.0.1 in /usr/local/lib/python3.7/dist-packages (from matplotlib->gym-notebook-wrapper) (1.3.2)\n",
            "Requirement already satisfied: cycler>=0.10 in /usr/local/lib/python3.7/dist-packages (from matplotlib->gym-notebook-wrapper) (0.11.0)\n",
            "Requirement already satisfied: ptyprocess>=0.5 in /usr/local/lib/python3.7/dist-packages (from pexpect->ipython->gym-notebook-wrapper) (0.7.0)\n",
            "Collecting EasyProcess\n",
            "  Downloading EasyProcess-0.3-py2.py3-none-any.whl (7.9 kB)\n",
            "Installing collected packages: EasyProcess, pyvirtualdisplay, gym-notebook-wrapper\n",
            "Successfully installed EasyProcess-0.3 gym-notebook-wrapper-1.2.4 pyvirtualdisplay-2.2\n"
          ]
        }
      ]
    },
    {
      "cell_type": "markdown",
      "metadata": {
        "id": "vI5CdIXBNFxe"
      },
      "source": [
        "stable_baselines verison 1 framework is originaly from OpenAI. This is 3rd iteration developed by other people.\n",
        "It support [many](https://stable-baselines3.readthedocs.io/en/master/guide/algos.html) algorithms.\n",
        "\n",
        "For now we will try to solve the same CartPole env using A2C.\n",
        "It uses policy iteration in similar way as REINFORCE.\n"
      ]
    },
    {
      "cell_type": "code",
      "metadata": {
        "id": "KpVK_2aCZQcQ",
        "colab": {
          "base_uri": "https://localhost:8080/",
          "height": 479
        },
        "outputId": "5ccd0c9b-4161-49b4-98a4-005aad2383b3"
      },
      "source": [
        "import gym\n",
        "\n",
        "from stable_baselines3 import A2C\n",
        "import gnwrapper\n",
        "\n",
        "env = gym.make(\"CartPole-v1\")\n",
        "env = gnwrapper.Animation(env) # Start Xvfb\n",
        "\n",
        "\n",
        "model = A2C(\"MlpPolicy\", env, verbose=1)\n",
        "model.learn(total_timesteps=10000)\n",
        "\n",
        "obs = env.reset()\n",
        "for i in range(1000):\n",
        "    action, _states = model.predict(obs)\n",
        "    obs, reward, done, info = env.step(action)\n",
        "\n",
        "    env.render()\n",
        "\n",
        "    if done:\n",
        "      obs = env.reset()\n",
        "\n",
        "env.close()\n"
      ],
      "execution_count": 20,
      "outputs": [
        {
          "output_type": "display_data",
          "data": {
            "image/png": "[encoded data removed]",
            "text/plain": [
              "<Figure size 432x288 with 1 Axes>"
            ]
          },
          "metadata": {}
        },
        {
          "output_type": "display_data",
          "data": {
            "image/png": "[encoded data removed]",
            "text/plain": [
              "<Figure size 432x288 with 1 Axes>"
            ]
          },
          "metadata": {
            "needs_background": "light"
          }
        }
      ]
    },
    {
      "cell_type": "markdown",
      "metadata": {
        "id": "ebZPZyQFOWqw"
      },
      "source": [
        "It works!"
      ]
    },
    {
      "cell_type": "markdown",
      "metadata": {
        "id": "kokE81yAcurt"
      },
      "source": [
        "## Taks 2\n",
        "\n",
        "For the last task you will train env \"CartPole-v1\" gym enviroment\n",
        "using SAC algorithm. You do not require to undestand how SAC works!\n",
        "The only thing you should know that \"CartPole-v1\" works with descrete actions like 0 or 1, but SAC only works with continius actions like 0.4555 or 0.9.\n",
        "\n",
        "**Your task is to create wrapper for CartPole-v1 that will work with SAC.**\n",
        "\n",
        "Example how to defined your own class above.\n",
        "Note that usually the biggest part in solving RL problems is defining enviroment!"
      ]
    },
    {
      "cell_type": "code",
      "metadata": {
        "id": "E_JHd0AeYJeZ"
      },
      "source": [
        "  class MyCartPole(gym.Env):\n",
        "    def __init__(self):\n",
        "        self.env = gym.make(\"CartPole-v1\")\n",
        "        self.action_space = gym.spaces.Box(low=0, high=1, shape=(1,))\n",
        "        self.observation_space = self.env.observation_space\n",
        "\n",
        "    def reset(self):\n",
        "        return np.array(self.env.reset())\n",
        "\n",
        "    def step(self, action):\n",
        "        return np.array(self.env.step(int(action[0] > 0.5)))\n",
        "\n",
        "    def close(self):\n",
        "        self.env.close()\n",
        "\n",
        "    def render(self, **kwargs):\n",
        "      self.env.render(kwargs)\n",
        "    "
      ],
      "execution_count": 18,
      "outputs": []
    },
    {
      "cell_type": "code",
      "metadata": {
        "id": "7qH0t6HKa3yL",
        "colab": {
          "base_uri": "https://localhost:8080/"
        },
        "outputId": "89d5896b-8e51-4d07-bcc5-7c463b4f5e0e"
      },
      "source": [
        "import gym\n",
        "\n",
        "from stable_baselines3 import SAC\n",
        "import gnwrapper\n",
        "\n",
        "env = MyCartPole()\n",
        "\n",
        "\n",
        "#find what is MlpPolicy \n",
        "model = SAC(\"MlpPolicy\", env, verbose=1)\n",
        "model.learn(total_timesteps=10000)\n",
        "\n",
        "obs = env.reset()\n",
        "for i in range(1000):\n",
        "    action, _states = model.predict(obs)\n",
        "    obs, reward, done, info = env.step(action)\n",
        "    if done:\n",
        "      obs = env.reset()\n"
      ],
      "execution_count": 19,
      "outputs": [
        {
          "output_type": "stream",
          "name": "stdout",
          "text": [
            "Using cpu device\n",
            "Wrapping the env with a `Monitor` wrapper\n",
            "Wrapping the env in a DummyVecEnv.\n",
            "---------------------------------\n",
            "| rollout/           |          |\n",
            "|    ep_len_mean     | 20       |\n",
            "|    ep_rew_mean     | 20       |\n",
            "| time/              |          |\n",
            "|    episodes        | 4        |\n",
            "|    fps             | 2307     |\n",
            "|    time_elapsed    | 0        |\n",
            "|    total_timesteps | 80       |\n",
            "---------------------------------\n"
          ]
        },
        {
          "output_type": "stream",
          "name": "stderr",
          "text": [
            "/usr/local/lib/python3.7/dist-packages/ipykernel_launcher.py:11: VisibleDeprecationWarning: Creating an ndarray from ragged nested sequences (which is a list-or-tuple of lists-or-tuples-or ndarrays with different lengths or shapes) is deprecated. If you meant to do this, you must specify 'dtype=object' when creating the ndarray\n",
            "  # This is added back by InteractiveShellApp.init_path()\n"
          ]
        },
        {
          "output_type": "stream",
          "name": "stdout",
          "text": [
            "---------------------------------\n",
            "| rollout/           |          |\n",
            "|    ep_len_mean     | 20       |\n",
            "|    ep_rew_mean     | 20       |\n",
            "| time/              |          |\n",
            "|    episodes        | 8        |\n",
            "|    fps             | 78       |\n",
            "|    time_elapsed    | 2        |\n",
            "|    total_timesteps | 160      |\n",
            "| train/             |          |\n",
            "|    actor_loss      | -2.37    |\n",
            "|    critic_loss     | 0.145    |\n",
            "|    ent_coef        | 0.983    |\n",
            "|    ent_coef_loss   | -0.0291  |\n",
            "|    learning_rate   | 0.0003   |\n",
            "|    n_updates       | 59       |\n",
            "---------------------------------\n",
            "---------------------------------\n",
            "| rollout/           |          |\n",
            "|    ep_len_mean     | 20.3     |\n",
            "|    ep_rew_mean     | 20.3     |\n",
            "| time/              |          |\n",
            "|    episodes        | 12       |\n",
            "|    fps             | 51       |\n",
            "|    time_elapsed    | 4        |\n",
            "|    total_timesteps | 244      |\n",
            "| train/             |          |\n",
            "|    actor_loss      | -2.96    |\n",
            "|    critic_loss     | 0.149    |\n",
            "|    ent_coef        | 0.958    |\n",
            "|    ent_coef_loss   | -0.0716  |\n",
            "|    learning_rate   | 0.0003   |\n",
            "|    n_updates       | 143      |\n",
            "---------------------------------\n",
            "---------------------------------\n",
            "| rollout/           |          |\n",
            "|    ep_len_mean     | 21.5     |\n",
            "|    ep_rew_mean     | 21.5     |\n",
            "| time/              |          |\n",
            "|    episodes        | 16       |\n",
            "|    fps             | 42       |\n",
            "|    time_elapsed    | 8        |\n",
            "|    total_timesteps | 344      |\n",
            "| train/             |          |\n",
            "|    actor_loss      | -3.45    |\n",
            "|    critic_loss     | 0.116    |\n",
            "|    ent_coef        | 0.93     |\n",
            "|    ent_coef_loss   | -0.12    |\n",
            "|    learning_rate   | 0.0003   |\n",
            "|    n_updates       | 243      |\n",
            "---------------------------------\n",
            "---------------------------------\n",
            "| rollout/           |          |\n",
            "|    ep_len_mean     | 20.5     |\n",
            "|    ep_rew_mean     | 20.5     |\n",
            "| time/              |          |\n",
            "|    episodes        | 20       |\n",
            "|    fps             | 40       |\n",
            "|    time_elapsed    | 10       |\n",
            "|    total_timesteps | 410      |\n",
            "| train/             |          |\n",
            "|    actor_loss      | -3.8     |\n",
            "|    critic_loss     | 0.124    |\n",
            "|    ent_coef        | 0.912    |\n",
            "|    ent_coef_loss   | -0.155   |\n",
            "|    learning_rate   | 0.0003   |\n",
            "|    n_updates       | 309      |\n",
            "---------------------------------\n",
            "---------------------------------\n",
            "| rollout/           |          |\n",
            "|    ep_len_mean     | 20.5     |\n",
            "|    ep_rew_mean     | 20.5     |\n",
            "| time/              |          |\n",
            "|    episodes        | 24       |\n",
            "|    fps             | 38       |\n",
            "|    time_elapsed    | 12       |\n",
            "|    total_timesteps | 491      |\n",
            "| train/             |          |\n",
            "|    actor_loss      | -4.28    |\n",
            "|    critic_loss     | 0.124    |\n",
            "|    ent_coef        | 0.89     |\n",
            "|    ent_coef_loss   | -0.196   |\n",
            "|    learning_rate   | 0.0003   |\n",
            "|    n_updates       | 390      |\n",
            "---------------------------------\n",
            "---------------------------------\n",
            "| rollout/           |          |\n",
            "|    ep_len_mean     | 19.5     |\n",
            "|    ep_rew_mean     | 19.5     |\n",
            "| time/              |          |\n",
            "|    episodes        | 28       |\n",
            "|    fps             | 37       |\n",
            "|    time_elapsed    | 14       |\n",
            "|    total_timesteps | 547      |\n",
            "| train/             |          |\n",
            "|    actor_loss      | -4.61    |\n",
            "|    critic_loss     | 0.291    |\n",
            "|    ent_coef        | 0.875    |\n",
            "|    ent_coef_loss   | -0.224   |\n",
            "|    learning_rate   | 0.0003   |\n",
            "|    n_updates       | 446      |\n",
            "---------------------------------\n",
            "---------------------------------\n",
            "| rollout/           |          |\n",
            "|    ep_len_mean     | 20.8     |\n",
            "|    ep_rew_mean     | 20.8     |\n",
            "| time/              |          |\n",
            "|    episodes        | 32       |\n",
            "|    fps             | 36       |\n",
            "|    time_elapsed    | 18       |\n",
            "|    total_timesteps | 664      |\n",
            "| train/             |          |\n",
            "|    actor_loss      | -5.24    |\n",
            "|    critic_loss     | 0.16     |\n",
            "|    ent_coef        | 0.845    |\n",
            "|    ent_coef_loss   | -0.284   |\n",
            "|    learning_rate   | 0.0003   |\n",
            "|    n_updates       | 563      |\n",
            "---------------------------------\n",
            "---------------------------------\n",
            "| rollout/           |          |\n",
            "|    ep_len_mean     | 20.7     |\n",
            "|    ep_rew_mean     | 20.7     |\n",
            "| time/              |          |\n",
            "|    episodes        | 36       |\n",
            "|    fps             | 35       |\n",
            "|    time_elapsed    | 20       |\n",
            "|    total_timesteps | 746      |\n",
            "| train/             |          |\n",
            "|    actor_loss      | -5.58    |\n",
            "|    critic_loss     | 0.256    |\n",
            "|    ent_coef        | 0.824    |\n",
            "|    ent_coef_loss   | -0.323   |\n",
            "|    learning_rate   | 0.0003   |\n",
            "|    n_updates       | 645      |\n",
            "---------------------------------\n",
            "---------------------------------\n",
            "| rollout/           |          |\n",
            "|    ep_len_mean     | 21.9     |\n",
            "|    ep_rew_mean     | 21.9     |\n",
            "| time/              |          |\n",
            "|    episodes        | 40       |\n",
            "|    fps             | 34       |\n",
            "|    time_elapsed    | 25       |\n",
            "|    total_timesteps | 874      |\n",
            "| train/             |          |\n",
            "|    actor_loss      | -6.2     |\n",
            "|    critic_loss     | 0.421    |\n",
            "|    ent_coef        | 0.793    |\n",
            "|    ent_coef_loss   | -0.389   |\n",
            "|    learning_rate   | 0.0003   |\n",
            "|    n_updates       | 773      |\n",
            "---------------------------------\n",
            "---------------------------------\n",
            "| rollout/           |          |\n",
            "|    ep_len_mean     | 23.2     |\n",
            "|    ep_rew_mean     | 23.2     |\n",
            "| time/              |          |\n",
            "|    episodes        | 44       |\n",
            "|    fps             | 33       |\n",
            "|    time_elapsed    | 30       |\n",
            "|    total_timesteps | 1019     |\n",
            "| train/             |          |\n",
            "|    actor_loss      | -7.07    |\n",
            "|    critic_loss     | 0.395    |\n",
            "|    ent_coef        | 0.76     |\n",
            "|    ent_coef_loss   | -0.453   |\n",
            "|    learning_rate   | 0.0003   |\n",
            "|    n_updates       | 918      |\n",
            "---------------------------------\n",
            "---------------------------------\n",
            "| rollout/           |          |\n",
            "|    ep_len_mean     | 26.8     |\n",
            "|    ep_rew_mean     | 26.8     |\n",
            "| time/              |          |\n",
            "|    episodes        | 48       |\n",
            "|    fps             | 33       |\n",
            "|    time_elapsed    | 38       |\n",
            "|    total_timesteps | 1284     |\n",
            "| train/             |          |\n",
            "|    actor_loss      | -8.18    |\n",
            "|    critic_loss     | 0.743    |\n",
            "|    ent_coef        | 0.703    |\n",
            "|    ent_coef_loss   | -0.554   |\n",
            "|    learning_rate   | 0.0003   |\n",
            "|    n_updates       | 1183     |\n",
            "---------------------------------\n",
            "---------------------------------\n",
            "| rollout/           |          |\n",
            "|    ep_len_mean     | 30.7     |\n",
            "|    ep_rew_mean     | 30.7     |\n",
            "| time/              |          |\n",
            "|    episodes        | 52       |\n",
            "|    fps             | 32       |\n",
            "|    time_elapsed    | 49       |\n",
            "|    total_timesteps | 1596     |\n",
            "| train/             |          |\n",
            "|    actor_loss      | -9.95    |\n",
            "|    critic_loss     | 0.276    |\n",
            "|    ent_coef        | 0.643    |\n",
            "|    ent_coef_loss   | -0.673   |\n",
            "|    learning_rate   | 0.0003   |\n",
            "|    n_updates       | 1495     |\n",
            "---------------------------------\n",
            "---------------------------------\n",
            "| rollout/           |          |\n",
            "|    ep_len_mean     | 35.7     |\n",
            "|    ep_rew_mean     | 35.7     |\n",
            "| time/              |          |\n",
            "|    episodes        | 56       |\n",
            "|    fps             | 31       |\n",
            "|    time_elapsed    | 62       |\n",
            "|    total_timesteps | 1998     |\n",
            "| train/             |          |\n",
            "|    actor_loss      | -12.2    |\n",
            "|    critic_loss     | 0.219    |\n",
            "|    ent_coef        | 0.576    |\n",
            "|    ent_coef_loss   | -0.771   |\n",
            "|    learning_rate   | 0.0003   |\n",
            "|    n_updates       | 1897     |\n",
            "---------------------------------\n",
            "---------------------------------\n",
            "| rollout/           |          |\n",
            "|    ep_len_mean     | 45.6     |\n",
            "|    ep_rew_mean     | 45.6     |\n",
            "| time/              |          |\n",
            "|    episodes        | 60       |\n",
            "|    fps             | 31       |\n",
            "|    time_elapsed    | 88       |\n",
            "|    total_timesteps | 2737     |\n",
            "| train/             |          |\n",
            "|    actor_loss      | -15.4    |\n",
            "|    critic_loss     | 0.904    |\n",
            "|    ent_coef        | 0.471    |\n",
            "|    ent_coef_loss   | -0.942   |\n",
            "|    learning_rate   | 0.0003   |\n",
            "|    n_updates       | 2636     |\n",
            "---------------------------------\n",
            "---------------------------------\n",
            "| rollout/           |          |\n",
            "|    ep_len_mean     | 56.3     |\n",
            "|    ep_rew_mean     | 56.3     |\n",
            "| time/              |          |\n",
            "|    episodes        | 64       |\n",
            "|    fps             | 30       |\n",
            "|    time_elapsed    | 117      |\n",
            "|    total_timesteps | 3602     |\n",
            "| train/             |          |\n",
            "|    actor_loss      | -19.5    |\n",
            "|    critic_loss     | 1.05     |\n",
            "|    ent_coef        | 0.372    |\n",
            "|    ent_coef_loss   | -1.25    |\n",
            "|    learning_rate   | 0.0003   |\n",
            "|    n_updates       | 3501     |\n",
            "---------------------------------\n",
            "---------------------------------\n",
            "| rollout/           |          |\n",
            "|    ep_len_mean     | 69       |\n",
            "|    ep_rew_mean     | 69       |\n",
            "| time/              |          |\n",
            "|    episodes        | 68       |\n",
            "|    fps             | 30       |\n",
            "|    time_elapsed    | 154      |\n",
            "|    total_timesteps | 4692     |\n",
            "| train/             |          |\n",
            "|    actor_loss      | -23.7    |\n",
            "|    critic_loss     | 0.374    |\n",
            "|    ent_coef        | 0.273    |\n",
            "|    ent_coef_loss   | -1.58    |\n",
            "|    learning_rate   | 0.0003   |\n",
            "|    n_updates       | 4591     |\n",
            "---------------------------------\n",
            "---------------------------------\n",
            "| rollout/           |          |\n",
            "|    ep_len_mean     | 76       |\n",
            "|    ep_rew_mean     | 76       |\n",
            "| time/              |          |\n",
            "|    episodes        | 72       |\n",
            "|    fps             | 30       |\n",
            "|    time_elapsed    | 180      |\n",
            "|    total_timesteps | 5469     |\n",
            "| train/             |          |\n",
            "|    actor_loss      | -27      |\n",
            "|    critic_loss     | 0.442    |\n",
            "|    ent_coef        | 0.219    |\n",
            "|    ent_coef_loss   | -1.73    |\n",
            "|    learning_rate   | 0.0003   |\n",
            "|    n_updates       | 5368     |\n",
            "---------------------------------\n",
            "---------------------------------\n",
            "| rollout/           |          |\n",
            "|    ep_len_mean     | 84       |\n",
            "|    ep_rew_mean     | 84       |\n",
            "| time/              |          |\n",
            "|    episodes        | 76       |\n",
            "|    fps             | 30       |\n",
            "|    time_elapsed    | 211      |\n",
            "|    total_timesteps | 6381     |\n",
            "| train/             |          |\n",
            "|    actor_loss      | -29.2    |\n",
            "|    critic_loss     | 0.769    |\n",
            "|    ent_coef        | 0.169    |\n",
            "|    ent_coef_loss   | -1.78    |\n",
            "|    learning_rate   | 0.0003   |\n",
            "|    n_updates       | 6280     |\n",
            "---------------------------------\n",
            "---------------------------------\n",
            "| rollout/           |          |\n",
            "|    ep_len_mean     | 92       |\n",
            "|    ep_rew_mean     | 92       |\n",
            "| time/              |          |\n",
            "|    episodes        | 80       |\n",
            "|    fps             | 30       |\n",
            "|    time_elapsed    | 243      |\n",
            "|    total_timesteps | 7362     |\n",
            "| train/             |          |\n",
            "|    actor_loss      | -31.8    |\n",
            "|    critic_loss     | 1.39     |\n",
            "|    ent_coef        | 0.128    |\n",
            "|    ent_coef_loss   | -2.18    |\n",
            "|    learning_rate   | 0.0003   |\n",
            "|    n_updates       | 7261     |\n",
            "---------------------------------\n",
            "---------------------------------\n",
            "| rollout/           |          |\n",
            "|    ep_len_mean     | 98.4     |\n",
            "|    ep_rew_mean     | 98.4     |\n",
            "| time/              |          |\n",
            "|    episodes        | 84       |\n",
            "|    fps             | 30       |\n",
            "|    time_elapsed    | 273      |\n",
            "|    total_timesteps | 8262     |\n",
            "| train/             |          |\n",
            "|    actor_loss      | -34.9    |\n",
            "|    critic_loss     | 0.27     |\n",
            "|    ent_coef        | 0.0989   |\n",
            "|    ent_coef_loss   | -2.06    |\n",
            "|    learning_rate   | 0.0003   |\n",
            "|    n_updates       | 8161     |\n",
            "---------------------------------\n",
            "---------------------------------\n",
            "| rollout/           |          |\n",
            "|    ep_len_mean     | 105      |\n",
            "|    ep_rew_mean     | 105      |\n",
            "| time/              |          |\n",
            "|    episodes        | 88       |\n",
            "|    fps             | 30       |\n",
            "|    time_elapsed    | 304      |\n",
            "|    total_timesteps | 9206     |\n",
            "| train/             |          |\n",
            "|    actor_loss      | -36.9    |\n",
            "|    critic_loss     | 1.02     |\n",
            "|    ent_coef        | 0.0763   |\n",
            "|    ent_coef_loss   | -2.5     |\n",
            "|    learning_rate   | 0.0003   |\n",
            "|    n_updates       | 9105     |\n",
            "---------------------------------\n"
          ]
        }
      ]
    }
  ]
}
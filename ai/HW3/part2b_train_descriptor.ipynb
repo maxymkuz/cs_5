{
 "cells": [
  {
   "cell_type": "code",
   "execution_count": 109,
   "metadata": {
    "scrolled": true
   },
   "outputs": [],
   "source": [
    "import torch \n",
    "from torchvision import datasets, transforms\n",
    "import torch.optim as optim\n",
    "from torch.optim import lr_scheduler\n",
    "import torch.nn as nn\n",
    "import torch.nn.functional as F\n",
    "import torch.utils.data as data\n",
    "\n",
    "import os\n",
    "import random\n",
    "from PIL import Image\n",
    "import numpy as np\n",
    "from scipy.spatial.distance import cdist\n",
    "import matplotlib.pyplot as plt"
   ]
  },
  {
   "cell_type": "markdown",
   "metadata": {},
   "source": [
    "### Conclusions and answers:\n",
    "\n",
    "#### Why randomly initialized network is better?\n",
    "I know that the weights that are initialized very close to zero, but randomly are very effective in modern NN as it breaks the symmetry and allows for faster learning. I have no idea though why randomly initialized network performs better than random retrieval. Maybe because some weights are aldeady trained?\n",
    "\n",
    "#### triplet loss + learning rate\n",
    "I implemented and trained the network with triplet loss and learning rate decay.\n",
    "\n",
    "The results of training with triplet loss are very impressive and work very good:\n",
    "\n",
    "- At-least-1-positive@1   : 0.930\n",
    "- At-least-1-positive@5   : 0.980\n",
    "- At-least-1-positive@10  : 0.990\n",
    "\n",
    "However, the results of default convolutional NN are somewhy better and give almost perfect results:\n",
    "- At-least-1-positive@1   : 0.990\n",
    "- At-least-1-positive@5   : 1.000\n",
    "- At-least-1-positive@10  : 1.000\n"
   ]
  },
  {
   "cell_type": "code",
   "execution_count": 110,
   "metadata": {},
   "outputs": [],
   "source": [
    "class MNISTtriplets(data.Dataset):\n",
    "    \"\"\"\n",
    "    Load the MNIST dataset in triplets of similar(positive)/non-similar(negative) pairs\n",
    "    \"\"\"\n",
    "\n",
    "    def __init__(self, mnist_dataset):\n",
    "        self.mnist_dataset = mnist_dataset\n",
    "        self.transform = self.mnist_dataset.transform\n",
    "        self.labels = self.mnist_dataset.train_labels\n",
    "        self.data = self.mnist_dataset.train_data\n",
    "        # indices of images for each class\n",
    "        self.class_idx = [np.where(self.labels == x)[0] for x in range(0, 10)]\n",
    "\n",
    "    def __getitem__(self, index):\n",
    "\n",
    "        # anchor image\n",
    "        img1, label1 = self.data[index], self.labels[index].item()\n",
    "\n",
    "        # positive image:\n",
    "        index2 = index\n",
    "        while index2 == index:\n",
    "            index2 = np.random.choice(self.class_idx[label1])\n",
    "        img2 = self.data[index2]\n",
    "\n",
    "        # negative image:\n",
    "        img3 = self.data[np.random.choice(self.class_idx[np.random.choice(np.setdiff1d(range(0, 10), label1))])]\n",
    "\n",
    "        img1 = Image.fromarray(img1.numpy(), mode='L')\n",
    "        img2 = Image.fromarray(img2.numpy(), mode='L')\n",
    "        img3 = Image.fromarray(img3.numpy(), mode='L')\n",
    "\n",
    "        if self.transform is not None:\n",
    "            img1 = self.transform(img1)\n",
    "            img2 = self.transform(img2)\n",
    "            img3 = self.transform(img3)\n",
    "\n",
    "        return (img1, img2, img3)\n",
    "\n",
    "    def __len__(self):\n",
    "        return len(self.data)\n",
    "\n",
    "\n",
    "class MNISTpairs(data.Dataset):\n",
    "    \"\"\"\n",
    "    Load the MNIST dataset in pairs of similar(positive)/non-similar(negative) pairs\n",
    "    \"\"\"\n",
    "\n",
    "    def __init__(self, mnist_dataset):    \n",
    "        self.mnist_dataset = mnist_dataset\n",
    "        self.transform = self.mnist_dataset.transform\n",
    "        self.labels = self.mnist_dataset.train_labels\n",
    "        self.data = self.mnist_dataset.train_data                \n",
    "        # indices of images for each class\n",
    "        self.class_idx = [np.where(self.labels==x)[0] for x in range(0,10)]\n",
    "    \n",
    "    def __getitem__(self, index):\n",
    "        \n",
    "        # anchor image\n",
    "        img1, label1 = self.data[index], self.labels[index].item()\n",
    "        # draw another positive (1) or negative (0) image\n",
    "        pair_label = np.random.randint(0, 2)\n",
    "        \n",
    "        if pair_label == 1:\n",
    "            # choose an image with the same label as the anchor - avoid itself\n",
    "            index2 = index\n",
    "            while index2 == index:\n",
    "                index2 = np.random.choice(self.class_idx[label1])\n",
    "            img2 = self.data[index2]\n",
    "        else:\n",
    "            # choose an image with the different label than the anchor \n",
    "            img2 = self.data[np.random.choice(self.class_idx[ np.random.choice(np.setdiff1d(range(0,10), label1))])]\n",
    "            \n",
    "        img1 = Image.fromarray(img1.numpy(), mode='L')\n",
    "        img2 = Image.fromarray(img2.numpy(), mode='L')\n",
    "        \n",
    "        if self.transform is not None:\n",
    "            img1 = self.transform(img1)\n",
    "            img2 = self.transform(img2)\n",
    "        \n",
    "        return (img1, img2), pair_label\n",
    "    \n",
    "    def __len__(self):\n",
    "        return len(self.data)\n",
    "        \n",
    "    \n",
    "# mnist dataset structure - test part\n",
    "mnist_dataset_test = datasets.MNIST('vs3ex1data/mnist_data', train=False, transform=transforms.Compose([\n",
    "                   transforms.ToTensor(),\n",
    "                   transforms.Normalize((0.1307,), (0.3081,))\n",
    "               ]))\n",
    "    \n",
    "# mnist dataset structure - train part\n",
    "mnist_dataset_train = datasets.MNIST('vs3ex1data/mnist_data', train=True, transform=transforms.Compose([\n",
    "                   transforms.ToTensor(),\n",
    "                   transforms.Normalize((0.1307,), (0.3081,))\n",
    "               ]))\n",
    "            \n",
    "# mnist dataset in positive/negative pairs structure \n",
    "mnist_dataset_train_pairs = MNISTpairs(mnist_dataset_train)\n",
    "\n",
    "# mnist dataset in positive/negative pairs structure\n",
    "mnist_dataset_train_triplets = MNISTtriplets(mnist_dataset_train)\n"
   ]
  },
  {
   "cell_type": "code",
   "execution_count": 111,
   "metadata": {},
   "outputs": [],
   "source": [
    "def l2n(x, eps=1e-6):\n",
    "    \"\"\"\n",
    "    Vector L2 normalization \n",
    "    \"\"\"\n",
    "    return x / (torch.norm(x, p=2, dim=1, keepdim=True) + eps).expand_as(x)\n",
    "\n",
    "class MnistNetEmb(nn.Module):\n",
    "    \"\"\"\n",
    "    Liteweight network architecture for the Mnist dataset (digit) to extract descriptors/embeddings\n",
    "    \"\"\"\n",
    "\n",
    "    def __init__(self):\n",
    "        super(MnistNetEmb, self).__init__()\n",
    "\n",
    "        # fully convolutional part\n",
    "        self.features = nn.Sequential(\n",
    "            nn.Conv2d(1, 4, kernel_size=5),\n",
    "            nn.MaxPool2d(kernel_size=2),\n",
    "            nn.ReLU(inplace=True),\n",
    "            nn.Conv2d(4, 4, kernel_size=5),\n",
    "            nn.MaxPool2d(kernel_size=2),\n",
    "            nn.ReLU(inplace=True)            \n",
    "        )\n",
    "        \n",
    "        # embedding network, FC layers\n",
    "        self.embedder = nn.Sequential(\n",
    "            nn.Linear(16*4,16) # 64 * 16 = 1024\n",
    "        )\n",
    "        \n",
    "    def forward(self, x):\n",
    "        x = self.features(x)\n",
    "        x = self.embedder(x.view(-1,x.size(-3)*x.size(-2)*x.size(-1)))\n",
    "        return l2n(x)\n"
   ]
  },
  {
   "cell_type": "code",
   "execution_count": 112,
   "metadata": {},
   "outputs": [],
   "source": [
    "def train3(model, train_loader, optimizer, scheduler, margin = 0.9):\n",
    "    \"\"\"\n",
    "    Training of an epoch with Contrastive loss and training pairs\n",
    "    model: network\n",
    "    train_loader: train_loader loading pairs of positive/negative images and pair-label in batches. \n",
    "    scheduler: scheduler to use in the training\n",
    "    margin: loss margin\n",
    "    \"\"\"\n",
    "\n",
    "    model.train()\n",
    "    total_loss = 0\n",
    "    \n",
    "    for batch_idx, data in enumerate(train_loader):\n",
    "        optimizer.zero_grad()\n",
    "        \n",
    "        # extract descriptor for anchor and the corresponding pos/neg images\n",
    "        a, p, n = model(data[0]), model(data[1]), model(data[2]) # 64 * 16\n",
    "\n",
    "        # compute the triplet loss\n",
    "        d_a_p = (a - p).pow(2).sum(1).sqrt()\n",
    "        d_a_n = (a - n).pow(2).sum(1).sqrt()\n",
    "\n",
    "        loss = d_a_p - d_a_n + margin\n",
    "        loss = torch.clamp(loss, min=0)\n",
    "\n",
    "        loss.sum().backward()\n",
    "        optimizer.step()\n",
    "\n",
    "        total_loss = total_loss + loss.sum().data.numpy()\n",
    "        \n",
    "        if batch_idx % 1000 == 0:\n",
    "            print('[{}/{} ({:.0f}%)]\\tBatch loss: {:.6f}'.format(\n",
    "                batch_idx * len(data), len(train_loader.dataset),\n",
    "                100. * batch_idx / len(train_loader), loss.mean()))\n",
    "\n",
    "    scheduler.step()\n",
    "    print('Epoch average loss {:.6f}'.format(total_loss/len(train_loader.dataset)))\n",
    "\n",
    "\n",
    "def train2(model, train_loader, optimizer, margin = 0.9):\n",
    "    \"\"\"\n",
    "    Training of an epoch with Contrastive loss and training pairs\n",
    "    model: network\n",
    "    train_loader: train_loader loading pairs of positive/negative images and pair-label in batches. \n",
    "    optimizer: optimizer to use in the training\n",
    "    margin: loss margin\n",
    "    \"\"\"\n",
    "\n",
    "    model.train()\n",
    "    all_neg_dist = torch.Tensor()\n",
    "    all_pos_dist = torch.Tensor()\n",
    "    total_loss = 0\n",
    "    \n",
    "    for batch_idx, (data, target) in enumerate(train_loader):\n",
    "        optimizer.zero_grad()\n",
    "        \n",
    "        # extract descriptor for anchor and the corresponding pos/neg images\n",
    "        v1, v2 = model(data[0]), model(data[1])\n",
    "        \n",
    "        # compute the contrastive loss\n",
    "        distances = (v2 - v1).pow(2).sum(1).sqrt()        \n",
    "        loss = 0.5 * (target.float() * distances.pow(2) + (1-target).float()*F.relu(margin - distances).pow(2))\n",
    "        \n",
    "        loss.sum().backward()\n",
    "        optimizer.step()\n",
    "\n",
    "        all_neg_dist = torch.cat((all_neg_dist, distances[torch.nonzero(1-target)].view(-1))) # for statistics\n",
    "        all_pos_dist = torch.cat((all_pos_dist, distances[torch.nonzero(target)].view(-1))) # for statistics\n",
    "        total_loss = total_loss + loss.sum().data.numpy()\n",
    "        \n",
    "        if batch_idx % 100 == 0:\n",
    "            print('[{}/{} ({:.0f}%)]\\tBatch loss: {:.6f}'.format(\n",
    "                batch_idx * len(data), len(train_loader.dataset),\n",
    "                100. * batch_idx / len(train_loader), loss.mean()))\n",
    "    print('Epoch average loss {:.6f}'.format(total_loss/len(train_loader.dataset)))\n",
    "\n",
    "    plt.hist(all_pos_dist.data.numpy(), 20, alpha = 0.5, label = 'pos')\n",
    "    plt.hist(all_neg_dist.data.numpy(), 20, alpha = 0.5, label = 'neg')\n",
    "    plt.title('Distribution of distances for positive and negative pairs')\n",
    "    plt.legend(loc='upper right')\n",
    "    plt.show()\n",
    "\n",
    "    \n",
    "def test(model, test_loader, step = 100):\n",
    "    \"\"\"\n",
    "    Compute accuracy on the test set\n",
    "    model: network\n",
    "    test_loader: test_loader loading images and labels in batches\n",
    "    step: step to iterate over images (for faster evaluation)\n",
    "    \"\"\"\n",
    "\n",
    "    model.eval()\n",
    "    des = torch.Tensor()\n",
    "    labels = torch.LongTensor()\n",
    "    for batch_idx, (data, target) in enumerate(test_loader):\n",
    "        # print(model(data).shape)\n",
    "        des = torch.cat((des, model(data)))\n",
    "        labels = torch.cat((labels, target))\n",
    "    \n",
    "    # compute all pair-wise distances\n",
    "    cdistances = cdist(des.data.numpy(), des.data.numpy(), 'euclidean')\n",
    "        \n",
    "    # find rank of closest positive image (using each descriptor as a query)\n",
    "    minrank_positive = []\n",
    "    for i in range(0,len(cdistances),step):\n",
    "        idx = np.argsort(cdistances[i])\n",
    "        minrank_positive.append( np.min([j for (j,x) in enumerate(labels[idx[1:-1]]) if x==labels[i]]) )\n",
    "    \n",
    "    print('At-least-1-positive@1   : {:.3f}'.format((np.array(minrank_positive)<1).mean()))\n",
    "    print('At-least-1-positive@5   : {:.3f}'.format((np.array(minrank_positive)<5).mean()))\n",
    "    print('At-least-1-positive@10  : {:.3f}'.format((np.array(minrank_positive)<10).mean()))\n"
   ]
  },
  {
   "cell_type": "code",
   "execution_count": 113,
   "metadata": {},
   "outputs": [
    {
     "name": "stdout",
     "output_type": "stream",
     "text": [
      "Validating the randomly initialized network\n",
      "At-least-1-positive@1   : 0.640\n",
      "At-least-1-positive@5   : 0.890\n",
      "At-least-1-positive@10  : 0.950\n"
     ]
    }
   ],
   "source": [
    "# loader of the training set in triplets\n",
    "train_loader_triplets = torch.utils.data.DataLoader(mnist_dataset_train_triplets, batch_size=64, shuffle=True)\n",
    "\n",
    "# loader of the training set in pairs\n",
    "train_loader_pairs = torch.utils.data.DataLoader(mnist_dataset_train_pairs,batch_size=64, shuffle=True)\n",
    "\n",
    "#loader of the test set (no pairs here)\n",
    "test_loader = torch.utils.data.DataLoader(mnist_dataset_test,batch_size=512, shuffle=False)\n",
    "\n",
    "model = MnistNetEmb() # initialize the network\n",
    "\n",
    "print('Validating the randomly initialized network')\n",
    "test(model, test_loader) # test the randomly initialized network\n"
   ]
  },
  {
   "cell_type": "markdown",
   "metadata": {},
   "source": [
    "why it's better"
   ]
  },
  {
   "cell_type": "markdown",
   "metadata": {},
   "source": [
    "### Triplet training:"
   ]
  },
  {
   "cell_type": "code",
   "execution_count": 85,
   "metadata": {},
   "outputs": [
    {
     "name": "stdout",
     "output_type": "stream",
     "text": [
      "Validating the randomly initialized network\n",
      "Training with Contrastive loss and training pairs\n",
      "Epoch-1 lr: 0.01\n",
      "[0/60000 (0%)]\tBatch loss: 0.939211\n",
      "Epoch average loss 0.240939\n",
      "At-least-1-positive@1   : 0.920\n",
      "At-least-1-positive@5   : 0.970\n",
      "At-least-1-positive@10  : 0.970\n",
      "Epoch-2 lr: 0.01\n",
      "[0/60000 (0%)]\tBatch loss: 0.126694\n",
      "Epoch average loss 0.182888\n",
      "At-least-1-positive@1   : 0.930\n",
      "At-least-1-positive@5   : 0.980\n",
      "At-least-1-positive@10  : 0.980\n",
      "Epoch-3 lr: 0.005\n",
      "[0/60000 (0%)]\tBatch loss: 0.159231\n",
      "Epoch average loss 0.171382\n",
      "At-least-1-positive@1   : 0.930\n",
      "At-least-1-positive@5   : 0.970\n",
      "At-least-1-positive@10  : 0.980\n",
      "Epoch-4 lr: 0.005\n",
      "[0/60000 (0%)]\tBatch loss: 0.176620\n",
      "Epoch average loss 0.168304\n",
      "At-least-1-positive@1   : 0.920\n",
      "At-least-1-positive@5   : 0.980\n",
      "At-least-1-positive@10  : 0.990\n",
      "Epoch-5 lr: 0.0025\n",
      "[0/60000 (0%)]\tBatch loss: 0.131424\n",
      "Epoch average loss 0.165267\n",
      "At-least-1-positive@1   : 0.930\n",
      "At-least-1-positive@5   : 0.980\n",
      "At-least-1-positive@10  : 0.980\n",
      "Epoch-6 lr: 0.0025\n",
      "[0/60000 (0%)]\tBatch loss: 0.208611\n",
      "Epoch average loss 0.162632\n",
      "At-least-1-positive@1   : 0.950\n",
      "At-least-1-positive@5   : 0.960\n",
      "At-least-1-positive@10  : 0.990\n",
      "Epoch-7 lr: 0.00125\n",
      "[0/60000 (0%)]\tBatch loss: 0.107605\n",
      "Epoch average loss 0.163696\n",
      "At-least-1-positive@1   : 0.910\n",
      "At-least-1-positive@5   : 0.980\n",
      "At-least-1-positive@10  : 0.990\n",
      "Epoch-8 lr: 0.00125\n",
      "[0/60000 (0%)]\tBatch loss: 0.172135\n",
      "Epoch average loss 0.158683\n",
      "At-least-1-positive@1   : 0.920\n",
      "At-least-1-positive@5   : 0.980\n",
      "At-least-1-positive@10  : 0.990\n",
      "Epoch-9 lr: 0.000625\n",
      "[0/60000 (0%)]\tBatch loss: 0.128378\n",
      "Epoch average loss 0.160403\n",
      "At-least-1-positive@1   : 0.930\n",
      "At-least-1-positive@5   : 0.980\n",
      "At-least-1-positive@10  : 0.990\n",
      "Epoch-10 lr: 0.000625\n",
      "[0/60000 (0%)]\tBatch loss: 0.139524\n",
      "Epoch average loss 0.160067\n",
      "At-least-1-positive@1   : 0.930\n",
      "At-least-1-positive@5   : 0.980\n",
      "At-least-1-positive@10  : 0.990\n"
     ]
    }
   ],
   "source": [
    "\n",
    "optimizer = optim.SGD(model.parameters(), lr=0.01, momentum=0.9)\n",
    "scheduler = lr_scheduler.StepLR(optimizer, 2, gamma=0.5)\n",
    "\n",
    "\n",
    "print('Training with Contrastive loss and training pairs')\n",
    "# train with contrastive loss\n",
    "contrastive_margin = 0.9\n",
    "triplet_margin = 1\n",
    "\n",
    "for epoch in range(1, 10 + 1):\n",
    "        print('Epoch-{0} lr: {1}'.format(epoch, optimizer.param_groups[0]['lr']))\n",
    "        # scheduler.step()\n",
    "        train3(model, train_loader_triplets, optimizer, scheduler, triplet_margin)\n",
    "        test(model, test_loader)"
   ]
  },
  {
   "cell_type": "markdown",
   "metadata": {
    "scrolled": false
   },
   "source": [
    "### Usual loss:"
   ]
  },
  {
   "cell_type": "code",
   "execution_count": 102,
   "metadata": {},
   "outputs": [
    {
     "name": "stdout",
     "output_type": "stream",
     "text": [
      "Training with Contrastive loss and training pairs\n",
      "Epoch 1\n",
      "[0/60000 (0%)]\tBatch loss: 0.092597\n",
      "[200/60000 (11%)]\tBatch loss: 0.054290\n",
      "[400/60000 (21%)]\tBatch loss: 0.040197\n",
      "[600/60000 (32%)]\tBatch loss: 0.047341\n",
      "[800/60000 (43%)]\tBatch loss: 0.040686\n",
      "[1000/60000 (53%)]\tBatch loss: 0.034513\n",
      "[1200/60000 (64%)]\tBatch loss: 0.042145\n",
      "[1400/60000 (75%)]\tBatch loss: 0.031831\n",
      "[1600/60000 (85%)]\tBatch loss: 0.038177\n",
      "[1800/60000 (96%)]\tBatch loss: 0.040979\n",
      "Epoch average loss 0.043725\n"
     ]
    },
    {
     "data": {
      "image/png": "[encoded data removed]",
      "text/plain": [
       "<Figure size 432x288 with 1 Axes>"
      ]
     },
     "metadata": {
      "needs_background": "light"
     },
     "output_type": "display_data"
    },
    {
     "name": "stdout",
     "output_type": "stream",
     "text": [
      "At-least-1-positive@1   : 0.920\n",
      "At-least-1-positive@5   : 0.980\n",
      "At-least-1-positive@10  : 0.980\n",
      "Epoch 2\n",
      "[0/60000 (0%)]\tBatch loss: 0.027705\n",
      "[200/60000 (11%)]\tBatch loss: 0.033245\n",
      "[400/60000 (21%)]\tBatch loss: 0.029160\n",
      "[600/60000 (32%)]\tBatch loss: 0.029497\n",
      "[800/60000 (43%)]\tBatch loss: 0.038605\n",
      "[1000/60000 (53%)]\tBatch loss: 0.026913\n",
      "[1200/60000 (64%)]\tBatch loss: 0.030809\n",
      "[1400/60000 (75%)]\tBatch loss: 0.032289\n",
      "[1600/60000 (85%)]\tBatch loss: 0.026378\n",
      "[1800/60000 (96%)]\tBatch loss: 0.031499\n",
      "Epoch average loss 0.032698\n"
     ]
    },
    {
     "data": {
      "image/png": "[encoded data removed]",
      "text/plain": [
       "<Figure size 432x288 with 1 Axes>"
      ]
     },
     "metadata": {
      "needs_background": "light"
     },
     "output_type": "display_data"
    },
    {
     "name": "stdout",
     "output_type": "stream",
     "text": [
      "At-least-1-positive@1   : 0.950\n",
      "At-least-1-positive@5   : 1.000\n",
      "At-least-1-positive@10  : 1.000\n",
      "Epoch 3\n",
      "[0/60000 (0%)]\tBatch loss: 0.022498\n",
      "[200/60000 (11%)]\tBatch loss: 0.023314\n",
      "[400/60000 (21%)]\tBatch loss: 0.037358\n",
      "[600/60000 (32%)]\tBatch loss: 0.040971\n",
      "[800/60000 (43%)]\tBatch loss: 0.035615\n",
      "[1000/60000 (53%)]\tBatch loss: 0.027935\n",
      "[1200/60000 (64%)]\tBatch loss: 0.030120\n",
      "[1400/60000 (75%)]\tBatch loss: 0.036824\n",
      "[1600/60000 (85%)]\tBatch loss: 0.042477\n",
      "[1800/60000 (96%)]\tBatch loss: 0.029336\n",
      "Epoch average loss 0.030180\n"
     ]
    },
    {
     "data": {
      "image/png": "[encoded data removed]",
      "text/plain": [
       "<Figure size 432x288 with 1 Axes>"
      ]
     },
     "metadata": {
      "needs_background": "light"
     },
     "output_type": "display_data"
    },
    {
     "name": "stdout",
     "output_type": "stream",
     "text": [
      "At-least-1-positive@1   : 0.930\n",
      "At-least-1-positive@5   : 0.990\n",
      "At-least-1-positive@10  : 1.000\n",
      "Epoch 4\n",
      "[0/60000 (0%)]\tBatch loss: 0.021839\n",
      "[200/60000 (11%)]\tBatch loss: 0.038095\n",
      "[400/60000 (21%)]\tBatch loss: 0.029950\n",
      "[600/60000 (32%)]\tBatch loss: 0.029116\n",
      "[800/60000 (43%)]\tBatch loss: 0.034555\n",
      "[1000/60000 (53%)]\tBatch loss: 0.027983\n",
      "[1200/60000 (64%)]\tBatch loss: 0.033236\n",
      "[1400/60000 (75%)]\tBatch loss: 0.034659\n",
      "[1600/60000 (85%)]\tBatch loss: 0.020788\n",
      "[1800/60000 (96%)]\tBatch loss: 0.025722\n",
      "Epoch average loss 0.029083\n"
     ]
    },
    {
     "data": {
      "image/png": "[encoded data removed]",
      "text/plain": [
       "<Figure size 432x288 with 1 Axes>"
      ]
     },
     "metadata": {
      "needs_background": "light"
     },
     "output_type": "display_data"
    },
    {
     "name": "stdout",
     "output_type": "stream",
     "text": [
      "At-least-1-positive@1   : 0.890\n",
      "At-least-1-positive@5   : 0.980\n",
      "At-least-1-positive@10  : 1.000\n",
      "Epoch 5\n",
      "[0/60000 (0%)]\tBatch loss: 0.019396\n",
      "[200/60000 (11%)]\tBatch loss: 0.029882\n",
      "[400/60000 (21%)]\tBatch loss: 0.024929\n",
      "[600/60000 (32%)]\tBatch loss: 0.033731\n",
      "[800/60000 (43%)]\tBatch loss: 0.030412\n",
      "[1000/60000 (53%)]\tBatch loss: 0.033505\n",
      "[1200/60000 (64%)]\tBatch loss: 0.037585\n",
      "[1400/60000 (75%)]\tBatch loss: 0.034129\n",
      "[1600/60000 (85%)]\tBatch loss: 0.028671\n",
      "[1800/60000 (96%)]\tBatch loss: 0.026516\n",
      "Epoch average loss 0.028214\n"
     ]
    },
    {
     "data": {
      "image/png": "[encoded data removed]",
      "text/plain": [
       "<Figure size 432x288 with 1 Axes>"
      ]
     },
     "metadata": {
      "needs_background": "light"
     },
     "output_type": "display_data"
    },
    {
     "name": "stdout",
     "output_type": "stream",
     "text": [
      "At-least-1-positive@1   : 0.920\n",
      "At-least-1-positive@5   : 0.970\n",
      "At-least-1-positive@10  : 0.980\n",
      "Epoch 6\n",
      "[0/60000 (0%)]\tBatch loss: 0.039264\n",
      "[200/60000 (11%)]\tBatch loss: 0.023428\n",
      "[400/60000 (21%)]\tBatch loss: 0.027780\n",
      "[600/60000 (32%)]\tBatch loss: 0.021272\n",
      "[800/60000 (43%)]\tBatch loss: 0.028564\n",
      "[1000/60000 (53%)]\tBatch loss: 0.026880\n",
      "[1200/60000 (64%)]\tBatch loss: 0.030972\n",
      "[1400/60000 (75%)]\tBatch loss: 0.031057\n",
      "[1600/60000 (85%)]\tBatch loss: 0.023435\n",
      "[1800/60000 (96%)]\tBatch loss: 0.029627\n",
      "Epoch average loss 0.027894\n"
     ]
    },
    {
     "data": {
      "image/png": "[encoded data removed]",
      "text/plain": [
       "<Figure size 432x288 with 1 Axes>"
      ]
     },
     "metadata": {
      "needs_background": "light"
     },
     "output_type": "display_data"
    },
    {
     "name": "stdout",
     "output_type": "stream",
     "text": [
      "At-least-1-positive@1   : 0.950\n",
      "At-least-1-positive@5   : 0.990\n",
      "At-least-1-positive@10  : 1.000\n",
      "Epoch 7\n",
      "[0/60000 (0%)]\tBatch loss: 0.026206\n",
      "[200/60000 (11%)]\tBatch loss: 0.023160\n",
      "[400/60000 (21%)]\tBatch loss: 0.031006\n",
      "[600/60000 (32%)]\tBatch loss: 0.024212\n",
      "[800/60000 (43%)]\tBatch loss: 0.025921\n",
      "[1000/60000 (53%)]\tBatch loss: 0.024845\n",
      "[1200/60000 (64%)]\tBatch loss: 0.017669\n",
      "[1400/60000 (75%)]\tBatch loss: 0.031178\n",
      "[1600/60000 (85%)]\tBatch loss: 0.026531\n",
      "[1800/60000 (96%)]\tBatch loss: 0.021847\n",
      "Epoch average loss 0.027297\n"
     ]
    },
    {
     "data": {
      "image/png": "[encoded data removed]",
      "text/plain": [
       "<Figure size 432x288 with 1 Axes>"
      ]
     },
     "metadata": {
      "needs_background": "light"
     },
     "output_type": "display_data"
    },
    {
     "name": "stdout",
     "output_type": "stream",
     "text": [
      "At-least-1-positive@1   : 0.940\n",
      "At-least-1-positive@5   : 1.000\n",
      "At-least-1-positive@10  : 1.000\n",
      "Epoch 8\n",
      "[0/60000 (0%)]\tBatch loss: 0.030913\n",
      "[200/60000 (11%)]\tBatch loss: 0.023692\n",
      "[400/60000 (21%)]\tBatch loss: 0.030593\n",
      "[600/60000 (32%)]\tBatch loss: 0.040227\n",
      "[800/60000 (43%)]\tBatch loss: 0.023806\n",
      "[1000/60000 (53%)]\tBatch loss: 0.025801\n",
      "[1200/60000 (64%)]\tBatch loss: 0.017168\n",
      "[1400/60000 (75%)]\tBatch loss: 0.027537\n",
      "[1600/60000 (85%)]\tBatch loss: 0.020703\n",
      "[1800/60000 (96%)]\tBatch loss: 0.026997\n",
      "Epoch average loss 0.026960\n"
     ]
    },
    {
     "data": {
      "image/png": "[encoded data removed]",
      "text/plain": [
       "<Figure size 432x288 with 1 Axes>"
      ]
     },
     "metadata": {
      "needs_background": "light"
     },
     "output_type": "display_data"
    },
    {
     "name": "stdout",
     "output_type": "stream",
     "text": [
      "At-least-1-positive@1   : 0.940\n",
      "At-least-1-positive@5   : 1.000\n",
      "At-least-1-positive@10  : 1.000\n",
      "Epoch 9\n",
      "[0/60000 (0%)]\tBatch loss: 0.019187\n",
      "[200/60000 (11%)]\tBatch loss: 0.025977\n",
      "[400/60000 (21%)]\tBatch loss: 0.022027\n",
      "[600/60000 (32%)]\tBatch loss: 0.022965\n",
      "[800/60000 (43%)]\tBatch loss: 0.025597\n",
      "[1000/60000 (53%)]\tBatch loss: 0.032398\n",
      "[1200/60000 (64%)]\tBatch loss: 0.034955\n",
      "[1400/60000 (75%)]\tBatch loss: 0.024034\n",
      "[1600/60000 (85%)]\tBatch loss: 0.027862\n",
      "[1800/60000 (96%)]\tBatch loss: 0.016366\n",
      "Epoch average loss 0.026666\n"
     ]
    },
    {
     "data": {
      "image/png": "[encoded data removed]",
      "text/plain": [
       "<Figure size 432x288 with 1 Axes>"
      ]
     },
     "metadata": {
      "needs_background": "light"
     },
     "output_type": "display_data"
    },
    {
     "name": "stdout",
     "output_type": "stream",
     "text": [
      "At-least-1-positive@1   : 0.960\n",
      "At-least-1-positive@5   : 1.000\n",
      "At-least-1-positive@10  : 1.000\n",
      "Epoch 10\n",
      "[0/60000 (0%)]\tBatch loss: 0.031016\n",
      "[200/60000 (11%)]\tBatch loss: 0.033562\n",
      "[400/60000 (21%)]\tBatch loss: 0.020488\n",
      "[600/60000 (32%)]\tBatch loss: 0.027376\n",
      "[800/60000 (43%)]\tBatch loss: 0.024582\n",
      "[1000/60000 (53%)]\tBatch loss: 0.021111\n",
      "[1200/60000 (64%)]\tBatch loss: 0.024225\n",
      "[1400/60000 (75%)]\tBatch loss: 0.030806\n",
      "[1600/60000 (85%)]\tBatch loss: 0.026257\n",
      "[1800/60000 (96%)]\tBatch loss: 0.030210\n",
      "Epoch average loss 0.026313\n"
     ]
    },
    {
     "data": {
      "image/png": "[encoded data removed]",
      "text/plain": [
       "<Figure size 432x288 with 1 Axes>"
      ]
     },
     "metadata": {
      "needs_background": "light"
     },
     "output_type": "display_data"
    },
    {
     "name": "stdout",
     "output_type": "stream",
     "text": [
      "At-least-1-positive@1   : 0.990\n",
      "At-least-1-positive@5   : 1.000\n",
      "At-least-1-positive@10  : 1.000\n"
     ]
    }
   ],
   "source": [
    "model_pairs = MnistNetEmb() # initialize the network\n",
    "\n",
    "optimizer = optim.SGD(model_pairs.parameters(), lr=0.001, momentum=0.9)\n",
    "\n",
    "print('Training with Contrastive loss and training pairs')\n",
    "# train with contrastive loss\n",
    "contrastive_margin = 0.9\n",
    "for epoch in range(1, 10 + 1):\n",
    "        print('Epoch {}'.format(epoch))\n",
    "        train2(model_pairs, train_loader_pairs, optimizer, contrastive_margin)\n",
    "        test(model_pairs, test_loader)"
   ]
  }
 ],
 "metadata": {
  "kernelspec": {
   "display_name": "Python 3",
   "language": "python",
   "name": "python3"
  },
  "language_info": {
   "codemirror_mode": {
    "name": "ipython",
    "version": 3
   },
   "file_extension": ".py",
   "mimetype": "text/x-python",
   "name": "python",
   "nbconvert_exporter": "python",
   "pygments_lexer": "ipython3",
   "version": "3.7.11"
  }
 },
 "nbformat": 4,
 "nbformat_minor": 2
}

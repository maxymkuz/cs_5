{
 "cells": [
  {
   "cell_type": "code",
   "execution_count": 84,
   "metadata": {},
   "outputs": [],
   "source": [
    "%matplotlib inline\n",
    "import pandas as pd\n",
    "pd.plotting.register_matplotlib_converters()\n",
    "import matplotlib\n",
    "import matplotlib.pyplot as plt\n",
    "import numpy as np\n",
    "import seaborn as sns\n",
    "import warnings\n",
    "warnings.filterwarnings(\"ignore\")\n",
    "\n",
    "import altair as alt\n",
    "\n",
    "alt.data_transformers.disable_max_rows()\n",
    "alt.renderers.enable('mimetype');\n",
    "\n",
    "import os\n",
    "import pickle\n",
    "\n",
    "from copy import deepcopy\n",
    "from sklearn.feature_selection import mutual_info_regression\n",
    "from sklearn.linear_model import Lasso, LinearRegression, Ridge, PoissonRegressor\n",
    "from sklearn.ensemble import RandomForestRegressor, GradientBoostingRegressor\n",
    "from sklearn.svm import SVR\n",
    "from sklearn.preprocessing import StandardScaler\n",
    "from sklearn.pipeline import Pipeline\n",
    "from sklearn.metrics import make_scorer\n",
    "\n",
    "np.random.seed(42)\n",
    "from itertools import product"
   ]
  },
  {
   "cell_type": "code",
   "execution_count": 85,
   "metadata": {},
   "outputs": [
    {
     "data": {
      "text/plain": [
       "Index(['Johor_Month', 'Johor_Production', 'Johor_Rainfall', 'Johor_Area_ma',\n",
       "       'Johor_Area_npa', 'Johor_Area_rpa', 'Johor_Area_ma_new', 'Johor_Time',\n",
       "       'Johor_Rainfall_13', 'Johor_Rainfall_14', 'Johor_Rainfall_15',\n",
       "       'Johor_Rainfall_16', 'Johor_Rainfall_17', 'Johor_Rainfall_18',\n",
       "       'Johor_Rainfall_19', 'Johor_Rainfall_20', 'Johor_Rainfall_21',\n",
       "       'Johor_Rainfall_22', 'Johor_Rainfall_23', 'Johor_Rainfall_24',\n",
       "       'Johor_Rainfall_25', 'Johor_Rainfall_26', 'Johor_Production_1',\n",
       "       'Johor_Production_2', 'Johor_Production_3', 'Johor_Production_4',\n",
       "       'Johor_Production_5', 'Johor_Production_6', 'Johor_Production_7',\n",
       "       'Johor_Production_8', 'Johor_Production_9', 'Johor_Production_10',\n",
       "       'Johor_Production_11', 'Johor_Production_12', 'Johor_Production_13'],\n",
       "      dtype='object')"
      ]
     },
     "execution_count": 85,
     "metadata": {},
     "output_type": "execute_result"
    }
   ],
   "source": [
    "from data_processing import process_data\n",
    "\n",
    "REGIONS = [['JH', 'Johor', 'JH'], \n",
    "           ['PH', 'Pahang', 'PH'],\n",
    "           ['PRK', 'Perak', 'PRK'], \n",
    "           ['OtherPEN', 'Other Pen. States', 'OtherPEN'],\n",
    "           ['PEN', 'Peninsula', 'Pmalay'],\n",
    "           ['SBH', 'Sabah', 'SBH'],\n",
    "           ['SWK', 'Sarawak', 'SWK']]\n",
    "\n",
    "prod = pd.read_csv('palm_oil_data/production_good.csv')\n",
    "rain = pd.read_csv('palm_oil_data/rainfall_good.csv')\n",
    "area = pd.read_csv('palm_oil_data/area_good.csv')\n",
    "RAINFALL_LAGS = [13, 14, 15, 16, 17, 18, 19, 20, 21, 22, 23, 24, 25, 26]\n",
    "PRODUCTION_LAGS = [1, 2, 3, 4, 5, 6, 7, 8, 9, 10, 11, 12, 13]\n",
    "DATA = process_data(prod, rain, area, REGIONS, PRODUCTION_LAGS, RAINFALL_LAGS)\n",
    "X = DATA['Johor'][0]\n",
    "Y = DATA['Johor'][1]\n",
    "X.columns"
   ]
  },
  {
   "cell_type": "markdown",
   "metadata": {},
   "source": [
    "## Feature Analysis"
   ]
  },
  {
   "cell_type": "code",
   "execution_count": 86,
   "metadata": {},
   "outputs": [
    {
     "data": {
      "text/html": [
       "<div>\n",
       "<style scoped>\n",
       "    .dataframe tbody tr th:only-of-type {\n",
       "        vertical-align: middle;\n",
       "    }\n",
       "\n",
       "    .dataframe tbody tr th {\n",
       "        vertical-align: top;\n",
       "    }\n",
       "\n",
       "    .dataframe thead th {\n",
       "        text-align: right;\n",
       "    }\n",
       "</style>\n",
       "<table border=\"1\" class=\"dataframe\">\n",
       "  <thead>\n",
       "    <tr style=\"text-align: right;\">\n",
       "      <th></th>\n",
       "      <th>Johor_Month</th>\n",
       "      <th>Johor_Production</th>\n",
       "      <th>Johor_Rainfall</th>\n",
       "      <th>Johor_Area_ma</th>\n",
       "      <th>Johor_Area_npa</th>\n",
       "      <th>Johor_Area_rpa</th>\n",
       "      <th>Johor_Area_ma_new</th>\n",
       "      <th>Johor_Time</th>\n",
       "      <th>Johor_Rainfall_13</th>\n",
       "      <th>Johor_Rainfall_14</th>\n",
       "      <th>...</th>\n",
       "      <th>Johor_Production_5</th>\n",
       "      <th>Johor_Production_6</th>\n",
       "      <th>Johor_Production_7</th>\n",
       "      <th>Johor_Production_8</th>\n",
       "      <th>Johor_Production_9</th>\n",
       "      <th>Johor_Production_10</th>\n",
       "      <th>Johor_Production_11</th>\n",
       "      <th>Johor_Production_12</th>\n",
       "      <th>Johor_Production_13</th>\n",
       "      <th>dt</th>\n",
       "    </tr>\n",
       "  </thead>\n",
       "  <tbody>\n",
       "    <tr>\n",
       "      <th>1999-02-01</th>\n",
       "      <td>2</td>\n",
       "      <td>147.240</td>\n",
       "      <td>50.775</td>\n",
       "      <td>574.0</td>\n",
       "      <td>613.0</td>\n",
       "      <td>7.0</td>\n",
       "      <td>403.330769</td>\n",
       "      <td>13</td>\n",
       "      <td>190.900</td>\n",
       "      <td>195.163756</td>\n",
       "      <td>...</td>\n",
       "      <td>210.113</td>\n",
       "      <td>195.686</td>\n",
       "      <td>182.535</td>\n",
       "      <td>163.215</td>\n",
       "      <td>155.827</td>\n",
       "      <td>154.638</td>\n",
       "      <td>145.514</td>\n",
       "      <td>147.988</td>\n",
       "      <td>118.359</td>\n",
       "      <td>1999-02-01</td>\n",
       "    </tr>\n",
       "    <tr>\n",
       "      <th>1999-03-01</th>\n",
       "      <td>3</td>\n",
       "      <td>169.754</td>\n",
       "      <td>281.750</td>\n",
       "      <td>574.0</td>\n",
       "      <td>613.0</td>\n",
       "      <td>7.0</td>\n",
       "      <td>403.330769</td>\n",
       "      <td>14</td>\n",
       "      <td>59.050</td>\n",
       "      <td>190.900000</td>\n",
       "      <td>...</td>\n",
       "      <td>203.115</td>\n",
       "      <td>210.113</td>\n",
       "      <td>195.686</td>\n",
       "      <td>182.535</td>\n",
       "      <td>163.215</td>\n",
       "      <td>155.827</td>\n",
       "      <td>154.638</td>\n",
       "      <td>145.514</td>\n",
       "      <td>147.988</td>\n",
       "      <td>1999-03-01</td>\n",
       "    </tr>\n",
       "    <tr>\n",
       "      <th>1999-04-01</th>\n",
       "      <td>4</td>\n",
       "      <td>192.155</td>\n",
       "      <td>144.150</td>\n",
       "      <td>574.0</td>\n",
       "      <td>613.0</td>\n",
       "      <td>7.0</td>\n",
       "      <td>403.330769</td>\n",
       "      <td>15</td>\n",
       "      <td>124.775</td>\n",
       "      <td>59.050000</td>\n",
       "      <td>...</td>\n",
       "      <td>186.055</td>\n",
       "      <td>203.115</td>\n",
       "      <td>210.113</td>\n",
       "      <td>195.686</td>\n",
       "      <td>182.535</td>\n",
       "      <td>163.215</td>\n",
       "      <td>155.827</td>\n",
       "      <td>154.638</td>\n",
       "      <td>145.514</td>\n",
       "      <td>1999-04-01</td>\n",
       "    </tr>\n",
       "    <tr>\n",
       "      <th>1999-05-01</th>\n",
       "      <td>5</td>\n",
       "      <td>216.570</td>\n",
       "      <td>159.600</td>\n",
       "      <td>574.0</td>\n",
       "      <td>613.0</td>\n",
       "      <td>7.0</td>\n",
       "      <td>403.330769</td>\n",
       "      <td>16</td>\n",
       "      <td>124.025</td>\n",
       "      <td>124.775000</td>\n",
       "      <td>...</td>\n",
       "      <td>158.304</td>\n",
       "      <td>186.055</td>\n",
       "      <td>203.115</td>\n",
       "      <td>210.113</td>\n",
       "      <td>195.686</td>\n",
       "      <td>182.535</td>\n",
       "      <td>163.215</td>\n",
       "      <td>155.827</td>\n",
       "      <td>154.638</td>\n",
       "      <td>1999-05-01</td>\n",
       "    </tr>\n",
       "    <tr>\n",
       "      <th>1999-06-01</th>\n",
       "      <td>6</td>\n",
       "      <td>210.553</td>\n",
       "      <td>101.925</td>\n",
       "      <td>574.0</td>\n",
       "      <td>613.0</td>\n",
       "      <td>7.0</td>\n",
       "      <td>403.330769</td>\n",
       "      <td>17</td>\n",
       "      <td>225.725</td>\n",
       "      <td>124.025000</td>\n",
       "      <td>...</td>\n",
       "      <td>133.109</td>\n",
       "      <td>158.304</td>\n",
       "      <td>186.055</td>\n",
       "      <td>203.115</td>\n",
       "      <td>210.113</td>\n",
       "      <td>195.686</td>\n",
       "      <td>182.535</td>\n",
       "      <td>163.215</td>\n",
       "      <td>155.827</td>\n",
       "      <td>1999-06-01</td>\n",
       "    </tr>\n",
       "  </tbody>\n",
       "</table>\n",
       "<p>5 rows × 36 columns</p>\n",
       "</div>"
      ],
      "text/plain": [
       "            Johor_Month  Johor_Production  Johor_Rainfall  Johor_Area_ma  \\\n",
       "1999-02-01            2           147.240          50.775          574.0   \n",
       "1999-03-01            3           169.754         281.750          574.0   \n",
       "1999-04-01            4           192.155         144.150          574.0   \n",
       "1999-05-01            5           216.570         159.600          574.0   \n",
       "1999-06-01            6           210.553         101.925          574.0   \n",
       "\n",
       "            Johor_Area_npa  Johor_Area_rpa  Johor_Area_ma_new  Johor_Time  \\\n",
       "1999-02-01           613.0             7.0         403.330769          13   \n",
       "1999-03-01           613.0             7.0         403.330769          14   \n",
       "1999-04-01           613.0             7.0         403.330769          15   \n",
       "1999-05-01           613.0             7.0         403.330769          16   \n",
       "1999-06-01           613.0             7.0         403.330769          17   \n",
       "\n",
       "            Johor_Rainfall_13  Johor_Rainfall_14  ...  Johor_Production_5  \\\n",
       "1999-02-01            190.900         195.163756  ...             210.113   \n",
       "1999-03-01             59.050         190.900000  ...             203.115   \n",
       "1999-04-01            124.775          59.050000  ...             186.055   \n",
       "1999-05-01            124.025         124.775000  ...             158.304   \n",
       "1999-06-01            225.725         124.025000  ...             133.109   \n",
       "\n",
       "            Johor_Production_6  Johor_Production_7  Johor_Production_8  \\\n",
       "1999-02-01             195.686             182.535             163.215   \n",
       "1999-03-01             210.113             195.686             182.535   \n",
       "1999-04-01             203.115             210.113             195.686   \n",
       "1999-05-01             186.055             203.115             210.113   \n",
       "1999-06-01             158.304             186.055             203.115   \n",
       "\n",
       "            Johor_Production_9  Johor_Production_10  Johor_Production_11  \\\n",
       "1999-02-01             155.827              154.638              145.514   \n",
       "1999-03-01             163.215              155.827              154.638   \n",
       "1999-04-01             182.535              163.215              155.827   \n",
       "1999-05-01             195.686              182.535              163.215   \n",
       "1999-06-01             210.113              195.686              182.535   \n",
       "\n",
       "            Johor_Production_12  Johor_Production_13         dt  \n",
       "1999-02-01              147.988              118.359 1999-02-01  \n",
       "1999-03-01              145.514              147.988 1999-03-01  \n",
       "1999-04-01              154.638              145.514 1999-04-01  \n",
       "1999-05-01              155.827              154.638 1999-05-01  \n",
       "1999-06-01              163.215              155.827 1999-06-01  \n",
       "\n",
       "[5 rows x 36 columns]"
      ]
     },
     "execution_count": 86,
     "metadata": {},
     "output_type": "execute_result"
    }
   ],
   "source": [
    "X[\"dt\"] = X.index\n",
    "X.head()\n"
   ]
  },
  {
   "cell_type": "code",
   "execution_count": 87,
   "metadata": {},
   "outputs": [
    {
     "data": {
      "application/vnd.vegalite.v4+json": {
       "$schema": "https://vega.github.io/schema/vega-lite/v4.8.1.json",
       "columns": 2,
       "config": {
        "view": {
         "continuousHeight": 300,
         "continuousWidth": 400
        }
       },
       "data": {
        "name": "data-8a5bf10f683a9f0960979574e13d890f"
       },
       "datasets": {
        "data-8a5bf10f683a9f0960979574e13d890f": [
         {
          "dt": "1999-02-01T00:00:00",
          "value": 574,
          "variable": "Johor_Area_ma"
         },
         {
          "dt": "1999-03-01T00:00:00",
          "value": 574,
          "variable": "Johor_Area_ma"
         },
         {
          "dt": "1999-04-01T00:00:00",
          "value": 574,
          "variable": "Johor_Area_ma"
         },
         {
          "dt": "1999-05-01T00:00:00",
          "value": 574,
          "variable": "Johor_Area_ma"
         },
         {
          "dt": "1999-06-01T00:00:00",
          "value": 574,
          "variable": "Johor_Area_ma"
         },
         {
          "dt": "1999-07-01T00:00:00",
          "value": 574,
          "variable": "Johor_Area_ma"
         },
         {
          "dt": "1999-08-01T00:00:00",
          "value": 574,
          "variable": "Johor_Area_ma"
         },
         {
          "dt": "1999-09-01T00:00:00",
          "value": 574,
          "variable": "Johor_Area_ma"
         },
         {
          "dt": "1999-10-01T00:00:00",
          "value": 574,
          "variable": "Johor_Area_ma"
         },
         {
          "dt": "1999-11-01T00:00:00",
          "value": 574,
          "variable": "Johor_Area_ma"
         },
         {
          "dt": "1999-12-01T00:00:00",
          "value": 574,
          "variable": "Johor_Area_ma"
         },
         {
          "dt": "2000-01-01T00:00:00",
          "value": 582,
          "variable": "Johor_Area_ma"
         },
         {
          "dt": "2000-02-01T00:00:00",
          "value": 582,
          "variable": "Johor_Area_ma"
         },
         {
          "dt": "2000-03-01T00:00:00",
          "value": 582,
          "variable": "Johor_Area_ma"
         },
         {
          "dt": "2000-04-01T00:00:00",
          "value": 582,
          "variable": "Johor_Area_ma"
         },
         {
          "dt": "2000-05-01T00:00:00",
          "value": 582,
          "variable": "Johor_Area_ma"
         },
         {
          "dt": "2000-06-01T00:00:00",
          "value": 582,
          "variable": "Johor_Area_ma"
         },
         {
          "dt": "2000-07-01T00:00:00",
          "value": 582,
          "variable": "Johor_Area_ma"
         },
         {
          "dt": "2000-08-01T00:00:00",
          "value": 582,
          "variable": "Johor_Area_ma"
         },
         {
          "dt": "2000-09-01T00:00:00",
          "value": 582,
          "variable": "Johor_Area_ma"
         },
         {
          "dt": "2000-10-01T00:00:00",
          "value": 582,
          "variable": "Johor_Area_ma"
         },
         {
          "dt": "2000-11-01T00:00:00",
          "value": 582,
          "variable": "Johor_Area_ma"
         },
         {
          "dt": "2000-12-01T00:00:00",
          "value": 582,
          "variable": "Johor_Area_ma"
         },
         {
          "dt": "2001-01-01T00:00:00",
          "value": 581,
          "variable": "Johor_Area_ma"
         },
         {
          "dt": "2001-02-01T00:00:00",
          "value": 581,
          "variable": "Johor_Area_ma"
         },
         {
          "dt": "2001-03-01T00:00:00",
          "value": 581,
          "variable": "Johor_Area_ma"
         },
         {
          "dt": "2001-04-01T00:00:00",
          "value": 581,
          "variable": "Johor_Area_ma"
         },
         {
          "dt": "2001-05-01T00:00:00",
          "value": 581,
          "variable": "Johor_Area_ma"
         },
         {
          "dt": "2001-06-01T00:00:00",
          "value": 581,
          "variable": "Johor_Area_ma"
         },
         {
          "dt": "2001-07-01T00:00:00",
          "value": 581,
          "variable": "Johor_Area_ma"
         },
         {
          "dt": "2001-08-01T00:00:00",
          "value": 581,
          "variable": "Johor_Area_ma"
         },
         {
          "dt": "2001-09-01T00:00:00",
          "value": 581,
          "variable": "Johor_Area_ma"
         },
         {
          "dt": "2001-10-01T00:00:00",
          "value": 581,
          "variable": "Johor_Area_ma"
         },
         {
          "dt": "2001-11-01T00:00:00",
          "value": 581,
          "variable": "Johor_Area_ma"
         },
         {
          "dt": "2001-12-01T00:00:00",
          "value": 581,
          "variable": "Johor_Area_ma"
         },
         {
          "dt": "2002-01-01T00:00:00",
          "value": 599,
          "variable": "Johor_Area_ma"
         },
         {
          "dt": "2002-02-01T00:00:00",
          "value": 599,
          "variable": "Johor_Area_ma"
         },
         {
          "dt": "2002-03-01T00:00:00",
          "value": 599,
          "variable": "Johor_Area_ma"
         },
         {
          "dt": "2002-04-01T00:00:00",
          "value": 599,
          "variable": "Johor_Area_ma"
         },
         {
          "dt": "2002-05-01T00:00:00",
          "value": 599,
          "variable": "Johor_Area_ma"
         },
         {
          "dt": "2002-06-01T00:00:00",
          "value": 599,
          "variable": "Johor_Area_ma"
         },
         {
          "dt": "2002-07-01T00:00:00",
          "value": 599,
          "variable": "Johor_Area_ma"
         },
         {
          "dt": "2002-08-01T00:00:00",
          "value": 599,
          "variable": "Johor_Area_ma"
         },
         {
          "dt": "2002-09-01T00:00:00",
          "value": 599,
          "variable": "Johor_Area_ma"
         },
         {
          "dt": "2002-10-01T00:00:00",
          "value": 599,
          "variable": "Johor_Area_ma"
         },
         {
          "dt": "2002-11-01T00:00:00",
          "value": 599,
          "variable": "Johor_Area_ma"
         },
         {
          "dt": "2002-12-01T00:00:00",
          "value": 599,
          "variable": "Johor_Area_ma"
         },
         {
          "dt": "2003-01-01T00:00:00",
          "value": 598,
          "variable": "Johor_Area_ma"
         },
         {
          "dt": "2003-02-01T00:00:00",
          "value": 598,
          "variable": "Johor_Area_ma"
         },
         {
          "dt": "2003-03-01T00:00:00",
          "value": 598,
          "variable": "Johor_Area_ma"
         },
         {
          "dt": "2003-04-01T00:00:00",
          "value": 598,
          "variable": "Johor_Area_ma"
         },
         {
          "dt": "2003-05-01T00:00:00",
          "value": 598,
          "variable": "Johor_Area_ma"
         },
         {
          "dt": "2003-06-01T00:00:00",
          "value": 598,
          "variable": "Johor_Area_ma"
         },
         {
          "dt": "2003-07-01T00:00:00",
          "value": 598,
          "variable": "Johor_Area_ma"
         },
         {
          "dt": "2003-08-01T00:00:00",
          "value": 598,
          "variable": "Johor_Area_ma"
         },
         {
          "dt": "2003-09-01T00:00:00",
          "value": 598,
          "variable": "Johor_Area_ma"
         },
         {
          "dt": "2003-10-01T00:00:00",
          "value": 598,
          "variable": "Johor_Area_ma"
         },
         {
          "dt": "2003-11-01T00:00:00",
          "value": 598,
          "variable": "Johor_Area_ma"
         },
         {
          "dt": "2003-12-01T00:00:00",
          "value": 598,
          "variable": "Johor_Area_ma"
         },
         {
          "dt": "2004-01-01T00:00:00",
          "value": 605,
          "variable": "Johor_Area_ma"
         },
         {
          "dt": "2004-02-01T00:00:00",
          "value": 605,
          "variable": "Johor_Area_ma"
         },
         {
          "dt": "2004-03-01T00:00:00",
          "value": 605,
          "variable": "Johor_Area_ma"
         },
         {
          "dt": "2004-04-01T00:00:00",
          "value": 605,
          "variable": "Johor_Area_ma"
         },
         {
          "dt": "2004-05-01T00:00:00",
          "value": 605,
          "variable": "Johor_Area_ma"
         },
         {
          "dt": "2004-06-01T00:00:00",
          "value": 605,
          "variable": "Johor_Area_ma"
         },
         {
          "dt": "2004-07-01T00:00:00",
          "value": 605,
          "variable": "Johor_Area_ma"
         },
         {
          "dt": "2004-08-01T00:00:00",
          "value": 605,
          "variable": "Johor_Area_ma"
         },
         {
          "dt": "2004-09-01T00:00:00",
          "value": 605,
          "variable": "Johor_Area_ma"
         },
         {
          "dt": "2004-10-01T00:00:00",
          "value": 605,
          "variable": "Johor_Area_ma"
         },
         {
          "dt": "2004-11-01T00:00:00",
          "value": 605,
          "variable": "Johor_Area_ma"
         },
         {
          "dt": "2004-12-01T00:00:00",
          "value": 605,
          "variable": "Johor_Area_ma"
         },
         {
          "dt": "2005-01-01T00:00:00",
          "value": 602,
          "variable": "Johor_Area_ma"
         },
         {
          "dt": "2005-02-01T00:00:00",
          "value": 602,
          "variable": "Johor_Area_ma"
         },
         {
          "dt": "2005-03-01T00:00:00",
          "value": 602,
          "variable": "Johor_Area_ma"
         },
         {
          "dt": "2005-04-01T00:00:00",
          "value": 602,
          "variable": "Johor_Area_ma"
         },
         {
          "dt": "2005-05-01T00:00:00",
          "value": 602,
          "variable": "Johor_Area_ma"
         },
         {
          "dt": "2005-06-01T00:00:00",
          "value": 602,
          "variable": "Johor_Area_ma"
         },
         {
          "dt": "2005-07-01T00:00:00",
          "value": 602,
          "variable": "Johor_Area_ma"
         },
         {
          "dt": "2005-08-01T00:00:00",
          "value": 602,
          "variable": "Johor_Area_ma"
         },
         {
          "dt": "2005-09-01T00:00:00",
          "value": 602,
          "variable": "Johor_Area_ma"
         },
         {
          "dt": "2005-10-01T00:00:00",
          "value": 602,
          "variable": "Johor_Area_ma"
         },
         {
          "dt": "2005-11-01T00:00:00",
          "value": 602,
          "variable": "Johor_Area_ma"
         },
         {
          "dt": "2005-12-01T00:00:00",
          "value": 602,
          "variable": "Johor_Area_ma"
         },
         {
          "dt": "2006-01-01T00:00:00",
          "value": 608,
          "variable": "Johor_Area_ma"
         },
         {
          "dt": "2006-02-01T00:00:00",
          "value": 608,
          "variable": "Johor_Area_ma"
         },
         {
          "dt": "2006-03-01T00:00:00",
          "value": 608,
          "variable": "Johor_Area_ma"
         },
         {
          "dt": "2006-04-01T00:00:00",
          "value": 608,
          "variable": "Johor_Area_ma"
         },
         {
          "dt": "2006-05-01T00:00:00",
          "value": 608,
          "variable": "Johor_Area_ma"
         },
         {
          "dt": "2006-06-01T00:00:00",
          "value": 608,
          "variable": "Johor_Area_ma"
         },
         {
          "dt": "2006-07-01T00:00:00",
          "value": 608,
          "variable": "Johor_Area_ma"
         },
         {
          "dt": "2006-08-01T00:00:00",
          "value": 608,
          "variable": "Johor_Area_ma"
         },
         {
          "dt": "2006-09-01T00:00:00",
          "value": 608,
          "variable": "Johor_Area_ma"
         },
         {
          "dt": "2006-10-01T00:00:00",
          "value": 608,
          "variable": "Johor_Area_ma"
         },
         {
          "dt": "2006-11-01T00:00:00",
          "value": 608,
          "variable": "Johor_Area_ma"
         },
         {
          "dt": "2006-12-01T00:00:00",
          "value": 608,
          "variable": "Johor_Area_ma"
         },
         {
          "dt": "2007-01-01T00:00:00",
          "value": 596,
          "variable": "Johor_Area_ma"
         },
         {
          "dt": "2007-02-01T00:00:00",
          "value": 596,
          "variable": "Johor_Area_ma"
         },
         {
          "dt": "2007-03-01T00:00:00",
          "value": 596,
          "variable": "Johor_Area_ma"
         },
         {
          "dt": "2007-04-01T00:00:00",
          "value": 596,
          "variable": "Johor_Area_ma"
         },
         {
          "dt": "2007-05-01T00:00:00",
          "value": 596,
          "variable": "Johor_Area_ma"
         },
         {
          "dt": "2007-06-01T00:00:00",
          "value": 596,
          "variable": "Johor_Area_ma"
         },
         {
          "dt": "2007-07-01T00:00:00",
          "value": 596,
          "variable": "Johor_Area_ma"
         },
         {
          "dt": "2007-08-01T00:00:00",
          "value": 596,
          "variable": "Johor_Area_ma"
         },
         {
          "dt": "2007-09-01T00:00:00",
          "value": 596,
          "variable": "Johor_Area_ma"
         },
         {
          "dt": "2007-10-01T00:00:00",
          "value": 596,
          "variable": "Johor_Area_ma"
         },
         {
          "dt": "2007-11-01T00:00:00",
          "value": 596,
          "variable": "Johor_Area_ma"
         },
         {
          "dt": "2007-12-01T00:00:00",
          "value": 596,
          "variable": "Johor_Area_ma"
         },
         {
          "dt": "2008-01-01T00:00:00",
          "value": 616,
          "variable": "Johor_Area_ma"
         },
         {
          "dt": "2008-02-01T00:00:00",
          "value": 616,
          "variable": "Johor_Area_ma"
         },
         {
          "dt": "2008-03-01T00:00:00",
          "value": 616,
          "variable": "Johor_Area_ma"
         },
         {
          "dt": "2008-04-01T00:00:00",
          "value": 616,
          "variable": "Johor_Area_ma"
         },
         {
          "dt": "2008-05-01T00:00:00",
          "value": 616,
          "variable": "Johor_Area_ma"
         },
         {
          "dt": "2008-06-01T00:00:00",
          "value": 616,
          "variable": "Johor_Area_ma"
         },
         {
          "dt": "2008-07-01T00:00:00",
          "value": 616,
          "variable": "Johor_Area_ma"
         },
         {
          "dt": "2008-08-01T00:00:00",
          "value": 616,
          "variable": "Johor_Area_ma"
         },
         {
          "dt": "2008-09-01T00:00:00",
          "value": 616,
          "variable": "Johor_Area_ma"
         },
         {
          "dt": "2008-10-01T00:00:00",
          "value": 616,
          "variable": "Johor_Area_ma"
         },
         {
          "dt": "2008-11-01T00:00:00",
          "value": 616,
          "variable": "Johor_Area_ma"
         },
         {
          "dt": "2008-12-01T00:00:00",
          "value": 616,
          "variable": "Johor_Area_ma"
         },
         {
          "dt": "2009-01-01T00:00:00",
          "value": 633,
          "variable": "Johor_Area_ma"
         },
         {
          "dt": "2009-02-01T00:00:00",
          "value": 633,
          "variable": "Johor_Area_ma"
         },
         {
          "dt": "2009-03-01T00:00:00",
          "value": 633,
          "variable": "Johor_Area_ma"
         },
         {
          "dt": "2009-04-01T00:00:00",
          "value": 633,
          "variable": "Johor_Area_ma"
         },
         {
          "dt": "2009-05-01T00:00:00",
          "value": 633,
          "variable": "Johor_Area_ma"
         },
         {
          "dt": "2009-06-01T00:00:00",
          "value": 633,
          "variable": "Johor_Area_ma"
         },
         {
          "dt": "2009-07-01T00:00:00",
          "value": 633,
          "variable": "Johor_Area_ma"
         },
         {
          "dt": "2009-08-01T00:00:00",
          "value": 633,
          "variable": "Johor_Area_ma"
         },
         {
          "dt": "2009-09-01T00:00:00",
          "value": 633,
          "variable": "Johor_Area_ma"
         },
         {
          "dt": "2009-10-01T00:00:00",
          "value": 633,
          "variable": "Johor_Area_ma"
         },
         {
          "dt": "2009-11-01T00:00:00",
          "value": 633,
          "variable": "Johor_Area_ma"
         },
         {
          "dt": "2009-12-01T00:00:00",
          "value": 633,
          "variable": "Johor_Area_ma"
         },
         {
          "dt": "2010-01-01T00:00:00",
          "value": 636,
          "variable": "Johor_Area_ma"
         },
         {
          "dt": "2010-02-01T00:00:00",
          "value": 636,
          "variable": "Johor_Area_ma"
         },
         {
          "dt": "2010-03-01T00:00:00",
          "value": 636,
          "variable": "Johor_Area_ma"
         },
         {
          "dt": "2010-04-01T00:00:00",
          "value": 636,
          "variable": "Johor_Area_ma"
         },
         {
          "dt": "2010-05-01T00:00:00",
          "value": 636,
          "variable": "Johor_Area_ma"
         },
         {
          "dt": "2010-06-01T00:00:00",
          "value": 636,
          "variable": "Johor_Area_ma"
         },
         {
          "dt": "2010-07-01T00:00:00",
          "value": 636,
          "variable": "Johor_Area_ma"
         },
         {
          "dt": "2010-08-01T00:00:00",
          "value": 636,
          "variable": "Johor_Area_ma"
         },
         {
          "dt": "2010-09-01T00:00:00",
          "value": 636,
          "variable": "Johor_Area_ma"
         },
         {
          "dt": "2010-10-01T00:00:00",
          "value": 636,
          "variable": "Johor_Area_ma"
         },
         {
          "dt": "2010-11-01T00:00:00",
          "value": 636,
          "variable": "Johor_Area_ma"
         },
         {
          "dt": "2010-12-01T00:00:00",
          "value": 636,
          "variable": "Johor_Area_ma"
         },
         {
          "dt": "2011-01-01T00:00:00",
          "value": 631,
          "variable": "Johor_Area_ma"
         },
         {
          "dt": "2011-02-01T00:00:00",
          "value": 631,
          "variable": "Johor_Area_ma"
         },
         {
          "dt": "2011-03-01T00:00:00",
          "value": 631,
          "variable": "Johor_Area_ma"
         },
         {
          "dt": "2011-04-01T00:00:00",
          "value": 631,
          "variable": "Johor_Area_ma"
         },
         {
          "dt": "2011-05-01T00:00:00",
          "value": 631,
          "variable": "Johor_Area_ma"
         },
         {
          "dt": "2011-06-01T00:00:00",
          "value": 631,
          "variable": "Johor_Area_ma"
         },
         {
          "dt": "2011-07-01T00:00:00",
          "value": 631,
          "variable": "Johor_Area_ma"
         },
         {
          "dt": "2011-08-01T00:00:00",
          "value": 631,
          "variable": "Johor_Area_ma"
         },
         {
          "dt": "2011-09-01T00:00:00",
          "value": 631,
          "variable": "Johor_Area_ma"
         },
         {
          "dt": "2011-10-01T00:00:00",
          "value": 631,
          "variable": "Johor_Area_ma"
         },
         {
          "dt": "2011-11-01T00:00:00",
          "value": 631,
          "variable": "Johor_Area_ma"
         },
         {
          "dt": "2011-12-01T00:00:00",
          "value": 631,
          "variable": "Johor_Area_ma"
         },
         {
          "dt": "2012-01-01T00:00:00",
          "value": 618,
          "variable": "Johor_Area_ma"
         },
         {
          "dt": "2012-02-01T00:00:00",
          "value": 618,
          "variable": "Johor_Area_ma"
         },
         {
          "dt": "2012-03-01T00:00:00",
          "value": 618,
          "variable": "Johor_Area_ma"
         },
         {
          "dt": "2012-04-01T00:00:00",
          "value": 618,
          "variable": "Johor_Area_ma"
         },
         {
          "dt": "2012-05-01T00:00:00",
          "value": 618,
          "variable": "Johor_Area_ma"
         },
         {
          "dt": "2012-06-01T00:00:00",
          "value": 618,
          "variable": "Johor_Area_ma"
         },
         {
          "dt": "2012-07-01T00:00:00",
          "value": 618,
          "variable": "Johor_Area_ma"
         },
         {
          "dt": "2012-08-01T00:00:00",
          "value": 618,
          "variable": "Johor_Area_ma"
         },
         {
          "dt": "2012-09-01T00:00:00",
          "value": 618,
          "variable": "Johor_Area_ma"
         },
         {
          "dt": "2012-10-01T00:00:00",
          "value": 618,
          "variable": "Johor_Area_ma"
         },
         {
          "dt": "2012-11-01T00:00:00",
          "value": 618,
          "variable": "Johor_Area_ma"
         },
         {
          "dt": "2012-12-01T00:00:00",
          "value": 618,
          "variable": "Johor_Area_ma"
         },
         {
          "dt": "2013-01-01T00:00:00",
          "value": 640,
          "variable": "Johor_Area_ma"
         },
         {
          "dt": "2013-02-01T00:00:00",
          "value": 640,
          "variable": "Johor_Area_ma"
         },
         {
          "dt": "2013-03-01T00:00:00",
          "value": 640,
          "variable": "Johor_Area_ma"
         },
         {
          "dt": "2013-04-01T00:00:00",
          "value": 640,
          "variable": "Johor_Area_ma"
         },
         {
          "dt": "2013-05-01T00:00:00",
          "value": 640,
          "variable": "Johor_Area_ma"
         },
         {
          "dt": "2013-06-01T00:00:00",
          "value": 640,
          "variable": "Johor_Area_ma"
         },
         {
          "dt": "2013-07-01T00:00:00",
          "value": 640,
          "variable": "Johor_Area_ma"
         },
         {
          "dt": "2013-08-01T00:00:00",
          "value": 640,
          "variable": "Johor_Area_ma"
         },
         {
          "dt": "2013-09-01T00:00:00",
          "value": 640,
          "variable": "Johor_Area_ma"
         },
         {
          "dt": "2013-10-01T00:00:00",
          "value": 640,
          "variable": "Johor_Area_ma"
         },
         {
          "dt": "2013-11-01T00:00:00",
          "value": 640,
          "variable": "Johor_Area_ma"
         },
         {
          "dt": "2013-12-01T00:00:00",
          "value": 640,
          "variable": "Johor_Area_ma"
         },
         {
          "dt": "2014-01-01T00:00:00",
          "value": 651,
          "variable": "Johor_Area_ma"
         },
         {
          "dt": "2014-02-01T00:00:00",
          "value": 651,
          "variable": "Johor_Area_ma"
         },
         {
          "dt": "2014-03-01T00:00:00",
          "value": 651,
          "variable": "Johor_Area_ma"
         },
         {
          "dt": "2014-04-01T00:00:00",
          "value": 651,
          "variable": "Johor_Area_ma"
         },
         {
          "dt": "2014-05-01T00:00:00",
          "value": 651,
          "variable": "Johor_Area_ma"
         },
         {
          "dt": "2014-06-01T00:00:00",
          "value": 651,
          "variable": "Johor_Area_ma"
         },
         {
          "dt": "2014-07-01T00:00:00",
          "value": 651,
          "variable": "Johor_Area_ma"
         },
         {
          "dt": "2014-08-01T00:00:00",
          "value": 651,
          "variable": "Johor_Area_ma"
         },
         {
          "dt": "2014-09-01T00:00:00",
          "value": 651,
          "variable": "Johor_Area_ma"
         },
         {
          "dt": "2014-10-01T00:00:00",
          "value": 651,
          "variable": "Johor_Area_ma"
         },
         {
          "dt": "2014-11-01T00:00:00",
          "value": 651,
          "variable": "Johor_Area_ma"
         },
         {
          "dt": "2014-12-01T00:00:00",
          "value": 651,
          "variable": "Johor_Area_ma"
         },
         {
          "dt": "2015-01-01T00:00:00",
          "value": 666,
          "variable": "Johor_Area_ma"
         },
         {
          "dt": "2015-02-01T00:00:00",
          "value": 666,
          "variable": "Johor_Area_ma"
         },
         {
          "dt": "2015-03-01T00:00:00",
          "value": 666,
          "variable": "Johor_Area_ma"
         },
         {
          "dt": "2015-04-01T00:00:00",
          "value": 666,
          "variable": "Johor_Area_ma"
         },
         {
          "dt": "2015-05-01T00:00:00",
          "value": 666,
          "variable": "Johor_Area_ma"
         },
         {
          "dt": "2015-06-01T00:00:00",
          "value": 666,
          "variable": "Johor_Area_ma"
         },
         {
          "dt": "2015-07-01T00:00:00",
          "value": 666,
          "variable": "Johor_Area_ma"
         },
         {
          "dt": "2015-08-01T00:00:00",
          "value": 666,
          "variable": "Johor_Area_ma"
         },
         {
          "dt": "2015-09-01T00:00:00",
          "value": 666,
          "variable": "Johor_Area_ma"
         },
         {
          "dt": "2015-10-01T00:00:00",
          "value": 666,
          "variable": "Johor_Area_ma"
         },
         {
          "dt": "2015-11-01T00:00:00",
          "value": 666,
          "variable": "Johor_Area_ma"
         },
         {
          "dt": "2015-12-01T00:00:00",
          "value": 666,
          "variable": "Johor_Area_ma"
         },
         {
          "dt": "2016-01-01T00:00:00",
          "value": 679,
          "variable": "Johor_Area_ma"
         },
         {
          "dt": "2016-02-01T00:00:00",
          "value": 679,
          "variable": "Johor_Area_ma"
         },
         {
          "dt": "2016-03-01T00:00:00",
          "value": 679,
          "variable": "Johor_Area_ma"
         },
         {
          "dt": "2016-04-01T00:00:00",
          "value": 679,
          "variable": "Johor_Area_ma"
         },
         {
          "dt": "2016-05-01T00:00:00",
          "value": 679,
          "variable": "Johor_Area_ma"
         },
         {
          "dt": "2016-06-01T00:00:00",
          "value": 679,
          "variable": "Johor_Area_ma"
         },
         {
          "dt": "2016-07-01T00:00:00",
          "value": 679,
          "variable": "Johor_Area_ma"
         },
         {
          "dt": "2016-08-01T00:00:00",
          "value": 679,
          "variable": "Johor_Area_ma"
         },
         {
          "dt": "2016-09-01T00:00:00",
          "value": 679,
          "variable": "Johor_Area_ma"
         },
         {
          "dt": "2016-10-01T00:00:00",
          "value": 679,
          "variable": "Johor_Area_ma"
         },
         {
          "dt": "2016-11-01T00:00:00",
          "value": 679,
          "variable": "Johor_Area_ma"
         },
         {
          "dt": "2016-12-01T00:00:00",
          "value": 679,
          "variable": "Johor_Area_ma"
         },
         {
          "dt": "2017-01-01T00:00:00",
          "value": 614.6315789473684,
          "variable": "Johor_Area_ma"
         },
         {
          "dt": "2017-02-01T00:00:00",
          "value": 614.6315789473684,
          "variable": "Johor_Area_ma"
         },
         {
          "dt": "2017-03-01T00:00:00",
          "value": 614.6315789473684,
          "variable": "Johor_Area_ma"
         },
         {
          "dt": "2017-04-01T00:00:00",
          "value": 614.6315789473684,
          "variable": "Johor_Area_ma"
         },
         {
          "dt": "2017-05-01T00:00:00",
          "value": 614.6315789473684,
          "variable": "Johor_Area_ma"
         },
         {
          "dt": "2017-06-01T00:00:00",
          "value": 614.6315789473684,
          "variable": "Johor_Area_ma"
         },
         {
          "dt": "2017-07-01T00:00:00",
          "value": 614.6315789473684,
          "variable": "Johor_Area_ma"
         },
         {
          "dt": "2017-08-01T00:00:00",
          "value": 614.6315789473684,
          "variable": "Johor_Area_ma"
         },
         {
          "dt": "2017-09-01T00:00:00",
          "value": 614.6315789473684,
          "variable": "Johor_Area_ma"
         },
         {
          "dt": "1999-02-01T00:00:00",
          "value": 613,
          "variable": "Johor_Area_npa"
         },
         {
          "dt": "1999-03-01T00:00:00",
          "value": 613,
          "variable": "Johor_Area_npa"
         },
         {
          "dt": "1999-04-01T00:00:00",
          "value": 613,
          "variable": "Johor_Area_npa"
         },
         {
          "dt": "1999-05-01T00:00:00",
          "value": 613,
          "variable": "Johor_Area_npa"
         },
         {
          "dt": "1999-06-01T00:00:00",
          "value": 613,
          "variable": "Johor_Area_npa"
         },
         {
          "dt": "1999-07-01T00:00:00",
          "value": 613,
          "variable": "Johor_Area_npa"
         },
         {
          "dt": "1999-08-01T00:00:00",
          "value": 613,
          "variable": "Johor_Area_npa"
         },
         {
          "dt": "1999-09-01T00:00:00",
          "value": 613,
          "variable": "Johor_Area_npa"
         },
         {
          "dt": "1999-10-01T00:00:00",
          "value": 613,
          "variable": "Johor_Area_npa"
         },
         {
          "dt": "1999-11-01T00:00:00",
          "value": 613,
          "variable": "Johor_Area_npa"
         },
         {
          "dt": "1999-12-01T00:00:00",
          "value": 613,
          "variable": "Johor_Area_npa"
         },
         {
          "dt": "2000-01-01T00:00:00",
          "value": 635,
          "variable": "Johor_Area_npa"
         },
         {
          "dt": "2000-02-01T00:00:00",
          "value": 635,
          "variable": "Johor_Area_npa"
         },
         {
          "dt": "2000-03-01T00:00:00",
          "value": 635,
          "variable": "Johor_Area_npa"
         },
         {
          "dt": "2000-04-01T00:00:00",
          "value": 635,
          "variable": "Johor_Area_npa"
         },
         {
          "dt": "2000-05-01T00:00:00",
          "value": 635,
          "variable": "Johor_Area_npa"
         },
         {
          "dt": "2000-06-01T00:00:00",
          "value": 635,
          "variable": "Johor_Area_npa"
         },
         {
          "dt": "2000-07-01T00:00:00",
          "value": 635,
          "variable": "Johor_Area_npa"
         },
         {
          "dt": "2000-08-01T00:00:00",
          "value": 635,
          "variable": "Johor_Area_npa"
         },
         {
          "dt": "2000-09-01T00:00:00",
          "value": 635,
          "variable": "Johor_Area_npa"
         },
         {
          "dt": "2000-10-01T00:00:00",
          "value": 635,
          "variable": "Johor_Area_npa"
         },
         {
          "dt": "2000-11-01T00:00:00",
          "value": 635,
          "variable": "Johor_Area_npa"
         },
         {
          "dt": "2000-12-01T00:00:00",
          "value": 635,
          "variable": "Johor_Area_npa"
         },
         {
          "dt": "2001-01-01T00:00:00",
          "value": 637,
          "variable": "Johor_Area_npa"
         },
         {
          "dt": "2001-02-01T00:00:00",
          "value": 637,
          "variable": "Johor_Area_npa"
         },
         {
          "dt": "2001-03-01T00:00:00",
          "value": 637,
          "variable": "Johor_Area_npa"
         },
         {
          "dt": "2001-04-01T00:00:00",
          "value": 637,
          "variable": "Johor_Area_npa"
         },
         {
          "dt": "2001-05-01T00:00:00",
          "value": 637,
          "variable": "Johor_Area_npa"
         },
         {
          "dt": "2001-06-01T00:00:00",
          "value": 637,
          "variable": "Johor_Area_npa"
         },
         {
          "dt": "2001-07-01T00:00:00",
          "value": 637,
          "variable": "Johor_Area_npa"
         },
         {
          "dt": "2001-08-01T00:00:00",
          "value": 637,
          "variable": "Johor_Area_npa"
         },
         {
          "dt": "2001-09-01T00:00:00",
          "value": 637,
          "variable": "Johor_Area_npa"
         },
         {
          "dt": "2001-10-01T00:00:00",
          "value": 637,
          "variable": "Johor_Area_npa"
         },
         {
          "dt": "2001-11-01T00:00:00",
          "value": 637,
          "variable": "Johor_Area_npa"
         },
         {
          "dt": "2001-12-01T00:00:00",
          "value": 637,
          "variable": "Johor_Area_npa"
         },
         {
          "dt": "2002-01-01T00:00:00",
          "value": 664,
          "variable": "Johor_Area_npa"
         },
         {
          "dt": "2002-02-01T00:00:00",
          "value": 664,
          "variable": "Johor_Area_npa"
         },
         {
          "dt": "2002-03-01T00:00:00",
          "value": 664,
          "variable": "Johor_Area_npa"
         },
         {
          "dt": "2002-04-01T00:00:00",
          "value": 664,
          "variable": "Johor_Area_npa"
         },
         {
          "dt": "2002-05-01T00:00:00",
          "value": 664,
          "variable": "Johor_Area_npa"
         },
         {
          "dt": "2002-06-01T00:00:00",
          "value": 664,
          "variable": "Johor_Area_npa"
         },
         {
          "dt": "2002-07-01T00:00:00",
          "value": 664,
          "variable": "Johor_Area_npa"
         },
         {
          "dt": "2002-08-01T00:00:00",
          "value": 664,
          "variable": "Johor_Area_npa"
         },
         {
          "dt": "2002-09-01T00:00:00",
          "value": 664,
          "variable": "Johor_Area_npa"
         },
         {
          "dt": "2002-10-01T00:00:00",
          "value": 664,
          "variable": "Johor_Area_npa"
         },
         {
          "dt": "2002-11-01T00:00:00",
          "value": 664,
          "variable": "Johor_Area_npa"
         },
         {
          "dt": "2002-12-01T00:00:00",
          "value": 664,
          "variable": "Johor_Area_npa"
         },
         {
          "dt": "2003-01-01T00:00:00",
          "value": 660,
          "variable": "Johor_Area_npa"
         },
         {
          "dt": "2003-02-01T00:00:00",
          "value": 660,
          "variable": "Johor_Area_npa"
         },
         {
          "dt": "2003-03-01T00:00:00",
          "value": 660,
          "variable": "Johor_Area_npa"
         },
         {
          "dt": "2003-04-01T00:00:00",
          "value": 660,
          "variable": "Johor_Area_npa"
         },
         {
          "dt": "2003-05-01T00:00:00",
          "value": 660,
          "variable": "Johor_Area_npa"
         },
         {
          "dt": "2003-06-01T00:00:00",
          "value": 660,
          "variable": "Johor_Area_npa"
         },
         {
          "dt": "2003-07-01T00:00:00",
          "value": 660,
          "variable": "Johor_Area_npa"
         },
         {
          "dt": "2003-08-01T00:00:00",
          "value": 660,
          "variable": "Johor_Area_npa"
         },
         {
          "dt": "2003-09-01T00:00:00",
          "value": 660,
          "variable": "Johor_Area_npa"
         },
         {
          "dt": "2003-10-01T00:00:00",
          "value": 660,
          "variable": "Johor_Area_npa"
         },
         {
          "dt": "2003-11-01T00:00:00",
          "value": 660,
          "variable": "Johor_Area_npa"
         },
         {
          "dt": "2003-12-01T00:00:00",
          "value": 660,
          "variable": "Johor_Area_npa"
         },
         {
          "dt": "2004-01-01T00:00:00",
          "value": 666,
          "variable": "Johor_Area_npa"
         },
         {
          "dt": "2004-02-01T00:00:00",
          "value": 666,
          "variable": "Johor_Area_npa"
         },
         {
          "dt": "2004-03-01T00:00:00",
          "value": 666,
          "variable": "Johor_Area_npa"
         },
         {
          "dt": "2004-04-01T00:00:00",
          "value": 666,
          "variable": "Johor_Area_npa"
         },
         {
          "dt": "2004-05-01T00:00:00",
          "value": 666,
          "variable": "Johor_Area_npa"
         },
         {
          "dt": "2004-06-01T00:00:00",
          "value": 666,
          "variable": "Johor_Area_npa"
         },
         {
          "dt": "2004-07-01T00:00:00",
          "value": 666,
          "variable": "Johor_Area_npa"
         },
         {
          "dt": "2004-08-01T00:00:00",
          "value": 666,
          "variable": "Johor_Area_npa"
         },
         {
          "dt": "2004-09-01T00:00:00",
          "value": 666,
          "variable": "Johor_Area_npa"
         },
         {
          "dt": "2004-10-01T00:00:00",
          "value": 666,
          "variable": "Johor_Area_npa"
         },
         {
          "dt": "2004-11-01T00:00:00",
          "value": 666,
          "variable": "Johor_Area_npa"
         },
         {
          "dt": "2004-12-01T00:00:00",
          "value": 666,
          "variable": "Johor_Area_npa"
         },
         {
          "dt": "2005-01-01T00:00:00",
          "value": 668,
          "variable": "Johor_Area_npa"
         },
         {
          "dt": "2005-02-01T00:00:00",
          "value": 668,
          "variable": "Johor_Area_npa"
         },
         {
          "dt": "2005-03-01T00:00:00",
          "value": 668,
          "variable": "Johor_Area_npa"
         },
         {
          "dt": "2005-04-01T00:00:00",
          "value": 668,
          "variable": "Johor_Area_npa"
         },
         {
          "dt": "2005-05-01T00:00:00",
          "value": 668,
          "variable": "Johor_Area_npa"
         },
         {
          "dt": "2005-06-01T00:00:00",
          "value": 668,
          "variable": "Johor_Area_npa"
         },
         {
          "dt": "2005-07-01T00:00:00",
          "value": 668,
          "variable": "Johor_Area_npa"
         },
         {
          "dt": "2005-08-01T00:00:00",
          "value": 668,
          "variable": "Johor_Area_npa"
         },
         {
          "dt": "2005-09-01T00:00:00",
          "value": 668,
          "variable": "Johor_Area_npa"
         },
         {
          "dt": "2005-10-01T00:00:00",
          "value": 668,
          "variable": "Johor_Area_npa"
         },
         {
          "dt": "2005-11-01T00:00:00",
          "value": 668,
          "variable": "Johor_Area_npa"
         },
         {
          "dt": "2005-12-01T00:00:00",
          "value": 668,
          "variable": "Johor_Area_npa"
         },
         {
          "dt": "2006-01-01T00:00:00",
          "value": 671,
          "variable": "Johor_Area_npa"
         },
         {
          "dt": "2006-02-01T00:00:00",
          "value": 671,
          "variable": "Johor_Area_npa"
         },
         {
          "dt": "2006-03-01T00:00:00",
          "value": 671,
          "variable": "Johor_Area_npa"
         },
         {
          "dt": "2006-04-01T00:00:00",
          "value": 671,
          "variable": "Johor_Area_npa"
         },
         {
          "dt": "2006-05-01T00:00:00",
          "value": 671,
          "variable": "Johor_Area_npa"
         },
         {
          "dt": "2006-06-01T00:00:00",
          "value": 671,
          "variable": "Johor_Area_npa"
         },
         {
          "dt": "2006-07-01T00:00:00",
          "value": 671,
          "variable": "Johor_Area_npa"
         },
         {
          "dt": "2006-08-01T00:00:00",
          "value": 671,
          "variable": "Johor_Area_npa"
         },
         {
          "dt": "2006-09-01T00:00:00",
          "value": 671,
          "variable": "Johor_Area_npa"
         },
         {
          "dt": "2006-10-01T00:00:00",
          "value": 671,
          "variable": "Johor_Area_npa"
         },
         {
          "dt": "2006-11-01T00:00:00",
          "value": 671,
          "variable": "Johor_Area_npa"
         },
         {
          "dt": "2006-12-01T00:00:00",
          "value": 671,
          "variable": "Johor_Area_npa"
         },
         {
          "dt": "2007-01-01T00:00:00",
          "value": 671,
          "variable": "Johor_Area_npa"
         },
         {
          "dt": "2007-02-01T00:00:00",
          "value": 671,
          "variable": "Johor_Area_npa"
         },
         {
          "dt": "2007-03-01T00:00:00",
          "value": 671,
          "variable": "Johor_Area_npa"
         },
         {
          "dt": "2007-04-01T00:00:00",
          "value": 671,
          "variable": "Johor_Area_npa"
         },
         {
          "dt": "2007-05-01T00:00:00",
          "value": 671,
          "variable": "Johor_Area_npa"
         },
         {
          "dt": "2007-06-01T00:00:00",
          "value": 671,
          "variable": "Johor_Area_npa"
         },
         {
          "dt": "2007-07-01T00:00:00",
          "value": 671,
          "variable": "Johor_Area_npa"
         },
         {
          "dt": "2007-08-01T00:00:00",
          "value": 671,
          "variable": "Johor_Area_npa"
         },
         {
          "dt": "2007-09-01T00:00:00",
          "value": 671,
          "variable": "Johor_Area_npa"
         },
         {
          "dt": "2007-10-01T00:00:00",
          "value": 671,
          "variable": "Johor_Area_npa"
         },
         {
          "dt": "2007-11-01T00:00:00",
          "value": 671,
          "variable": "Johor_Area_npa"
         },
         {
          "dt": "2007-12-01T00:00:00",
          "value": 671,
          "variable": "Johor_Area_npa"
         },
         {
          "dt": "2008-01-01T00:00:00",
          "value": 688,
          "variable": "Johor_Area_npa"
         },
         {
          "dt": "2008-02-01T00:00:00",
          "value": 688,
          "variable": "Johor_Area_npa"
         },
         {
          "dt": "2008-03-01T00:00:00",
          "value": 688,
          "variable": "Johor_Area_npa"
         },
         {
          "dt": "2008-04-01T00:00:00",
          "value": 688,
          "variable": "Johor_Area_npa"
         },
         {
          "dt": "2008-05-01T00:00:00",
          "value": 688,
          "variable": "Johor_Area_npa"
         },
         {
          "dt": "2008-06-01T00:00:00",
          "value": 688,
          "variable": "Johor_Area_npa"
         },
         {
          "dt": "2008-07-01T00:00:00",
          "value": 688,
          "variable": "Johor_Area_npa"
         },
         {
          "dt": "2008-08-01T00:00:00",
          "value": 688,
          "variable": "Johor_Area_npa"
         },
         {
          "dt": "2008-09-01T00:00:00",
          "value": 688,
          "variable": "Johor_Area_npa"
         },
         {
          "dt": "2008-10-01T00:00:00",
          "value": 688,
          "variable": "Johor_Area_npa"
         },
         {
          "dt": "2008-11-01T00:00:00",
          "value": 688,
          "variable": "Johor_Area_npa"
         },
         {
          "dt": "2008-12-01T00:00:00",
          "value": 688,
          "variable": "Johor_Area_npa"
         },
         {
          "dt": "2009-01-01T00:00:00",
          "value": 712,
          "variable": "Johor_Area_npa"
         },
         {
          "dt": "2009-02-01T00:00:00",
          "value": 712,
          "variable": "Johor_Area_npa"
         },
         {
          "dt": "2009-03-01T00:00:00",
          "value": 712,
          "variable": "Johor_Area_npa"
         },
         {
          "dt": "2009-04-01T00:00:00",
          "value": 712,
          "variable": "Johor_Area_npa"
         },
         {
          "dt": "2009-05-01T00:00:00",
          "value": 712,
          "variable": "Johor_Area_npa"
         },
         {
          "dt": "2009-06-01T00:00:00",
          "value": 712,
          "variable": "Johor_Area_npa"
         },
         {
          "dt": "2009-07-01T00:00:00",
          "value": 712,
          "variable": "Johor_Area_npa"
         },
         {
          "dt": "2009-08-01T00:00:00",
          "value": 712,
          "variable": "Johor_Area_npa"
         },
         {
          "dt": "2009-09-01T00:00:00",
          "value": 712,
          "variable": "Johor_Area_npa"
         },
         {
          "dt": "2009-10-01T00:00:00",
          "value": 712,
          "variable": "Johor_Area_npa"
         },
         {
          "dt": "2009-11-01T00:00:00",
          "value": 712,
          "variable": "Johor_Area_npa"
         },
         {
          "dt": "2009-12-01T00:00:00",
          "value": 712,
          "variable": "Johor_Area_npa"
         },
         {
          "dt": "2010-01-01T00:00:00",
          "value": 717,
          "variable": "Johor_Area_npa"
         },
         {
          "dt": "2010-02-01T00:00:00",
          "value": 717,
          "variable": "Johor_Area_npa"
         },
         {
          "dt": "2010-03-01T00:00:00",
          "value": 717,
          "variable": "Johor_Area_npa"
         },
         {
          "dt": "2010-04-01T00:00:00",
          "value": 717,
          "variable": "Johor_Area_npa"
         },
         {
          "dt": "2010-05-01T00:00:00",
          "value": 717,
          "variable": "Johor_Area_npa"
         },
         {
          "dt": "2010-06-01T00:00:00",
          "value": 717,
          "variable": "Johor_Area_npa"
         },
         {
          "dt": "2010-07-01T00:00:00",
          "value": 717,
          "variable": "Johor_Area_npa"
         },
         {
          "dt": "2010-08-01T00:00:00",
          "value": 717,
          "variable": "Johor_Area_npa"
         },
         {
          "dt": "2010-09-01T00:00:00",
          "value": 717,
          "variable": "Johor_Area_npa"
         },
         {
          "dt": "2010-10-01T00:00:00",
          "value": 717,
          "variable": "Johor_Area_npa"
         },
         {
          "dt": "2010-11-01T00:00:00",
          "value": 717,
          "variable": "Johor_Area_npa"
         },
         {
          "dt": "2010-12-01T00:00:00",
          "value": 717,
          "variable": "Johor_Area_npa"
         },
         {
          "dt": "2011-01-01T00:00:00",
          "value": 721,
          "variable": "Johor_Area_npa"
         },
         {
          "dt": "2011-02-01T00:00:00",
          "value": 721,
          "variable": "Johor_Area_npa"
         },
         {
          "dt": "2011-03-01T00:00:00",
          "value": 721,
          "variable": "Johor_Area_npa"
         },
         {
          "dt": "2011-04-01T00:00:00",
          "value": 721,
          "variable": "Johor_Area_npa"
         },
         {
          "dt": "2011-05-01T00:00:00",
          "value": 721,
          "variable": "Johor_Area_npa"
         },
         {
          "dt": "2011-06-01T00:00:00",
          "value": 721,
          "variable": "Johor_Area_npa"
         },
         {
          "dt": "2011-07-01T00:00:00",
          "value": 721,
          "variable": "Johor_Area_npa"
         },
         {
          "dt": "2011-08-01T00:00:00",
          "value": 721,
          "variable": "Johor_Area_npa"
         },
         {
          "dt": "2011-09-01T00:00:00",
          "value": 721,
          "variable": "Johor_Area_npa"
         },
         {
          "dt": "2011-10-01T00:00:00",
          "value": 721,
          "variable": "Johor_Area_npa"
         },
         {
          "dt": "2011-11-01T00:00:00",
          "value": 721,
          "variable": "Johor_Area_npa"
         },
         {
          "dt": "2011-12-01T00:00:00",
          "value": 721,
          "variable": "Johor_Area_npa"
         },
         {
          "dt": "2012-01-01T00:00:00",
          "value": 714,
          "variable": "Johor_Area_npa"
         },
         {
          "dt": "2012-02-01T00:00:00",
          "value": 714,
          "variable": "Johor_Area_npa"
         },
         {
          "dt": "2012-03-01T00:00:00",
          "value": 714,
          "variable": "Johor_Area_npa"
         },
         {
          "dt": "2012-04-01T00:00:00",
          "value": 714,
          "variable": "Johor_Area_npa"
         },
         {
          "dt": "2012-05-01T00:00:00",
          "value": 714,
          "variable": "Johor_Area_npa"
         },
         {
          "dt": "2012-06-01T00:00:00",
          "value": 714,
          "variable": "Johor_Area_npa"
         },
         {
          "dt": "2012-07-01T00:00:00",
          "value": 714,
          "variable": "Johor_Area_npa"
         },
         {
          "dt": "2012-08-01T00:00:00",
          "value": 714,
          "variable": "Johor_Area_npa"
         },
         {
          "dt": "2012-09-01T00:00:00",
          "value": 714,
          "variable": "Johor_Area_npa"
         },
         {
          "dt": "2012-10-01T00:00:00",
          "value": 714,
          "variable": "Johor_Area_npa"
         },
         {
          "dt": "2012-11-01T00:00:00",
          "value": 714,
          "variable": "Johor_Area_npa"
         },
         {
          "dt": "2012-12-01T00:00:00",
          "value": 714,
          "variable": "Johor_Area_npa"
         },
         {
          "dt": "2013-01-01T00:00:00",
          "value": 731,
          "variable": "Johor_Area_npa"
         },
         {
          "dt": "2013-02-01T00:00:00",
          "value": 731,
          "variable": "Johor_Area_npa"
         },
         {
          "dt": "2013-03-01T00:00:00",
          "value": 731,
          "variable": "Johor_Area_npa"
         },
         {
          "dt": "2013-04-01T00:00:00",
          "value": 731,
          "variable": "Johor_Area_npa"
         },
         {
          "dt": "2013-05-01T00:00:00",
          "value": 731,
          "variable": "Johor_Area_npa"
         },
         {
          "dt": "2013-06-01T00:00:00",
          "value": 731,
          "variable": "Johor_Area_npa"
         },
         {
          "dt": "2013-07-01T00:00:00",
          "value": 731,
          "variable": "Johor_Area_npa"
         },
         {
          "dt": "2013-08-01T00:00:00",
          "value": 731,
          "variable": "Johor_Area_npa"
         },
         {
          "dt": "2013-09-01T00:00:00",
          "value": 731,
          "variable": "Johor_Area_npa"
         },
         {
          "dt": "2013-10-01T00:00:00",
          "value": 731,
          "variable": "Johor_Area_npa"
         },
         {
          "dt": "2013-11-01T00:00:00",
          "value": 731,
          "variable": "Johor_Area_npa"
         },
         {
          "dt": "2013-12-01T00:00:00",
          "value": 731,
          "variable": "Johor_Area_npa"
         },
         {
          "dt": "2014-01-01T00:00:00",
          "value": 733,
          "variable": "Johor_Area_npa"
         },
         {
          "dt": "2014-02-01T00:00:00",
          "value": 733,
          "variable": "Johor_Area_npa"
         },
         {
          "dt": "2014-03-01T00:00:00",
          "value": 733,
          "variable": "Johor_Area_npa"
         },
         {
          "dt": "2014-04-01T00:00:00",
          "value": 733,
          "variable": "Johor_Area_npa"
         },
         {
          "dt": "2014-05-01T00:00:00",
          "value": 733,
          "variable": "Johor_Area_npa"
         },
         {
          "dt": "2014-06-01T00:00:00",
          "value": 733,
          "variable": "Johor_Area_npa"
         },
         {
          "dt": "2014-07-01T00:00:00",
          "value": 733,
          "variable": "Johor_Area_npa"
         },
         {
          "dt": "2014-08-01T00:00:00",
          "value": 733,
          "variable": "Johor_Area_npa"
         },
         {
          "dt": "2014-09-01T00:00:00",
          "value": 733,
          "variable": "Johor_Area_npa"
         },
         {
          "dt": "2014-10-01T00:00:00",
          "value": 733,
          "variable": "Johor_Area_npa"
         },
         {
          "dt": "2014-11-01T00:00:00",
          "value": 733,
          "variable": "Johor_Area_npa"
         },
         {
          "dt": "2014-12-01T00:00:00",
          "value": 733,
          "variable": "Johor_Area_npa"
         },
         {
          "dt": "2015-01-01T00:00:00",
          "value": 740,
          "variable": "Johor_Area_npa"
         },
         {
          "dt": "2015-02-01T00:00:00",
          "value": 740,
          "variable": "Johor_Area_npa"
         },
         {
          "dt": "2015-03-01T00:00:00",
          "value": 740,
          "variable": "Johor_Area_npa"
         },
         {
          "dt": "2015-04-01T00:00:00",
          "value": 740,
          "variable": "Johor_Area_npa"
         },
         {
          "dt": "2015-05-01T00:00:00",
          "value": 740,
          "variable": "Johor_Area_npa"
         },
         {
          "dt": "2015-06-01T00:00:00",
          "value": 740,
          "variable": "Johor_Area_npa"
         },
         {
          "dt": "2015-07-01T00:00:00",
          "value": 740,
          "variable": "Johor_Area_npa"
         },
         {
          "dt": "2015-08-01T00:00:00",
          "value": 740,
          "variable": "Johor_Area_npa"
         },
         {
          "dt": "2015-09-01T00:00:00",
          "value": 740,
          "variable": "Johor_Area_npa"
         },
         {
          "dt": "2015-10-01T00:00:00",
          "value": 740,
          "variable": "Johor_Area_npa"
         },
         {
          "dt": "2015-11-01T00:00:00",
          "value": 740,
          "variable": "Johor_Area_npa"
         },
         {
          "dt": "2015-12-01T00:00:00",
          "value": 740,
          "variable": "Johor_Area_npa"
         },
         {
          "dt": "2016-01-01T00:00:00",
          "value": 746,
          "variable": "Johor_Area_npa"
         },
         {
          "dt": "2016-02-01T00:00:00",
          "value": 746,
          "variable": "Johor_Area_npa"
         },
         {
          "dt": "2016-03-01T00:00:00",
          "value": 746,
          "variable": "Johor_Area_npa"
         },
         {
          "dt": "2016-04-01T00:00:00",
          "value": 746,
          "variable": "Johor_Area_npa"
         },
         {
          "dt": "2016-05-01T00:00:00",
          "value": 746,
          "variable": "Johor_Area_npa"
         },
         {
          "dt": "2016-06-01T00:00:00",
          "value": 746,
          "variable": "Johor_Area_npa"
         },
         {
          "dt": "2016-07-01T00:00:00",
          "value": 746,
          "variable": "Johor_Area_npa"
         },
         {
          "dt": "2016-08-01T00:00:00",
          "value": 746,
          "variable": "Johor_Area_npa"
         },
         {
          "dt": "2016-09-01T00:00:00",
          "value": 746,
          "variable": "Johor_Area_npa"
         },
         {
          "dt": "2016-10-01T00:00:00",
          "value": 746,
          "variable": "Johor_Area_npa"
         },
         {
          "dt": "2016-11-01T00:00:00",
          "value": 746,
          "variable": "Johor_Area_npa"
         },
         {
          "dt": "2016-12-01T00:00:00",
          "value": 746,
          "variable": "Johor_Area_npa"
         },
         {
          "dt": "2017-01-01T00:00:00",
          "value": 683.6842105263158,
          "variable": "Johor_Area_npa"
         },
         {
          "dt": "2017-02-01T00:00:00",
          "value": 683.6842105263158,
          "variable": "Johor_Area_npa"
         },
         {
          "dt": "2017-03-01T00:00:00",
          "value": 683.6842105263158,
          "variable": "Johor_Area_npa"
         },
         {
          "dt": "2017-04-01T00:00:00",
          "value": 683.6842105263158,
          "variable": "Johor_Area_npa"
         },
         {
          "dt": "2017-05-01T00:00:00",
          "value": 683.6842105263158,
          "variable": "Johor_Area_npa"
         },
         {
          "dt": "2017-06-01T00:00:00",
          "value": 683.6842105263158,
          "variable": "Johor_Area_npa"
         },
         {
          "dt": "2017-07-01T00:00:00",
          "value": 683.6842105263158,
          "variable": "Johor_Area_npa"
         },
         {
          "dt": "2017-08-01T00:00:00",
          "value": 683.6842105263158,
          "variable": "Johor_Area_npa"
         },
         {
          "dt": "2017-09-01T00:00:00",
          "value": 683.6842105263158,
          "variable": "Johor_Area_npa"
         },
         {
          "dt": "1999-02-01T00:00:00",
          "value": 7,
          "variable": "Johor_Area_rpa"
         },
         {
          "dt": "1999-03-01T00:00:00",
          "value": 7,
          "variable": "Johor_Area_rpa"
         },
         {
          "dt": "1999-04-01T00:00:00",
          "value": 7,
          "variable": "Johor_Area_rpa"
         },
         {
          "dt": "1999-05-01T00:00:00",
          "value": 7,
          "variable": "Johor_Area_rpa"
         },
         {
          "dt": "1999-06-01T00:00:00",
          "value": 7,
          "variable": "Johor_Area_rpa"
         },
         {
          "dt": "1999-07-01T00:00:00",
          "value": 7,
          "variable": "Johor_Area_rpa"
         },
         {
          "dt": "1999-08-01T00:00:00",
          "value": 7,
          "variable": "Johor_Area_rpa"
         },
         {
          "dt": "1999-09-01T00:00:00",
          "value": 7,
          "variable": "Johor_Area_rpa"
         },
         {
          "dt": "1999-10-01T00:00:00",
          "value": 7,
          "variable": "Johor_Area_rpa"
         },
         {
          "dt": "1999-11-01T00:00:00",
          "value": 7,
          "variable": "Johor_Area_rpa"
         },
         {
          "dt": "1999-12-01T00:00:00",
          "value": 7,
          "variable": "Johor_Area_rpa"
         },
         {
          "dt": "2000-01-01T00:00:00",
          "value": 9,
          "variable": "Johor_Area_rpa"
         },
         {
          "dt": "2000-02-01T00:00:00",
          "value": 9,
          "variable": "Johor_Area_rpa"
         },
         {
          "dt": "2000-03-01T00:00:00",
          "value": 9,
          "variable": "Johor_Area_rpa"
         },
         {
          "dt": "2000-04-01T00:00:00",
          "value": 9,
          "variable": "Johor_Area_rpa"
         },
         {
          "dt": "2000-05-01T00:00:00",
          "value": 9,
          "variable": "Johor_Area_rpa"
         },
         {
          "dt": "2000-06-01T00:00:00",
          "value": 9,
          "variable": "Johor_Area_rpa"
         },
         {
          "dt": "2000-07-01T00:00:00",
          "value": 9,
          "variable": "Johor_Area_rpa"
         },
         {
          "dt": "2000-08-01T00:00:00",
          "value": 9,
          "variable": "Johor_Area_rpa"
         },
         {
          "dt": "2000-09-01T00:00:00",
          "value": 9,
          "variable": "Johor_Area_rpa"
         },
         {
          "dt": "2000-10-01T00:00:00",
          "value": 9,
          "variable": "Johor_Area_rpa"
         },
         {
          "dt": "2000-11-01T00:00:00",
          "value": 9,
          "variable": "Johor_Area_rpa"
         },
         {
          "dt": "2000-12-01T00:00:00",
          "value": 9,
          "variable": "Johor_Area_rpa"
         },
         {
          "dt": "2001-01-01T00:00:00",
          "value": 15,
          "variable": "Johor_Area_rpa"
         },
         {
          "dt": "2001-02-01T00:00:00",
          "value": 15,
          "variable": "Johor_Area_rpa"
         },
         {
          "dt": "2001-03-01T00:00:00",
          "value": 15,
          "variable": "Johor_Area_rpa"
         },
         {
          "dt": "2001-04-01T00:00:00",
          "value": 15,
          "variable": "Johor_Area_rpa"
         },
         {
          "dt": "2001-05-01T00:00:00",
          "value": 15,
          "variable": "Johor_Area_rpa"
         },
         {
          "dt": "2001-06-01T00:00:00",
          "value": 15,
          "variable": "Johor_Area_rpa"
         },
         {
          "dt": "2001-07-01T00:00:00",
          "value": 15,
          "variable": "Johor_Area_rpa"
         },
         {
          "dt": "2001-08-01T00:00:00",
          "value": 15,
          "variable": "Johor_Area_rpa"
         },
         {
          "dt": "2001-09-01T00:00:00",
          "value": 15,
          "variable": "Johor_Area_rpa"
         },
         {
          "dt": "2001-10-01T00:00:00",
          "value": 15,
          "variable": "Johor_Area_rpa"
         },
         {
          "dt": "2001-11-01T00:00:00",
          "value": 15,
          "variable": "Johor_Area_rpa"
         },
         {
          "dt": "2001-12-01T00:00:00",
          "value": 15,
          "variable": "Johor_Area_rpa"
         },
         {
          "dt": "2002-01-01T00:00:00",
          "value": 16,
          "variable": "Johor_Area_rpa"
         },
         {
          "dt": "2002-02-01T00:00:00",
          "value": 16,
          "variable": "Johor_Area_rpa"
         },
         {
          "dt": "2002-03-01T00:00:00",
          "value": 16,
          "variable": "Johor_Area_rpa"
         },
         {
          "dt": "2002-04-01T00:00:00",
          "value": 16,
          "variable": "Johor_Area_rpa"
         },
         {
          "dt": "2002-05-01T00:00:00",
          "value": 16,
          "variable": "Johor_Area_rpa"
         },
         {
          "dt": "2002-06-01T00:00:00",
          "value": 16,
          "variable": "Johor_Area_rpa"
         },
         {
          "dt": "2002-07-01T00:00:00",
          "value": 16,
          "variable": "Johor_Area_rpa"
         },
         {
          "dt": "2002-08-01T00:00:00",
          "value": 16,
          "variable": "Johor_Area_rpa"
         },
         {
          "dt": "2002-09-01T00:00:00",
          "value": 16,
          "variable": "Johor_Area_rpa"
         },
         {
          "dt": "2002-10-01T00:00:00",
          "value": 16,
          "variable": "Johor_Area_rpa"
         },
         {
          "dt": "2002-11-01T00:00:00",
          "value": 16,
          "variable": "Johor_Area_rpa"
         },
         {
          "dt": "2002-12-01T00:00:00",
          "value": 16,
          "variable": "Johor_Area_rpa"
         },
         {
          "dt": "2003-01-01T00:00:00",
          "value": 11,
          "variable": "Johor_Area_rpa"
         },
         {
          "dt": "2003-02-01T00:00:00",
          "value": 11,
          "variable": "Johor_Area_rpa"
         },
         {
          "dt": "2003-03-01T00:00:00",
          "value": 11,
          "variable": "Johor_Area_rpa"
         },
         {
          "dt": "2003-04-01T00:00:00",
          "value": 11,
          "variable": "Johor_Area_rpa"
         },
         {
          "dt": "2003-05-01T00:00:00",
          "value": 11,
          "variable": "Johor_Area_rpa"
         },
         {
          "dt": "2003-06-01T00:00:00",
          "value": 11,
          "variable": "Johor_Area_rpa"
         },
         {
          "dt": "2003-07-01T00:00:00",
          "value": 11,
          "variable": "Johor_Area_rpa"
         },
         {
          "dt": "2003-08-01T00:00:00",
          "value": 11,
          "variable": "Johor_Area_rpa"
         },
         {
          "dt": "2003-09-01T00:00:00",
          "value": 11,
          "variable": "Johor_Area_rpa"
         },
         {
          "dt": "2003-10-01T00:00:00",
          "value": 11,
          "variable": "Johor_Area_rpa"
         },
         {
          "dt": "2003-11-01T00:00:00",
          "value": 11,
          "variable": "Johor_Area_rpa"
         },
         {
          "dt": "2003-12-01T00:00:00",
          "value": 11,
          "variable": "Johor_Area_rpa"
         },
         {
          "dt": "2004-01-01T00:00:00",
          "value": 16,
          "variable": "Johor_Area_rpa"
         },
         {
          "dt": "2004-02-01T00:00:00",
          "value": 16,
          "variable": "Johor_Area_rpa"
         },
         {
          "dt": "2004-03-01T00:00:00",
          "value": 16,
          "variable": "Johor_Area_rpa"
         },
         {
          "dt": "2004-04-01T00:00:00",
          "value": 16,
          "variable": "Johor_Area_rpa"
         },
         {
          "dt": "2004-05-01T00:00:00",
          "value": 16,
          "variable": "Johor_Area_rpa"
         },
         {
          "dt": "2004-06-01T00:00:00",
          "value": 16,
          "variable": "Johor_Area_rpa"
         },
         {
          "dt": "2004-07-01T00:00:00",
          "value": 16,
          "variable": "Johor_Area_rpa"
         },
         {
          "dt": "2004-08-01T00:00:00",
          "value": 16,
          "variable": "Johor_Area_rpa"
         },
         {
          "dt": "2004-09-01T00:00:00",
          "value": 16,
          "variable": "Johor_Area_rpa"
         },
         {
          "dt": "2004-10-01T00:00:00",
          "value": 16,
          "variable": "Johor_Area_rpa"
         },
         {
          "dt": "2004-11-01T00:00:00",
          "value": 16,
          "variable": "Johor_Area_rpa"
         },
         {
          "dt": "2004-12-01T00:00:00",
          "value": 16,
          "variable": "Johor_Area_rpa"
         },
         {
          "dt": "2005-01-01T00:00:00",
          "value": 9,
          "variable": "Johor_Area_rpa"
         },
         {
          "dt": "2005-02-01T00:00:00",
          "value": 9,
          "variable": "Johor_Area_rpa"
         },
         {
          "dt": "2005-03-01T00:00:00",
          "value": 9,
          "variable": "Johor_Area_rpa"
         },
         {
          "dt": "2005-04-01T00:00:00",
          "value": 9,
          "variable": "Johor_Area_rpa"
         },
         {
          "dt": "2005-05-01T00:00:00",
          "value": 9,
          "variable": "Johor_Area_rpa"
         },
         {
          "dt": "2005-06-01T00:00:00",
          "value": 9,
          "variable": "Johor_Area_rpa"
         },
         {
          "dt": "2005-07-01T00:00:00",
          "value": 9,
          "variable": "Johor_Area_rpa"
         },
         {
          "dt": "2005-08-01T00:00:00",
          "value": 9,
          "variable": "Johor_Area_rpa"
         },
         {
          "dt": "2005-09-01T00:00:00",
          "value": 9,
          "variable": "Johor_Area_rpa"
         },
         {
          "dt": "2005-10-01T00:00:00",
          "value": 9,
          "variable": "Johor_Area_rpa"
         },
         {
          "dt": "2005-11-01T00:00:00",
          "value": 9,
          "variable": "Johor_Area_rpa"
         },
         {
          "dt": "2005-12-01T00:00:00",
          "value": 9,
          "variable": "Johor_Area_rpa"
         },
         {
          "dt": "2006-01-01T00:00:00",
          "value": 11,
          "variable": "Johor_Area_rpa"
         },
         {
          "dt": "2006-02-01T00:00:00",
          "value": 11,
          "variable": "Johor_Area_rpa"
         },
         {
          "dt": "2006-03-01T00:00:00",
          "value": 11,
          "variable": "Johor_Area_rpa"
         },
         {
          "dt": "2006-04-01T00:00:00",
          "value": 11,
          "variable": "Johor_Area_rpa"
         },
         {
          "dt": "2006-05-01T00:00:00",
          "value": 11,
          "variable": "Johor_Area_rpa"
         },
         {
          "dt": "2006-06-01T00:00:00",
          "value": 11,
          "variable": "Johor_Area_rpa"
         },
         {
          "dt": "2006-07-01T00:00:00",
          "value": 11,
          "variable": "Johor_Area_rpa"
         },
         {
          "dt": "2006-08-01T00:00:00",
          "value": 11,
          "variable": "Johor_Area_rpa"
         },
         {
          "dt": "2006-09-01T00:00:00",
          "value": 11,
          "variable": "Johor_Area_rpa"
         },
         {
          "dt": "2006-10-01T00:00:00",
          "value": 11,
          "variable": "Johor_Area_rpa"
         },
         {
          "dt": "2006-11-01T00:00:00",
          "value": 11,
          "variable": "Johor_Area_rpa"
         },
         {
          "dt": "2006-12-01T00:00:00",
          "value": 11,
          "variable": "Johor_Area_rpa"
         },
         {
          "dt": "2007-01-01T00:00:00",
          "value": 21,
          "variable": "Johor_Area_rpa"
         },
         {
          "dt": "2007-02-01T00:00:00",
          "value": 21,
          "variable": "Johor_Area_rpa"
         },
         {
          "dt": "2007-03-01T00:00:00",
          "value": 21,
          "variable": "Johor_Area_rpa"
         },
         {
          "dt": "2007-04-01T00:00:00",
          "value": 21,
          "variable": "Johor_Area_rpa"
         },
         {
          "dt": "2007-05-01T00:00:00",
          "value": 21,
          "variable": "Johor_Area_rpa"
         },
         {
          "dt": "2007-06-01T00:00:00",
          "value": 21,
          "variable": "Johor_Area_rpa"
         },
         {
          "dt": "2007-07-01T00:00:00",
          "value": 21,
          "variable": "Johor_Area_rpa"
         },
         {
          "dt": "2007-08-01T00:00:00",
          "value": 21,
          "variable": "Johor_Area_rpa"
         },
         {
          "dt": "2007-09-01T00:00:00",
          "value": 21,
          "variable": "Johor_Area_rpa"
         },
         {
          "dt": "2007-10-01T00:00:00",
          "value": 21,
          "variable": "Johor_Area_rpa"
         },
         {
          "dt": "2007-11-01T00:00:00",
          "value": 21,
          "variable": "Johor_Area_rpa"
         },
         {
          "dt": "2007-12-01T00:00:00",
          "value": 21,
          "variable": "Johor_Area_rpa"
         },
         {
          "dt": "2008-01-01T00:00:00",
          "value": 14,
          "variable": "Johor_Area_rpa"
         },
         {
          "dt": "2008-02-01T00:00:00",
          "value": 14,
          "variable": "Johor_Area_rpa"
         },
         {
          "dt": "2008-03-01T00:00:00",
          "value": 14,
          "variable": "Johor_Area_rpa"
         },
         {
          "dt": "2008-04-01T00:00:00",
          "value": 14,
          "variable": "Johor_Area_rpa"
         },
         {
          "dt": "2008-05-01T00:00:00",
          "value": 14,
          "variable": "Johor_Area_rpa"
         },
         {
          "dt": "2008-06-01T00:00:00",
          "value": 14,
          "variable": "Johor_Area_rpa"
         },
         {
          "dt": "2008-07-01T00:00:00",
          "value": 14,
          "variable": "Johor_Area_rpa"
         },
         {
          "dt": "2008-08-01T00:00:00",
          "value": 14,
          "variable": "Johor_Area_rpa"
         },
         {
          "dt": "2008-09-01T00:00:00",
          "value": 14,
          "variable": "Johor_Area_rpa"
         },
         {
          "dt": "2008-10-01T00:00:00",
          "value": 14,
          "variable": "Johor_Area_rpa"
         },
         {
          "dt": "2008-11-01T00:00:00",
          "value": 14,
          "variable": "Johor_Area_rpa"
         },
         {
          "dt": "2008-12-01T00:00:00",
          "value": 14,
          "variable": "Johor_Area_rpa"
         },
         {
          "dt": "2009-01-01T00:00:00",
          "value": 19,
          "variable": "Johor_Area_rpa"
         },
         {
          "dt": "2009-02-01T00:00:00",
          "value": 19,
          "variable": "Johor_Area_rpa"
         },
         {
          "dt": "2009-03-01T00:00:00",
          "value": 19,
          "variable": "Johor_Area_rpa"
         },
         {
          "dt": "2009-04-01T00:00:00",
          "value": 19,
          "variable": "Johor_Area_rpa"
         },
         {
          "dt": "2009-05-01T00:00:00",
          "value": 19,
          "variable": "Johor_Area_rpa"
         },
         {
          "dt": "2009-06-01T00:00:00",
          "value": 19,
          "variable": "Johor_Area_rpa"
         },
         {
          "dt": "2009-07-01T00:00:00",
          "value": 19,
          "variable": "Johor_Area_rpa"
         },
         {
          "dt": "2009-08-01T00:00:00",
          "value": 19,
          "variable": "Johor_Area_rpa"
         },
         {
          "dt": "2009-09-01T00:00:00",
          "value": 19,
          "variable": "Johor_Area_rpa"
         },
         {
          "dt": "2009-10-01T00:00:00",
          "value": 19,
          "variable": "Johor_Area_rpa"
         },
         {
          "dt": "2009-11-01T00:00:00",
          "value": 19,
          "variable": "Johor_Area_rpa"
         },
         {
          "dt": "2009-12-01T00:00:00",
          "value": 19,
          "variable": "Johor_Area_rpa"
         },
         {
          "dt": "2010-01-01T00:00:00",
          "value": 27,
          "variable": "Johor_Area_rpa"
         },
         {
          "dt": "2010-02-01T00:00:00",
          "value": 27,
          "variable": "Johor_Area_rpa"
         },
         {
          "dt": "2010-03-01T00:00:00",
          "value": 27,
          "variable": "Johor_Area_rpa"
         },
         {
          "dt": "2010-04-01T00:00:00",
          "value": 27,
          "variable": "Johor_Area_rpa"
         },
         {
          "dt": "2010-05-01T00:00:00",
          "value": 27,
          "variable": "Johor_Area_rpa"
         },
         {
          "dt": "2010-06-01T00:00:00",
          "value": 27,
          "variable": "Johor_Area_rpa"
         },
         {
          "dt": "2010-07-01T00:00:00",
          "value": 27,
          "variable": "Johor_Area_rpa"
         },
         {
          "dt": "2010-08-01T00:00:00",
          "value": 27,
          "variable": "Johor_Area_rpa"
         },
         {
          "dt": "2010-09-01T00:00:00",
          "value": 27,
          "variable": "Johor_Area_rpa"
         },
         {
          "dt": "2010-10-01T00:00:00",
          "value": 27,
          "variable": "Johor_Area_rpa"
         },
         {
          "dt": "2010-11-01T00:00:00",
          "value": 27,
          "variable": "Johor_Area_rpa"
         },
         {
          "dt": "2010-12-01T00:00:00",
          "value": 27,
          "variable": "Johor_Area_rpa"
         },
         {
          "dt": "2011-01-01T00:00:00",
          "value": 23,
          "variable": "Johor_Area_rpa"
         },
         {
          "dt": "2011-02-01T00:00:00",
          "value": 23,
          "variable": "Johor_Area_rpa"
         },
         {
          "dt": "2011-03-01T00:00:00",
          "value": 23,
          "variable": "Johor_Area_rpa"
         },
         {
          "dt": "2011-04-01T00:00:00",
          "value": 23,
          "variable": "Johor_Area_rpa"
         },
         {
          "dt": "2011-05-01T00:00:00",
          "value": 23,
          "variable": "Johor_Area_rpa"
         },
         {
          "dt": "2011-06-01T00:00:00",
          "value": 23,
          "variable": "Johor_Area_rpa"
         },
         {
          "dt": "2011-07-01T00:00:00",
          "value": 23,
          "variable": "Johor_Area_rpa"
         },
         {
          "dt": "2011-08-01T00:00:00",
          "value": 23,
          "variable": "Johor_Area_rpa"
         },
         {
          "dt": "2011-09-01T00:00:00",
          "value": 23,
          "variable": "Johor_Area_rpa"
         },
         {
          "dt": "2011-10-01T00:00:00",
          "value": 23,
          "variable": "Johor_Area_rpa"
         },
         {
          "dt": "2011-11-01T00:00:00",
          "value": 23,
          "variable": "Johor_Area_rpa"
         },
         {
          "dt": "2011-12-01T00:00:00",
          "value": 23,
          "variable": "Johor_Area_rpa"
         },
         {
          "dt": "2012-01-01T00:00:00",
          "value": 19,
          "variable": "Johor_Area_rpa"
         },
         {
          "dt": "2012-02-01T00:00:00",
          "value": 19,
          "variable": "Johor_Area_rpa"
         },
         {
          "dt": "2012-03-01T00:00:00",
          "value": 19,
          "variable": "Johor_Area_rpa"
         },
         {
          "dt": "2012-04-01T00:00:00",
          "value": 19,
          "variable": "Johor_Area_rpa"
         },
         {
          "dt": "2012-05-01T00:00:00",
          "value": 19,
          "variable": "Johor_Area_rpa"
         },
         {
          "dt": "2012-06-01T00:00:00",
          "value": 19,
          "variable": "Johor_Area_rpa"
         },
         {
          "dt": "2012-07-01T00:00:00",
          "value": 19,
          "variable": "Johor_Area_rpa"
         },
         {
          "dt": "2012-08-01T00:00:00",
          "value": 19,
          "variable": "Johor_Area_rpa"
         },
         {
          "dt": "2012-09-01T00:00:00",
          "value": 19,
          "variable": "Johor_Area_rpa"
         },
         {
          "dt": "2012-10-01T00:00:00",
          "value": 19,
          "variable": "Johor_Area_rpa"
         },
         {
          "dt": "2012-11-01T00:00:00",
          "value": 19,
          "variable": "Johor_Area_rpa"
         },
         {
          "dt": "2012-12-01T00:00:00",
          "value": 19,
          "variable": "Johor_Area_rpa"
         },
         {
          "dt": "2013-01-01T00:00:00",
          "value": 17,
          "variable": "Johor_Area_rpa"
         },
         {
          "dt": "2013-02-01T00:00:00",
          "value": 17,
          "variable": "Johor_Area_rpa"
         },
         {
          "dt": "2013-03-01T00:00:00",
          "value": 17,
          "variable": "Johor_Area_rpa"
         },
         {
          "dt": "2013-04-01T00:00:00",
          "value": 17,
          "variable": "Johor_Area_rpa"
         },
         {
          "dt": "2013-05-01T00:00:00",
          "value": 17,
          "variable": "Johor_Area_rpa"
         },
         {
          "dt": "2013-06-01T00:00:00",
          "value": 17,
          "variable": "Johor_Area_rpa"
         },
         {
          "dt": "2013-07-01T00:00:00",
          "value": 17,
          "variable": "Johor_Area_rpa"
         },
         {
          "dt": "2013-08-01T00:00:00",
          "value": 17,
          "variable": "Johor_Area_rpa"
         },
         {
          "dt": "2013-09-01T00:00:00",
          "value": 17,
          "variable": "Johor_Area_rpa"
         },
         {
          "dt": "2013-10-01T00:00:00",
          "value": 17,
          "variable": "Johor_Area_rpa"
         },
         {
          "dt": "2013-11-01T00:00:00",
          "value": 17,
          "variable": "Johor_Area_rpa"
         },
         {
          "dt": "2013-12-01T00:00:00",
          "value": 17,
          "variable": "Johor_Area_rpa"
         },
         {
          "dt": "2014-01-01T00:00:00",
          "value": 19,
          "variable": "Johor_Area_rpa"
         },
         {
          "dt": "2014-02-01T00:00:00",
          "value": 19,
          "variable": "Johor_Area_rpa"
         },
         {
          "dt": "2014-03-01T00:00:00",
          "value": 19,
          "variable": "Johor_Area_rpa"
         },
         {
          "dt": "2014-04-01T00:00:00",
          "value": 19,
          "variable": "Johor_Area_rpa"
         },
         {
          "dt": "2014-05-01T00:00:00",
          "value": 19,
          "variable": "Johor_Area_rpa"
         },
         {
          "dt": "2014-06-01T00:00:00",
          "value": 19,
          "variable": "Johor_Area_rpa"
         },
         {
          "dt": "2014-07-01T00:00:00",
          "value": 19,
          "variable": "Johor_Area_rpa"
         },
         {
          "dt": "2014-08-01T00:00:00",
          "value": 19,
          "variable": "Johor_Area_rpa"
         },
         {
          "dt": "2014-09-01T00:00:00",
          "value": 19,
          "variable": "Johor_Area_rpa"
         },
         {
          "dt": "2014-10-01T00:00:00",
          "value": 19,
          "variable": "Johor_Area_rpa"
         },
         {
          "dt": "2014-11-01T00:00:00",
          "value": 19,
          "variable": "Johor_Area_rpa"
         },
         {
          "dt": "2014-12-01T00:00:00",
          "value": 19,
          "variable": "Johor_Area_rpa"
         },
         {
          "dt": "2015-01-01T00:00:00",
          "value": 13,
          "variable": "Johor_Area_rpa"
         },
         {
          "dt": "2015-02-01T00:00:00",
          "value": 13,
          "variable": "Johor_Area_rpa"
         },
         {
          "dt": "2015-03-01T00:00:00",
          "value": 13,
          "variable": "Johor_Area_rpa"
         },
         {
          "dt": "2015-04-01T00:00:00",
          "value": 13,
          "variable": "Johor_Area_rpa"
         },
         {
          "dt": "2015-05-01T00:00:00",
          "value": 13,
          "variable": "Johor_Area_rpa"
         },
         {
          "dt": "2015-06-01T00:00:00",
          "value": 13,
          "variable": "Johor_Area_rpa"
         },
         {
          "dt": "2015-07-01T00:00:00",
          "value": 13,
          "variable": "Johor_Area_rpa"
         },
         {
          "dt": "2015-08-01T00:00:00",
          "value": 13,
          "variable": "Johor_Area_rpa"
         },
         {
          "dt": "2015-09-01T00:00:00",
          "value": 13,
          "variable": "Johor_Area_rpa"
         },
         {
          "dt": "2015-10-01T00:00:00",
          "value": 13,
          "variable": "Johor_Area_rpa"
         },
         {
          "dt": "2015-11-01T00:00:00",
          "value": 13,
          "variable": "Johor_Area_rpa"
         },
         {
          "dt": "2015-12-01T00:00:00",
          "value": 13,
          "variable": "Johor_Area_rpa"
         },
         {
          "dt": "2016-01-01T00:00:00",
          "value": 13,
          "variable": "Johor_Area_rpa"
         },
         {
          "dt": "2016-02-01T00:00:00",
          "value": 13,
          "variable": "Johor_Area_rpa"
         },
         {
          "dt": "2016-03-01T00:00:00",
          "value": 13,
          "variable": "Johor_Area_rpa"
         },
         {
          "dt": "2016-04-01T00:00:00",
          "value": 13,
          "variable": "Johor_Area_rpa"
         },
         {
          "dt": "2016-05-01T00:00:00",
          "value": 13,
          "variable": "Johor_Area_rpa"
         },
         {
          "dt": "2016-06-01T00:00:00",
          "value": 13,
          "variable": "Johor_Area_rpa"
         },
         {
          "dt": "2016-07-01T00:00:00",
          "value": 13,
          "variable": "Johor_Area_rpa"
         },
         {
          "dt": "2016-08-01T00:00:00",
          "value": 13,
          "variable": "Johor_Area_rpa"
         },
         {
          "dt": "2016-09-01T00:00:00",
          "value": 13,
          "variable": "Johor_Area_rpa"
         },
         {
          "dt": "2016-10-01T00:00:00",
          "value": 13,
          "variable": "Johor_Area_rpa"
         },
         {
          "dt": "2016-11-01T00:00:00",
          "value": 13,
          "variable": "Johor_Area_rpa"
         },
         {
          "dt": "2016-12-01T00:00:00",
          "value": 13,
          "variable": "Johor_Area_rpa"
         },
         {
          "dt": "2017-01-01T00:00:00",
          "value": 14.947368421052632,
          "variable": "Johor_Area_rpa"
         },
         {
          "dt": "2017-02-01T00:00:00",
          "value": 14.947368421052632,
          "variable": "Johor_Area_rpa"
         },
         {
          "dt": "2017-03-01T00:00:00",
          "value": 14.947368421052632,
          "variable": "Johor_Area_rpa"
         },
         {
          "dt": "2017-04-01T00:00:00",
          "value": 14.947368421052632,
          "variable": "Johor_Area_rpa"
         },
         {
          "dt": "2017-05-01T00:00:00",
          "value": 14.947368421052632,
          "variable": "Johor_Area_rpa"
         },
         {
          "dt": "2017-06-01T00:00:00",
          "value": 14.947368421052632,
          "variable": "Johor_Area_rpa"
         },
         {
          "dt": "2017-07-01T00:00:00",
          "value": 14.947368421052632,
          "variable": "Johor_Area_rpa"
         },
         {
          "dt": "2017-08-01T00:00:00",
          "value": 14.947368421052632,
          "variable": "Johor_Area_rpa"
         },
         {
          "dt": "2017-09-01T00:00:00",
          "value": 14.947368421052632,
          "variable": "Johor_Area_rpa"
         },
         {
          "dt": "1999-02-01T00:00:00",
          "value": 403.330769231,
          "variable": "Johor_Area_ma_new"
         },
         {
          "dt": "1999-03-01T00:00:00",
          "value": 403.330769231,
          "variable": "Johor_Area_ma_new"
         },
         {
          "dt": "1999-04-01T00:00:00",
          "value": 403.330769231,
          "variable": "Johor_Area_ma_new"
         },
         {
          "dt": "1999-05-01T00:00:00",
          "value": 403.330769231,
          "variable": "Johor_Area_ma_new"
         },
         {
          "dt": "1999-06-01T00:00:00",
          "value": 403.330769231,
          "variable": "Johor_Area_ma_new"
         },
         {
          "dt": "1999-07-01T00:00:00",
          "value": 403.330769231,
          "variable": "Johor_Area_ma_new"
         },
         {
          "dt": "1999-08-01T00:00:00",
          "value": 403.330769231,
          "variable": "Johor_Area_ma_new"
         },
         {
          "dt": "1999-09-01T00:00:00",
          "value": 403.330769231,
          "variable": "Johor_Area_ma_new"
         },
         {
          "dt": "1999-10-01T00:00:00",
          "value": 403.330769231,
          "variable": "Johor_Area_ma_new"
         },
         {
          "dt": "1999-11-01T00:00:00",
          "value": 403.330769231,
          "variable": "Johor_Area_ma_new"
         },
         {
          "dt": "1999-12-01T00:00:00",
          "value": 403.330769231,
          "variable": "Johor_Area_ma_new"
         },
         {
          "dt": "2000-01-01T00:00:00",
          "value": 391.861538462,
          "variable": "Johor_Area_ma_new"
         },
         {
          "dt": "2000-02-01T00:00:00",
          "value": 391.861538462,
          "variable": "Johor_Area_ma_new"
         },
         {
          "dt": "2000-03-01T00:00:00",
          "value": 391.861538462,
          "variable": "Johor_Area_ma_new"
         },
         {
          "dt": "2000-04-01T00:00:00",
          "value": 391.861538462,
          "variable": "Johor_Area_ma_new"
         },
         {
          "dt": "2000-05-01T00:00:00",
          "value": 391.861538462,
          "variable": "Johor_Area_ma_new"
         },
         {
          "dt": "2000-06-01T00:00:00",
          "value": 391.861538462,
          "variable": "Johor_Area_ma_new"
         },
         {
          "dt": "2000-07-01T00:00:00",
          "value": 391.861538462,
          "variable": "Johor_Area_ma_new"
         },
         {
          "dt": "2000-08-01T00:00:00",
          "value": 391.861538462,
          "variable": "Johor_Area_ma_new"
         },
         {
          "dt": "2000-09-01T00:00:00",
          "value": 391.861538462,
          "variable": "Johor_Area_ma_new"
         },
         {
          "dt": "2000-10-01T00:00:00",
          "value": 391.861538462,
          "variable": "Johor_Area_ma_new"
         },
         {
          "dt": "2000-11-01T00:00:00",
          "value": 391.861538462,
          "variable": "Johor_Area_ma_new"
         },
         {
          "dt": "2000-12-01T00:00:00",
          "value": 391.861538462,
          "variable": "Johor_Area_ma_new"
         },
         {
          "dt": "2001-01-01T00:00:00",
          "value": 368.846153846,
          "variable": "Johor_Area_ma_new"
         },
         {
          "dt": "2001-02-01T00:00:00",
          "value": 368.846153846,
          "variable": "Johor_Area_ma_new"
         },
         {
          "dt": "2001-03-01T00:00:00",
          "value": 368.846153846,
          "variable": "Johor_Area_ma_new"
         },
         {
          "dt": "2001-04-01T00:00:00",
          "value": 368.846153846,
          "variable": "Johor_Area_ma_new"
         },
         {
          "dt": "2001-05-01T00:00:00",
          "value": 368.846153846,
          "variable": "Johor_Area_ma_new"
         },
         {
          "dt": "2001-06-01T00:00:00",
          "value": 368.846153846,
          "variable": "Johor_Area_ma_new"
         },
         {
          "dt": "2001-07-01T00:00:00",
          "value": 368.846153846,
          "variable": "Johor_Area_ma_new"
         },
         {
          "dt": "2001-08-01T00:00:00",
          "value": 368.846153846,
          "variable": "Johor_Area_ma_new"
         },
         {
          "dt": "2001-09-01T00:00:00",
          "value": 368.846153846,
          "variable": "Johor_Area_ma_new"
         },
         {
          "dt": "2001-10-01T00:00:00",
          "value": 368.846153846,
          "variable": "Johor_Area_ma_new"
         },
         {
          "dt": "2001-11-01T00:00:00",
          "value": 368.846153846,
          "variable": "Johor_Area_ma_new"
         },
         {
          "dt": "2001-12-01T00:00:00",
          "value": 368.846153846,
          "variable": "Johor_Area_ma_new"
         },
         {
          "dt": "2002-01-01T00:00:00",
          "value": 352.492307692,
          "variable": "Johor_Area_ma_new"
         },
         {
          "dt": "2002-02-01T00:00:00",
          "value": 352.492307692,
          "variable": "Johor_Area_ma_new"
         },
         {
          "dt": "2002-03-01T00:00:00",
          "value": 352.492307692,
          "variable": "Johor_Area_ma_new"
         },
         {
          "dt": "2002-04-01T00:00:00",
          "value": 352.492307692,
          "variable": "Johor_Area_ma_new"
         },
         {
          "dt": "2002-05-01T00:00:00",
          "value": 352.492307692,
          "variable": "Johor_Area_ma_new"
         },
         {
          "dt": "2002-06-01T00:00:00",
          "value": 352.492307692,
          "variable": "Johor_Area_ma_new"
         },
         {
          "dt": "2002-07-01T00:00:00",
          "value": 352.492307692,
          "variable": "Johor_Area_ma_new"
         },
         {
          "dt": "2002-08-01T00:00:00",
          "value": 352.492307692,
          "variable": "Johor_Area_ma_new"
         },
         {
          "dt": "2002-09-01T00:00:00",
          "value": 352.492307692,
          "variable": "Johor_Area_ma_new"
         },
         {
          "dt": "2002-10-01T00:00:00",
          "value": 352.492307692,
          "variable": "Johor_Area_ma_new"
         },
         {
          "dt": "2002-11-01T00:00:00",
          "value": 352.492307692,
          "variable": "Johor_Area_ma_new"
         },
         {
          "dt": "2002-12-01T00:00:00",
          "value": 352.492307692,
          "variable": "Johor_Area_ma_new"
         },
         {
          "dt": "2003-01-01T00:00:00",
          "value": 340.669230769,
          "variable": "Johor_Area_ma_new"
         },
         {
          "dt": "2003-02-01T00:00:00",
          "value": 340.669230769,
          "variable": "Johor_Area_ma_new"
         },
         {
          "dt": "2003-03-01T00:00:00",
          "value": 340.669230769,
          "variable": "Johor_Area_ma_new"
         },
         {
          "dt": "2003-04-01T00:00:00",
          "value": 340.669230769,
          "variable": "Johor_Area_ma_new"
         },
         {
          "dt": "2003-05-01T00:00:00",
          "value": 340.669230769,
          "variable": "Johor_Area_ma_new"
         },
         {
          "dt": "2003-06-01T00:00:00",
          "value": 340.669230769,
          "variable": "Johor_Area_ma_new"
         },
         {
          "dt": "2003-07-01T00:00:00",
          "value": 340.669230769,
          "variable": "Johor_Area_ma_new"
         },
         {
          "dt": "2003-08-01T00:00:00",
          "value": 340.669230769,
          "variable": "Johor_Area_ma_new"
         },
         {
          "dt": "2003-09-01T00:00:00",
          "value": 340.669230769,
          "variable": "Johor_Area_ma_new"
         },
         {
          "dt": "2003-10-01T00:00:00",
          "value": 340.669230769,
          "variable": "Johor_Area_ma_new"
         },
         {
          "dt": "2003-11-01T00:00:00",
          "value": 340.669230769,
          "variable": "Johor_Area_ma_new"
         },
         {
          "dt": "2003-12-01T00:00:00",
          "value": 340.669230769,
          "variable": "Johor_Area_ma_new"
         },
         {
          "dt": "2004-01-01T00:00:00",
          "value": 332.730769231,
          "variable": "Johor_Area_ma_new"
         },
         {
          "dt": "2004-02-01T00:00:00",
          "value": 332.730769231,
          "variable": "Johor_Area_ma_new"
         },
         {
          "dt": "2004-03-01T00:00:00",
          "value": 332.730769231,
          "variable": "Johor_Area_ma_new"
         },
         {
          "dt": "2004-04-01T00:00:00",
          "value": 332.730769231,
          "variable": "Johor_Area_ma_new"
         },
         {
          "dt": "2004-05-01T00:00:00",
          "value": 332.730769231,
          "variable": "Johor_Area_ma_new"
         },
         {
          "dt": "2004-06-01T00:00:00",
          "value": 332.730769231,
          "variable": "Johor_Area_ma_new"
         },
         {
          "dt": "2004-07-01T00:00:00",
          "value": 332.730769231,
          "variable": "Johor_Area_ma_new"
         },
         {
          "dt": "2004-08-01T00:00:00",
          "value": 332.730769231,
          "variable": "Johor_Area_ma_new"
         },
         {
          "dt": "2004-09-01T00:00:00",
          "value": 332.730769231,
          "variable": "Johor_Area_ma_new"
         },
         {
          "dt": "2004-10-01T00:00:00",
          "value": 332.730769231,
          "variable": "Johor_Area_ma_new"
         },
         {
          "dt": "2004-11-01T00:00:00",
          "value": 332.730769231,
          "variable": "Johor_Area_ma_new"
         },
         {
          "dt": "2004-12-01T00:00:00",
          "value": 332.730769231,
          "variable": "Johor_Area_ma_new"
         },
         {
          "dt": "2005-01-01T00:00:00",
          "value": 322.792307692,
          "variable": "Johor_Area_ma_new"
         },
         {
          "dt": "2005-02-01T00:00:00",
          "value": 322.792307692,
          "variable": "Johor_Area_ma_new"
         },
         {
          "dt": "2005-03-01T00:00:00",
          "value": 322.792307692,
          "variable": "Johor_Area_ma_new"
         },
         {
          "dt": "2005-04-01T00:00:00",
          "value": 322.792307692,
          "variable": "Johor_Area_ma_new"
         },
         {
          "dt": "2005-05-01T00:00:00",
          "value": 322.792307692,
          "variable": "Johor_Area_ma_new"
         },
         {
          "dt": "2005-06-01T00:00:00",
          "value": 322.792307692,
          "variable": "Johor_Area_ma_new"
         },
         {
          "dt": "2005-07-01T00:00:00",
          "value": 322.792307692,
          "variable": "Johor_Area_ma_new"
         },
         {
          "dt": "2005-08-01T00:00:00",
          "value": 322.792307692,
          "variable": "Johor_Area_ma_new"
         },
         {
          "dt": "2005-09-01T00:00:00",
          "value": 322.792307692,
          "variable": "Johor_Area_ma_new"
         },
         {
          "dt": "2005-10-01T00:00:00",
          "value": 322.792307692,
          "variable": "Johor_Area_ma_new"
         },
         {
          "dt": "2005-11-01T00:00:00",
          "value": 322.792307692,
          "variable": "Johor_Area_ma_new"
         },
         {
          "dt": "2005-12-01T00:00:00",
          "value": 322.792307692,
          "variable": "Johor_Area_ma_new"
         },
         {
          "dt": "2006-01-01T00:00:00",
          "value": 328.415384615,
          "variable": "Johor_Area_ma_new"
         },
         {
          "dt": "2006-02-01T00:00:00",
          "value": 328.415384615,
          "variable": "Johor_Area_ma_new"
         },
         {
          "dt": "2006-03-01T00:00:00",
          "value": 328.415384615,
          "variable": "Johor_Area_ma_new"
         },
         {
          "dt": "2006-04-01T00:00:00",
          "value": 328.415384615,
          "variable": "Johor_Area_ma_new"
         },
         {
          "dt": "2006-05-01T00:00:00",
          "value": 328.415384615,
          "variable": "Johor_Area_ma_new"
         },
         {
          "dt": "2006-06-01T00:00:00",
          "value": 328.415384615,
          "variable": "Johor_Area_ma_new"
         },
         {
          "dt": "2006-07-01T00:00:00",
          "value": 328.415384615,
          "variable": "Johor_Area_ma_new"
         },
         {
          "dt": "2006-08-01T00:00:00",
          "value": 328.415384615,
          "variable": "Johor_Area_ma_new"
         },
         {
          "dt": "2006-09-01T00:00:00",
          "value": 328.415384615,
          "variable": "Johor_Area_ma_new"
         },
         {
          "dt": "2006-10-01T00:00:00",
          "value": 328.415384615,
          "variable": "Johor_Area_ma_new"
         },
         {
          "dt": "2006-11-01T00:00:00",
          "value": 328.415384615,
          "variable": "Johor_Area_ma_new"
         },
         {
          "dt": "2006-12-01T00:00:00",
          "value": 328.415384615,
          "variable": "Johor_Area_ma_new"
         },
         {
          "dt": "2007-01-01T00:00:00",
          "value": 311.530769231,
          "variable": "Johor_Area_ma_new"
         },
         {
          "dt": "2007-02-01T00:00:00",
          "value": 311.530769231,
          "variable": "Johor_Area_ma_new"
         },
         {
          "dt": "2007-03-01T00:00:00",
          "value": 311.530769231,
          "variable": "Johor_Area_ma_new"
         },
         {
          "dt": "2007-04-01T00:00:00",
          "value": 311.530769231,
          "variable": "Johor_Area_ma_new"
         },
         {
          "dt": "2007-05-01T00:00:00",
          "value": 311.530769231,
          "variable": "Johor_Area_ma_new"
         },
         {
          "dt": "2007-06-01T00:00:00",
          "value": 311.530769231,
          "variable": "Johor_Area_ma_new"
         },
         {
          "dt": "2007-07-01T00:00:00",
          "value": 311.530769231,
          "variable": "Johor_Area_ma_new"
         },
         {
          "dt": "2007-08-01T00:00:00",
          "value": 311.530769231,
          "variable": "Johor_Area_ma_new"
         },
         {
          "dt": "2007-09-01T00:00:00",
          "value": 311.530769231,
          "variable": "Johor_Area_ma_new"
         },
         {
          "dt": "2007-10-01T00:00:00",
          "value": 311.530769231,
          "variable": "Johor_Area_ma_new"
         },
         {
          "dt": "2007-11-01T00:00:00",
          "value": 311.530769231,
          "variable": "Johor_Area_ma_new"
         },
         {
          "dt": "2007-12-01T00:00:00",
          "value": 311.530769231,
          "variable": "Johor_Area_ma_new"
         },
         {
          "dt": "2008-01-01T00:00:00",
          "value": 333.969230769,
          "variable": "Johor_Area_ma_new"
         },
         {
          "dt": "2008-02-01T00:00:00",
          "value": 333.969230769,
          "variable": "Johor_Area_ma_new"
         },
         {
          "dt": "2008-03-01T00:00:00",
          "value": 333.969230769,
          "variable": "Johor_Area_ma_new"
         },
         {
          "dt": "2008-04-01T00:00:00",
          "value": 333.969230769,
          "variable": "Johor_Area_ma_new"
         },
         {
          "dt": "2008-05-01T00:00:00",
          "value": 333.969230769,
          "variable": "Johor_Area_ma_new"
         },
         {
          "dt": "2008-06-01T00:00:00",
          "value": 333.969230769,
          "variable": "Johor_Area_ma_new"
         },
         {
          "dt": "2008-07-01T00:00:00",
          "value": 333.969230769,
          "variable": "Johor_Area_ma_new"
         },
         {
          "dt": "2008-08-01T00:00:00",
          "value": 333.969230769,
          "variable": "Johor_Area_ma_new"
         },
         {
          "dt": "2008-09-01T00:00:00",
          "value": 333.969230769,
          "variable": "Johor_Area_ma_new"
         },
         {
          "dt": "2008-10-01T00:00:00",
          "value": 333.969230769,
          "variable": "Johor_Area_ma_new"
         },
         {
          "dt": "2008-11-01T00:00:00",
          "value": 333.969230769,
          "variable": "Johor_Area_ma_new"
         },
         {
          "dt": "2008-12-01T00:00:00",
          "value": 333.969230769,
          "variable": "Johor_Area_ma_new"
         },
         {
          "dt": "2009-01-01T00:00:00",
          "value": 346.676923077,
          "variable": "Johor_Area_ma_new"
         },
         {
          "dt": "2009-02-01T00:00:00",
          "value": 346.676923077,
          "variable": "Johor_Area_ma_new"
         },
         {
          "dt": "2009-03-01T00:00:00",
          "value": 346.676923077,
          "variable": "Johor_Area_ma_new"
         },
         {
          "dt": "2009-04-01T00:00:00",
          "value": 346.676923077,
          "variable": "Johor_Area_ma_new"
         },
         {
          "dt": "2009-05-01T00:00:00",
          "value": 346.676923077,
          "variable": "Johor_Area_ma_new"
         },
         {
          "dt": "2009-06-01T00:00:00",
          "value": 346.676923077,
          "variable": "Johor_Area_ma_new"
         },
         {
          "dt": "2009-07-01T00:00:00",
          "value": 346.676923077,
          "variable": "Johor_Area_ma_new"
         },
         {
          "dt": "2009-08-01T00:00:00",
          "value": 346.676923077,
          "variable": "Johor_Area_ma_new"
         },
         {
          "dt": "2009-09-01T00:00:00",
          "value": 346.676923077,
          "variable": "Johor_Area_ma_new"
         },
         {
          "dt": "2009-10-01T00:00:00",
          "value": 346.676923077,
          "variable": "Johor_Area_ma_new"
         },
         {
          "dt": "2009-11-01T00:00:00",
          "value": 346.676923077,
          "variable": "Johor_Area_ma_new"
         },
         {
          "dt": "2009-12-01T00:00:00",
          "value": 346.676923077,
          "variable": "Johor_Area_ma_new"
         },
         {
          "dt": "2010-01-01T00:00:00",
          "value": 344.461538462,
          "variable": "Johor_Area_ma_new"
         },
         {
          "dt": "2010-02-01T00:00:00",
          "value": 344.461538462,
          "variable": "Johor_Area_ma_new"
         },
         {
          "dt": "2010-03-01T00:00:00",
          "value": 344.461538462,
          "variable": "Johor_Area_ma_new"
         },
         {
          "dt": "2010-04-01T00:00:00",
          "value": 344.461538462,
          "variable": "Johor_Area_ma_new"
         },
         {
          "dt": "2010-05-01T00:00:00",
          "value": 344.461538462,
          "variable": "Johor_Area_ma_new"
         },
         {
          "dt": "2010-06-01T00:00:00",
          "value": 344.461538462,
          "variable": "Johor_Area_ma_new"
         },
         {
          "dt": "2010-07-01T00:00:00",
          "value": 344.461538462,
          "variable": "Johor_Area_ma_new"
         },
         {
          "dt": "2010-08-01T00:00:00",
          "value": 344.461538462,
          "variable": "Johor_Area_ma_new"
         },
         {
          "dt": "2010-09-01T00:00:00",
          "value": 344.461538462,
          "variable": "Johor_Area_ma_new"
         },
         {
          "dt": "2010-10-01T00:00:00",
          "value": 344.461538462,
          "variable": "Johor_Area_ma_new"
         },
         {
          "dt": "2010-11-01T00:00:00",
          "value": 344.461538462,
          "variable": "Johor_Area_ma_new"
         },
         {
          "dt": "2010-12-01T00:00:00",
          "value": 344.461538462,
          "variable": "Johor_Area_ma_new"
         },
         {
          "dt": "2011-01-01T00:00:00",
          "value": 329.484615385,
          "variable": "Johor_Area_ma_new"
         },
         {
          "dt": "2011-02-01T00:00:00",
          "value": 329.484615385,
          "variable": "Johor_Area_ma_new"
         },
         {
          "dt": "2011-03-01T00:00:00",
          "value": 329.484615385,
          "variable": "Johor_Area_ma_new"
         },
         {
          "dt": "2011-04-01T00:00:00",
          "value": 329.484615385,
          "variable": "Johor_Area_ma_new"
         },
         {
          "dt": "2011-05-01T00:00:00",
          "value": 329.484615385,
          "variable": "Johor_Area_ma_new"
         },
         {
          "dt": "2011-06-01T00:00:00",
          "value": 329.484615385,
          "variable": "Johor_Area_ma_new"
         },
         {
          "dt": "2011-07-01T00:00:00",
          "value": 329.484615385,
          "variable": "Johor_Area_ma_new"
         },
         {
          "dt": "2011-08-01T00:00:00",
          "value": 329.484615385,
          "variable": "Johor_Area_ma_new"
         },
         {
          "dt": "2011-09-01T00:00:00",
          "value": 329.484615385,
          "variable": "Johor_Area_ma_new"
         },
         {
          "dt": "2011-10-01T00:00:00",
          "value": 329.484615385,
          "variable": "Johor_Area_ma_new"
         },
         {
          "dt": "2011-11-01T00:00:00",
          "value": 329.484615385,
          "variable": "Johor_Area_ma_new"
         },
         {
          "dt": "2011-12-01T00:00:00",
          "value": 329.484615385,
          "variable": "Johor_Area_ma_new"
         },
         {
          "dt": "2012-01-01T00:00:00",
          "value": 311.3,
          "variable": "Johor_Area_ma_new"
         },
         {
          "dt": "2012-02-01T00:00:00",
          "value": 311.3,
          "variable": "Johor_Area_ma_new"
         },
         {
          "dt": "2012-03-01T00:00:00",
          "value": 311.3,
          "variable": "Johor_Area_ma_new"
         },
         {
          "dt": "2012-04-01T00:00:00",
          "value": 311.3,
          "variable": "Johor_Area_ma_new"
         },
         {
          "dt": "2012-05-01T00:00:00",
          "value": 311.3,
          "variable": "Johor_Area_ma_new"
         },
         {
          "dt": "2012-06-01T00:00:00",
          "value": 311.3,
          "variable": "Johor_Area_ma_new"
         },
         {
          "dt": "2012-07-01T00:00:00",
          "value": 311.3,
          "variable": "Johor_Area_ma_new"
         },
         {
          "dt": "2012-08-01T00:00:00",
          "value": 311.3,
          "variable": "Johor_Area_ma_new"
         },
         {
          "dt": "2012-09-01T00:00:00",
          "value": 311.3,
          "variable": "Johor_Area_ma_new"
         },
         {
          "dt": "2012-10-01T00:00:00",
          "value": 311.3,
          "variable": "Johor_Area_ma_new"
         },
         {
          "dt": "2012-11-01T00:00:00",
          "value": 311.3,
          "variable": "Johor_Area_ma_new"
         },
         {
          "dt": "2012-12-01T00:00:00",
          "value": 311.3,
          "variable": "Johor_Area_ma_new"
         },
         {
          "dt": "2013-01-01T00:00:00",
          "value": 325.784615385,
          "variable": "Johor_Area_ma_new"
         },
         {
          "dt": "2013-02-01T00:00:00",
          "value": 325.784615385,
          "variable": "Johor_Area_ma_new"
         },
         {
          "dt": "2013-03-01T00:00:00",
          "value": 325.784615385,
          "variable": "Johor_Area_ma_new"
         },
         {
          "dt": "2013-04-01T00:00:00",
          "value": 325.784615385,
          "variable": "Johor_Area_ma_new"
         },
         {
          "dt": "2013-05-01T00:00:00",
          "value": 325.784615385,
          "variable": "Johor_Area_ma_new"
         },
         {
          "dt": "2013-06-01T00:00:00",
          "value": 325.784615385,
          "variable": "Johor_Area_ma_new"
         },
         {
          "dt": "2013-07-01T00:00:00",
          "value": 325.784615385,
          "variable": "Johor_Area_ma_new"
         },
         {
          "dt": "2013-08-01T00:00:00",
          "value": 325.784615385,
          "variable": "Johor_Area_ma_new"
         },
         {
          "dt": "2013-09-01T00:00:00",
          "value": 325.784615385,
          "variable": "Johor_Area_ma_new"
         },
         {
          "dt": "2013-10-01T00:00:00",
          "value": 325.784615385,
          "variable": "Johor_Area_ma_new"
         },
         {
          "dt": "2013-11-01T00:00:00",
          "value": 325.784615385,
          "variable": "Johor_Area_ma_new"
         },
         {
          "dt": "2013-12-01T00:00:00",
          "value": 325.784615385,
          "variable": "Johor_Area_ma_new"
         },
         {
          "dt": "2014-01-01T00:00:00",
          "value": 331.592307692,
          "variable": "Johor_Area_ma_new"
         },
         {
          "dt": "2014-02-01T00:00:00",
          "value": 331.592307692,
          "variable": "Johor_Area_ma_new"
         },
         {
          "dt": "2014-03-01T00:00:00",
          "value": 331.592307692,
          "variable": "Johor_Area_ma_new"
         },
         {
          "dt": "2014-04-01T00:00:00",
          "value": 331.592307692,
          "variable": "Johor_Area_ma_new"
         },
         {
          "dt": "2014-05-01T00:00:00",
          "value": 331.592307692,
          "variable": "Johor_Area_ma_new"
         },
         {
          "dt": "2014-06-01T00:00:00",
          "value": 331.592307692,
          "variable": "Johor_Area_ma_new"
         },
         {
          "dt": "2014-07-01T00:00:00",
          "value": 331.592307692,
          "variable": "Johor_Area_ma_new"
         },
         {
          "dt": "2014-08-01T00:00:00",
          "value": 331.592307692,
          "variable": "Johor_Area_ma_new"
         },
         {
          "dt": "2014-09-01T00:00:00",
          "value": 331.592307692,
          "variable": "Johor_Area_ma_new"
         },
         {
          "dt": "2014-10-01T00:00:00",
          "value": 331.592307692,
          "variable": "Johor_Area_ma_new"
         },
         {
          "dt": "2014-11-01T00:00:00",
          "value": 331.592307692,
          "variable": "Johor_Area_ma_new"
         },
         {
          "dt": "2014-12-01T00:00:00",
          "value": 331.592307692,
          "variable": "Johor_Area_ma_new"
         },
         {
          "dt": "2015-01-01T00:00:00",
          "value": 349.1,
          "variable": "Johor_Area_ma_new"
         },
         {
          "dt": "2015-02-01T00:00:00",
          "value": 349.1,
          "variable": "Johor_Area_ma_new"
         },
         {
          "dt": "2015-03-01T00:00:00",
          "value": 349.1,
          "variable": "Johor_Area_ma_new"
         },
         {
          "dt": "2015-04-01T00:00:00",
          "value": 349.1,
          "variable": "Johor_Area_ma_new"
         },
         {
          "dt": "2015-05-01T00:00:00",
          "value": 349.1,
          "variable": "Johor_Area_ma_new"
         },
         {
          "dt": "2015-06-01T00:00:00",
          "value": 349.1,
          "variable": "Johor_Area_ma_new"
         },
         {
          "dt": "2015-07-01T00:00:00",
          "value": 349.1,
          "variable": "Johor_Area_ma_new"
         },
         {
          "dt": "2015-08-01T00:00:00",
          "value": 349.1,
          "variable": "Johor_Area_ma_new"
         },
         {
          "dt": "2015-09-01T00:00:00",
          "value": 349.1,
          "variable": "Johor_Area_ma_new"
         },
         {
          "dt": "2015-10-01T00:00:00",
          "value": 349.1,
          "variable": "Johor_Area_ma_new"
         },
         {
          "dt": "2015-11-01T00:00:00",
          "value": 349.1,
          "variable": "Johor_Area_ma_new"
         },
         {
          "dt": "2015-12-01T00:00:00",
          "value": 349.1,
          "variable": "Johor_Area_ma_new"
         },
         {
          "dt": "2016-01-01T00:00:00",
          "value": 372.161538462,
          "variable": "Johor_Area_ma_new"
         },
         {
          "dt": "2016-02-01T00:00:00",
          "value": 372.161538462,
          "variable": "Johor_Area_ma_new"
         },
         {
          "dt": "2016-03-01T00:00:00",
          "value": 372.161538462,
          "variable": "Johor_Area_ma_new"
         },
         {
          "dt": "2016-04-01T00:00:00",
          "value": 372.161538462,
          "variable": "Johor_Area_ma_new"
         },
         {
          "dt": "2016-05-01T00:00:00",
          "value": 372.161538462,
          "variable": "Johor_Area_ma_new"
         },
         {
          "dt": "2016-06-01T00:00:00",
          "value": 372.161538462,
          "variable": "Johor_Area_ma_new"
         },
         {
          "dt": "2016-07-01T00:00:00",
          "value": 372.161538462,
          "variable": "Johor_Area_ma_new"
         },
         {
          "dt": "2016-08-01T00:00:00",
          "value": 372.161538462,
          "variable": "Johor_Area_ma_new"
         },
         {
          "dt": "2016-09-01T00:00:00",
          "value": 372.161538462,
          "variable": "Johor_Area_ma_new"
         },
         {
          "dt": "2016-10-01T00:00:00",
          "value": 372.161538462,
          "variable": "Johor_Area_ma_new"
         },
         {
          "dt": "2016-11-01T00:00:00",
          "value": 372.161538462,
          "variable": "Johor_Area_ma_new"
         },
         {
          "dt": "2016-12-01T00:00:00",
          "value": 372.161538462,
          "variable": "Johor_Area_ma_new"
         },
         {
          "dt": "2017-01-01T00:00:00",
          "value": 347.5927125506842,
          "variable": "Johor_Area_ma_new"
         },
         {
          "dt": "2017-02-01T00:00:00",
          "value": 347.5927125506842,
          "variable": "Johor_Area_ma_new"
         },
         {
          "dt": "2017-03-01T00:00:00",
          "value": 347.5927125506842,
          "variable": "Johor_Area_ma_new"
         },
         {
          "dt": "2017-04-01T00:00:00",
          "value": 347.5927125506842,
          "variable": "Johor_Area_ma_new"
         },
         {
          "dt": "2017-05-01T00:00:00",
          "value": 347.5927125506842,
          "variable": "Johor_Area_ma_new"
         },
         {
          "dt": "2017-06-01T00:00:00",
          "value": 347.5927125506842,
          "variable": "Johor_Area_ma_new"
         },
         {
          "dt": "2017-07-01T00:00:00",
          "value": 347.5927125506842,
          "variable": "Johor_Area_ma_new"
         },
         {
          "dt": "2017-08-01T00:00:00",
          "value": 347.5927125506842,
          "variable": "Johor_Area_ma_new"
         },
         {
          "dt": "2017-09-01T00:00:00",
          "value": 347.5927125506842,
          "variable": "Johor_Area_ma_new"
         },
         {
          "dt": "1999-02-01T00:00:00",
          "value": 147.24,
          "variable": "Johor_Production"
         },
         {
          "dt": "1999-03-01T00:00:00",
          "value": 169.754,
          "variable": "Johor_Production"
         },
         {
          "dt": "1999-04-01T00:00:00",
          "value": 192.155,
          "variable": "Johor_Production"
         },
         {
          "dt": "1999-05-01T00:00:00",
          "value": 216.57,
          "variable": "Johor_Production"
         },
         {
          "dt": "1999-06-01T00:00:00",
          "value": 210.553,
          "variable": "Johor_Production"
         },
         {
          "dt": "1999-07-01T00:00:00",
          "value": 223.731,
          "variable": "Johor_Production"
         },
         {
          "dt": "1999-08-01T00:00:00",
          "value": 224.397,
          "variable": "Johor_Production"
         },
         {
          "dt": "1999-09-01T00:00:00",
          "value": 234.327,
          "variable": "Johor_Production"
         },
         {
          "dt": "1999-10-01T00:00:00",
          "value": 237.426,
          "variable": "Johor_Production"
         },
         {
          "dt": "1999-11-01T00:00:00",
          "value": 225.412,
          "variable": "Johor_Production"
         },
         {
          "dt": "1999-12-01T00:00:00",
          "value": 210.489,
          "variable": "Johor_Production"
         },
         {
          "dt": "2000-01-01T00:00:00",
          "value": 176.328,
          "variable": "Johor_Production"
         },
         {
          "dt": "2000-02-01T00:00:00",
          "value": 164.926,
          "variable": "Johor_Production"
         },
         {
          "dt": "2000-03-01T00:00:00",
          "value": 173.124,
          "variable": "Johor_Production"
         },
         {
          "dt": "2000-04-01T00:00:00",
          "value": 177.804,
          "variable": "Johor_Production"
         },
         {
          "dt": "2000-05-01T00:00:00",
          "value": 185.927,
          "variable": "Johor_Production"
         },
         {
          "dt": "2000-06-01T00:00:00",
          "value": 199.5,
          "variable": "Johor_Production"
         },
         {
          "dt": "2000-07-01T00:00:00",
          "value": 204.75,
          "variable": "Johor_Production"
         },
         {
          "dt": "2000-08-01T00:00:00",
          "value": 211.713,
          "variable": "Johor_Production"
         },
         {
          "dt": "2000-09-01T00:00:00",
          "value": 233.193,
          "variable": "Johor_Production"
         },
         {
          "dt": "2000-10-01T00:00:00",
          "value": 239.385,
          "variable": "Johor_Production"
         },
         {
          "dt": "2000-11-01T00:00:00",
          "value": 239.598,
          "variable": "Johor_Production"
         },
         {
          "dt": "2000-12-01T00:00:00",
          "value": 175.965,
          "variable": "Johor_Production"
         },
         {
          "dt": "2001-01-01T00:00:00",
          "value": 199.24,
          "variable": "Johor_Production"
         },
         {
          "dt": "2001-02-01T00:00:00",
          "value": 171.77,
          "variable": "Johor_Production"
         },
         {
          "dt": "2001-03-01T00:00:00",
          "value": 170.966,
          "variable": "Johor_Production"
         },
         {
          "dt": "2001-04-01T00:00:00",
          "value": 176.878,
          "variable": "Johor_Production"
         },
         {
          "dt": "2001-05-01T00:00:00",
          "value": 188.395,
          "variable": "Johor_Production"
         },
         {
          "dt": "2001-06-01T00:00:00",
          "value": 183.676,
          "variable": "Johor_Production"
         },
         {
          "dt": "2001-07-01T00:00:00",
          "value": 187.813,
          "variable": "Johor_Production"
         },
         {
          "dt": "2001-08-01T00:00:00",
          "value": 211.931,
          "variable": "Johor_Production"
         },
         {
          "dt": "2001-09-01T00:00:00",
          "value": 221.399,
          "variable": "Johor_Production"
         },
         {
          "dt": "2001-10-01T00:00:00",
          "value": 230.672,
          "variable": "Johor_Production"
         },
         {
          "dt": "2001-11-01T00:00:00",
          "value": 209.077,
          "variable": "Johor_Production"
         },
         {
          "dt": "2001-12-01T00:00:00",
          "value": 176.049,
          "variable": "Johor_Production"
         },
         {
          "dt": "2002-01-01T00:00:00",
          "value": 177.839,
          "variable": "Johor_Production"
         },
         {
          "dt": "2002-02-01T00:00:00",
          "value": 140.047,
          "variable": "Johor_Production"
         },
         {
          "dt": "2002-03-01T00:00:00",
          "value": 162.689,
          "variable": "Johor_Production"
         },
         {
          "dt": "2002-04-01T00:00:00",
          "value": 160.742,
          "variable": "Johor_Production"
         },
         {
          "dt": "2002-05-01T00:00:00",
          "value": 176.955,
          "variable": "Johor_Production"
         },
         {
          "dt": "2002-06-01T00:00:00",
          "value": 187.515,
          "variable": "Johor_Production"
         },
         {
          "dt": "2002-07-01T00:00:00",
          "value": 207.064,
          "variable": "Johor_Production"
         },
         {
          "dt": "2002-08-01T00:00:00",
          "value": 214.915,
          "variable": "Johor_Production"
         },
         {
          "dt": "2002-09-01T00:00:00",
          "value": 230.929,
          "variable": "Johor_Production"
         },
         {
          "dt": "2002-10-01T00:00:00",
          "value": 230.638,
          "variable": "Johor_Production"
         },
         {
          "dt": "2002-11-01T00:00:00",
          "value": 205.439,
          "variable": "Johor_Production"
         },
         {
          "dt": "2002-12-01T00:00:00",
          "value": 177.754,
          "variable": "Johor_Production"
         },
         {
          "dt": "2003-01-01T00:00:00",
          "value": 170.296,
          "variable": "Johor_Production"
         },
         {
          "dt": "2003-02-01T00:00:00",
          "value": 153.45,
          "variable": "Johor_Production"
         },
         {
          "dt": "2003-03-01T00:00:00",
          "value": 197.905,
          "variable": "Johor_Production"
         },
         {
          "dt": "2003-04-01T00:00:00",
          "value": 221.055,
          "variable": "Johor_Production"
         },
         {
          "dt": "2003-05-01T00:00:00",
          "value": 232.739,
          "variable": "Johor_Production"
         },
         {
          "dt": "2003-06-01T00:00:00",
          "value": 241.319,
          "variable": "Johor_Production"
         },
         {
          "dt": "2003-07-01T00:00:00",
          "value": 248.74,
          "variable": "Johor_Production"
         },
         {
          "dt": "2003-08-01T00:00:00",
          "value": 242.578,
          "variable": "Johor_Production"
         },
         {
          "dt": "2003-09-01T00:00:00",
          "value": 248.51,
          "variable": "Johor_Production"
         },
         {
          "dt": "2003-10-01T00:00:00",
          "value": 223.714,
          "variable": "Johor_Production"
         },
         {
          "dt": "2003-11-01T00:00:00",
          "value": 193.828,
          "variable": "Johor_Production"
         },
         {
          "dt": "2003-12-01T00:00:00",
          "value": 231.986,
          "variable": "Johor_Production"
         },
         {
          "dt": "2004-01-01T00:00:00",
          "value": 161.686,
          "variable": "Johor_Production"
         },
         {
          "dt": "2004-02-01T00:00:00",
          "value": 167.235,
          "variable": "Johor_Production"
         },
         {
          "dt": "2004-03-01T00:00:00",
          "value": 180.851,
          "variable": "Johor_Production"
         },
         {
          "dt": "2004-04-01T00:00:00",
          "value": 191.626,
          "variable": "Johor_Production"
         },
         {
          "dt": "2004-05-01T00:00:00",
          "value": 220.506,
          "variable": "Johor_Production"
         },
         {
          "dt": "2004-06-01T00:00:00",
          "value": 233.33,
          "variable": "Johor_Production"
         },
         {
          "dt": "2004-07-01T00:00:00",
          "value": 240.156,
          "variable": "Johor_Production"
         },
         {
          "dt": "2004-08-01T00:00:00",
          "value": 235.884,
          "variable": "Johor_Production"
         },
         {
          "dt": "2004-09-01T00:00:00",
          "value": 255.614,
          "variable": "Johor_Production"
         },
         {
          "dt": "2004-10-01T00:00:00",
          "value": 250.95,
          "variable": "Johor_Production"
         },
         {
          "dt": "2004-11-01T00:00:00",
          "value": 220.849,
          "variable": "Johor_Production"
         },
         {
          "dt": "2004-12-01T00:00:00",
          "value": 233.651,
          "variable": "Johor_Production"
         },
         {
          "dt": "2005-01-01T00:00:00",
          "value": 205.973,
          "variable": "Johor_Production"
         },
         {
          "dt": "2005-02-01T00:00:00",
          "value": 183.37,
          "variable": "Johor_Production"
         },
         {
          "dt": "2005-03-01T00:00:00",
          "value": 218.398,
          "variable": "Johor_Production"
         },
         {
          "dt": "2005-04-01T00:00:00",
          "value": 214.688,
          "variable": "Johor_Production"
         },
         {
          "dt": "2005-05-01T00:00:00",
          "value": 236.13,
          "variable": "Johor_Production"
         },
         {
          "dt": "2005-06-01T00:00:00",
          "value": 229.296,
          "variable": "Johor_Production"
         },
         {
          "dt": "2005-07-01T00:00:00",
          "value": 237.548,
          "variable": "Johor_Production"
         },
         {
          "dt": "2005-08-01T00:00:00",
          "value": 230.896,
          "variable": "Johor_Production"
         },
         {
          "dt": "2005-09-01T00:00:00",
          "value": 239.294,
          "variable": "Johor_Production"
         },
         {
          "dt": "2005-10-01T00:00:00",
          "value": 223.837,
          "variable": "Johor_Production"
         },
         {
          "dt": "2005-11-01T00:00:00",
          "value": 190.419,
          "variable": "Johor_Production"
         },
         {
          "dt": "2005-12-01T00:00:00",
          "value": 160.418,
          "variable": "Johor_Production"
         },
         {
          "dt": "2006-01-01T00:00:00",
          "value": 145.637,
          "variable": "Johor_Production"
         },
         {
          "dt": "2006-02-01T00:00:00",
          "value": 193.908,
          "variable": "Johor_Production"
         },
         {
          "dt": "2006-03-01T00:00:00",
          "value": 229.324,
          "variable": "Johor_Production"
         },
         {
          "dt": "2006-04-01T00:00:00",
          "value": 240.346,
          "variable": "Johor_Production"
         },
         {
          "dt": "2006-05-01T00:00:00",
          "value": 267.948,
          "variable": "Johor_Production"
         },
         {
          "dt": "2006-06-01T00:00:00",
          "value": 260.255,
          "variable": "Johor_Production"
         },
         {
          "dt": "2006-07-01T00:00:00",
          "value": 265.266,
          "variable": "Johor_Production"
         },
         {
          "dt": "2006-08-01T00:00:00",
          "value": 290.846,
          "variable": "Johor_Production"
         },
         {
          "dt": "2006-09-01T00:00:00",
          "value": 279.002,
          "variable": "Johor_Production"
         },
         {
          "dt": "2006-10-01T00:00:00",
          "value": 226.696,
          "variable": "Johor_Production"
         },
         {
          "dt": "2006-11-01T00:00:00",
          "value": 260.429,
          "variable": "Johor_Production"
         },
         {
          "dt": "2006-12-01T00:00:00",
          "value": 161.383,
          "variable": "Johor_Production"
         },
         {
          "dt": "2007-01-01T00:00:00",
          "value": 160.215,
          "variable": "Johor_Production"
         },
         {
          "dt": "2007-02-01T00:00:00",
          "value": 148.427,
          "variable": "Johor_Production"
         },
         {
          "dt": "2007-03-01T00:00:00",
          "value": 172.007,
          "variable": "Johor_Production"
         },
         {
          "dt": "2007-04-01T00:00:00",
          "value": 182.575,
          "variable": "Johor_Production"
         },
         {
          "dt": "2007-05-01T00:00:00",
          "value": 196.112,
          "variable": "Johor_Production"
         },
         {
          "dt": "2007-06-01T00:00:00",
          "value": 191.218,
          "variable": "Johor_Production"
         },
         {
          "dt": "2007-07-01T00:00:00",
          "value": 244.877,
          "variable": "Johor_Production"
         },
         {
          "dt": "2007-08-01T00:00:00",
          "value": 268.332,
          "variable": "Johor_Production"
         },
         {
          "dt": "2007-09-01T00:00:00",
          "value": 270.622,
          "variable": "Johor_Production"
         },
         {
          "dt": "2007-10-01T00:00:00",
          "value": 270.185,
          "variable": "Johor_Production"
         },
         {
          "dt": "2007-11-01T00:00:00",
          "value": 276.955,
          "variable": "Johor_Production"
         },
         {
          "dt": "2007-12-01T00:00:00",
          "value": 243.713,
          "variable": "Johor_Production"
         },
         {
          "dt": "2008-01-01T00:00:00",
          "value": 241.662,
          "variable": "Johor_Production"
         },
         {
          "dt": "2008-02-01T00:00:00",
          "value": 217.673,
          "variable": "Johor_Production"
         },
         {
          "dt": "2008-03-01T00:00:00",
          "value": 229.253,
          "variable": "Johor_Production"
         },
         {
          "dt": "2008-04-01T00:00:00",
          "value": 209.989,
          "variable": "Johor_Production"
         },
         {
          "dt": "2008-05-01T00:00:00",
          "value": 229.763,
          "variable": "Johor_Production"
         },
         {
          "dt": "2008-06-01T00:00:00",
          "value": 231.758,
          "variable": "Johor_Production"
         },
         {
          "dt": "2008-07-01T00:00:00",
          "value": 252.11,
          "variable": "Johor_Production"
         },
         {
          "dt": "2008-08-01T00:00:00",
          "value": 258.638,
          "variable": "Johor_Production"
         },
         {
          "dt": "2008-09-01T00:00:00",
          "value": 248.514,
          "variable": "Johor_Production"
         },
         {
          "dt": "2008-10-01T00:00:00",
          "value": 269.094,
          "variable": "Johor_Production"
         },
         {
          "dt": "2008-11-01T00:00:00",
          "value": 281.432,
          "variable": "Johor_Production"
         },
         {
          "dt": "2008-12-01T00:00:00",
          "value": 251.442,
          "variable": "Johor_Production"
         },
         {
          "dt": "2009-01-01T00:00:00",
          "value": 221.711,
          "variable": "Johor_Production"
         },
         {
          "dt": "2009-02-01T00:00:00",
          "value": 208.299,
          "variable": "Johor_Production"
         },
         {
          "dt": "2009-03-01T00:00:00",
          "value": 206.43,
          "variable": "Johor_Production"
         },
         {
          "dt": "2009-04-01T00:00:00",
          "value": 214.957,
          "variable": "Johor_Production"
         },
         {
          "dt": "2009-05-01T00:00:00",
          "value": 244.809,
          "variable": "Johor_Production"
         },
         {
          "dt": "2009-06-01T00:00:00",
          "value": 260.523,
          "variable": "Johor_Production"
         },
         {
          "dt": "2009-07-01T00:00:00",
          "value": 273.706,
          "variable": "Johor_Production"
         },
         {
          "dt": "2009-08-01T00:00:00",
          "value": 247.842,
          "variable": "Johor_Production"
         },
         {
          "dt": "2009-09-01T00:00:00",
          "value": 244.425,
          "variable": "Johor_Production"
         },
         {
          "dt": "2009-10-01T00:00:00",
          "value": 326.184,
          "variable": "Johor_Production"
         },
         {
          "dt": "2009-11-01T00:00:00",
          "value": 253.616,
          "variable": "Johor_Production"
         },
         {
          "dt": "2009-12-01T00:00:00",
          "value": 235.343,
          "variable": "Johor_Production"
         },
         {
          "dt": "2010-01-01T00:00:00",
          "value": 209.505,
          "variable": "Johor_Production"
         },
         {
          "dt": "2010-02-01T00:00:00",
          "value": 193.756,
          "variable": "Johor_Production"
         },
         {
          "dt": "2010-03-01T00:00:00",
          "value": 232.43,
          "variable": "Johor_Production"
         },
         {
          "dt": "2010-04-01T00:00:00",
          "value": 217.338,
          "variable": "Johor_Production"
         },
         {
          "dt": "2010-05-01T00:00:00",
          "value": 245.879,
          "variable": "Johor_Production"
         },
         {
          "dt": "2010-06-01T00:00:00",
          "value": 258.857,
          "variable": "Johor_Production"
         },
         {
          "dt": "2010-07-01T00:00:00",
          "value": 264.492,
          "variable": "Johor_Production"
         },
         {
          "dt": "2010-08-01T00:00:00",
          "value": 255.194,
          "variable": "Johor_Production"
         },
         {
          "dt": "2010-09-01T00:00:00",
          "value": 245.335,
          "variable": "Johor_Production"
         },
         {
          "dt": "2010-10-01T00:00:00",
          "value": 266.321,
          "variable": "Johor_Production"
         },
         {
          "dt": "2010-11-01T00:00:00",
          "value": 232.593,
          "variable": "Johor_Production"
         },
         {
          "dt": "2010-12-01T00:00:00",
          "value": 186.448,
          "variable": "Johor_Production"
         },
         {
          "dt": "2011-01-01T00:00:00",
          "value": 169.897,
          "variable": "Johor_Production"
         },
         {
          "dt": "2011-02-01T00:00:00",
          "value": 172.278,
          "variable": "Johor_Production"
         },
         {
          "dt": "2011-03-01T00:00:00",
          "value": 229.479,
          "variable": "Johor_Production"
         },
         {
          "dt": "2011-04-01T00:00:00",
          "value": 242.912,
          "variable": "Johor_Production"
         },
         {
          "dt": "2011-05-01T00:00:00",
          "value": 284.842,
          "variable": "Johor_Production"
         },
         {
          "dt": "2011-06-01T00:00:00",
          "value": 285.567,
          "variable": "Johor_Production"
         },
         {
          "dt": "2011-07-01T00:00:00",
          "value": 278.396,
          "variable": "Johor_Production"
         },
         {
          "dt": "2011-08-01T00:00:00",
          "value": 268.496,
          "variable": "Johor_Production"
         },
         {
          "dt": "2011-09-01T00:00:00",
          "value": 302.377,
          "variable": "Johor_Production"
         },
         {
          "dt": "2011-10-01T00:00:00",
          "value": 309.233,
          "variable": "Johor_Production"
         },
         {
          "dt": "2011-11-01T00:00:00",
          "value": 255.19,
          "variable": "Johor_Production"
         },
         {
          "dt": "2011-12-01T00:00:00",
          "value": 223.67,
          "variable": "Johor_Production"
         },
         {
          "dt": "2012-01-01T00:00:00",
          "value": 191.594,
          "variable": "Johor_Production"
         },
         {
          "dt": "2012-02-01T00:00:00",
          "value": 181.334,
          "variable": "Johor_Production"
         },
         {
          "dt": "2012-03-01T00:00:00",
          "value": 180.834,
          "variable": "Johor_Production"
         },
         {
          "dt": "2012-04-01T00:00:00",
          "value": 198.155,
          "variable": "Johor_Production"
         },
         {
          "dt": "2012-05-01T00:00:00",
          "value": 225.183,
          "variable": "Johor_Production"
         },
         {
          "dt": "2012-06-01T00:00:00",
          "value": 249.569,
          "variable": "Johor_Production"
         },
         {
          "dt": "2012-07-01T00:00:00",
          "value": 278.021,
          "variable": "Johor_Production"
         },
         {
          "dt": "2012-08-01T00:00:00",
          "value": 257.313,
          "variable": "Johor_Production"
         },
         {
          "dt": "2012-09-01T00:00:00",
          "value": 320.36,
          "variable": "Johor_Production"
         },
         {
          "dt": "2012-10-01T00:00:00",
          "value": 306.34,
          "variable": "Johor_Production"
         },
         {
          "dt": "2012-11-01T00:00:00",
          "value": 289.152,
          "variable": "Johor_Production"
         },
         {
          "dt": "2012-12-01T00:00:00",
          "value": 268.765,
          "variable": "Johor_Production"
         },
         {
          "dt": "2013-01-01T00:00:00",
          "value": 236.864,
          "variable": "Johor_Production"
         },
         {
          "dt": "2013-02-01T00:00:00",
          "value": 180.277,
          "variable": "Johor_Production"
         },
         {
          "dt": "2013-03-01T00:00:00",
          "value": 196.443,
          "variable": "Johor_Production"
         },
         {
          "dt": "2013-04-01T00:00:00",
          "value": 217.999,
          "variable": "Johor_Production"
         },
         {
          "dt": "2013-05-01T00:00:00",
          "value": 222.98,
          "variable": "Johor_Production"
         },
         {
          "dt": "2013-06-01T00:00:00",
          "value": 246.078,
          "variable": "Johor_Production"
         },
         {
          "dt": "2013-07-01T00:00:00",
          "value": 278.357,
          "variable": "Johor_Production"
         },
         {
          "dt": "2013-08-01T00:00:00",
          "value": 269.148,
          "variable": "Johor_Production"
         },
         {
          "dt": "2013-09-01T00:00:00",
          "value": 306.037,
          "variable": "Johor_Production"
         },
         {
          "dt": "2013-10-01T00:00:00",
          "value": 315.86,
          "variable": "Johor_Production"
         },
         {
          "dt": "2013-11-01T00:00:00",
          "value": 289.997,
          "variable": "Johor_Production"
         },
         {
          "dt": "2013-12-01T00:00:00",
          "value": 253.845,
          "variable": "Johor_Production"
         },
         {
          "dt": "2014-01-01T00:00:00",
          "value": 235.748,
          "variable": "Johor_Production"
         },
         {
          "dt": "2014-02-01T00:00:00",
          "value": 194.587,
          "variable": "Johor_Production"
         },
         {
          "dt": "2014-03-01T00:00:00",
          "value": 223.268,
          "variable": "Johor_Production"
         },
         {
          "dt": "2014-04-01T00:00:00",
          "value": 225.776,
          "variable": "Johor_Production"
         },
         {
          "dt": "2014-05-01T00:00:00",
          "value": 248.045,
          "variable": "Johor_Production"
         },
         {
          "dt": "2014-06-01T00:00:00",
          "value": 257.604,
          "variable": "Johor_Production"
         },
         {
          "dt": "2014-07-01T00:00:00",
          "value": 278.807,
          "variable": "Johor_Production"
         },
         {
          "dt": "2014-08-01T00:00:00",
          "value": 329.485,
          "variable": "Johor_Production"
         },
         {
          "dt": "2014-09-01T00:00:00",
          "value": 295.434,
          "variable": "Johor_Production"
         },
         {
          "dt": "2014-10-01T00:00:00",
          "value": 294.13,
          "variable": "Johor_Production"
         },
         {
          "dt": "2014-11-01T00:00:00",
          "value": 263.147,
          "variable": "Johor_Production"
         },
         {
          "dt": "2014-12-01T00:00:00",
          "value": 201.004,
          "variable": "Johor_Production"
         },
         {
          "dt": "2015-01-01T00:00:00",
          "value": 171.725,
          "variable": "Johor_Production"
         },
         {
          "dt": "2015-02-01T00:00:00",
          "value": 188.325,
          "variable": "Johor_Production"
         },
         {
          "dt": "2015-03-01T00:00:00",
          "value": 247.856,
          "variable": "Johor_Production"
         },
         {
          "dt": "2015-04-01T00:00:00",
          "value": 282.791,
          "variable": "Johor_Production"
         },
         {
          "dt": "2015-05-01T00:00:00",
          "value": 291.057,
          "variable": "Johor_Production"
         },
         {
          "dt": "2015-06-01T00:00:00",
          "value": 287.502,
          "variable": "Johor_Production"
         },
         {
          "dt": "2015-07-01T00:00:00",
          "value": 288.086,
          "variable": "Johor_Production"
         },
         {
          "dt": "2015-08-01T00:00:00",
          "value": 313.321,
          "variable": "Johor_Production"
         },
         {
          "dt": "2015-09-01T00:00:00",
          "value": 299.337,
          "variable": "Johor_Production"
         },
         {
          "dt": "2015-10-01T00:00:00",
          "value": 300.383,
          "variable": "Johor_Production"
         },
         {
          "dt": "2015-11-01T00:00:00",
          "value": 246.005,
          "variable": "Johor_Production"
         },
         {
          "dt": "2015-12-01T00:00:00",
          "value": 201.231,
          "variable": "Johor_Production"
         },
         {
          "dt": "2016-01-01T00:00:00",
          "value": 163.84,
          "variable": "Johor_Production"
         },
         {
          "dt": "2016-02-01T00:00:00",
          "value": 166.663,
          "variable": "Johor_Production"
         },
         {
          "dt": "2016-03-01T00:00:00",
          "value": 185.974,
          "variable": "Johor_Production"
         },
         {
          "dt": "2016-04-01T00:00:00",
          "value": 200.321,
          "variable": "Johor_Production"
         },
         {
          "dt": "2016-05-01T00:00:00",
          "value": 207.485,
          "variable": "Johor_Production"
         },
         {
          "dt": "2016-06-01T00:00:00",
          "value": 229.105,
          "variable": "Johor_Production"
         },
         {
          "dt": "2016-07-01T00:00:00",
          "value": 232.726,
          "variable": "Johor_Production"
         },
         {
          "dt": "2016-08-01T00:00:00",
          "value": 264.981,
          "variable": "Johor_Production"
         },
         {
          "dt": "2016-09-01T00:00:00",
          "value": 280.248,
          "variable": "Johor_Production"
         },
         {
          "dt": "2016-10-01T00:00:00",
          "value": 284.922,
          "variable": "Johor_Production"
         },
         {
          "dt": "2016-11-01T00:00:00",
          "value": 274.107,
          "variable": "Johor_Production"
         },
         {
          "dt": "2016-12-01T00:00:00",
          "value": 254.881,
          "variable": "Johor_Production"
         },
         {
          "dt": "2017-01-01T00:00:00",
          "value": 211.81,
          "variable": "Johor_Production"
         },
         {
          "dt": "2017-02-01T00:00:00",
          "value": 214.747,
          "variable": "Johor_Production"
         },
         {
          "dt": "2017-03-01T00:00:00",
          "value": 210.002,
          "variable": "Johor_Production"
         },
         {
          "dt": "2017-04-01T00:00:00",
          "value": 216.574,
          "variable": "Johor_Production"
         },
         {
          "dt": "2017-05-01T00:00:00",
          "value": 225.834,
          "variable": "Johor_Production"
         },
         {
          "dt": "2017-06-01T00:00:00",
          "value": 205.989,
          "variable": "Johor_Production"
         },
         {
          "dt": "2017-07-01T00:00:00",
          "value": 284.963,
          "variable": "Johor_Production"
         },
         {
          "dt": "2017-08-01T00:00:00",
          "value": 293.14,
          "variable": "Johor_Production"
         },
         {
          "dt": "2017-09-01T00:00:00",
          "value": 295.578,
          "variable": "Johor_Production"
         },
         {
          "dt": "1999-02-01T00:00:00",
          "value": 50.775,
          "variable": "Johor_Rainfall"
         },
         {
          "dt": "1999-03-01T00:00:00",
          "value": 281.75,
          "variable": "Johor_Rainfall"
         },
         {
          "dt": "1999-04-01T00:00:00",
          "value": 144.15,
          "variable": "Johor_Rainfall"
         },
         {
          "dt": "1999-05-01T00:00:00",
          "value": 159.6,
          "variable": "Johor_Rainfall"
         },
         {
          "dt": "1999-06-01T00:00:00",
          "value": 101.925,
          "variable": "Johor_Rainfall"
         },
         {
          "dt": "1999-07-01T00:00:00",
          "value": 148.975,
          "variable": "Johor_Rainfall"
         },
         {
          "dt": "1999-08-01T00:00:00",
          "value": 169.525,
          "variable": "Johor_Rainfall"
         },
         {
          "dt": "1999-09-01T00:00:00",
          "value": 131.3,
          "variable": "Johor_Rainfall"
         },
         {
          "dt": "1999-10-01T00:00:00",
          "value": 246.2,
          "variable": "Johor_Rainfall"
         },
         {
          "dt": "1999-11-01T00:00:00",
          "value": 177.6,
          "variable": "Johor_Rainfall"
         },
         {
          "dt": "1999-12-01T00:00:00",
          "value": 171.275,
          "variable": "Johor_Rainfall"
         },
         {
          "dt": "2000-01-01T00:00:00",
          "value": 289,
          "variable": "Johor_Rainfall"
         },
         {
          "dt": "2000-02-01T00:00:00",
          "value": 127.95,
          "variable": "Johor_Rainfall"
         },
         {
          "dt": "2000-03-01T00:00:00",
          "value": 243.2,
          "variable": "Johor_Rainfall"
         },
         {
          "dt": "2000-04-01T00:00:00",
          "value": 209.625,
          "variable": "Johor_Rainfall"
         },
         {
          "dt": "2000-05-01T00:00:00",
          "value": 107.1,
          "variable": "Johor_Rainfall"
         },
         {
          "dt": "2000-06-01T00:00:00",
          "value": 156.175,
          "variable": "Johor_Rainfall"
         },
         {
          "dt": "2000-07-01T00:00:00",
          "value": 165.325,
          "variable": "Johor_Rainfall"
         },
         {
          "dt": "2000-08-01T00:00:00",
          "value": 212.675,
          "variable": "Johor_Rainfall"
         },
         {
          "dt": "2000-09-01T00:00:00",
          "value": 141.25,
          "variable": "Johor_Rainfall"
         },
         {
          "dt": "2000-10-01T00:00:00",
          "value": 131.35,
          "variable": "Johor_Rainfall"
         },
         {
          "dt": "2000-11-01T00:00:00",
          "value": 248.975,
          "variable": "Johor_Rainfall"
         },
         {
          "dt": "2000-12-01T00:00:00",
          "value": 366.775,
          "variable": "Johor_Rainfall"
         },
         {
          "dt": "2001-01-01T00:00:00",
          "value": 487.125,
          "variable": "Johor_Rainfall"
         },
         {
          "dt": "2001-02-01T00:00:00",
          "value": 101.975,
          "variable": "Johor_Rainfall"
         },
         {
          "dt": "2001-03-01T00:00:00",
          "value": 173.25,
          "variable": "Johor_Rainfall"
         },
         {
          "dt": "2001-04-01T00:00:00",
          "value": 198,
          "variable": "Johor_Rainfall"
         },
         {
          "dt": "2001-05-01T00:00:00",
          "value": 150.025,
          "variable": "Johor_Rainfall"
         },
         {
          "dt": "2001-06-01T00:00:00",
          "value": 139.25,
          "variable": "Johor_Rainfall"
         },
         {
          "dt": "2001-07-01T00:00:00",
          "value": 118.55,
          "variable": "Johor_Rainfall"
         },
         {
          "dt": "2001-08-01T00:00:00",
          "value": 121.675,
          "variable": "Johor_Rainfall"
         },
         {
          "dt": "2001-09-01T00:00:00",
          "value": 147.4,
          "variable": "Johor_Rainfall"
         },
         {
          "dt": "2001-10-01T00:00:00",
          "value": 266.725,
          "variable": "Johor_Rainfall"
         },
         {
          "dt": "2001-11-01T00:00:00",
          "value": 198.025,
          "variable": "Johor_Rainfall"
         },
         {
          "dt": "2001-12-01T00:00:00",
          "value": 352.325,
          "variable": "Johor_Rainfall"
         },
         {
          "dt": "2002-01-01T00:00:00",
          "value": 176.25,
          "variable": "Johor_Rainfall"
         },
         {
          "dt": "2002-02-01T00:00:00",
          "value": 58.65,
          "variable": "Johor_Rainfall"
         },
         {
          "dt": "2002-03-01T00:00:00",
          "value": 140.5,
          "variable": "Johor_Rainfall"
         },
         {
          "dt": "2002-04-01T00:00:00",
          "value": 193.775,
          "variable": "Johor_Rainfall"
         },
         {
          "dt": "2002-05-01T00:00:00",
          "value": 217.625,
          "variable": "Johor_Rainfall"
         },
         {
          "dt": "2002-06-01T00:00:00",
          "value": 94.6,
          "variable": "Johor_Rainfall"
         },
         {
          "dt": "2002-07-01T00:00:00",
          "value": 182.625,
          "variable": "Johor_Rainfall"
         },
         {
          "dt": "2002-08-01T00:00:00",
          "value": 161.375,
          "variable": "Johor_Rainfall"
         },
         {
          "dt": "2002-09-01T00:00:00",
          "value": 184.175,
          "variable": "Johor_Rainfall"
         },
         {
          "dt": "2002-10-01T00:00:00",
          "value": 121.1,
          "variable": "Johor_Rainfall"
         },
         {
          "dt": "2002-11-01T00:00:00",
          "value": 295.425,
          "variable": "Johor_Rainfall"
         },
         {
          "dt": "2002-12-01T00:00:00",
          "value": 264.85,
          "variable": "Johor_Rainfall"
         },
         {
          "dt": "2003-01-01T00:00:00",
          "value": 383.375,
          "variable": "Johor_Rainfall"
         },
         {
          "dt": "2003-02-01T00:00:00",
          "value": 90.3,
          "variable": "Johor_Rainfall"
         },
         {
          "dt": "2003-03-01T00:00:00",
          "value": 129.125,
          "variable": "Johor_Rainfall"
         },
         {
          "dt": "2003-04-01T00:00:00",
          "value": 185.325,
          "variable": "Johor_Rainfall"
         },
         {
          "dt": "2003-05-01T00:00:00",
          "value": 112.425,
          "variable": "Johor_Rainfall"
         },
         {
          "dt": "2003-06-01T00:00:00",
          "value": 154.3,
          "variable": "Johor_Rainfall"
         },
         {
          "dt": "2003-07-01T00:00:00",
          "value": 164.325,
          "variable": "Johor_Rainfall"
         },
         {
          "dt": "2003-08-01T00:00:00",
          "value": 145.825,
          "variable": "Johor_Rainfall"
         },
         {
          "dt": "2003-09-01T00:00:00",
          "value": 217.55,
          "variable": "Johor_Rainfall"
         },
         {
          "dt": "2003-10-01T00:00:00",
          "value": 268.45,
          "variable": "Johor_Rainfall"
         },
         {
          "dt": "2003-11-01T00:00:00",
          "value": 253.2,
          "variable": "Johor_Rainfall"
         },
         {
          "dt": "2003-12-01T00:00:00",
          "value": 270.475,
          "variable": "Johor_Rainfall"
         },
         {
          "dt": "2004-01-01T00:00:00",
          "value": 271.35,
          "variable": "Johor_Rainfall"
         },
         {
          "dt": "2004-02-01T00:00:00",
          "value": 28.125,
          "variable": "Johor_Rainfall"
         },
         {
          "dt": "2004-03-01T00:00:00",
          "value": 425.675,
          "variable": "Johor_Rainfall"
         },
         {
          "dt": "2004-04-01T00:00:00",
          "value": 144.125,
          "variable": "Johor_Rainfall"
         },
         {
          "dt": "2004-05-01T00:00:00",
          "value": 89.225,
          "variable": "Johor_Rainfall"
         },
         {
          "dt": "2004-06-01T00:00:00",
          "value": 90.6,
          "variable": "Johor_Rainfall"
         },
         {
          "dt": "2004-07-01T00:00:00",
          "value": 230.025,
          "variable": "Johor_Rainfall"
         },
         {
          "dt": "2004-08-01T00:00:00",
          "value": 116,
          "variable": "Johor_Rainfall"
         },
         {
          "dt": "2004-09-01T00:00:00",
          "value": 171.75,
          "variable": "Johor_Rainfall"
         },
         {
          "dt": "2004-10-01T00:00:00",
          "value": 254.025,
          "variable": "Johor_Rainfall"
         },
         {
          "dt": "2004-11-01T00:00:00",
          "value": 326.425,
          "variable": "Johor_Rainfall"
         },
         {
          "dt": "2004-12-01T00:00:00",
          "value": 197.475,
          "variable": "Johor_Rainfall"
         },
         {
          "dt": "2005-01-01T00:00:00",
          "value": 125.925,
          "variable": "Johor_Rainfall"
         },
         {
          "dt": "2005-02-01T00:00:00",
          "value": 36.5,
          "variable": "Johor_Rainfall"
         },
         {
          "dt": "2005-03-01T00:00:00",
          "value": 123.25,
          "variable": "Johor_Rainfall"
         },
         {
          "dt": "2005-04-01T00:00:00",
          "value": 170.075,
          "variable": "Johor_Rainfall"
         },
         {
          "dt": "2005-05-01T00:00:00",
          "value": 210.2,
          "variable": "Johor_Rainfall"
         },
         {
          "dt": "2005-06-01T00:00:00",
          "value": 148.725,
          "variable": "Johor_Rainfall"
         },
         {
          "dt": "2005-07-01T00:00:00",
          "value": 169.975,
          "variable": "Johor_Rainfall"
         },
         {
          "dt": "2005-08-01T00:00:00",
          "value": 220,
          "variable": "Johor_Rainfall"
         },
         {
          "dt": "2005-09-01T00:00:00",
          "value": 185.35,
          "variable": "Johor_Rainfall"
         },
         {
          "dt": "2005-10-01T00:00:00",
          "value": 236.75,
          "variable": "Johor_Rainfall"
         },
         {
          "dt": "2005-11-01T00:00:00",
          "value": 323.75,
          "variable": "Johor_Rainfall"
         },
         {
          "dt": "2005-12-01T00:00:00",
          "value": 219,
          "variable": "Johor_Rainfall"
         },
         {
          "dt": "2006-01-01T00:00:00",
          "value": 222.5,
          "variable": "Johor_Rainfall"
         },
         {
          "dt": "2006-02-01T00:00:00",
          "value": 129.75,
          "variable": "Johor_Rainfall"
         },
         {
          "dt": "2006-03-01T00:00:00",
          "value": 116.25,
          "variable": "Johor_Rainfall"
         },
         {
          "dt": "2006-04-01T00:00:00",
          "value": 219.25,
          "variable": "Johor_Rainfall"
         },
         {
          "dt": "2006-05-01T00:00:00",
          "value": 156.5,
          "variable": "Johor_Rainfall"
         },
         {
          "dt": "2006-06-01T00:00:00",
          "value": 239.75,
          "variable": "Johor_Rainfall"
         },
         {
          "dt": "2006-07-01T00:00:00",
          "value": 170.75,
          "variable": "Johor_Rainfall"
         },
         {
          "dt": "2006-08-01T00:00:00",
          "value": 113,
          "variable": "Johor_Rainfall"
         },
         {
          "dt": "2006-09-01T00:00:00",
          "value": 173.725,
          "variable": "Johor_Rainfall"
         },
         {
          "dt": "2006-10-01T00:00:00",
          "value": 145.85,
          "variable": "Johor_Rainfall"
         },
         {
          "dt": "2006-11-01T00:00:00",
          "value": 300.225,
          "variable": "Johor_Rainfall"
         },
         {
          "dt": "2006-12-01T00:00:00",
          "value": 663.35,
          "variable": "Johor_Rainfall"
         },
         {
          "dt": "2007-01-01T00:00:00",
          "value": 625.45,
          "variable": "Johor_Rainfall"
         },
         {
          "dt": "2007-02-01T00:00:00",
          "value": 112.775,
          "variable": "Johor_Rainfall"
         },
         {
          "dt": "2007-03-01T00:00:00",
          "value": 151.6,
          "variable": "Johor_Rainfall"
         },
         {
          "dt": "2007-04-01T00:00:00",
          "value": 239.9,
          "variable": "Johor_Rainfall"
         },
         {
          "dt": "2007-05-01T00:00:00",
          "value": 204.35,
          "variable": "Johor_Rainfall"
         },
         {
          "dt": "2007-06-01T00:00:00",
          "value": 196.475,
          "variable": "Johor_Rainfall"
         },
         {
          "dt": "2007-07-01T00:00:00",
          "value": 189.45,
          "variable": "Johor_Rainfall"
         },
         {
          "dt": "2007-08-01T00:00:00",
          "value": 196.65,
          "variable": "Johor_Rainfall"
         },
         {
          "dt": "2007-09-01T00:00:00",
          "value": 188.55,
          "variable": "Johor_Rainfall"
         },
         {
          "dt": "2007-10-01T00:00:00",
          "value": 173.15,
          "variable": "Johor_Rainfall"
         },
         {
          "dt": "2007-11-01T00:00:00",
          "value": 261.75,
          "variable": "Johor_Rainfall"
         },
         {
          "dt": "2007-12-01T00:00:00",
          "value": 443.075,
          "variable": "Johor_Rainfall"
         },
         {
          "dt": "2008-01-01T00:00:00",
          "value": 257.45,
          "variable": "Johor_Rainfall"
         },
         {
          "dt": "2008-02-01T00:00:00",
          "value": 175.9,
          "variable": "Johor_Rainfall"
         },
         {
          "dt": "2008-03-01T00:00:00",
          "value": 342.1,
          "variable": "Johor_Rainfall"
         },
         {
          "dt": "2008-04-01T00:00:00",
          "value": 212.6,
          "variable": "Johor_Rainfall"
         },
         {
          "dt": "2008-05-01T00:00:00",
          "value": 115.325,
          "variable": "Johor_Rainfall"
         },
         {
          "dt": "2008-06-01T00:00:00",
          "value": 204.4,
          "variable": "Johor_Rainfall"
         },
         {
          "dt": "2008-07-01T00:00:00",
          "value": 229.35,
          "variable": "Johor_Rainfall"
         },
         {
          "dt": "2008-08-01T00:00:00",
          "value": 200.2,
          "variable": "Johor_Rainfall"
         },
         {
          "dt": "2008-09-01T00:00:00",
          "value": 214.925,
          "variable": "Johor_Rainfall"
         },
         {
          "dt": "2008-10-01T00:00:00",
          "value": 289.2,
          "variable": "Johor_Rainfall"
         },
         {
          "dt": "2008-11-01T00:00:00",
          "value": 243.6,
          "variable": "Johor_Rainfall"
         },
         {
          "dt": "2008-12-01T00:00:00",
          "value": 303.35,
          "variable": "Johor_Rainfall"
         },
         {
          "dt": "2009-01-01T00:00:00",
          "value": 119.9,
          "variable": "Johor_Rainfall"
         },
         {
          "dt": "2009-02-01T00:00:00",
          "value": 103.975,
          "variable": "Johor_Rainfall"
         },
         {
          "dt": "2009-03-01T00:00:00",
          "value": 274.1,
          "variable": "Johor_Rainfall"
         },
         {
          "dt": "2009-04-01T00:00:00",
          "value": 212.75,
          "variable": "Johor_Rainfall"
         },
         {
          "dt": "2009-05-01T00:00:00",
          "value": 172.95,
          "variable": "Johor_Rainfall"
         },
         {
          "dt": "2009-06-01T00:00:00",
          "value": 84.4,
          "variable": "Johor_Rainfall"
         },
         {
          "dt": "2009-07-01T00:00:00",
          "value": 143.4,
          "variable": "Johor_Rainfall"
         },
         {
          "dt": "2009-08-01T00:00:00",
          "value": 146.475,
          "variable": "Johor_Rainfall"
         },
         {
          "dt": "2009-09-01T00:00:00",
          "value": 153.65,
          "variable": "Johor_Rainfall"
         },
         {
          "dt": "2009-10-01T00:00:00",
          "value": 117.45,
          "variable": "Johor_Rainfall"
         },
         {
          "dt": "2009-11-01T00:00:00",
          "value": 267.95,
          "variable": "Johor_Rainfall"
         },
         {
          "dt": "2009-12-01T00:00:00",
          "value": 159.6,
          "variable": "Johor_Rainfall"
         },
         {
          "dt": "2010-01-01T00:00:00",
          "value": 108.1,
          "variable": "Johor_Rainfall"
         },
         {
          "dt": "2010-02-01T00:00:00",
          "value": 66.35,
          "variable": "Johor_Rainfall"
         },
         {
          "dt": "2010-03-01T00:00:00",
          "value": 158.3,
          "variable": "Johor_Rainfall"
         },
         {
          "dt": "2010-04-01T00:00:00",
          "value": 247.575,
          "variable": "Johor_Rainfall"
         },
         {
          "dt": "2010-05-01T00:00:00",
          "value": 191.65,
          "variable": "Johor_Rainfall"
         },
         {
          "dt": "2010-06-01T00:00:00",
          "value": 175.875,
          "variable": "Johor_Rainfall"
         },
         {
          "dt": "2010-07-01T00:00:00",
          "value": 176.7,
          "variable": "Johor_Rainfall"
         },
         {
          "dt": "2010-08-01T00:00:00",
          "value": 164.5,
          "variable": "Johor_Rainfall"
         },
         {
          "dt": "2010-09-01T00:00:00",
          "value": 183.75,
          "variable": "Johor_Rainfall"
         },
         {
          "dt": "2010-10-01T00:00:00",
          "value": 123.9,
          "variable": "Johor_Rainfall"
         },
         {
          "dt": "2010-11-01T00:00:00",
          "value": 274.175,
          "variable": "Johor_Rainfall"
         },
         {
          "dt": "2010-12-01T00:00:00",
          "value": 225.2,
          "variable": "Johor_Rainfall"
         },
         {
          "dt": "2011-01-01T00:00:00",
          "value": 443.55,
          "variable": "Johor_Rainfall"
         },
         {
          "dt": "2011-02-01T00:00:00",
          "value": 39.35,
          "variable": "Johor_Rainfall"
         },
         {
          "dt": "2011-03-01T00:00:00",
          "value": 251.325,
          "variable": "Johor_Rainfall"
         },
         {
          "dt": "2011-04-01T00:00:00",
          "value": 174.95,
          "variable": "Johor_Rainfall"
         },
         {
          "dt": "2011-05-01T00:00:00",
          "value": 170.9,
          "variable": "Johor_Rainfall"
         },
         {
          "dt": "2011-06-01T00:00:00",
          "value": 160.55,
          "variable": "Johor_Rainfall"
         },
         {
          "dt": "2011-07-01T00:00:00",
          "value": 119.1,
          "variable": "Johor_Rainfall"
         },
         {
          "dt": "2011-08-01T00:00:00",
          "value": 171.7,
          "variable": "Johor_Rainfall"
         },
         {
          "dt": "2011-09-01T00:00:00",
          "value": 198.7,
          "variable": "Johor_Rainfall"
         },
         {
          "dt": "2011-10-01T00:00:00",
          "value": 357.15,
          "variable": "Johor_Rainfall"
         },
         {
          "dt": "2011-11-01T00:00:00",
          "value": 299.675,
          "variable": "Johor_Rainfall"
         },
         {
          "dt": "2011-12-01T00:00:00",
          "value": 435.65,
          "variable": "Johor_Rainfall"
         },
         {
          "dt": "2012-01-01T00:00:00",
          "value": 209.3,
          "variable": "Johor_Rainfall"
         },
         {
          "dt": "2012-02-01T00:00:00",
          "value": 157.75,
          "variable": "Johor_Rainfall"
         },
         {
          "dt": "2012-03-01T00:00:00",
          "value": 214.1,
          "variable": "Johor_Rainfall"
         },
         {
          "dt": "2012-04-01T00:00:00",
          "value": 186.95,
          "variable": "Johor_Rainfall"
         },
         {
          "dt": "2012-05-01T00:00:00",
          "value": 163.25,
          "variable": "Johor_Rainfall"
         },
         {
          "dt": "2012-06-01T00:00:00",
          "value": 69.95,
          "variable": "Johor_Rainfall"
         },
         {
          "dt": "2012-07-01T00:00:00",
          "value": 160.75,
          "variable": "Johor_Rainfall"
         },
         {
          "dt": "2012-08-01T00:00:00",
          "value": 233.025,
          "variable": "Johor_Rainfall"
         },
         {
          "dt": "2012-09-01T00:00:00",
          "value": 176.525,
          "variable": "Johor_Rainfall"
         },
         {
          "dt": "2012-10-01T00:00:00",
          "value": 188.025,
          "variable": "Johor_Rainfall"
         },
         {
          "dt": "2012-11-01T00:00:00",
          "value": 398.55,
          "variable": "Johor_Rainfall"
         },
         {
          "dt": "2012-12-01T00:00:00",
          "value": 350.025,
          "variable": "Johor_Rainfall"
         },
         {
          "dt": "2013-01-01T00:00:00",
          "value": 327.85,
          "variable": "Johor_Rainfall"
         },
         {
          "dt": "2013-02-01T00:00:00",
          "value": 299.725,
          "variable": "Johor_Rainfall"
         },
         {
          "dt": "2013-03-01T00:00:00",
          "value": 154.25,
          "variable": "Johor_Rainfall"
         },
         {
          "dt": "2013-04-01T00:00:00",
          "value": 150.6,
          "variable": "Johor_Rainfall"
         },
         {
          "dt": "2013-05-01T00:00:00",
          "value": 183.425,
          "variable": "Johor_Rainfall"
         },
         {
          "dt": "2013-06-01T00:00:00",
          "value": 45.45,
          "variable": "Johor_Rainfall"
         },
         {
          "dt": "2013-07-01T00:00:00",
          "value": 85.7,
          "variable": "Johor_Rainfall"
         },
         {
          "dt": "2013-08-01T00:00:00",
          "value": 171.125,
          "variable": "Johor_Rainfall"
         },
         {
          "dt": "2013-09-01T00:00:00",
          "value": 214.75,
          "variable": "Johor_Rainfall"
         },
         {
          "dt": "2013-10-01T00:00:00",
          "value": 186.25,
          "variable": "Johor_Rainfall"
         },
         {
          "dt": "2013-11-01T00:00:00",
          "value": 219.65,
          "variable": "Johor_Rainfall"
         },
         {
          "dt": "2013-12-01T00:00:00",
          "value": 400.625,
          "variable": "Johor_Rainfall"
         },
         {
          "dt": "2014-01-01T00:00:00",
          "value": 96.4,
          "variable": "Johor_Rainfall"
         },
         {
          "dt": "2014-02-01T00:00:00",
          "value": 26.15,
          "variable": "Johor_Rainfall"
         },
         {
          "dt": "2014-03-01T00:00:00",
          "value": 153.45,
          "variable": "Johor_Rainfall"
         },
         {
          "dt": "2014-04-01T00:00:00",
          "value": 248.1,
          "variable": "Johor_Rainfall"
         },
         {
          "dt": "2014-05-01T00:00:00",
          "value": 263.65,
          "variable": "Johor_Rainfall"
         },
         {
          "dt": "2014-06-01T00:00:00",
          "value": 139.9,
          "variable": "Johor_Rainfall"
         },
         {
          "dt": "2014-07-01T00:00:00",
          "value": 152.8,
          "variable": "Johor_Rainfall"
         },
         {
          "dt": "2014-08-01T00:00:00",
          "value": 238.5,
          "variable": "Johor_Rainfall"
         },
         {
          "dt": "2014-09-01T00:00:00",
          "value": 140.55,
          "variable": "Johor_Rainfall"
         },
         {
          "dt": "2014-10-01T00:00:00",
          "value": 205.6,
          "variable": "Johor_Rainfall"
         },
         {
          "dt": "2014-11-01T00:00:00",
          "value": 336.95,
          "variable": "Johor_Rainfall"
         },
         {
          "dt": "2014-12-01T00:00:00",
          "value": 429.1,
          "variable": "Johor_Rainfall"
         },
         {
          "dt": "2015-01-01T00:00:00",
          "value": 157.25,
          "variable": "Johor_Rainfall"
         },
         {
          "dt": "2015-02-01T00:00:00",
          "value": 42.25,
          "variable": "Johor_Rainfall"
         },
         {
          "dt": "2015-03-01T00:00:00",
          "value": 138.25,
          "variable": "Johor_Rainfall"
         },
         {
          "dt": "2015-04-01T00:00:00",
          "value": 201.15,
          "variable": "Johor_Rainfall"
         },
         {
          "dt": "2015-05-01T00:00:00",
          "value": 192.9,
          "variable": "Johor_Rainfall"
         },
         {
          "dt": "2015-06-01T00:00:00",
          "value": 143.25,
          "variable": "Johor_Rainfall"
         },
         {
          "dt": "2015-07-01T00:00:00",
          "value": 155.55,
          "variable": "Johor_Rainfall"
         },
         {
          "dt": "2015-08-01T00:00:00",
          "value": 163.1175,
          "variable": "Johor_Rainfall"
         },
         {
          "dt": "2015-09-01T00:00:00",
          "value": 162.95,
          "variable": "Johor_Rainfall"
         },
         {
          "dt": "2015-10-01T00:00:00",
          "value": 156.65,
          "variable": "Johor_Rainfall"
         },
         {
          "dt": "2015-11-01T00:00:00",
          "value": 290.7,
          "variable": "Johor_Rainfall"
         },
         {
          "dt": "2015-12-01T00:00:00",
          "value": 365,
          "variable": "Johor_Rainfall"
         },
         {
          "dt": "2016-01-01T00:00:00",
          "value": 148.15,
          "variable": "Johor_Rainfall"
         },
         {
          "dt": "2016-02-01T00:00:00",
          "value": 138.75,
          "variable": "Johor_Rainfall"
         },
         {
          "dt": "2016-03-01T00:00:00",
          "value": 96.1,
          "variable": "Johor_Rainfall"
         },
         {
          "dt": "2016-04-01T00:00:00",
          "value": 114.55,
          "variable": "Johor_Rainfall"
         },
         {
          "dt": "2016-05-01T00:00:00",
          "value": 168.3,
          "variable": "Johor_Rainfall"
         },
         {
          "dt": "2016-06-01T00:00:00",
          "value": 107.4,
          "variable": "Johor_Rainfall"
         },
         {
          "dt": "2016-07-01T00:00:00",
          "value": 74.15,
          "variable": "Johor_Rainfall"
         },
         {
          "dt": "2016-08-01T00:00:00",
          "value": 126.55,
          "variable": "Johor_Rainfall"
         },
         {
          "dt": "2016-09-01T00:00:00",
          "value": 161.85,
          "variable": "Johor_Rainfall"
         },
         {
          "dt": "2016-10-01T00:00:00",
          "value": 194.7,
          "variable": "Johor_Rainfall"
         },
         {
          "dt": "2016-11-01T00:00:00",
          "value": 221.4,
          "variable": "Johor_Rainfall"
         },
         {
          "dt": "2016-12-01T00:00:00",
          "value": 197.3175,
          "variable": "Johor_Rainfall"
         },
         {
          "dt": "2017-01-01T00:00:00",
          "value": 230.025,
          "variable": "Johor_Rainfall"
         },
         {
          "dt": "2017-02-01T00:00:00",
          "value": 165.185,
          "variable": "Johor_Rainfall"
         },
         {
          "dt": "2017-03-01T00:00:00",
          "value": 190.185,
          "variable": "Johor_Rainfall"
         },
         {
          "dt": "2017-04-01T00:00:00",
          "value": 170.7,
          "variable": "Johor_Rainfall"
         },
         {
          "dt": "2017-05-01T00:00:00",
          "value": 240.7,
          "variable": "Johor_Rainfall"
         },
         {
          "dt": "2017-06-01T00:00:00",
          "value": 122.95,
          "variable": "Johor_Rainfall"
         },
         {
          "dt": "2017-07-01T00:00:00",
          "value": 107.55,
          "variable": "Johor_Rainfall"
         },
         {
          "dt": "2017-08-01T00:00:00",
          "value": 205.15,
          "variable": "Johor_Rainfall"
         },
         {
          "dt": "2017-09-01T00:00:00",
          "value": 0,
          "variable": "Johor_Rainfall"
         }
        ]
       },
       "facet": {
        "field": "variable",
        "type": "nominal"
       },
       "resolve": {
        "scale": {
         "x": "independent",
         "y": "independent"
        }
       },
       "spec": {
        "encoding": {
         "x": {
          "axis": {
           "format": "%b %y"
          },
          "field": "dt",
          "type": "temporal"
         },
         "y": {
          "field": "value",
          "type": "quantitative"
         }
        },
        "height": 200,
        "mark": "line",
        "width": 400
       }
      },
      "text/plain": [
       "<VegaLite 4 object>\n",
       "\n",
       "If you see this message, it means the renderer has not been properly enabled\n",
       "for the frontend that you are using. For more information, see\n",
       "https://altair-viz.github.io/user_guide/troubleshooting.html\n"
      ]
     },
     "execution_count": 87,
     "metadata": {},
     "output_type": "execute_result"
    }
   ],
   "source": [
    "cols = ['Johor_Area_ma', 'Johor_Area_npa', 'Johor_Area_rpa', 'Johor_Area_ma_new', 'dt', 'Johor_Production', 'Johor_Rainfall']\n",
    "alt.Chart(pd.melt(X[cols], \"dt\")).mark_line() \\\n",
    ".encode(\n",
    "    x = alt.X(\"dt:T\", axis=alt.Axis(format=\"%b %y\")),\n",
    "    y = alt.Y(\"value:Q\")\n",
    ").properties(width=800 / 2, height=800 / 4) \\\n",
    ".facet(\n",
    "    facet=alt.Facet(\"variable:N\"),\n",
    "    columns=2\n",
    ").resolve_scale(y=\"independent\", x=\"independent\")"
   ]
  },
  {
   "cell_type": "code",
   "execution_count": 88,
   "metadata": {},
   "outputs": [
    {
     "data": {
      "application/vnd.vegalite.v4+json": {
       "$schema": "https://vega.github.io/schema/vega-lite/v4.8.1.json",
       "columns": 2,
       "concat": [
        {
         "encoding": {
          "x": {
           "field": "value",
           "scale": {
            "zero": false
           },
           "type": "quantitative"
          },
          "y": {
           "field": "Johor_Production",
           "scale": {
            "zero": false
           },
           "type": "quantitative"
          }
         },
         "height": 300,
         "mark": "point",
         "title": "column: Johor_Rainfall; correlation: -0.052764264188146004; mutual information: 0.0",
         "transform": [
          {
           "filter": {
            "equal": "Johor_Rainfall",
            "field": "variable"
           }
          }
         ],
         "width": 500
        },
        {
         "encoding": {
          "x": {
           "field": "value",
           "scale": {
            "zero": false
           },
           "type": "quantitative"
          },
          "y": {
           "field": "Johor_Production",
           "scale": {
            "zero": false
           },
           "type": "quantitative"
          }
         },
         "height": 300,
         "mark": "point",
         "title": "column: Johor_Area_rpa; correlation: 0.20266475845630594; mutual information: 0.10686345986871126",
         "transform": [
          {
           "filter": {
            "equal": "Johor_Area_rpa",
            "field": "variable"
           }
          }
         ],
         "width": 500
        },
        {
         "encoding": {
          "x": {
           "field": "value",
           "scale": {
            "zero": false
           },
           "type": "quantitative"
          },
          "y": {
           "field": "Johor_Production",
           "scale": {
            "zero": false
           },
           "type": "quantitative"
          }
         },
         "height": 300,
         "mark": "point",
         "title": "column: Johor_Area_npa; correlation: 0.4178851507354506; mutual information: 0.14275114583714688",
         "transform": [
          {
           "filter": {
            "equal": "Johor_Area_npa",
            "field": "variable"
           }
          }
         ],
         "width": 500
        },
        {
         "encoding": {
          "x": {
           "field": "value",
           "scale": {
            "zero": false
           },
           "type": "quantitative"
          },
          "y": {
           "field": "Johor_Production",
           "scale": {
            "zero": false
           },
           "type": "quantitative"
          }
         },
         "height": 300,
         "mark": "point",
         "title": "column: Johor_Area_ma_new; correlation: -0.24676339055714575; mutual information: 0.11480175286914118",
         "transform": [
          {
           "filter": {
            "equal": "Johor_Area_ma_new",
            "field": "variable"
           }
          }
         ],
         "width": 500
        }
       ],
       "config": {
        "axis": {
         "labelFontSize": 11,
         "titleFontSize": 11
        },
        "title": {
         "fontSize": 13
        },
        "view": {
         "continuousHeight": 300,
         "continuousWidth": 400
        }
       },
       "data": {
        "name": "data-ceba8b99d49b4b757c136328cc14c354"
       },
       "datasets": {
        "data-ceba8b99d49b4b757c136328cc14c354": [
         {
          "Johor_Production": 147.24,
          "dt": "1999-02-01T00:00:00",
          "value": 574,
          "variable": "Johor_Area_ma"
         },
         {
          "Johor_Production": 169.754,
          "dt": "1999-03-01T00:00:00",
          "value": 574,
          "variable": "Johor_Area_ma"
         },
         {
          "Johor_Production": 192.155,
          "dt": "1999-04-01T00:00:00",
          "value": 574,
          "variable": "Johor_Area_ma"
         },
         {
          "Johor_Production": 216.57,
          "dt": "1999-05-01T00:00:00",
          "value": 574,
          "variable": "Johor_Area_ma"
         },
         {
          "Johor_Production": 210.553,
          "dt": "1999-06-01T00:00:00",
          "value": 574,
          "variable": "Johor_Area_ma"
         },
         {
          "Johor_Production": 223.731,
          "dt": "1999-07-01T00:00:00",
          "value": 574,
          "variable": "Johor_Area_ma"
         },
         {
          "Johor_Production": 224.397,
          "dt": "1999-08-01T00:00:00",
          "value": 574,
          "variable": "Johor_Area_ma"
         },
         {
          "Johor_Production": 234.327,
          "dt": "1999-09-01T00:00:00",
          "value": 574,
          "variable": "Johor_Area_ma"
         },
         {
          "Johor_Production": 237.426,
          "dt": "1999-10-01T00:00:00",
          "value": 574,
          "variable": "Johor_Area_ma"
         },
         {
          "Johor_Production": 225.412,
          "dt": "1999-11-01T00:00:00",
          "value": 574,
          "variable": "Johor_Area_ma"
         },
         {
          "Johor_Production": 210.489,
          "dt": "1999-12-01T00:00:00",
          "value": 574,
          "variable": "Johor_Area_ma"
         },
         {
          "Johor_Production": 176.328,
          "dt": "2000-01-01T00:00:00",
          "value": 582,
          "variable": "Johor_Area_ma"
         },
         {
          "Johor_Production": 164.926,
          "dt": "2000-02-01T00:00:00",
          "value": 582,
          "variable": "Johor_Area_ma"
         },
         {
          "Johor_Production": 173.124,
          "dt": "2000-03-01T00:00:00",
          "value": 582,
          "variable": "Johor_Area_ma"
         },
         {
          "Johor_Production": 177.804,
          "dt": "2000-04-01T00:00:00",
          "value": 582,
          "variable": "Johor_Area_ma"
         },
         {
          "Johor_Production": 185.927,
          "dt": "2000-05-01T00:00:00",
          "value": 582,
          "variable": "Johor_Area_ma"
         },
         {
          "Johor_Production": 199.5,
          "dt": "2000-06-01T00:00:00",
          "value": 582,
          "variable": "Johor_Area_ma"
         },
         {
          "Johor_Production": 204.75,
          "dt": "2000-07-01T00:00:00",
          "value": 582,
          "variable": "Johor_Area_ma"
         },
         {
          "Johor_Production": 211.713,
          "dt": "2000-08-01T00:00:00",
          "value": 582,
          "variable": "Johor_Area_ma"
         },
         {
          "Johor_Production": 233.193,
          "dt": "2000-09-01T00:00:00",
          "value": 582,
          "variable": "Johor_Area_ma"
         },
         {
          "Johor_Production": 239.385,
          "dt": "2000-10-01T00:00:00",
          "value": 582,
          "variable": "Johor_Area_ma"
         },
         {
          "Johor_Production": 239.598,
          "dt": "2000-11-01T00:00:00",
          "value": 582,
          "variable": "Johor_Area_ma"
         },
         {
          "Johor_Production": 175.965,
          "dt": "2000-12-01T00:00:00",
          "value": 582,
          "variable": "Johor_Area_ma"
         },
         {
          "Johor_Production": 199.24,
          "dt": "2001-01-01T00:00:00",
          "value": 581,
          "variable": "Johor_Area_ma"
         },
         {
          "Johor_Production": 171.77,
          "dt": "2001-02-01T00:00:00",
          "value": 581,
          "variable": "Johor_Area_ma"
         },
         {
          "Johor_Production": 170.966,
          "dt": "2001-03-01T00:00:00",
          "value": 581,
          "variable": "Johor_Area_ma"
         },
         {
          "Johor_Production": 176.878,
          "dt": "2001-04-01T00:00:00",
          "value": 581,
          "variable": "Johor_Area_ma"
         },
         {
          "Johor_Production": 188.395,
          "dt": "2001-05-01T00:00:00",
          "value": 581,
          "variable": "Johor_Area_ma"
         },
         {
          "Johor_Production": 183.676,
          "dt": "2001-06-01T00:00:00",
          "value": 581,
          "variable": "Johor_Area_ma"
         },
         {
          "Johor_Production": 187.813,
          "dt": "2001-07-01T00:00:00",
          "value": 581,
          "variable": "Johor_Area_ma"
         },
         {
          "Johor_Production": 211.931,
          "dt": "2001-08-01T00:00:00",
          "value": 581,
          "variable": "Johor_Area_ma"
         },
         {
          "Johor_Production": 221.399,
          "dt": "2001-09-01T00:00:00",
          "value": 581,
          "variable": "Johor_Area_ma"
         },
         {
          "Johor_Production": 230.672,
          "dt": "2001-10-01T00:00:00",
          "value": 581,
          "variable": "Johor_Area_ma"
         },
         {
          "Johor_Production": 209.077,
          "dt": "2001-11-01T00:00:00",
          "value": 581,
          "variable": "Johor_Area_ma"
         },
         {
          "Johor_Production": 176.049,
          "dt": "2001-12-01T00:00:00",
          "value": 581,
          "variable": "Johor_Area_ma"
         },
         {
          "Johor_Production": 177.839,
          "dt": "2002-01-01T00:00:00",
          "value": 599,
          "variable": "Johor_Area_ma"
         },
         {
          "Johor_Production": 140.047,
          "dt": "2002-02-01T00:00:00",
          "value": 599,
          "variable": "Johor_Area_ma"
         },
         {
          "Johor_Production": 162.689,
          "dt": "2002-03-01T00:00:00",
          "value": 599,
          "variable": "Johor_Area_ma"
         },
         {
          "Johor_Production": 160.742,
          "dt": "2002-04-01T00:00:00",
          "value": 599,
          "variable": "Johor_Area_ma"
         },
         {
          "Johor_Production": 176.955,
          "dt": "2002-05-01T00:00:00",
          "value": 599,
          "variable": "Johor_Area_ma"
         },
         {
          "Johor_Production": 187.515,
          "dt": "2002-06-01T00:00:00",
          "value": 599,
          "variable": "Johor_Area_ma"
         },
         {
          "Johor_Production": 207.064,
          "dt": "2002-07-01T00:00:00",
          "value": 599,
          "variable": "Johor_Area_ma"
         },
         {
          "Johor_Production": 214.915,
          "dt": "2002-08-01T00:00:00",
          "value": 599,
          "variable": "Johor_Area_ma"
         },
         {
          "Johor_Production": 230.929,
          "dt": "2002-09-01T00:00:00",
          "value": 599,
          "variable": "Johor_Area_ma"
         },
         {
          "Johor_Production": 230.638,
          "dt": "2002-10-01T00:00:00",
          "value": 599,
          "variable": "Johor_Area_ma"
         },
         {
          "Johor_Production": 205.439,
          "dt": "2002-11-01T00:00:00",
          "value": 599,
          "variable": "Johor_Area_ma"
         },
         {
          "Johor_Production": 177.754,
          "dt": "2002-12-01T00:00:00",
          "value": 599,
          "variable": "Johor_Area_ma"
         },
         {
          "Johor_Production": 170.296,
          "dt": "2003-01-01T00:00:00",
          "value": 598,
          "variable": "Johor_Area_ma"
         },
         {
          "Johor_Production": 153.45,
          "dt": "2003-02-01T00:00:00",
          "value": 598,
          "variable": "Johor_Area_ma"
         },
         {
          "Johor_Production": 197.905,
          "dt": "2003-03-01T00:00:00",
          "value": 598,
          "variable": "Johor_Area_ma"
         },
         {
          "Johor_Production": 221.055,
          "dt": "2003-04-01T00:00:00",
          "value": 598,
          "variable": "Johor_Area_ma"
         },
         {
          "Johor_Production": 232.739,
          "dt": "2003-05-01T00:00:00",
          "value": 598,
          "variable": "Johor_Area_ma"
         },
         {
          "Johor_Production": 241.319,
          "dt": "2003-06-01T00:00:00",
          "value": 598,
          "variable": "Johor_Area_ma"
         },
         {
          "Johor_Production": 248.74,
          "dt": "2003-07-01T00:00:00",
          "value": 598,
          "variable": "Johor_Area_ma"
         },
         {
          "Johor_Production": 242.578,
          "dt": "2003-08-01T00:00:00",
          "value": 598,
          "variable": "Johor_Area_ma"
         },
         {
          "Johor_Production": 248.51,
          "dt": "2003-09-01T00:00:00",
          "value": 598,
          "variable": "Johor_Area_ma"
         },
         {
          "Johor_Production": 223.714,
          "dt": "2003-10-01T00:00:00",
          "value": 598,
          "variable": "Johor_Area_ma"
         },
         {
          "Johor_Production": 193.828,
          "dt": "2003-11-01T00:00:00",
          "value": 598,
          "variable": "Johor_Area_ma"
         },
         {
          "Johor_Production": 231.986,
          "dt": "2003-12-01T00:00:00",
          "value": 598,
          "variable": "Johor_Area_ma"
         },
         {
          "Johor_Production": 161.686,
          "dt": "2004-01-01T00:00:00",
          "value": 605,
          "variable": "Johor_Area_ma"
         },
         {
          "Johor_Production": 167.235,
          "dt": "2004-02-01T00:00:00",
          "value": 605,
          "variable": "Johor_Area_ma"
         },
         {
          "Johor_Production": 180.851,
          "dt": "2004-03-01T00:00:00",
          "value": 605,
          "variable": "Johor_Area_ma"
         },
         {
          "Johor_Production": 191.626,
          "dt": "2004-04-01T00:00:00",
          "value": 605,
          "variable": "Johor_Area_ma"
         },
         {
          "Johor_Production": 220.506,
          "dt": "2004-05-01T00:00:00",
          "value": 605,
          "variable": "Johor_Area_ma"
         },
         {
          "Johor_Production": 233.33,
          "dt": "2004-06-01T00:00:00",
          "value": 605,
          "variable": "Johor_Area_ma"
         },
         {
          "Johor_Production": 240.156,
          "dt": "2004-07-01T00:00:00",
          "value": 605,
          "variable": "Johor_Area_ma"
         },
         {
          "Johor_Production": 235.884,
          "dt": "2004-08-01T00:00:00",
          "value": 605,
          "variable": "Johor_Area_ma"
         },
         {
          "Johor_Production": 255.614,
          "dt": "2004-09-01T00:00:00",
          "value": 605,
          "variable": "Johor_Area_ma"
         },
         {
          "Johor_Production": 250.95,
          "dt": "2004-10-01T00:00:00",
          "value": 605,
          "variable": "Johor_Area_ma"
         },
         {
          "Johor_Production": 220.849,
          "dt": "2004-11-01T00:00:00",
          "value": 605,
          "variable": "Johor_Area_ma"
         },
         {
          "Johor_Production": 233.651,
          "dt": "2004-12-01T00:00:00",
          "value": 605,
          "variable": "Johor_Area_ma"
         },
         {
          "Johor_Production": 205.973,
          "dt": "2005-01-01T00:00:00",
          "value": 602,
          "variable": "Johor_Area_ma"
         },
         {
          "Johor_Production": 183.37,
          "dt": "2005-02-01T00:00:00",
          "value": 602,
          "variable": "Johor_Area_ma"
         },
         {
          "Johor_Production": 218.398,
          "dt": "2005-03-01T00:00:00",
          "value": 602,
          "variable": "Johor_Area_ma"
         },
         {
          "Johor_Production": 214.688,
          "dt": "2005-04-01T00:00:00",
          "value": 602,
          "variable": "Johor_Area_ma"
         },
         {
          "Johor_Production": 236.13,
          "dt": "2005-05-01T00:00:00",
          "value": 602,
          "variable": "Johor_Area_ma"
         },
         {
          "Johor_Production": 229.296,
          "dt": "2005-06-01T00:00:00",
          "value": 602,
          "variable": "Johor_Area_ma"
         },
         {
          "Johor_Production": 237.548,
          "dt": "2005-07-01T00:00:00",
          "value": 602,
          "variable": "Johor_Area_ma"
         },
         {
          "Johor_Production": 230.896,
          "dt": "2005-08-01T00:00:00",
          "value": 602,
          "variable": "Johor_Area_ma"
         },
         {
          "Johor_Production": 239.294,
          "dt": "2005-09-01T00:00:00",
          "value": 602,
          "variable": "Johor_Area_ma"
         },
         {
          "Johor_Production": 223.837,
          "dt": "2005-10-01T00:00:00",
          "value": 602,
          "variable": "Johor_Area_ma"
         },
         {
          "Johor_Production": 190.419,
          "dt": "2005-11-01T00:00:00",
          "value": 602,
          "variable": "Johor_Area_ma"
         },
         {
          "Johor_Production": 160.418,
          "dt": "2005-12-01T00:00:00",
          "value": 602,
          "variable": "Johor_Area_ma"
         },
         {
          "Johor_Production": 145.637,
          "dt": "2006-01-01T00:00:00",
          "value": 608,
          "variable": "Johor_Area_ma"
         },
         {
          "Johor_Production": 193.908,
          "dt": "2006-02-01T00:00:00",
          "value": 608,
          "variable": "Johor_Area_ma"
         },
         {
          "Johor_Production": 229.324,
          "dt": "2006-03-01T00:00:00",
          "value": 608,
          "variable": "Johor_Area_ma"
         },
         {
          "Johor_Production": 240.346,
          "dt": "2006-04-01T00:00:00",
          "value": 608,
          "variable": "Johor_Area_ma"
         },
         {
          "Johor_Production": 267.948,
          "dt": "2006-05-01T00:00:00",
          "value": 608,
          "variable": "Johor_Area_ma"
         },
         {
          "Johor_Production": 260.255,
          "dt": "2006-06-01T00:00:00",
          "value": 608,
          "variable": "Johor_Area_ma"
         },
         {
          "Johor_Production": 265.266,
          "dt": "2006-07-01T00:00:00",
          "value": 608,
          "variable": "Johor_Area_ma"
         },
         {
          "Johor_Production": 290.846,
          "dt": "2006-08-01T00:00:00",
          "value": 608,
          "variable": "Johor_Area_ma"
         },
         {
          "Johor_Production": 279.002,
          "dt": "2006-09-01T00:00:00",
          "value": 608,
          "variable": "Johor_Area_ma"
         },
         {
          "Johor_Production": 226.696,
          "dt": "2006-10-01T00:00:00",
          "value": 608,
          "variable": "Johor_Area_ma"
         },
         {
          "Johor_Production": 260.429,
          "dt": "2006-11-01T00:00:00",
          "value": 608,
          "variable": "Johor_Area_ma"
         },
         {
          "Johor_Production": 161.383,
          "dt": "2006-12-01T00:00:00",
          "value": 608,
          "variable": "Johor_Area_ma"
         },
         {
          "Johor_Production": 160.215,
          "dt": "2007-01-01T00:00:00",
          "value": 596,
          "variable": "Johor_Area_ma"
         },
         {
          "Johor_Production": 148.427,
          "dt": "2007-02-01T00:00:00",
          "value": 596,
          "variable": "Johor_Area_ma"
         },
         {
          "Johor_Production": 172.007,
          "dt": "2007-03-01T00:00:00",
          "value": 596,
          "variable": "Johor_Area_ma"
         },
         {
          "Johor_Production": 182.575,
          "dt": "2007-04-01T00:00:00",
          "value": 596,
          "variable": "Johor_Area_ma"
         },
         {
          "Johor_Production": 196.112,
          "dt": "2007-05-01T00:00:00",
          "value": 596,
          "variable": "Johor_Area_ma"
         },
         {
          "Johor_Production": 191.218,
          "dt": "2007-06-01T00:00:00",
          "value": 596,
          "variable": "Johor_Area_ma"
         },
         {
          "Johor_Production": 244.877,
          "dt": "2007-07-01T00:00:00",
          "value": 596,
          "variable": "Johor_Area_ma"
         },
         {
          "Johor_Production": 268.332,
          "dt": "2007-08-01T00:00:00",
          "value": 596,
          "variable": "Johor_Area_ma"
         },
         {
          "Johor_Production": 270.622,
          "dt": "2007-09-01T00:00:00",
          "value": 596,
          "variable": "Johor_Area_ma"
         },
         {
          "Johor_Production": 270.185,
          "dt": "2007-10-01T00:00:00",
          "value": 596,
          "variable": "Johor_Area_ma"
         },
         {
          "Johor_Production": 276.955,
          "dt": "2007-11-01T00:00:00",
          "value": 596,
          "variable": "Johor_Area_ma"
         },
         {
          "Johor_Production": 243.713,
          "dt": "2007-12-01T00:00:00",
          "value": 596,
          "variable": "Johor_Area_ma"
         },
         {
          "Johor_Production": 241.662,
          "dt": "2008-01-01T00:00:00",
          "value": 616,
          "variable": "Johor_Area_ma"
         },
         {
          "Johor_Production": 217.673,
          "dt": "2008-02-01T00:00:00",
          "value": 616,
          "variable": "Johor_Area_ma"
         },
         {
          "Johor_Production": 229.253,
          "dt": "2008-03-01T00:00:00",
          "value": 616,
          "variable": "Johor_Area_ma"
         },
         {
          "Johor_Production": 209.989,
          "dt": "2008-04-01T00:00:00",
          "value": 616,
          "variable": "Johor_Area_ma"
         },
         {
          "Johor_Production": 229.763,
          "dt": "2008-05-01T00:00:00",
          "value": 616,
          "variable": "Johor_Area_ma"
         },
         {
          "Johor_Production": 231.758,
          "dt": "2008-06-01T00:00:00",
          "value": 616,
          "variable": "Johor_Area_ma"
         },
         {
          "Johor_Production": 252.11,
          "dt": "2008-07-01T00:00:00",
          "value": 616,
          "variable": "Johor_Area_ma"
         },
         {
          "Johor_Production": 258.638,
          "dt": "2008-08-01T00:00:00",
          "value": 616,
          "variable": "Johor_Area_ma"
         },
         {
          "Johor_Production": 248.514,
          "dt": "2008-09-01T00:00:00",
          "value": 616,
          "variable": "Johor_Area_ma"
         },
         {
          "Johor_Production": 269.094,
          "dt": "2008-10-01T00:00:00",
          "value": 616,
          "variable": "Johor_Area_ma"
         },
         {
          "Johor_Production": 281.432,
          "dt": "2008-11-01T00:00:00",
          "value": 616,
          "variable": "Johor_Area_ma"
         },
         {
          "Johor_Production": 251.442,
          "dt": "2008-12-01T00:00:00",
          "value": 616,
          "variable": "Johor_Area_ma"
         },
         {
          "Johor_Production": 221.711,
          "dt": "2009-01-01T00:00:00",
          "value": 633,
          "variable": "Johor_Area_ma"
         },
         {
          "Johor_Production": 208.299,
          "dt": "2009-02-01T00:00:00",
          "value": 633,
          "variable": "Johor_Area_ma"
         },
         {
          "Johor_Production": 206.43,
          "dt": "2009-03-01T00:00:00",
          "value": 633,
          "variable": "Johor_Area_ma"
         },
         {
          "Johor_Production": 214.957,
          "dt": "2009-04-01T00:00:00",
          "value": 633,
          "variable": "Johor_Area_ma"
         },
         {
          "Johor_Production": 244.809,
          "dt": "2009-05-01T00:00:00",
          "value": 633,
          "variable": "Johor_Area_ma"
         },
         {
          "Johor_Production": 260.523,
          "dt": "2009-06-01T00:00:00",
          "value": 633,
          "variable": "Johor_Area_ma"
         },
         {
          "Johor_Production": 273.706,
          "dt": "2009-07-01T00:00:00",
          "value": 633,
          "variable": "Johor_Area_ma"
         },
         {
          "Johor_Production": 247.842,
          "dt": "2009-08-01T00:00:00",
          "value": 633,
          "variable": "Johor_Area_ma"
         },
         {
          "Johor_Production": 244.425,
          "dt": "2009-09-01T00:00:00",
          "value": 633,
          "variable": "Johor_Area_ma"
         },
         {
          "Johor_Production": 326.184,
          "dt": "2009-10-01T00:00:00",
          "value": 633,
          "variable": "Johor_Area_ma"
         },
         {
          "Johor_Production": 253.616,
          "dt": "2009-11-01T00:00:00",
          "value": 633,
          "variable": "Johor_Area_ma"
         },
         {
          "Johor_Production": 235.343,
          "dt": "2009-12-01T00:00:00",
          "value": 633,
          "variable": "Johor_Area_ma"
         },
         {
          "Johor_Production": 209.505,
          "dt": "2010-01-01T00:00:00",
          "value": 636,
          "variable": "Johor_Area_ma"
         },
         {
          "Johor_Production": 193.756,
          "dt": "2010-02-01T00:00:00",
          "value": 636,
          "variable": "Johor_Area_ma"
         },
         {
          "Johor_Production": 232.43,
          "dt": "2010-03-01T00:00:00",
          "value": 636,
          "variable": "Johor_Area_ma"
         },
         {
          "Johor_Production": 217.338,
          "dt": "2010-04-01T00:00:00",
          "value": 636,
          "variable": "Johor_Area_ma"
         },
         {
          "Johor_Production": 245.879,
          "dt": "2010-05-01T00:00:00",
          "value": 636,
          "variable": "Johor_Area_ma"
         },
         {
          "Johor_Production": 258.857,
          "dt": "2010-06-01T00:00:00",
          "value": 636,
          "variable": "Johor_Area_ma"
         },
         {
          "Johor_Production": 264.492,
          "dt": "2010-07-01T00:00:00",
          "value": 636,
          "variable": "Johor_Area_ma"
         },
         {
          "Johor_Production": 255.194,
          "dt": "2010-08-01T00:00:00",
          "value": 636,
          "variable": "Johor_Area_ma"
         },
         {
          "Johor_Production": 245.335,
          "dt": "2010-09-01T00:00:00",
          "value": 636,
          "variable": "Johor_Area_ma"
         },
         {
          "Johor_Production": 266.321,
          "dt": "2010-10-01T00:00:00",
          "value": 636,
          "variable": "Johor_Area_ma"
         },
         {
          "Johor_Production": 232.593,
          "dt": "2010-11-01T00:00:00",
          "value": 636,
          "variable": "Johor_Area_ma"
         },
         {
          "Johor_Production": 186.448,
          "dt": "2010-12-01T00:00:00",
          "value": 636,
          "variable": "Johor_Area_ma"
         },
         {
          "Johor_Production": 169.897,
          "dt": "2011-01-01T00:00:00",
          "value": 631,
          "variable": "Johor_Area_ma"
         },
         {
          "Johor_Production": 172.278,
          "dt": "2011-02-01T00:00:00",
          "value": 631,
          "variable": "Johor_Area_ma"
         },
         {
          "Johor_Production": 229.479,
          "dt": "2011-03-01T00:00:00",
          "value": 631,
          "variable": "Johor_Area_ma"
         },
         {
          "Johor_Production": 242.912,
          "dt": "2011-04-01T00:00:00",
          "value": 631,
          "variable": "Johor_Area_ma"
         },
         {
          "Johor_Production": 284.842,
          "dt": "2011-05-01T00:00:00",
          "value": 631,
          "variable": "Johor_Area_ma"
         },
         {
          "Johor_Production": 285.567,
          "dt": "2011-06-01T00:00:00",
          "value": 631,
          "variable": "Johor_Area_ma"
         },
         {
          "Johor_Production": 278.396,
          "dt": "2011-07-01T00:00:00",
          "value": 631,
          "variable": "Johor_Area_ma"
         },
         {
          "Johor_Production": 268.496,
          "dt": "2011-08-01T00:00:00",
          "value": 631,
          "variable": "Johor_Area_ma"
         },
         {
          "Johor_Production": 302.377,
          "dt": "2011-09-01T00:00:00",
          "value": 631,
          "variable": "Johor_Area_ma"
         },
         {
          "Johor_Production": 309.233,
          "dt": "2011-10-01T00:00:00",
          "value": 631,
          "variable": "Johor_Area_ma"
         },
         {
          "Johor_Production": 255.19,
          "dt": "2011-11-01T00:00:00",
          "value": 631,
          "variable": "Johor_Area_ma"
         },
         {
          "Johor_Production": 223.67,
          "dt": "2011-12-01T00:00:00",
          "value": 631,
          "variable": "Johor_Area_ma"
         },
         {
          "Johor_Production": 191.594,
          "dt": "2012-01-01T00:00:00",
          "value": 618,
          "variable": "Johor_Area_ma"
         },
         {
          "Johor_Production": 181.334,
          "dt": "2012-02-01T00:00:00",
          "value": 618,
          "variable": "Johor_Area_ma"
         },
         {
          "Johor_Production": 180.834,
          "dt": "2012-03-01T00:00:00",
          "value": 618,
          "variable": "Johor_Area_ma"
         },
         {
          "Johor_Production": 198.155,
          "dt": "2012-04-01T00:00:00",
          "value": 618,
          "variable": "Johor_Area_ma"
         },
         {
          "Johor_Production": 225.183,
          "dt": "2012-05-01T00:00:00",
          "value": 618,
          "variable": "Johor_Area_ma"
         },
         {
          "Johor_Production": 249.569,
          "dt": "2012-06-01T00:00:00",
          "value": 618,
          "variable": "Johor_Area_ma"
         },
         {
          "Johor_Production": 278.021,
          "dt": "2012-07-01T00:00:00",
          "value": 618,
          "variable": "Johor_Area_ma"
         },
         {
          "Johor_Production": 257.313,
          "dt": "2012-08-01T00:00:00",
          "value": 618,
          "variable": "Johor_Area_ma"
         },
         {
          "Johor_Production": 320.36,
          "dt": "2012-09-01T00:00:00",
          "value": 618,
          "variable": "Johor_Area_ma"
         },
         {
          "Johor_Production": 306.34,
          "dt": "2012-10-01T00:00:00",
          "value": 618,
          "variable": "Johor_Area_ma"
         },
         {
          "Johor_Production": 289.152,
          "dt": "2012-11-01T00:00:00",
          "value": 618,
          "variable": "Johor_Area_ma"
         },
         {
          "Johor_Production": 268.765,
          "dt": "2012-12-01T00:00:00",
          "value": 618,
          "variable": "Johor_Area_ma"
         },
         {
          "Johor_Production": 236.864,
          "dt": "2013-01-01T00:00:00",
          "value": 640,
          "variable": "Johor_Area_ma"
         },
         {
          "Johor_Production": 180.277,
          "dt": "2013-02-01T00:00:00",
          "value": 640,
          "variable": "Johor_Area_ma"
         },
         {
          "Johor_Production": 196.443,
          "dt": "2013-03-01T00:00:00",
          "value": 640,
          "variable": "Johor_Area_ma"
         },
         {
          "Johor_Production": 217.999,
          "dt": "2013-04-01T00:00:00",
          "value": 640,
          "variable": "Johor_Area_ma"
         },
         {
          "Johor_Production": 222.98,
          "dt": "2013-05-01T00:00:00",
          "value": 640,
          "variable": "Johor_Area_ma"
         },
         {
          "Johor_Production": 246.078,
          "dt": "2013-06-01T00:00:00",
          "value": 640,
          "variable": "Johor_Area_ma"
         },
         {
          "Johor_Production": 278.357,
          "dt": "2013-07-01T00:00:00",
          "value": 640,
          "variable": "Johor_Area_ma"
         },
         {
          "Johor_Production": 269.148,
          "dt": "2013-08-01T00:00:00",
          "value": 640,
          "variable": "Johor_Area_ma"
         },
         {
          "Johor_Production": 306.037,
          "dt": "2013-09-01T00:00:00",
          "value": 640,
          "variable": "Johor_Area_ma"
         },
         {
          "Johor_Production": 315.86,
          "dt": "2013-10-01T00:00:00",
          "value": 640,
          "variable": "Johor_Area_ma"
         },
         {
          "Johor_Production": 289.997,
          "dt": "2013-11-01T00:00:00",
          "value": 640,
          "variable": "Johor_Area_ma"
         },
         {
          "Johor_Production": 253.845,
          "dt": "2013-12-01T00:00:00",
          "value": 640,
          "variable": "Johor_Area_ma"
         },
         {
          "Johor_Production": 235.748,
          "dt": "2014-01-01T00:00:00",
          "value": 651,
          "variable": "Johor_Area_ma"
         },
         {
          "Johor_Production": 194.587,
          "dt": "2014-02-01T00:00:00",
          "value": 651,
          "variable": "Johor_Area_ma"
         },
         {
          "Johor_Production": 223.268,
          "dt": "2014-03-01T00:00:00",
          "value": 651,
          "variable": "Johor_Area_ma"
         },
         {
          "Johor_Production": 225.776,
          "dt": "2014-04-01T00:00:00",
          "value": 651,
          "variable": "Johor_Area_ma"
         },
         {
          "Johor_Production": 248.045,
          "dt": "2014-05-01T00:00:00",
          "value": 651,
          "variable": "Johor_Area_ma"
         },
         {
          "Johor_Production": 257.604,
          "dt": "2014-06-01T00:00:00",
          "value": 651,
          "variable": "Johor_Area_ma"
         },
         {
          "Johor_Production": 278.807,
          "dt": "2014-07-01T00:00:00",
          "value": 651,
          "variable": "Johor_Area_ma"
         },
         {
          "Johor_Production": 329.485,
          "dt": "2014-08-01T00:00:00",
          "value": 651,
          "variable": "Johor_Area_ma"
         },
         {
          "Johor_Production": 295.434,
          "dt": "2014-09-01T00:00:00",
          "value": 651,
          "variable": "Johor_Area_ma"
         },
         {
          "Johor_Production": 294.13,
          "dt": "2014-10-01T00:00:00",
          "value": 651,
          "variable": "Johor_Area_ma"
         },
         {
          "Johor_Production": 263.147,
          "dt": "2014-11-01T00:00:00",
          "value": 651,
          "variable": "Johor_Area_ma"
         },
         {
          "Johor_Production": 201.004,
          "dt": "2014-12-01T00:00:00",
          "value": 651,
          "variable": "Johor_Area_ma"
         },
         {
          "Johor_Production": 171.725,
          "dt": "2015-01-01T00:00:00",
          "value": 666,
          "variable": "Johor_Area_ma"
         },
         {
          "Johor_Production": 188.325,
          "dt": "2015-02-01T00:00:00",
          "value": 666,
          "variable": "Johor_Area_ma"
         },
         {
          "Johor_Production": 247.856,
          "dt": "2015-03-01T00:00:00",
          "value": 666,
          "variable": "Johor_Area_ma"
         },
         {
          "Johor_Production": 282.791,
          "dt": "2015-04-01T00:00:00",
          "value": 666,
          "variable": "Johor_Area_ma"
         },
         {
          "Johor_Production": 291.057,
          "dt": "2015-05-01T00:00:00",
          "value": 666,
          "variable": "Johor_Area_ma"
         },
         {
          "Johor_Production": 287.502,
          "dt": "2015-06-01T00:00:00",
          "value": 666,
          "variable": "Johor_Area_ma"
         },
         {
          "Johor_Production": 288.086,
          "dt": "2015-07-01T00:00:00",
          "value": 666,
          "variable": "Johor_Area_ma"
         },
         {
          "Johor_Production": 313.321,
          "dt": "2015-08-01T00:00:00",
          "value": 666,
          "variable": "Johor_Area_ma"
         },
         {
          "Johor_Production": 299.337,
          "dt": "2015-09-01T00:00:00",
          "value": 666,
          "variable": "Johor_Area_ma"
         },
         {
          "Johor_Production": 300.383,
          "dt": "2015-10-01T00:00:00",
          "value": 666,
          "variable": "Johor_Area_ma"
         },
         {
          "Johor_Production": 246.005,
          "dt": "2015-11-01T00:00:00",
          "value": 666,
          "variable": "Johor_Area_ma"
         },
         {
          "Johor_Production": 201.231,
          "dt": "2015-12-01T00:00:00",
          "value": 666,
          "variable": "Johor_Area_ma"
         },
         {
          "Johor_Production": 163.84,
          "dt": "2016-01-01T00:00:00",
          "value": 679,
          "variable": "Johor_Area_ma"
         },
         {
          "Johor_Production": 166.663,
          "dt": "2016-02-01T00:00:00",
          "value": 679,
          "variable": "Johor_Area_ma"
         },
         {
          "Johor_Production": 185.974,
          "dt": "2016-03-01T00:00:00",
          "value": 679,
          "variable": "Johor_Area_ma"
         },
         {
          "Johor_Production": 200.321,
          "dt": "2016-04-01T00:00:00",
          "value": 679,
          "variable": "Johor_Area_ma"
         },
         {
          "Johor_Production": 207.485,
          "dt": "2016-05-01T00:00:00",
          "value": 679,
          "variable": "Johor_Area_ma"
         },
         {
          "Johor_Production": 229.105,
          "dt": "2016-06-01T00:00:00",
          "value": 679,
          "variable": "Johor_Area_ma"
         },
         {
          "Johor_Production": 232.726,
          "dt": "2016-07-01T00:00:00",
          "value": 679,
          "variable": "Johor_Area_ma"
         },
         {
          "Johor_Production": 264.981,
          "dt": "2016-08-01T00:00:00",
          "value": 679,
          "variable": "Johor_Area_ma"
         },
         {
          "Johor_Production": 280.248,
          "dt": "2016-09-01T00:00:00",
          "value": 679,
          "variable": "Johor_Area_ma"
         },
         {
          "Johor_Production": 284.922,
          "dt": "2016-10-01T00:00:00",
          "value": 679,
          "variable": "Johor_Area_ma"
         },
         {
          "Johor_Production": 274.107,
          "dt": "2016-11-01T00:00:00",
          "value": 679,
          "variable": "Johor_Area_ma"
         },
         {
          "Johor_Production": 254.881,
          "dt": "2016-12-01T00:00:00",
          "value": 679,
          "variable": "Johor_Area_ma"
         },
         {
          "Johor_Production": 211.81,
          "dt": "2017-01-01T00:00:00",
          "value": 614.6315789473684,
          "variable": "Johor_Area_ma"
         },
         {
          "Johor_Production": 214.747,
          "dt": "2017-02-01T00:00:00",
          "value": 614.6315789473684,
          "variable": "Johor_Area_ma"
         },
         {
          "Johor_Production": 210.002,
          "dt": "2017-03-01T00:00:00",
          "value": 614.6315789473684,
          "variable": "Johor_Area_ma"
         },
         {
          "Johor_Production": 216.574,
          "dt": "2017-04-01T00:00:00",
          "value": 614.6315789473684,
          "variable": "Johor_Area_ma"
         },
         {
          "Johor_Production": 225.834,
          "dt": "2017-05-01T00:00:00",
          "value": 614.6315789473684,
          "variable": "Johor_Area_ma"
         },
         {
          "Johor_Production": 205.989,
          "dt": "2017-06-01T00:00:00",
          "value": 614.6315789473684,
          "variable": "Johor_Area_ma"
         },
         {
          "Johor_Production": 284.963,
          "dt": "2017-07-01T00:00:00",
          "value": 614.6315789473684,
          "variable": "Johor_Area_ma"
         },
         {
          "Johor_Production": 293.14,
          "dt": "2017-08-01T00:00:00",
          "value": 614.6315789473684,
          "variable": "Johor_Area_ma"
         },
         {
          "Johor_Production": 295.578,
          "dt": "2017-09-01T00:00:00",
          "value": 614.6315789473684,
          "variable": "Johor_Area_ma"
         },
         {
          "Johor_Production": 147.24,
          "dt": "1999-02-01T00:00:00",
          "value": 613,
          "variable": "Johor_Area_npa"
         },
         {
          "Johor_Production": 169.754,
          "dt": "1999-03-01T00:00:00",
          "value": 613,
          "variable": "Johor_Area_npa"
         },
         {
          "Johor_Production": 192.155,
          "dt": "1999-04-01T00:00:00",
          "value": 613,
          "variable": "Johor_Area_npa"
         },
         {
          "Johor_Production": 216.57,
          "dt": "1999-05-01T00:00:00",
          "value": 613,
          "variable": "Johor_Area_npa"
         },
         {
          "Johor_Production": 210.553,
          "dt": "1999-06-01T00:00:00",
          "value": 613,
          "variable": "Johor_Area_npa"
         },
         {
          "Johor_Production": 223.731,
          "dt": "1999-07-01T00:00:00",
          "value": 613,
          "variable": "Johor_Area_npa"
         },
         {
          "Johor_Production": 224.397,
          "dt": "1999-08-01T00:00:00",
          "value": 613,
          "variable": "Johor_Area_npa"
         },
         {
          "Johor_Production": 234.327,
          "dt": "1999-09-01T00:00:00",
          "value": 613,
          "variable": "Johor_Area_npa"
         },
         {
          "Johor_Production": 237.426,
          "dt": "1999-10-01T00:00:00",
          "value": 613,
          "variable": "Johor_Area_npa"
         },
         {
          "Johor_Production": 225.412,
          "dt": "1999-11-01T00:00:00",
          "value": 613,
          "variable": "Johor_Area_npa"
         },
         {
          "Johor_Production": 210.489,
          "dt": "1999-12-01T00:00:00",
          "value": 613,
          "variable": "Johor_Area_npa"
         },
         {
          "Johor_Production": 176.328,
          "dt": "2000-01-01T00:00:00",
          "value": 635,
          "variable": "Johor_Area_npa"
         },
         {
          "Johor_Production": 164.926,
          "dt": "2000-02-01T00:00:00",
          "value": 635,
          "variable": "Johor_Area_npa"
         },
         {
          "Johor_Production": 173.124,
          "dt": "2000-03-01T00:00:00",
          "value": 635,
          "variable": "Johor_Area_npa"
         },
         {
          "Johor_Production": 177.804,
          "dt": "2000-04-01T00:00:00",
          "value": 635,
          "variable": "Johor_Area_npa"
         },
         {
          "Johor_Production": 185.927,
          "dt": "2000-05-01T00:00:00",
          "value": 635,
          "variable": "Johor_Area_npa"
         },
         {
          "Johor_Production": 199.5,
          "dt": "2000-06-01T00:00:00",
          "value": 635,
          "variable": "Johor_Area_npa"
         },
         {
          "Johor_Production": 204.75,
          "dt": "2000-07-01T00:00:00",
          "value": 635,
          "variable": "Johor_Area_npa"
         },
         {
          "Johor_Production": 211.713,
          "dt": "2000-08-01T00:00:00",
          "value": 635,
          "variable": "Johor_Area_npa"
         },
         {
          "Johor_Production": 233.193,
          "dt": "2000-09-01T00:00:00",
          "value": 635,
          "variable": "Johor_Area_npa"
         },
         {
          "Johor_Production": 239.385,
          "dt": "2000-10-01T00:00:00",
          "value": 635,
          "variable": "Johor_Area_npa"
         },
         {
          "Johor_Production": 239.598,
          "dt": "2000-11-01T00:00:00",
          "value": 635,
          "variable": "Johor_Area_npa"
         },
         {
          "Johor_Production": 175.965,
          "dt": "2000-12-01T00:00:00",
          "value": 635,
          "variable": "Johor_Area_npa"
         },
         {
          "Johor_Production": 199.24,
          "dt": "2001-01-01T00:00:00",
          "value": 637,
          "variable": "Johor_Area_npa"
         },
         {
          "Johor_Production": 171.77,
          "dt": "2001-02-01T00:00:00",
          "value": 637,
          "variable": "Johor_Area_npa"
         },
         {
          "Johor_Production": 170.966,
          "dt": "2001-03-01T00:00:00",
          "value": 637,
          "variable": "Johor_Area_npa"
         },
         {
          "Johor_Production": 176.878,
          "dt": "2001-04-01T00:00:00",
          "value": 637,
          "variable": "Johor_Area_npa"
         },
         {
          "Johor_Production": 188.395,
          "dt": "2001-05-01T00:00:00",
          "value": 637,
          "variable": "Johor_Area_npa"
         },
         {
          "Johor_Production": 183.676,
          "dt": "2001-06-01T00:00:00",
          "value": 637,
          "variable": "Johor_Area_npa"
         },
         {
          "Johor_Production": 187.813,
          "dt": "2001-07-01T00:00:00",
          "value": 637,
          "variable": "Johor_Area_npa"
         },
         {
          "Johor_Production": 211.931,
          "dt": "2001-08-01T00:00:00",
          "value": 637,
          "variable": "Johor_Area_npa"
         },
         {
          "Johor_Production": 221.399,
          "dt": "2001-09-01T00:00:00",
          "value": 637,
          "variable": "Johor_Area_npa"
         },
         {
          "Johor_Production": 230.672,
          "dt": "2001-10-01T00:00:00",
          "value": 637,
          "variable": "Johor_Area_npa"
         },
         {
          "Johor_Production": 209.077,
          "dt": "2001-11-01T00:00:00",
          "value": 637,
          "variable": "Johor_Area_npa"
         },
         {
          "Johor_Production": 176.049,
          "dt": "2001-12-01T00:00:00",
          "value": 637,
          "variable": "Johor_Area_npa"
         },
         {
          "Johor_Production": 177.839,
          "dt": "2002-01-01T00:00:00",
          "value": 664,
          "variable": "Johor_Area_npa"
         },
         {
          "Johor_Production": 140.047,
          "dt": "2002-02-01T00:00:00",
          "value": 664,
          "variable": "Johor_Area_npa"
         },
         {
          "Johor_Production": 162.689,
          "dt": "2002-03-01T00:00:00",
          "value": 664,
          "variable": "Johor_Area_npa"
         },
         {
          "Johor_Production": 160.742,
          "dt": "2002-04-01T00:00:00",
          "value": 664,
          "variable": "Johor_Area_npa"
         },
         {
          "Johor_Production": 176.955,
          "dt": "2002-05-01T00:00:00",
          "value": 664,
          "variable": "Johor_Area_npa"
         },
         {
          "Johor_Production": 187.515,
          "dt": "2002-06-01T00:00:00",
          "value": 664,
          "variable": "Johor_Area_npa"
         },
         {
          "Johor_Production": 207.064,
          "dt": "2002-07-01T00:00:00",
          "value": 664,
          "variable": "Johor_Area_npa"
         },
         {
          "Johor_Production": 214.915,
          "dt": "2002-08-01T00:00:00",
          "value": 664,
          "variable": "Johor_Area_npa"
         },
         {
          "Johor_Production": 230.929,
          "dt": "2002-09-01T00:00:00",
          "value": 664,
          "variable": "Johor_Area_npa"
         },
         {
          "Johor_Production": 230.638,
          "dt": "2002-10-01T00:00:00",
          "value": 664,
          "variable": "Johor_Area_npa"
         },
         {
          "Johor_Production": 205.439,
          "dt": "2002-11-01T00:00:00",
          "value": 664,
          "variable": "Johor_Area_npa"
         },
         {
          "Johor_Production": 177.754,
          "dt": "2002-12-01T00:00:00",
          "value": 664,
          "variable": "Johor_Area_npa"
         },
         {
          "Johor_Production": 170.296,
          "dt": "2003-01-01T00:00:00",
          "value": 660,
          "variable": "Johor_Area_npa"
         },
         {
          "Johor_Production": 153.45,
          "dt": "2003-02-01T00:00:00",
          "value": 660,
          "variable": "Johor_Area_npa"
         },
         {
          "Johor_Production": 197.905,
          "dt": "2003-03-01T00:00:00",
          "value": 660,
          "variable": "Johor_Area_npa"
         },
         {
          "Johor_Production": 221.055,
          "dt": "2003-04-01T00:00:00",
          "value": 660,
          "variable": "Johor_Area_npa"
         },
         {
          "Johor_Production": 232.739,
          "dt": "2003-05-01T00:00:00",
          "value": 660,
          "variable": "Johor_Area_npa"
         },
         {
          "Johor_Production": 241.319,
          "dt": "2003-06-01T00:00:00",
          "value": 660,
          "variable": "Johor_Area_npa"
         },
         {
          "Johor_Production": 248.74,
          "dt": "2003-07-01T00:00:00",
          "value": 660,
          "variable": "Johor_Area_npa"
         },
         {
          "Johor_Production": 242.578,
          "dt": "2003-08-01T00:00:00",
          "value": 660,
          "variable": "Johor_Area_npa"
         },
         {
          "Johor_Production": 248.51,
          "dt": "2003-09-01T00:00:00",
          "value": 660,
          "variable": "Johor_Area_npa"
         },
         {
          "Johor_Production": 223.714,
          "dt": "2003-10-01T00:00:00",
          "value": 660,
          "variable": "Johor_Area_npa"
         },
         {
          "Johor_Production": 193.828,
          "dt": "2003-11-01T00:00:00",
          "value": 660,
          "variable": "Johor_Area_npa"
         },
         {
          "Johor_Production": 231.986,
          "dt": "2003-12-01T00:00:00",
          "value": 660,
          "variable": "Johor_Area_npa"
         },
         {
          "Johor_Production": 161.686,
          "dt": "2004-01-01T00:00:00",
          "value": 666,
          "variable": "Johor_Area_npa"
         },
         {
          "Johor_Production": 167.235,
          "dt": "2004-02-01T00:00:00",
          "value": 666,
          "variable": "Johor_Area_npa"
         },
         {
          "Johor_Production": 180.851,
          "dt": "2004-03-01T00:00:00",
          "value": 666,
          "variable": "Johor_Area_npa"
         },
         {
          "Johor_Production": 191.626,
          "dt": "2004-04-01T00:00:00",
          "value": 666,
          "variable": "Johor_Area_npa"
         },
         {
          "Johor_Production": 220.506,
          "dt": "2004-05-01T00:00:00",
          "value": 666,
          "variable": "Johor_Area_npa"
         },
         {
          "Johor_Production": 233.33,
          "dt": "2004-06-01T00:00:00",
          "value": 666,
          "variable": "Johor_Area_npa"
         },
         {
          "Johor_Production": 240.156,
          "dt": "2004-07-01T00:00:00",
          "value": 666,
          "variable": "Johor_Area_npa"
         },
         {
          "Johor_Production": 235.884,
          "dt": "2004-08-01T00:00:00",
          "value": 666,
          "variable": "Johor_Area_npa"
         },
         {
          "Johor_Production": 255.614,
          "dt": "2004-09-01T00:00:00",
          "value": 666,
          "variable": "Johor_Area_npa"
         },
         {
          "Johor_Production": 250.95,
          "dt": "2004-10-01T00:00:00",
          "value": 666,
          "variable": "Johor_Area_npa"
         },
         {
          "Johor_Production": 220.849,
          "dt": "2004-11-01T00:00:00",
          "value": 666,
          "variable": "Johor_Area_npa"
         },
         {
          "Johor_Production": 233.651,
          "dt": "2004-12-01T00:00:00",
          "value": 666,
          "variable": "Johor_Area_npa"
         },
         {
          "Johor_Production": 205.973,
          "dt": "2005-01-01T00:00:00",
          "value": 668,
          "variable": "Johor_Area_npa"
         },
         {
          "Johor_Production": 183.37,
          "dt": "2005-02-01T00:00:00",
          "value": 668,
          "variable": "Johor_Area_npa"
         },
         {
          "Johor_Production": 218.398,
          "dt": "2005-03-01T00:00:00",
          "value": 668,
          "variable": "Johor_Area_npa"
         },
         {
          "Johor_Production": 214.688,
          "dt": "2005-04-01T00:00:00",
          "value": 668,
          "variable": "Johor_Area_npa"
         },
         {
          "Johor_Production": 236.13,
          "dt": "2005-05-01T00:00:00",
          "value": 668,
          "variable": "Johor_Area_npa"
         },
         {
          "Johor_Production": 229.296,
          "dt": "2005-06-01T00:00:00",
          "value": 668,
          "variable": "Johor_Area_npa"
         },
         {
          "Johor_Production": 237.548,
          "dt": "2005-07-01T00:00:00",
          "value": 668,
          "variable": "Johor_Area_npa"
         },
         {
          "Johor_Production": 230.896,
          "dt": "2005-08-01T00:00:00",
          "value": 668,
          "variable": "Johor_Area_npa"
         },
         {
          "Johor_Production": 239.294,
          "dt": "2005-09-01T00:00:00",
          "value": 668,
          "variable": "Johor_Area_npa"
         },
         {
          "Johor_Production": 223.837,
          "dt": "2005-10-01T00:00:00",
          "value": 668,
          "variable": "Johor_Area_npa"
         },
         {
          "Johor_Production": 190.419,
          "dt": "2005-11-01T00:00:00",
          "value": 668,
          "variable": "Johor_Area_npa"
         },
         {
          "Johor_Production": 160.418,
          "dt": "2005-12-01T00:00:00",
          "value": 668,
          "variable": "Johor_Area_npa"
         },
         {
          "Johor_Production": 145.637,
          "dt": "2006-01-01T00:00:00",
          "value": 671,
          "variable": "Johor_Area_npa"
         },
         {
          "Johor_Production": 193.908,
          "dt": "2006-02-01T00:00:00",
          "value": 671,
          "variable": "Johor_Area_npa"
         },
         {
          "Johor_Production": 229.324,
          "dt": "2006-03-01T00:00:00",
          "value": 671,
          "variable": "Johor_Area_npa"
         },
         {
          "Johor_Production": 240.346,
          "dt": "2006-04-01T00:00:00",
          "value": 671,
          "variable": "Johor_Area_npa"
         },
         {
          "Johor_Production": 267.948,
          "dt": "2006-05-01T00:00:00",
          "value": 671,
          "variable": "Johor_Area_npa"
         },
         {
          "Johor_Production": 260.255,
          "dt": "2006-06-01T00:00:00",
          "value": 671,
          "variable": "Johor_Area_npa"
         },
         {
          "Johor_Production": 265.266,
          "dt": "2006-07-01T00:00:00",
          "value": 671,
          "variable": "Johor_Area_npa"
         },
         {
          "Johor_Production": 290.846,
          "dt": "2006-08-01T00:00:00",
          "value": 671,
          "variable": "Johor_Area_npa"
         },
         {
          "Johor_Production": 279.002,
          "dt": "2006-09-01T00:00:00",
          "value": 671,
          "variable": "Johor_Area_npa"
         },
         {
          "Johor_Production": 226.696,
          "dt": "2006-10-01T00:00:00",
          "value": 671,
          "variable": "Johor_Area_npa"
         },
         {
          "Johor_Production": 260.429,
          "dt": "2006-11-01T00:00:00",
          "value": 671,
          "variable": "Johor_Area_npa"
         },
         {
          "Johor_Production": 161.383,
          "dt": "2006-12-01T00:00:00",
          "value": 671,
          "variable": "Johor_Area_npa"
         },
         {
          "Johor_Production": 160.215,
          "dt": "2007-01-01T00:00:00",
          "value": 671,
          "variable": "Johor_Area_npa"
         },
         {
          "Johor_Production": 148.427,
          "dt": "2007-02-01T00:00:00",
          "value": 671,
          "variable": "Johor_Area_npa"
         },
         {
          "Johor_Production": 172.007,
          "dt": "2007-03-01T00:00:00",
          "value": 671,
          "variable": "Johor_Area_npa"
         },
         {
          "Johor_Production": 182.575,
          "dt": "2007-04-01T00:00:00",
          "value": 671,
          "variable": "Johor_Area_npa"
         },
         {
          "Johor_Production": 196.112,
          "dt": "2007-05-01T00:00:00",
          "value": 671,
          "variable": "Johor_Area_npa"
         },
         {
          "Johor_Production": 191.218,
          "dt": "2007-06-01T00:00:00",
          "value": 671,
          "variable": "Johor_Area_npa"
         },
         {
          "Johor_Production": 244.877,
          "dt": "2007-07-01T00:00:00",
          "value": 671,
          "variable": "Johor_Area_npa"
         },
         {
          "Johor_Production": 268.332,
          "dt": "2007-08-01T00:00:00",
          "value": 671,
          "variable": "Johor_Area_npa"
         },
         {
          "Johor_Production": 270.622,
          "dt": "2007-09-01T00:00:00",
          "value": 671,
          "variable": "Johor_Area_npa"
         },
         {
          "Johor_Production": 270.185,
          "dt": "2007-10-01T00:00:00",
          "value": 671,
          "variable": "Johor_Area_npa"
         },
         {
          "Johor_Production": 276.955,
          "dt": "2007-11-01T00:00:00",
          "value": 671,
          "variable": "Johor_Area_npa"
         },
         {
          "Johor_Production": 243.713,
          "dt": "2007-12-01T00:00:00",
          "value": 671,
          "variable": "Johor_Area_npa"
         },
         {
          "Johor_Production": 241.662,
          "dt": "2008-01-01T00:00:00",
          "value": 688,
          "variable": "Johor_Area_npa"
         },
         {
          "Johor_Production": 217.673,
          "dt": "2008-02-01T00:00:00",
          "value": 688,
          "variable": "Johor_Area_npa"
         },
         {
          "Johor_Production": 229.253,
          "dt": "2008-03-01T00:00:00",
          "value": 688,
          "variable": "Johor_Area_npa"
         },
         {
          "Johor_Production": 209.989,
          "dt": "2008-04-01T00:00:00",
          "value": 688,
          "variable": "Johor_Area_npa"
         },
         {
          "Johor_Production": 229.763,
          "dt": "2008-05-01T00:00:00",
          "value": 688,
          "variable": "Johor_Area_npa"
         },
         {
          "Johor_Production": 231.758,
          "dt": "2008-06-01T00:00:00",
          "value": 688,
          "variable": "Johor_Area_npa"
         },
         {
          "Johor_Production": 252.11,
          "dt": "2008-07-01T00:00:00",
          "value": 688,
          "variable": "Johor_Area_npa"
         },
         {
          "Johor_Production": 258.638,
          "dt": "2008-08-01T00:00:00",
          "value": 688,
          "variable": "Johor_Area_npa"
         },
         {
          "Johor_Production": 248.514,
          "dt": "2008-09-01T00:00:00",
          "value": 688,
          "variable": "Johor_Area_npa"
         },
         {
          "Johor_Production": 269.094,
          "dt": "2008-10-01T00:00:00",
          "value": 688,
          "variable": "Johor_Area_npa"
         },
         {
          "Johor_Production": 281.432,
          "dt": "2008-11-01T00:00:00",
          "value": 688,
          "variable": "Johor_Area_npa"
         },
         {
          "Johor_Production": 251.442,
          "dt": "2008-12-01T00:00:00",
          "value": 688,
          "variable": "Johor_Area_npa"
         },
         {
          "Johor_Production": 221.711,
          "dt": "2009-01-01T00:00:00",
          "value": 712,
          "variable": "Johor_Area_npa"
         },
         {
          "Johor_Production": 208.299,
          "dt": "2009-02-01T00:00:00",
          "value": 712,
          "variable": "Johor_Area_npa"
         },
         {
          "Johor_Production": 206.43,
          "dt": "2009-03-01T00:00:00",
          "value": 712,
          "variable": "Johor_Area_npa"
         },
         {
          "Johor_Production": 214.957,
          "dt": "2009-04-01T00:00:00",
          "value": 712,
          "variable": "Johor_Area_npa"
         },
         {
          "Johor_Production": 244.809,
          "dt": "2009-05-01T00:00:00",
          "value": 712,
          "variable": "Johor_Area_npa"
         },
         {
          "Johor_Production": 260.523,
          "dt": "2009-06-01T00:00:00",
          "value": 712,
          "variable": "Johor_Area_npa"
         },
         {
          "Johor_Production": 273.706,
          "dt": "2009-07-01T00:00:00",
          "value": 712,
          "variable": "Johor_Area_npa"
         },
         {
          "Johor_Production": 247.842,
          "dt": "2009-08-01T00:00:00",
          "value": 712,
          "variable": "Johor_Area_npa"
         },
         {
          "Johor_Production": 244.425,
          "dt": "2009-09-01T00:00:00",
          "value": 712,
          "variable": "Johor_Area_npa"
         },
         {
          "Johor_Production": 326.184,
          "dt": "2009-10-01T00:00:00",
          "value": 712,
          "variable": "Johor_Area_npa"
         },
         {
          "Johor_Production": 253.616,
          "dt": "2009-11-01T00:00:00",
          "value": 712,
          "variable": "Johor_Area_npa"
         },
         {
          "Johor_Production": 235.343,
          "dt": "2009-12-01T00:00:00",
          "value": 712,
          "variable": "Johor_Area_npa"
         },
         {
          "Johor_Production": 209.505,
          "dt": "2010-01-01T00:00:00",
          "value": 717,
          "variable": "Johor_Area_npa"
         },
         {
          "Johor_Production": 193.756,
          "dt": "2010-02-01T00:00:00",
          "value": 717,
          "variable": "Johor_Area_npa"
         },
         {
          "Johor_Production": 232.43,
          "dt": "2010-03-01T00:00:00",
          "value": 717,
          "variable": "Johor_Area_npa"
         },
         {
          "Johor_Production": 217.338,
          "dt": "2010-04-01T00:00:00",
          "value": 717,
          "variable": "Johor_Area_npa"
         },
         {
          "Johor_Production": 245.879,
          "dt": "2010-05-01T00:00:00",
          "value": 717,
          "variable": "Johor_Area_npa"
         },
         {
          "Johor_Production": 258.857,
          "dt": "2010-06-01T00:00:00",
          "value": 717,
          "variable": "Johor_Area_npa"
         },
         {
          "Johor_Production": 264.492,
          "dt": "2010-07-01T00:00:00",
          "value": 717,
          "variable": "Johor_Area_npa"
         },
         {
          "Johor_Production": 255.194,
          "dt": "2010-08-01T00:00:00",
          "value": 717,
          "variable": "Johor_Area_npa"
         },
         {
          "Johor_Production": 245.335,
          "dt": "2010-09-01T00:00:00",
          "value": 717,
          "variable": "Johor_Area_npa"
         },
         {
          "Johor_Production": 266.321,
          "dt": "2010-10-01T00:00:00",
          "value": 717,
          "variable": "Johor_Area_npa"
         },
         {
          "Johor_Production": 232.593,
          "dt": "2010-11-01T00:00:00",
          "value": 717,
          "variable": "Johor_Area_npa"
         },
         {
          "Johor_Production": 186.448,
          "dt": "2010-12-01T00:00:00",
          "value": 717,
          "variable": "Johor_Area_npa"
         },
         {
          "Johor_Production": 169.897,
          "dt": "2011-01-01T00:00:00",
          "value": 721,
          "variable": "Johor_Area_npa"
         },
         {
          "Johor_Production": 172.278,
          "dt": "2011-02-01T00:00:00",
          "value": 721,
          "variable": "Johor_Area_npa"
         },
         {
          "Johor_Production": 229.479,
          "dt": "2011-03-01T00:00:00",
          "value": 721,
          "variable": "Johor_Area_npa"
         },
         {
          "Johor_Production": 242.912,
          "dt": "2011-04-01T00:00:00",
          "value": 721,
          "variable": "Johor_Area_npa"
         },
         {
          "Johor_Production": 284.842,
          "dt": "2011-05-01T00:00:00",
          "value": 721,
          "variable": "Johor_Area_npa"
         },
         {
          "Johor_Production": 285.567,
          "dt": "2011-06-01T00:00:00",
          "value": 721,
          "variable": "Johor_Area_npa"
         },
         {
          "Johor_Production": 278.396,
          "dt": "2011-07-01T00:00:00",
          "value": 721,
          "variable": "Johor_Area_npa"
         },
         {
          "Johor_Production": 268.496,
          "dt": "2011-08-01T00:00:00",
          "value": 721,
          "variable": "Johor_Area_npa"
         },
         {
          "Johor_Production": 302.377,
          "dt": "2011-09-01T00:00:00",
          "value": 721,
          "variable": "Johor_Area_npa"
         },
         {
          "Johor_Production": 309.233,
          "dt": "2011-10-01T00:00:00",
          "value": 721,
          "variable": "Johor_Area_npa"
         },
         {
          "Johor_Production": 255.19,
          "dt": "2011-11-01T00:00:00",
          "value": 721,
          "variable": "Johor_Area_npa"
         },
         {
          "Johor_Production": 223.67,
          "dt": "2011-12-01T00:00:00",
          "value": 721,
          "variable": "Johor_Area_npa"
         },
         {
          "Johor_Production": 191.594,
          "dt": "2012-01-01T00:00:00",
          "value": 714,
          "variable": "Johor_Area_npa"
         },
         {
          "Johor_Production": 181.334,
          "dt": "2012-02-01T00:00:00",
          "value": 714,
          "variable": "Johor_Area_npa"
         },
         {
          "Johor_Production": 180.834,
          "dt": "2012-03-01T00:00:00",
          "value": 714,
          "variable": "Johor_Area_npa"
         },
         {
          "Johor_Production": 198.155,
          "dt": "2012-04-01T00:00:00",
          "value": 714,
          "variable": "Johor_Area_npa"
         },
         {
          "Johor_Production": 225.183,
          "dt": "2012-05-01T00:00:00",
          "value": 714,
          "variable": "Johor_Area_npa"
         },
         {
          "Johor_Production": 249.569,
          "dt": "2012-06-01T00:00:00",
          "value": 714,
          "variable": "Johor_Area_npa"
         },
         {
          "Johor_Production": 278.021,
          "dt": "2012-07-01T00:00:00",
          "value": 714,
          "variable": "Johor_Area_npa"
         },
         {
          "Johor_Production": 257.313,
          "dt": "2012-08-01T00:00:00",
          "value": 714,
          "variable": "Johor_Area_npa"
         },
         {
          "Johor_Production": 320.36,
          "dt": "2012-09-01T00:00:00",
          "value": 714,
          "variable": "Johor_Area_npa"
         },
         {
          "Johor_Production": 306.34,
          "dt": "2012-10-01T00:00:00",
          "value": 714,
          "variable": "Johor_Area_npa"
         },
         {
          "Johor_Production": 289.152,
          "dt": "2012-11-01T00:00:00",
          "value": 714,
          "variable": "Johor_Area_npa"
         },
         {
          "Johor_Production": 268.765,
          "dt": "2012-12-01T00:00:00",
          "value": 714,
          "variable": "Johor_Area_npa"
         },
         {
          "Johor_Production": 236.864,
          "dt": "2013-01-01T00:00:00",
          "value": 731,
          "variable": "Johor_Area_npa"
         },
         {
          "Johor_Production": 180.277,
          "dt": "2013-02-01T00:00:00",
          "value": 731,
          "variable": "Johor_Area_npa"
         },
         {
          "Johor_Production": 196.443,
          "dt": "2013-03-01T00:00:00",
          "value": 731,
          "variable": "Johor_Area_npa"
         },
         {
          "Johor_Production": 217.999,
          "dt": "2013-04-01T00:00:00",
          "value": 731,
          "variable": "Johor_Area_npa"
         },
         {
          "Johor_Production": 222.98,
          "dt": "2013-05-01T00:00:00",
          "value": 731,
          "variable": "Johor_Area_npa"
         },
         {
          "Johor_Production": 246.078,
          "dt": "2013-06-01T00:00:00",
          "value": 731,
          "variable": "Johor_Area_npa"
         },
         {
          "Johor_Production": 278.357,
          "dt": "2013-07-01T00:00:00",
          "value": 731,
          "variable": "Johor_Area_npa"
         },
         {
          "Johor_Production": 269.148,
          "dt": "2013-08-01T00:00:00",
          "value": 731,
          "variable": "Johor_Area_npa"
         },
         {
          "Johor_Production": 306.037,
          "dt": "2013-09-01T00:00:00",
          "value": 731,
          "variable": "Johor_Area_npa"
         },
         {
          "Johor_Production": 315.86,
          "dt": "2013-10-01T00:00:00",
          "value": 731,
          "variable": "Johor_Area_npa"
         },
         {
          "Johor_Production": 289.997,
          "dt": "2013-11-01T00:00:00",
          "value": 731,
          "variable": "Johor_Area_npa"
         },
         {
          "Johor_Production": 253.845,
          "dt": "2013-12-01T00:00:00",
          "value": 731,
          "variable": "Johor_Area_npa"
         },
         {
          "Johor_Production": 235.748,
          "dt": "2014-01-01T00:00:00",
          "value": 733,
          "variable": "Johor_Area_npa"
         },
         {
          "Johor_Production": 194.587,
          "dt": "2014-02-01T00:00:00",
          "value": 733,
          "variable": "Johor_Area_npa"
         },
         {
          "Johor_Production": 223.268,
          "dt": "2014-03-01T00:00:00",
          "value": 733,
          "variable": "Johor_Area_npa"
         },
         {
          "Johor_Production": 225.776,
          "dt": "2014-04-01T00:00:00",
          "value": 733,
          "variable": "Johor_Area_npa"
         },
         {
          "Johor_Production": 248.045,
          "dt": "2014-05-01T00:00:00",
          "value": 733,
          "variable": "Johor_Area_npa"
         },
         {
          "Johor_Production": 257.604,
          "dt": "2014-06-01T00:00:00",
          "value": 733,
          "variable": "Johor_Area_npa"
         },
         {
          "Johor_Production": 278.807,
          "dt": "2014-07-01T00:00:00",
          "value": 733,
          "variable": "Johor_Area_npa"
         },
         {
          "Johor_Production": 329.485,
          "dt": "2014-08-01T00:00:00",
          "value": 733,
          "variable": "Johor_Area_npa"
         },
         {
          "Johor_Production": 295.434,
          "dt": "2014-09-01T00:00:00",
          "value": 733,
          "variable": "Johor_Area_npa"
         },
         {
          "Johor_Production": 294.13,
          "dt": "2014-10-01T00:00:00",
          "value": 733,
          "variable": "Johor_Area_npa"
         },
         {
          "Johor_Production": 263.147,
          "dt": "2014-11-01T00:00:00",
          "value": 733,
          "variable": "Johor_Area_npa"
         },
         {
          "Johor_Production": 201.004,
          "dt": "2014-12-01T00:00:00",
          "value": 733,
          "variable": "Johor_Area_npa"
         },
         {
          "Johor_Production": 171.725,
          "dt": "2015-01-01T00:00:00",
          "value": 740,
          "variable": "Johor_Area_npa"
         },
         {
          "Johor_Production": 188.325,
          "dt": "2015-02-01T00:00:00",
          "value": 740,
          "variable": "Johor_Area_npa"
         },
         {
          "Johor_Production": 247.856,
          "dt": "2015-03-01T00:00:00",
          "value": 740,
          "variable": "Johor_Area_npa"
         },
         {
          "Johor_Production": 282.791,
          "dt": "2015-04-01T00:00:00",
          "value": 740,
          "variable": "Johor_Area_npa"
         },
         {
          "Johor_Production": 291.057,
          "dt": "2015-05-01T00:00:00",
          "value": 740,
          "variable": "Johor_Area_npa"
         },
         {
          "Johor_Production": 287.502,
          "dt": "2015-06-01T00:00:00",
          "value": 740,
          "variable": "Johor_Area_npa"
         },
         {
          "Johor_Production": 288.086,
          "dt": "2015-07-01T00:00:00",
          "value": 740,
          "variable": "Johor_Area_npa"
         },
         {
          "Johor_Production": 313.321,
          "dt": "2015-08-01T00:00:00",
          "value": 740,
          "variable": "Johor_Area_npa"
         },
         {
          "Johor_Production": 299.337,
          "dt": "2015-09-01T00:00:00",
          "value": 740,
          "variable": "Johor_Area_npa"
         },
         {
          "Johor_Production": 300.383,
          "dt": "2015-10-01T00:00:00",
          "value": 740,
          "variable": "Johor_Area_npa"
         },
         {
          "Johor_Production": 246.005,
          "dt": "2015-11-01T00:00:00",
          "value": 740,
          "variable": "Johor_Area_npa"
         },
         {
          "Johor_Production": 201.231,
          "dt": "2015-12-01T00:00:00",
          "value": 740,
          "variable": "Johor_Area_npa"
         },
         {
          "Johor_Production": 163.84,
          "dt": "2016-01-01T00:00:00",
          "value": 746,
          "variable": "Johor_Area_npa"
         },
         {
          "Johor_Production": 166.663,
          "dt": "2016-02-01T00:00:00",
          "value": 746,
          "variable": "Johor_Area_npa"
         },
         {
          "Johor_Production": 185.974,
          "dt": "2016-03-01T00:00:00",
          "value": 746,
          "variable": "Johor_Area_npa"
         },
         {
          "Johor_Production": 200.321,
          "dt": "2016-04-01T00:00:00",
          "value": 746,
          "variable": "Johor_Area_npa"
         },
         {
          "Johor_Production": 207.485,
          "dt": "2016-05-01T00:00:00",
          "value": 746,
          "variable": "Johor_Area_npa"
         },
         {
          "Johor_Production": 229.105,
          "dt": "2016-06-01T00:00:00",
          "value": 746,
          "variable": "Johor_Area_npa"
         },
         {
          "Johor_Production": 232.726,
          "dt": "2016-07-01T00:00:00",
          "value": 746,
          "variable": "Johor_Area_npa"
         },
         {
          "Johor_Production": 264.981,
          "dt": "2016-08-01T00:00:00",
          "value": 746,
          "variable": "Johor_Area_npa"
         },
         {
          "Johor_Production": 280.248,
          "dt": "2016-09-01T00:00:00",
          "value": 746,
          "variable": "Johor_Area_npa"
         },
         {
          "Johor_Production": 284.922,
          "dt": "2016-10-01T00:00:00",
          "value": 746,
          "variable": "Johor_Area_npa"
         },
         {
          "Johor_Production": 274.107,
          "dt": "2016-11-01T00:00:00",
          "value": 746,
          "variable": "Johor_Area_npa"
         },
         {
          "Johor_Production": 254.881,
          "dt": "2016-12-01T00:00:00",
          "value": 746,
          "variable": "Johor_Area_npa"
         },
         {
          "Johor_Production": 211.81,
          "dt": "2017-01-01T00:00:00",
          "value": 683.6842105263158,
          "variable": "Johor_Area_npa"
         },
         {
          "Johor_Production": 214.747,
          "dt": "2017-02-01T00:00:00",
          "value": 683.6842105263158,
          "variable": "Johor_Area_npa"
         },
         {
          "Johor_Production": 210.002,
          "dt": "2017-03-01T00:00:00",
          "value": 683.6842105263158,
          "variable": "Johor_Area_npa"
         },
         {
          "Johor_Production": 216.574,
          "dt": "2017-04-01T00:00:00",
          "value": 683.6842105263158,
          "variable": "Johor_Area_npa"
         },
         {
          "Johor_Production": 225.834,
          "dt": "2017-05-01T00:00:00",
          "value": 683.6842105263158,
          "variable": "Johor_Area_npa"
         },
         {
          "Johor_Production": 205.989,
          "dt": "2017-06-01T00:00:00",
          "value": 683.6842105263158,
          "variable": "Johor_Area_npa"
         },
         {
          "Johor_Production": 284.963,
          "dt": "2017-07-01T00:00:00",
          "value": 683.6842105263158,
          "variable": "Johor_Area_npa"
         },
         {
          "Johor_Production": 293.14,
          "dt": "2017-08-01T00:00:00",
          "value": 683.6842105263158,
          "variable": "Johor_Area_npa"
         },
         {
          "Johor_Production": 295.578,
          "dt": "2017-09-01T00:00:00",
          "value": 683.6842105263158,
          "variable": "Johor_Area_npa"
         },
         {
          "Johor_Production": 147.24,
          "dt": "1999-02-01T00:00:00",
          "value": 7,
          "variable": "Johor_Area_rpa"
         },
         {
          "Johor_Production": 169.754,
          "dt": "1999-03-01T00:00:00",
          "value": 7,
          "variable": "Johor_Area_rpa"
         },
         {
          "Johor_Production": 192.155,
          "dt": "1999-04-01T00:00:00",
          "value": 7,
          "variable": "Johor_Area_rpa"
         },
         {
          "Johor_Production": 216.57,
          "dt": "1999-05-01T00:00:00",
          "value": 7,
          "variable": "Johor_Area_rpa"
         },
         {
          "Johor_Production": 210.553,
          "dt": "1999-06-01T00:00:00",
          "value": 7,
          "variable": "Johor_Area_rpa"
         },
         {
          "Johor_Production": 223.731,
          "dt": "1999-07-01T00:00:00",
          "value": 7,
          "variable": "Johor_Area_rpa"
         },
         {
          "Johor_Production": 224.397,
          "dt": "1999-08-01T00:00:00",
          "value": 7,
          "variable": "Johor_Area_rpa"
         },
         {
          "Johor_Production": 234.327,
          "dt": "1999-09-01T00:00:00",
          "value": 7,
          "variable": "Johor_Area_rpa"
         },
         {
          "Johor_Production": 237.426,
          "dt": "1999-10-01T00:00:00",
          "value": 7,
          "variable": "Johor_Area_rpa"
         },
         {
          "Johor_Production": 225.412,
          "dt": "1999-11-01T00:00:00",
          "value": 7,
          "variable": "Johor_Area_rpa"
         },
         {
          "Johor_Production": 210.489,
          "dt": "1999-12-01T00:00:00",
          "value": 7,
          "variable": "Johor_Area_rpa"
         },
         {
          "Johor_Production": 176.328,
          "dt": "2000-01-01T00:00:00",
          "value": 9,
          "variable": "Johor_Area_rpa"
         },
         {
          "Johor_Production": 164.926,
          "dt": "2000-02-01T00:00:00",
          "value": 9,
          "variable": "Johor_Area_rpa"
         },
         {
          "Johor_Production": 173.124,
          "dt": "2000-03-01T00:00:00",
          "value": 9,
          "variable": "Johor_Area_rpa"
         },
         {
          "Johor_Production": 177.804,
          "dt": "2000-04-01T00:00:00",
          "value": 9,
          "variable": "Johor_Area_rpa"
         },
         {
          "Johor_Production": 185.927,
          "dt": "2000-05-01T00:00:00",
          "value": 9,
          "variable": "Johor_Area_rpa"
         },
         {
          "Johor_Production": 199.5,
          "dt": "2000-06-01T00:00:00",
          "value": 9,
          "variable": "Johor_Area_rpa"
         },
         {
          "Johor_Production": 204.75,
          "dt": "2000-07-01T00:00:00",
          "value": 9,
          "variable": "Johor_Area_rpa"
         },
         {
          "Johor_Production": 211.713,
          "dt": "2000-08-01T00:00:00",
          "value": 9,
          "variable": "Johor_Area_rpa"
         },
         {
          "Johor_Production": 233.193,
          "dt": "2000-09-01T00:00:00",
          "value": 9,
          "variable": "Johor_Area_rpa"
         },
         {
          "Johor_Production": 239.385,
          "dt": "2000-10-01T00:00:00",
          "value": 9,
          "variable": "Johor_Area_rpa"
         },
         {
          "Johor_Production": 239.598,
          "dt": "2000-11-01T00:00:00",
          "value": 9,
          "variable": "Johor_Area_rpa"
         },
         {
          "Johor_Production": 175.965,
          "dt": "2000-12-01T00:00:00",
          "value": 9,
          "variable": "Johor_Area_rpa"
         },
         {
          "Johor_Production": 199.24,
          "dt": "2001-01-01T00:00:00",
          "value": 15,
          "variable": "Johor_Area_rpa"
         },
         {
          "Johor_Production": 171.77,
          "dt": "2001-02-01T00:00:00",
          "value": 15,
          "variable": "Johor_Area_rpa"
         },
         {
          "Johor_Production": 170.966,
          "dt": "2001-03-01T00:00:00",
          "value": 15,
          "variable": "Johor_Area_rpa"
         },
         {
          "Johor_Production": 176.878,
          "dt": "2001-04-01T00:00:00",
          "value": 15,
          "variable": "Johor_Area_rpa"
         },
         {
          "Johor_Production": 188.395,
          "dt": "2001-05-01T00:00:00",
          "value": 15,
          "variable": "Johor_Area_rpa"
         },
         {
          "Johor_Production": 183.676,
          "dt": "2001-06-01T00:00:00",
          "value": 15,
          "variable": "Johor_Area_rpa"
         },
         {
          "Johor_Production": 187.813,
          "dt": "2001-07-01T00:00:00",
          "value": 15,
          "variable": "Johor_Area_rpa"
         },
         {
          "Johor_Production": 211.931,
          "dt": "2001-08-01T00:00:00",
          "value": 15,
          "variable": "Johor_Area_rpa"
         },
         {
          "Johor_Production": 221.399,
          "dt": "2001-09-01T00:00:00",
          "value": 15,
          "variable": "Johor_Area_rpa"
         },
         {
          "Johor_Production": 230.672,
          "dt": "2001-10-01T00:00:00",
          "value": 15,
          "variable": "Johor_Area_rpa"
         },
         {
          "Johor_Production": 209.077,
          "dt": "2001-11-01T00:00:00",
          "value": 15,
          "variable": "Johor_Area_rpa"
         },
         {
          "Johor_Production": 176.049,
          "dt": "2001-12-01T00:00:00",
          "value": 15,
          "variable": "Johor_Area_rpa"
         },
         {
          "Johor_Production": 177.839,
          "dt": "2002-01-01T00:00:00",
          "value": 16,
          "variable": "Johor_Area_rpa"
         },
         {
          "Johor_Production": 140.047,
          "dt": "2002-02-01T00:00:00",
          "value": 16,
          "variable": "Johor_Area_rpa"
         },
         {
          "Johor_Production": 162.689,
          "dt": "2002-03-01T00:00:00",
          "value": 16,
          "variable": "Johor_Area_rpa"
         },
         {
          "Johor_Production": 160.742,
          "dt": "2002-04-01T00:00:00",
          "value": 16,
          "variable": "Johor_Area_rpa"
         },
         {
          "Johor_Production": 176.955,
          "dt": "2002-05-01T00:00:00",
          "value": 16,
          "variable": "Johor_Area_rpa"
         },
         {
          "Johor_Production": 187.515,
          "dt": "2002-06-01T00:00:00",
          "value": 16,
          "variable": "Johor_Area_rpa"
         },
         {
          "Johor_Production": 207.064,
          "dt": "2002-07-01T00:00:00",
          "value": 16,
          "variable": "Johor_Area_rpa"
         },
         {
          "Johor_Production": 214.915,
          "dt": "2002-08-01T00:00:00",
          "value": 16,
          "variable": "Johor_Area_rpa"
         },
         {
          "Johor_Production": 230.929,
          "dt": "2002-09-01T00:00:00",
          "value": 16,
          "variable": "Johor_Area_rpa"
         },
         {
          "Johor_Production": 230.638,
          "dt": "2002-10-01T00:00:00",
          "value": 16,
          "variable": "Johor_Area_rpa"
         },
         {
          "Johor_Production": 205.439,
          "dt": "2002-11-01T00:00:00",
          "value": 16,
          "variable": "Johor_Area_rpa"
         },
         {
          "Johor_Production": 177.754,
          "dt": "2002-12-01T00:00:00",
          "value": 16,
          "variable": "Johor_Area_rpa"
         },
         {
          "Johor_Production": 170.296,
          "dt": "2003-01-01T00:00:00",
          "value": 11,
          "variable": "Johor_Area_rpa"
         },
         {
          "Johor_Production": 153.45,
          "dt": "2003-02-01T00:00:00",
          "value": 11,
          "variable": "Johor_Area_rpa"
         },
         {
          "Johor_Production": 197.905,
          "dt": "2003-03-01T00:00:00",
          "value": 11,
          "variable": "Johor_Area_rpa"
         },
         {
          "Johor_Production": 221.055,
          "dt": "2003-04-01T00:00:00",
          "value": 11,
          "variable": "Johor_Area_rpa"
         },
         {
          "Johor_Production": 232.739,
          "dt": "2003-05-01T00:00:00",
          "value": 11,
          "variable": "Johor_Area_rpa"
         },
         {
          "Johor_Production": 241.319,
          "dt": "2003-06-01T00:00:00",
          "value": 11,
          "variable": "Johor_Area_rpa"
         },
         {
          "Johor_Production": 248.74,
          "dt": "2003-07-01T00:00:00",
          "value": 11,
          "variable": "Johor_Area_rpa"
         },
         {
          "Johor_Production": 242.578,
          "dt": "2003-08-01T00:00:00",
          "value": 11,
          "variable": "Johor_Area_rpa"
         },
         {
          "Johor_Production": 248.51,
          "dt": "2003-09-01T00:00:00",
          "value": 11,
          "variable": "Johor_Area_rpa"
         },
         {
          "Johor_Production": 223.714,
          "dt": "2003-10-01T00:00:00",
          "value": 11,
          "variable": "Johor_Area_rpa"
         },
         {
          "Johor_Production": 193.828,
          "dt": "2003-11-01T00:00:00",
          "value": 11,
          "variable": "Johor_Area_rpa"
         },
         {
          "Johor_Production": 231.986,
          "dt": "2003-12-01T00:00:00",
          "value": 11,
          "variable": "Johor_Area_rpa"
         },
         {
          "Johor_Production": 161.686,
          "dt": "2004-01-01T00:00:00",
          "value": 16,
          "variable": "Johor_Area_rpa"
         },
         {
          "Johor_Production": 167.235,
          "dt": "2004-02-01T00:00:00",
          "value": 16,
          "variable": "Johor_Area_rpa"
         },
         {
          "Johor_Production": 180.851,
          "dt": "2004-03-01T00:00:00",
          "value": 16,
          "variable": "Johor_Area_rpa"
         },
         {
          "Johor_Production": 191.626,
          "dt": "2004-04-01T00:00:00",
          "value": 16,
          "variable": "Johor_Area_rpa"
         },
         {
          "Johor_Production": 220.506,
          "dt": "2004-05-01T00:00:00",
          "value": 16,
          "variable": "Johor_Area_rpa"
         },
         {
          "Johor_Production": 233.33,
          "dt": "2004-06-01T00:00:00",
          "value": 16,
          "variable": "Johor_Area_rpa"
         },
         {
          "Johor_Production": 240.156,
          "dt": "2004-07-01T00:00:00",
          "value": 16,
          "variable": "Johor_Area_rpa"
         },
         {
          "Johor_Production": 235.884,
          "dt": "2004-08-01T00:00:00",
          "value": 16,
          "variable": "Johor_Area_rpa"
         },
         {
          "Johor_Production": 255.614,
          "dt": "2004-09-01T00:00:00",
          "value": 16,
          "variable": "Johor_Area_rpa"
         },
         {
          "Johor_Production": 250.95,
          "dt": "2004-10-01T00:00:00",
          "value": 16,
          "variable": "Johor_Area_rpa"
         },
         {
          "Johor_Production": 220.849,
          "dt": "2004-11-01T00:00:00",
          "value": 16,
          "variable": "Johor_Area_rpa"
         },
         {
          "Johor_Production": 233.651,
          "dt": "2004-12-01T00:00:00",
          "value": 16,
          "variable": "Johor_Area_rpa"
         },
         {
          "Johor_Production": 205.973,
          "dt": "2005-01-01T00:00:00",
          "value": 9,
          "variable": "Johor_Area_rpa"
         },
         {
          "Johor_Production": 183.37,
          "dt": "2005-02-01T00:00:00",
          "value": 9,
          "variable": "Johor_Area_rpa"
         },
         {
          "Johor_Production": 218.398,
          "dt": "2005-03-01T00:00:00",
          "value": 9,
          "variable": "Johor_Area_rpa"
         },
         {
          "Johor_Production": 214.688,
          "dt": "2005-04-01T00:00:00",
          "value": 9,
          "variable": "Johor_Area_rpa"
         },
         {
          "Johor_Production": 236.13,
          "dt": "2005-05-01T00:00:00",
          "value": 9,
          "variable": "Johor_Area_rpa"
         },
         {
          "Johor_Production": 229.296,
          "dt": "2005-06-01T00:00:00",
          "value": 9,
          "variable": "Johor_Area_rpa"
         },
         {
          "Johor_Production": 237.548,
          "dt": "2005-07-01T00:00:00",
          "value": 9,
          "variable": "Johor_Area_rpa"
         },
         {
          "Johor_Production": 230.896,
          "dt": "2005-08-01T00:00:00",
          "value": 9,
          "variable": "Johor_Area_rpa"
         },
         {
          "Johor_Production": 239.294,
          "dt": "2005-09-01T00:00:00",
          "value": 9,
          "variable": "Johor_Area_rpa"
         },
         {
          "Johor_Production": 223.837,
          "dt": "2005-10-01T00:00:00",
          "value": 9,
          "variable": "Johor_Area_rpa"
         },
         {
          "Johor_Production": 190.419,
          "dt": "2005-11-01T00:00:00",
          "value": 9,
          "variable": "Johor_Area_rpa"
         },
         {
          "Johor_Production": 160.418,
          "dt": "2005-12-01T00:00:00",
          "value": 9,
          "variable": "Johor_Area_rpa"
         },
         {
          "Johor_Production": 145.637,
          "dt": "2006-01-01T00:00:00",
          "value": 11,
          "variable": "Johor_Area_rpa"
         },
         {
          "Johor_Production": 193.908,
          "dt": "2006-02-01T00:00:00",
          "value": 11,
          "variable": "Johor_Area_rpa"
         },
         {
          "Johor_Production": 229.324,
          "dt": "2006-03-01T00:00:00",
          "value": 11,
          "variable": "Johor_Area_rpa"
         },
         {
          "Johor_Production": 240.346,
          "dt": "2006-04-01T00:00:00",
          "value": 11,
          "variable": "Johor_Area_rpa"
         },
         {
          "Johor_Production": 267.948,
          "dt": "2006-05-01T00:00:00",
          "value": 11,
          "variable": "Johor_Area_rpa"
         },
         {
          "Johor_Production": 260.255,
          "dt": "2006-06-01T00:00:00",
          "value": 11,
          "variable": "Johor_Area_rpa"
         },
         {
          "Johor_Production": 265.266,
          "dt": "2006-07-01T00:00:00",
          "value": 11,
          "variable": "Johor_Area_rpa"
         },
         {
          "Johor_Production": 290.846,
          "dt": "2006-08-01T00:00:00",
          "value": 11,
          "variable": "Johor_Area_rpa"
         },
         {
          "Johor_Production": 279.002,
          "dt": "2006-09-01T00:00:00",
          "value": 11,
          "variable": "Johor_Area_rpa"
         },
         {
          "Johor_Production": 226.696,
          "dt": "2006-10-01T00:00:00",
          "value": 11,
          "variable": "Johor_Area_rpa"
         },
         {
          "Johor_Production": 260.429,
          "dt": "2006-11-01T00:00:00",
          "value": 11,
          "variable": "Johor_Area_rpa"
         },
         {
          "Johor_Production": 161.383,
          "dt": "2006-12-01T00:00:00",
          "value": 11,
          "variable": "Johor_Area_rpa"
         },
         {
          "Johor_Production": 160.215,
          "dt": "2007-01-01T00:00:00",
          "value": 21,
          "variable": "Johor_Area_rpa"
         },
         {
          "Johor_Production": 148.427,
          "dt": "2007-02-01T00:00:00",
          "value": 21,
          "variable": "Johor_Area_rpa"
         },
         {
          "Johor_Production": 172.007,
          "dt": "2007-03-01T00:00:00",
          "value": 21,
          "variable": "Johor_Area_rpa"
         },
         {
          "Johor_Production": 182.575,
          "dt": "2007-04-01T00:00:00",
          "value": 21,
          "variable": "Johor_Area_rpa"
         },
         {
          "Johor_Production": 196.112,
          "dt": "2007-05-01T00:00:00",
          "value": 21,
          "variable": "Johor_Area_rpa"
         },
         {
          "Johor_Production": 191.218,
          "dt": "2007-06-01T00:00:00",
          "value": 21,
          "variable": "Johor_Area_rpa"
         },
         {
          "Johor_Production": 244.877,
          "dt": "2007-07-01T00:00:00",
          "value": 21,
          "variable": "Johor_Area_rpa"
         },
         {
          "Johor_Production": 268.332,
          "dt": "2007-08-01T00:00:00",
          "value": 21,
          "variable": "Johor_Area_rpa"
         },
         {
          "Johor_Production": 270.622,
          "dt": "2007-09-01T00:00:00",
          "value": 21,
          "variable": "Johor_Area_rpa"
         },
         {
          "Johor_Production": 270.185,
          "dt": "2007-10-01T00:00:00",
          "value": 21,
          "variable": "Johor_Area_rpa"
         },
         {
          "Johor_Production": 276.955,
          "dt": "2007-11-01T00:00:00",
          "value": 21,
          "variable": "Johor_Area_rpa"
         },
         {
          "Johor_Production": 243.713,
          "dt": "2007-12-01T00:00:00",
          "value": 21,
          "variable": "Johor_Area_rpa"
         },
         {
          "Johor_Production": 241.662,
          "dt": "2008-01-01T00:00:00",
          "value": 14,
          "variable": "Johor_Area_rpa"
         },
         {
          "Johor_Production": 217.673,
          "dt": "2008-02-01T00:00:00",
          "value": 14,
          "variable": "Johor_Area_rpa"
         },
         {
          "Johor_Production": 229.253,
          "dt": "2008-03-01T00:00:00",
          "value": 14,
          "variable": "Johor_Area_rpa"
         },
         {
          "Johor_Production": 209.989,
          "dt": "2008-04-01T00:00:00",
          "value": 14,
          "variable": "Johor_Area_rpa"
         },
         {
          "Johor_Production": 229.763,
          "dt": "2008-05-01T00:00:00",
          "value": 14,
          "variable": "Johor_Area_rpa"
         },
         {
          "Johor_Production": 231.758,
          "dt": "2008-06-01T00:00:00",
          "value": 14,
          "variable": "Johor_Area_rpa"
         },
         {
          "Johor_Production": 252.11,
          "dt": "2008-07-01T00:00:00",
          "value": 14,
          "variable": "Johor_Area_rpa"
         },
         {
          "Johor_Production": 258.638,
          "dt": "2008-08-01T00:00:00",
          "value": 14,
          "variable": "Johor_Area_rpa"
         },
         {
          "Johor_Production": 248.514,
          "dt": "2008-09-01T00:00:00",
          "value": 14,
          "variable": "Johor_Area_rpa"
         },
         {
          "Johor_Production": 269.094,
          "dt": "2008-10-01T00:00:00",
          "value": 14,
          "variable": "Johor_Area_rpa"
         },
         {
          "Johor_Production": 281.432,
          "dt": "2008-11-01T00:00:00",
          "value": 14,
          "variable": "Johor_Area_rpa"
         },
         {
          "Johor_Production": 251.442,
          "dt": "2008-12-01T00:00:00",
          "value": 14,
          "variable": "Johor_Area_rpa"
         },
         {
          "Johor_Production": 221.711,
          "dt": "2009-01-01T00:00:00",
          "value": 19,
          "variable": "Johor_Area_rpa"
         },
         {
          "Johor_Production": 208.299,
          "dt": "2009-02-01T00:00:00",
          "value": 19,
          "variable": "Johor_Area_rpa"
         },
         {
          "Johor_Production": 206.43,
          "dt": "2009-03-01T00:00:00",
          "value": 19,
          "variable": "Johor_Area_rpa"
         },
         {
          "Johor_Production": 214.957,
          "dt": "2009-04-01T00:00:00",
          "value": 19,
          "variable": "Johor_Area_rpa"
         },
         {
          "Johor_Production": 244.809,
          "dt": "2009-05-01T00:00:00",
          "value": 19,
          "variable": "Johor_Area_rpa"
         },
         {
          "Johor_Production": 260.523,
          "dt": "2009-06-01T00:00:00",
          "value": 19,
          "variable": "Johor_Area_rpa"
         },
         {
          "Johor_Production": 273.706,
          "dt": "2009-07-01T00:00:00",
          "value": 19,
          "variable": "Johor_Area_rpa"
         },
         {
          "Johor_Production": 247.842,
          "dt": "2009-08-01T00:00:00",
          "value": 19,
          "variable": "Johor_Area_rpa"
         },
         {
          "Johor_Production": 244.425,
          "dt": "2009-09-01T00:00:00",
          "value": 19,
          "variable": "Johor_Area_rpa"
         },
         {
          "Johor_Production": 326.184,
          "dt": "2009-10-01T00:00:00",
          "value": 19,
          "variable": "Johor_Area_rpa"
         },
         {
          "Johor_Production": 253.616,
          "dt": "2009-11-01T00:00:00",
          "value": 19,
          "variable": "Johor_Area_rpa"
         },
         {
          "Johor_Production": 235.343,
          "dt": "2009-12-01T00:00:00",
          "value": 19,
          "variable": "Johor_Area_rpa"
         },
         {
          "Johor_Production": 209.505,
          "dt": "2010-01-01T00:00:00",
          "value": 27,
          "variable": "Johor_Area_rpa"
         },
         {
          "Johor_Production": 193.756,
          "dt": "2010-02-01T00:00:00",
          "value": 27,
          "variable": "Johor_Area_rpa"
         },
         {
          "Johor_Production": 232.43,
          "dt": "2010-03-01T00:00:00",
          "value": 27,
          "variable": "Johor_Area_rpa"
         },
         {
          "Johor_Production": 217.338,
          "dt": "2010-04-01T00:00:00",
          "value": 27,
          "variable": "Johor_Area_rpa"
         },
         {
          "Johor_Production": 245.879,
          "dt": "2010-05-01T00:00:00",
          "value": 27,
          "variable": "Johor_Area_rpa"
         },
         {
          "Johor_Production": 258.857,
          "dt": "2010-06-01T00:00:00",
          "value": 27,
          "variable": "Johor_Area_rpa"
         },
         {
          "Johor_Production": 264.492,
          "dt": "2010-07-01T00:00:00",
          "value": 27,
          "variable": "Johor_Area_rpa"
         },
         {
          "Johor_Production": 255.194,
          "dt": "2010-08-01T00:00:00",
          "value": 27,
          "variable": "Johor_Area_rpa"
         },
         {
          "Johor_Production": 245.335,
          "dt": "2010-09-01T00:00:00",
          "value": 27,
          "variable": "Johor_Area_rpa"
         },
         {
          "Johor_Production": 266.321,
          "dt": "2010-10-01T00:00:00",
          "value": 27,
          "variable": "Johor_Area_rpa"
         },
         {
          "Johor_Production": 232.593,
          "dt": "2010-11-01T00:00:00",
          "value": 27,
          "variable": "Johor_Area_rpa"
         },
         {
          "Johor_Production": 186.448,
          "dt": "2010-12-01T00:00:00",
          "value": 27,
          "variable": "Johor_Area_rpa"
         },
         {
          "Johor_Production": 169.897,
          "dt": "2011-01-01T00:00:00",
          "value": 23,
          "variable": "Johor_Area_rpa"
         },
         {
          "Johor_Production": 172.278,
          "dt": "2011-02-01T00:00:00",
          "value": 23,
          "variable": "Johor_Area_rpa"
         },
         {
          "Johor_Production": 229.479,
          "dt": "2011-03-01T00:00:00",
          "value": 23,
          "variable": "Johor_Area_rpa"
         },
         {
          "Johor_Production": 242.912,
          "dt": "2011-04-01T00:00:00",
          "value": 23,
          "variable": "Johor_Area_rpa"
         },
         {
          "Johor_Production": 284.842,
          "dt": "2011-05-01T00:00:00",
          "value": 23,
          "variable": "Johor_Area_rpa"
         },
         {
          "Johor_Production": 285.567,
          "dt": "2011-06-01T00:00:00",
          "value": 23,
          "variable": "Johor_Area_rpa"
         },
         {
          "Johor_Production": 278.396,
          "dt": "2011-07-01T00:00:00",
          "value": 23,
          "variable": "Johor_Area_rpa"
         },
         {
          "Johor_Production": 268.496,
          "dt": "2011-08-01T00:00:00",
          "value": 23,
          "variable": "Johor_Area_rpa"
         },
         {
          "Johor_Production": 302.377,
          "dt": "2011-09-01T00:00:00",
          "value": 23,
          "variable": "Johor_Area_rpa"
         },
         {
          "Johor_Production": 309.233,
          "dt": "2011-10-01T00:00:00",
          "value": 23,
          "variable": "Johor_Area_rpa"
         },
         {
          "Johor_Production": 255.19,
          "dt": "2011-11-01T00:00:00",
          "value": 23,
          "variable": "Johor_Area_rpa"
         },
         {
          "Johor_Production": 223.67,
          "dt": "2011-12-01T00:00:00",
          "value": 23,
          "variable": "Johor_Area_rpa"
         },
         {
          "Johor_Production": 191.594,
          "dt": "2012-01-01T00:00:00",
          "value": 19,
          "variable": "Johor_Area_rpa"
         },
         {
          "Johor_Production": 181.334,
          "dt": "2012-02-01T00:00:00",
          "value": 19,
          "variable": "Johor_Area_rpa"
         },
         {
          "Johor_Production": 180.834,
          "dt": "2012-03-01T00:00:00",
          "value": 19,
          "variable": "Johor_Area_rpa"
         },
         {
          "Johor_Production": 198.155,
          "dt": "2012-04-01T00:00:00",
          "value": 19,
          "variable": "Johor_Area_rpa"
         },
         {
          "Johor_Production": 225.183,
          "dt": "2012-05-01T00:00:00",
          "value": 19,
          "variable": "Johor_Area_rpa"
         },
         {
          "Johor_Production": 249.569,
          "dt": "2012-06-01T00:00:00",
          "value": 19,
          "variable": "Johor_Area_rpa"
         },
         {
          "Johor_Production": 278.021,
          "dt": "2012-07-01T00:00:00",
          "value": 19,
          "variable": "Johor_Area_rpa"
         },
         {
          "Johor_Production": 257.313,
          "dt": "2012-08-01T00:00:00",
          "value": 19,
          "variable": "Johor_Area_rpa"
         },
         {
          "Johor_Production": 320.36,
          "dt": "2012-09-01T00:00:00",
          "value": 19,
          "variable": "Johor_Area_rpa"
         },
         {
          "Johor_Production": 306.34,
          "dt": "2012-10-01T00:00:00",
          "value": 19,
          "variable": "Johor_Area_rpa"
         },
         {
          "Johor_Production": 289.152,
          "dt": "2012-11-01T00:00:00",
          "value": 19,
          "variable": "Johor_Area_rpa"
         },
         {
          "Johor_Production": 268.765,
          "dt": "2012-12-01T00:00:00",
          "value": 19,
          "variable": "Johor_Area_rpa"
         },
         {
          "Johor_Production": 236.864,
          "dt": "2013-01-01T00:00:00",
          "value": 17,
          "variable": "Johor_Area_rpa"
         },
         {
          "Johor_Production": 180.277,
          "dt": "2013-02-01T00:00:00",
          "value": 17,
          "variable": "Johor_Area_rpa"
         },
         {
          "Johor_Production": 196.443,
          "dt": "2013-03-01T00:00:00",
          "value": 17,
          "variable": "Johor_Area_rpa"
         },
         {
          "Johor_Production": 217.999,
          "dt": "2013-04-01T00:00:00",
          "value": 17,
          "variable": "Johor_Area_rpa"
         },
         {
          "Johor_Production": 222.98,
          "dt": "2013-05-01T00:00:00",
          "value": 17,
          "variable": "Johor_Area_rpa"
         },
         {
          "Johor_Production": 246.078,
          "dt": "2013-06-01T00:00:00",
          "value": 17,
          "variable": "Johor_Area_rpa"
         },
         {
          "Johor_Production": 278.357,
          "dt": "2013-07-01T00:00:00",
          "value": 17,
          "variable": "Johor_Area_rpa"
         },
         {
          "Johor_Production": 269.148,
          "dt": "2013-08-01T00:00:00",
          "value": 17,
          "variable": "Johor_Area_rpa"
         },
         {
          "Johor_Production": 306.037,
          "dt": "2013-09-01T00:00:00",
          "value": 17,
          "variable": "Johor_Area_rpa"
         },
         {
          "Johor_Production": 315.86,
          "dt": "2013-10-01T00:00:00",
          "value": 17,
          "variable": "Johor_Area_rpa"
         },
         {
          "Johor_Production": 289.997,
          "dt": "2013-11-01T00:00:00",
          "value": 17,
          "variable": "Johor_Area_rpa"
         },
         {
          "Johor_Production": 253.845,
          "dt": "2013-12-01T00:00:00",
          "value": 17,
          "variable": "Johor_Area_rpa"
         },
         {
          "Johor_Production": 235.748,
          "dt": "2014-01-01T00:00:00",
          "value": 19,
          "variable": "Johor_Area_rpa"
         },
         {
          "Johor_Production": 194.587,
          "dt": "2014-02-01T00:00:00",
          "value": 19,
          "variable": "Johor_Area_rpa"
         },
         {
          "Johor_Production": 223.268,
          "dt": "2014-03-01T00:00:00",
          "value": 19,
          "variable": "Johor_Area_rpa"
         },
         {
          "Johor_Production": 225.776,
          "dt": "2014-04-01T00:00:00",
          "value": 19,
          "variable": "Johor_Area_rpa"
         },
         {
          "Johor_Production": 248.045,
          "dt": "2014-05-01T00:00:00",
          "value": 19,
          "variable": "Johor_Area_rpa"
         },
         {
          "Johor_Production": 257.604,
          "dt": "2014-06-01T00:00:00",
          "value": 19,
          "variable": "Johor_Area_rpa"
         },
         {
          "Johor_Production": 278.807,
          "dt": "2014-07-01T00:00:00",
          "value": 19,
          "variable": "Johor_Area_rpa"
         },
         {
          "Johor_Production": 329.485,
          "dt": "2014-08-01T00:00:00",
          "value": 19,
          "variable": "Johor_Area_rpa"
         },
         {
          "Johor_Production": 295.434,
          "dt": "2014-09-01T00:00:00",
          "value": 19,
          "variable": "Johor_Area_rpa"
         },
         {
          "Johor_Production": 294.13,
          "dt": "2014-10-01T00:00:00",
          "value": 19,
          "variable": "Johor_Area_rpa"
         },
         {
          "Johor_Production": 263.147,
          "dt": "2014-11-01T00:00:00",
          "value": 19,
          "variable": "Johor_Area_rpa"
         },
         {
          "Johor_Production": 201.004,
          "dt": "2014-12-01T00:00:00",
          "value": 19,
          "variable": "Johor_Area_rpa"
         },
         {
          "Johor_Production": 171.725,
          "dt": "2015-01-01T00:00:00",
          "value": 13,
          "variable": "Johor_Area_rpa"
         },
         {
          "Johor_Production": 188.325,
          "dt": "2015-02-01T00:00:00",
          "value": 13,
          "variable": "Johor_Area_rpa"
         },
         {
          "Johor_Production": 247.856,
          "dt": "2015-03-01T00:00:00",
          "value": 13,
          "variable": "Johor_Area_rpa"
         },
         {
          "Johor_Production": 282.791,
          "dt": "2015-04-01T00:00:00",
          "value": 13,
          "variable": "Johor_Area_rpa"
         },
         {
          "Johor_Production": 291.057,
          "dt": "2015-05-01T00:00:00",
          "value": 13,
          "variable": "Johor_Area_rpa"
         },
         {
          "Johor_Production": 287.502,
          "dt": "2015-06-01T00:00:00",
          "value": 13,
          "variable": "Johor_Area_rpa"
         },
         {
          "Johor_Production": 288.086,
          "dt": "2015-07-01T00:00:00",
          "value": 13,
          "variable": "Johor_Area_rpa"
         },
         {
          "Johor_Production": 313.321,
          "dt": "2015-08-01T00:00:00",
          "value": 13,
          "variable": "Johor_Area_rpa"
         },
         {
          "Johor_Production": 299.337,
          "dt": "2015-09-01T00:00:00",
          "value": 13,
          "variable": "Johor_Area_rpa"
         },
         {
          "Johor_Production": 300.383,
          "dt": "2015-10-01T00:00:00",
          "value": 13,
          "variable": "Johor_Area_rpa"
         },
         {
          "Johor_Production": 246.005,
          "dt": "2015-11-01T00:00:00",
          "value": 13,
          "variable": "Johor_Area_rpa"
         },
         {
          "Johor_Production": 201.231,
          "dt": "2015-12-01T00:00:00",
          "value": 13,
          "variable": "Johor_Area_rpa"
         },
         {
          "Johor_Production": 163.84,
          "dt": "2016-01-01T00:00:00",
          "value": 13,
          "variable": "Johor_Area_rpa"
         },
         {
          "Johor_Production": 166.663,
          "dt": "2016-02-01T00:00:00",
          "value": 13,
          "variable": "Johor_Area_rpa"
         },
         {
          "Johor_Production": 185.974,
          "dt": "2016-03-01T00:00:00",
          "value": 13,
          "variable": "Johor_Area_rpa"
         },
         {
          "Johor_Production": 200.321,
          "dt": "2016-04-01T00:00:00",
          "value": 13,
          "variable": "Johor_Area_rpa"
         },
         {
          "Johor_Production": 207.485,
          "dt": "2016-05-01T00:00:00",
          "value": 13,
          "variable": "Johor_Area_rpa"
         },
         {
          "Johor_Production": 229.105,
          "dt": "2016-06-01T00:00:00",
          "value": 13,
          "variable": "Johor_Area_rpa"
         },
         {
          "Johor_Production": 232.726,
          "dt": "2016-07-01T00:00:00",
          "value": 13,
          "variable": "Johor_Area_rpa"
         },
         {
          "Johor_Production": 264.981,
          "dt": "2016-08-01T00:00:00",
          "value": 13,
          "variable": "Johor_Area_rpa"
         },
         {
          "Johor_Production": 280.248,
          "dt": "2016-09-01T00:00:00",
          "value": 13,
          "variable": "Johor_Area_rpa"
         },
         {
          "Johor_Production": 284.922,
          "dt": "2016-10-01T00:00:00",
          "value": 13,
          "variable": "Johor_Area_rpa"
         },
         {
          "Johor_Production": 274.107,
          "dt": "2016-11-01T00:00:00",
          "value": 13,
          "variable": "Johor_Area_rpa"
         },
         {
          "Johor_Production": 254.881,
          "dt": "2016-12-01T00:00:00",
          "value": 13,
          "variable": "Johor_Area_rpa"
         },
         {
          "Johor_Production": 211.81,
          "dt": "2017-01-01T00:00:00",
          "value": 14.947368421052632,
          "variable": "Johor_Area_rpa"
         },
         {
          "Johor_Production": 214.747,
          "dt": "2017-02-01T00:00:00",
          "value": 14.947368421052632,
          "variable": "Johor_Area_rpa"
         },
         {
          "Johor_Production": 210.002,
          "dt": "2017-03-01T00:00:00",
          "value": 14.947368421052632,
          "variable": "Johor_Area_rpa"
         },
         {
          "Johor_Production": 216.574,
          "dt": "2017-04-01T00:00:00",
          "value": 14.947368421052632,
          "variable": "Johor_Area_rpa"
         },
         {
          "Johor_Production": 225.834,
          "dt": "2017-05-01T00:00:00",
          "value": 14.947368421052632,
          "variable": "Johor_Area_rpa"
         },
         {
          "Johor_Production": 205.989,
          "dt": "2017-06-01T00:00:00",
          "value": 14.947368421052632,
          "variable": "Johor_Area_rpa"
         },
         {
          "Johor_Production": 284.963,
          "dt": "2017-07-01T00:00:00",
          "value": 14.947368421052632,
          "variable": "Johor_Area_rpa"
         },
         {
          "Johor_Production": 293.14,
          "dt": "2017-08-01T00:00:00",
          "value": 14.947368421052632,
          "variable": "Johor_Area_rpa"
         },
         {
          "Johor_Production": 295.578,
          "dt": "2017-09-01T00:00:00",
          "value": 14.947368421052632,
          "variable": "Johor_Area_rpa"
         },
         {
          "Johor_Production": 147.24,
          "dt": "1999-02-01T00:00:00",
          "value": 403.330769231,
          "variable": "Johor_Area_ma_new"
         },
         {
          "Johor_Production": 169.754,
          "dt": "1999-03-01T00:00:00",
          "value": 403.330769231,
          "variable": "Johor_Area_ma_new"
         },
         {
          "Johor_Production": 192.155,
          "dt": "1999-04-01T00:00:00",
          "value": 403.330769231,
          "variable": "Johor_Area_ma_new"
         },
         {
          "Johor_Production": 216.57,
          "dt": "1999-05-01T00:00:00",
          "value": 403.330769231,
          "variable": "Johor_Area_ma_new"
         },
         {
          "Johor_Production": 210.553,
          "dt": "1999-06-01T00:00:00",
          "value": 403.330769231,
          "variable": "Johor_Area_ma_new"
         },
         {
          "Johor_Production": 223.731,
          "dt": "1999-07-01T00:00:00",
          "value": 403.330769231,
          "variable": "Johor_Area_ma_new"
         },
         {
          "Johor_Production": 224.397,
          "dt": "1999-08-01T00:00:00",
          "value": 403.330769231,
          "variable": "Johor_Area_ma_new"
         },
         {
          "Johor_Production": 234.327,
          "dt": "1999-09-01T00:00:00",
          "value": 403.330769231,
          "variable": "Johor_Area_ma_new"
         },
         {
          "Johor_Production": 237.426,
          "dt": "1999-10-01T00:00:00",
          "value": 403.330769231,
          "variable": "Johor_Area_ma_new"
         },
         {
          "Johor_Production": 225.412,
          "dt": "1999-11-01T00:00:00",
          "value": 403.330769231,
          "variable": "Johor_Area_ma_new"
         },
         {
          "Johor_Production": 210.489,
          "dt": "1999-12-01T00:00:00",
          "value": 403.330769231,
          "variable": "Johor_Area_ma_new"
         },
         {
          "Johor_Production": 176.328,
          "dt": "2000-01-01T00:00:00",
          "value": 391.861538462,
          "variable": "Johor_Area_ma_new"
         },
         {
          "Johor_Production": 164.926,
          "dt": "2000-02-01T00:00:00",
          "value": 391.861538462,
          "variable": "Johor_Area_ma_new"
         },
         {
          "Johor_Production": 173.124,
          "dt": "2000-03-01T00:00:00",
          "value": 391.861538462,
          "variable": "Johor_Area_ma_new"
         },
         {
          "Johor_Production": 177.804,
          "dt": "2000-04-01T00:00:00",
          "value": 391.861538462,
          "variable": "Johor_Area_ma_new"
         },
         {
          "Johor_Production": 185.927,
          "dt": "2000-05-01T00:00:00",
          "value": 391.861538462,
          "variable": "Johor_Area_ma_new"
         },
         {
          "Johor_Production": 199.5,
          "dt": "2000-06-01T00:00:00",
          "value": 391.861538462,
          "variable": "Johor_Area_ma_new"
         },
         {
          "Johor_Production": 204.75,
          "dt": "2000-07-01T00:00:00",
          "value": 391.861538462,
          "variable": "Johor_Area_ma_new"
         },
         {
          "Johor_Production": 211.713,
          "dt": "2000-08-01T00:00:00",
          "value": 391.861538462,
          "variable": "Johor_Area_ma_new"
         },
         {
          "Johor_Production": 233.193,
          "dt": "2000-09-01T00:00:00",
          "value": 391.861538462,
          "variable": "Johor_Area_ma_new"
         },
         {
          "Johor_Production": 239.385,
          "dt": "2000-10-01T00:00:00",
          "value": 391.861538462,
          "variable": "Johor_Area_ma_new"
         },
         {
          "Johor_Production": 239.598,
          "dt": "2000-11-01T00:00:00",
          "value": 391.861538462,
          "variable": "Johor_Area_ma_new"
         },
         {
          "Johor_Production": 175.965,
          "dt": "2000-12-01T00:00:00",
          "value": 391.861538462,
          "variable": "Johor_Area_ma_new"
         },
         {
          "Johor_Production": 199.24,
          "dt": "2001-01-01T00:00:00",
          "value": 368.846153846,
          "variable": "Johor_Area_ma_new"
         },
         {
          "Johor_Production": 171.77,
          "dt": "2001-02-01T00:00:00",
          "value": 368.846153846,
          "variable": "Johor_Area_ma_new"
         },
         {
          "Johor_Production": 170.966,
          "dt": "2001-03-01T00:00:00",
          "value": 368.846153846,
          "variable": "Johor_Area_ma_new"
         },
         {
          "Johor_Production": 176.878,
          "dt": "2001-04-01T00:00:00",
          "value": 368.846153846,
          "variable": "Johor_Area_ma_new"
         },
         {
          "Johor_Production": 188.395,
          "dt": "2001-05-01T00:00:00",
          "value": 368.846153846,
          "variable": "Johor_Area_ma_new"
         },
         {
          "Johor_Production": 183.676,
          "dt": "2001-06-01T00:00:00",
          "value": 368.846153846,
          "variable": "Johor_Area_ma_new"
         },
         {
          "Johor_Production": 187.813,
          "dt": "2001-07-01T00:00:00",
          "value": 368.846153846,
          "variable": "Johor_Area_ma_new"
         },
         {
          "Johor_Production": 211.931,
          "dt": "2001-08-01T00:00:00",
          "value": 368.846153846,
          "variable": "Johor_Area_ma_new"
         },
         {
          "Johor_Production": 221.399,
          "dt": "2001-09-01T00:00:00",
          "value": 368.846153846,
          "variable": "Johor_Area_ma_new"
         },
         {
          "Johor_Production": 230.672,
          "dt": "2001-10-01T00:00:00",
          "value": 368.846153846,
          "variable": "Johor_Area_ma_new"
         },
         {
          "Johor_Production": 209.077,
          "dt": "2001-11-01T00:00:00",
          "value": 368.846153846,
          "variable": "Johor_Area_ma_new"
         },
         {
          "Johor_Production": 176.049,
          "dt": "2001-12-01T00:00:00",
          "value": 368.846153846,
          "variable": "Johor_Area_ma_new"
         },
         {
          "Johor_Production": 177.839,
          "dt": "2002-01-01T00:00:00",
          "value": 352.492307692,
          "variable": "Johor_Area_ma_new"
         },
         {
          "Johor_Production": 140.047,
          "dt": "2002-02-01T00:00:00",
          "value": 352.492307692,
          "variable": "Johor_Area_ma_new"
         },
         {
          "Johor_Production": 162.689,
          "dt": "2002-03-01T00:00:00",
          "value": 352.492307692,
          "variable": "Johor_Area_ma_new"
         },
         {
          "Johor_Production": 160.742,
          "dt": "2002-04-01T00:00:00",
          "value": 352.492307692,
          "variable": "Johor_Area_ma_new"
         },
         {
          "Johor_Production": 176.955,
          "dt": "2002-05-01T00:00:00",
          "value": 352.492307692,
          "variable": "Johor_Area_ma_new"
         },
         {
          "Johor_Production": 187.515,
          "dt": "2002-06-01T00:00:00",
          "value": 352.492307692,
          "variable": "Johor_Area_ma_new"
         },
         {
          "Johor_Production": 207.064,
          "dt": "2002-07-01T00:00:00",
          "value": 352.492307692,
          "variable": "Johor_Area_ma_new"
         },
         {
          "Johor_Production": 214.915,
          "dt": "2002-08-01T00:00:00",
          "value": 352.492307692,
          "variable": "Johor_Area_ma_new"
         },
         {
          "Johor_Production": 230.929,
          "dt": "2002-09-01T00:00:00",
          "value": 352.492307692,
          "variable": "Johor_Area_ma_new"
         },
         {
          "Johor_Production": 230.638,
          "dt": "2002-10-01T00:00:00",
          "value": 352.492307692,
          "variable": "Johor_Area_ma_new"
         },
         {
          "Johor_Production": 205.439,
          "dt": "2002-11-01T00:00:00",
          "value": 352.492307692,
          "variable": "Johor_Area_ma_new"
         },
         {
          "Johor_Production": 177.754,
          "dt": "2002-12-01T00:00:00",
          "value": 352.492307692,
          "variable": "Johor_Area_ma_new"
         },
         {
          "Johor_Production": 170.296,
          "dt": "2003-01-01T00:00:00",
          "value": 340.669230769,
          "variable": "Johor_Area_ma_new"
         },
         {
          "Johor_Production": 153.45,
          "dt": "2003-02-01T00:00:00",
          "value": 340.669230769,
          "variable": "Johor_Area_ma_new"
         },
         {
          "Johor_Production": 197.905,
          "dt": "2003-03-01T00:00:00",
          "value": 340.669230769,
          "variable": "Johor_Area_ma_new"
         },
         {
          "Johor_Production": 221.055,
          "dt": "2003-04-01T00:00:00",
          "value": 340.669230769,
          "variable": "Johor_Area_ma_new"
         },
         {
          "Johor_Production": 232.739,
          "dt": "2003-05-01T00:00:00",
          "value": 340.669230769,
          "variable": "Johor_Area_ma_new"
         },
         {
          "Johor_Production": 241.319,
          "dt": "2003-06-01T00:00:00",
          "value": 340.669230769,
          "variable": "Johor_Area_ma_new"
         },
         {
          "Johor_Production": 248.74,
          "dt": "2003-07-01T00:00:00",
          "value": 340.669230769,
          "variable": "Johor_Area_ma_new"
         },
         {
          "Johor_Production": 242.578,
          "dt": "2003-08-01T00:00:00",
          "value": 340.669230769,
          "variable": "Johor_Area_ma_new"
         },
         {
          "Johor_Production": 248.51,
          "dt": "2003-09-01T00:00:00",
          "value": 340.669230769,
          "variable": "Johor_Area_ma_new"
         },
         {
          "Johor_Production": 223.714,
          "dt": "2003-10-01T00:00:00",
          "value": 340.669230769,
          "variable": "Johor_Area_ma_new"
         },
         {
          "Johor_Production": 193.828,
          "dt": "2003-11-01T00:00:00",
          "value": 340.669230769,
          "variable": "Johor_Area_ma_new"
         },
         {
          "Johor_Production": 231.986,
          "dt": "2003-12-01T00:00:00",
          "value": 340.669230769,
          "variable": "Johor_Area_ma_new"
         },
         {
          "Johor_Production": 161.686,
          "dt": "2004-01-01T00:00:00",
          "value": 332.730769231,
          "variable": "Johor_Area_ma_new"
         },
         {
          "Johor_Production": 167.235,
          "dt": "2004-02-01T00:00:00",
          "value": 332.730769231,
          "variable": "Johor_Area_ma_new"
         },
         {
          "Johor_Production": 180.851,
          "dt": "2004-03-01T00:00:00",
          "value": 332.730769231,
          "variable": "Johor_Area_ma_new"
         },
         {
          "Johor_Production": 191.626,
          "dt": "2004-04-01T00:00:00",
          "value": 332.730769231,
          "variable": "Johor_Area_ma_new"
         },
         {
          "Johor_Production": 220.506,
          "dt": "2004-05-01T00:00:00",
          "value": 332.730769231,
          "variable": "Johor_Area_ma_new"
         },
         {
          "Johor_Production": 233.33,
          "dt": "2004-06-01T00:00:00",
          "value": 332.730769231,
          "variable": "Johor_Area_ma_new"
         },
         {
          "Johor_Production": 240.156,
          "dt": "2004-07-01T00:00:00",
          "value": 332.730769231,
          "variable": "Johor_Area_ma_new"
         },
         {
          "Johor_Production": 235.884,
          "dt": "2004-08-01T00:00:00",
          "value": 332.730769231,
          "variable": "Johor_Area_ma_new"
         },
         {
          "Johor_Production": 255.614,
          "dt": "2004-09-01T00:00:00",
          "value": 332.730769231,
          "variable": "Johor_Area_ma_new"
         },
         {
          "Johor_Production": 250.95,
          "dt": "2004-10-01T00:00:00",
          "value": 332.730769231,
          "variable": "Johor_Area_ma_new"
         },
         {
          "Johor_Production": 220.849,
          "dt": "2004-11-01T00:00:00",
          "value": 332.730769231,
          "variable": "Johor_Area_ma_new"
         },
         {
          "Johor_Production": 233.651,
          "dt": "2004-12-01T00:00:00",
          "value": 332.730769231,
          "variable": "Johor_Area_ma_new"
         },
         {
          "Johor_Production": 205.973,
          "dt": "2005-01-01T00:00:00",
          "value": 322.792307692,
          "variable": "Johor_Area_ma_new"
         },
         {
          "Johor_Production": 183.37,
          "dt": "2005-02-01T00:00:00",
          "value": 322.792307692,
          "variable": "Johor_Area_ma_new"
         },
         {
          "Johor_Production": 218.398,
          "dt": "2005-03-01T00:00:00",
          "value": 322.792307692,
          "variable": "Johor_Area_ma_new"
         },
         {
          "Johor_Production": 214.688,
          "dt": "2005-04-01T00:00:00",
          "value": 322.792307692,
          "variable": "Johor_Area_ma_new"
         },
         {
          "Johor_Production": 236.13,
          "dt": "2005-05-01T00:00:00",
          "value": 322.792307692,
          "variable": "Johor_Area_ma_new"
         },
         {
          "Johor_Production": 229.296,
          "dt": "2005-06-01T00:00:00",
          "value": 322.792307692,
          "variable": "Johor_Area_ma_new"
         },
         {
          "Johor_Production": 237.548,
          "dt": "2005-07-01T00:00:00",
          "value": 322.792307692,
          "variable": "Johor_Area_ma_new"
         },
         {
          "Johor_Production": 230.896,
          "dt": "2005-08-01T00:00:00",
          "value": 322.792307692,
          "variable": "Johor_Area_ma_new"
         },
         {
          "Johor_Production": 239.294,
          "dt": "2005-09-01T00:00:00",
          "value": 322.792307692,
          "variable": "Johor_Area_ma_new"
         },
         {
          "Johor_Production": 223.837,
          "dt": "2005-10-01T00:00:00",
          "value": 322.792307692,
          "variable": "Johor_Area_ma_new"
         },
         {
          "Johor_Production": 190.419,
          "dt": "2005-11-01T00:00:00",
          "value": 322.792307692,
          "variable": "Johor_Area_ma_new"
         },
         {
          "Johor_Production": 160.418,
          "dt": "2005-12-01T00:00:00",
          "value": 322.792307692,
          "variable": "Johor_Area_ma_new"
         },
         {
          "Johor_Production": 145.637,
          "dt": "2006-01-01T00:00:00",
          "value": 328.415384615,
          "variable": "Johor_Area_ma_new"
         },
         {
          "Johor_Production": 193.908,
          "dt": "2006-02-01T00:00:00",
          "value": 328.415384615,
          "variable": "Johor_Area_ma_new"
         },
         {
          "Johor_Production": 229.324,
          "dt": "2006-03-01T00:00:00",
          "value": 328.415384615,
          "variable": "Johor_Area_ma_new"
         },
         {
          "Johor_Production": 240.346,
          "dt": "2006-04-01T00:00:00",
          "value": 328.415384615,
          "variable": "Johor_Area_ma_new"
         },
         {
          "Johor_Production": 267.948,
          "dt": "2006-05-01T00:00:00",
          "value": 328.415384615,
          "variable": "Johor_Area_ma_new"
         },
         {
          "Johor_Production": 260.255,
          "dt": "2006-06-01T00:00:00",
          "value": 328.415384615,
          "variable": "Johor_Area_ma_new"
         },
         {
          "Johor_Production": 265.266,
          "dt": "2006-07-01T00:00:00",
          "value": 328.415384615,
          "variable": "Johor_Area_ma_new"
         },
         {
          "Johor_Production": 290.846,
          "dt": "2006-08-01T00:00:00",
          "value": 328.415384615,
          "variable": "Johor_Area_ma_new"
         },
         {
          "Johor_Production": 279.002,
          "dt": "2006-09-01T00:00:00",
          "value": 328.415384615,
          "variable": "Johor_Area_ma_new"
         },
         {
          "Johor_Production": 226.696,
          "dt": "2006-10-01T00:00:00",
          "value": 328.415384615,
          "variable": "Johor_Area_ma_new"
         },
         {
          "Johor_Production": 260.429,
          "dt": "2006-11-01T00:00:00",
          "value": 328.415384615,
          "variable": "Johor_Area_ma_new"
         },
         {
          "Johor_Production": 161.383,
          "dt": "2006-12-01T00:00:00",
          "value": 328.415384615,
          "variable": "Johor_Area_ma_new"
         },
         {
          "Johor_Production": 160.215,
          "dt": "2007-01-01T00:00:00",
          "value": 311.530769231,
          "variable": "Johor_Area_ma_new"
         },
         {
          "Johor_Production": 148.427,
          "dt": "2007-02-01T00:00:00",
          "value": 311.530769231,
          "variable": "Johor_Area_ma_new"
         },
         {
          "Johor_Production": 172.007,
          "dt": "2007-03-01T00:00:00",
          "value": 311.530769231,
          "variable": "Johor_Area_ma_new"
         },
         {
          "Johor_Production": 182.575,
          "dt": "2007-04-01T00:00:00",
          "value": 311.530769231,
          "variable": "Johor_Area_ma_new"
         },
         {
          "Johor_Production": 196.112,
          "dt": "2007-05-01T00:00:00",
          "value": 311.530769231,
          "variable": "Johor_Area_ma_new"
         },
         {
          "Johor_Production": 191.218,
          "dt": "2007-06-01T00:00:00",
          "value": 311.530769231,
          "variable": "Johor_Area_ma_new"
         },
         {
          "Johor_Production": 244.877,
          "dt": "2007-07-01T00:00:00",
          "value": 311.530769231,
          "variable": "Johor_Area_ma_new"
         },
         {
          "Johor_Production": 268.332,
          "dt": "2007-08-01T00:00:00",
          "value": 311.530769231,
          "variable": "Johor_Area_ma_new"
         },
         {
          "Johor_Production": 270.622,
          "dt": "2007-09-01T00:00:00",
          "value": 311.530769231,
          "variable": "Johor_Area_ma_new"
         },
         {
          "Johor_Production": 270.185,
          "dt": "2007-10-01T00:00:00",
          "value": 311.530769231,
          "variable": "Johor_Area_ma_new"
         },
         {
          "Johor_Production": 276.955,
          "dt": "2007-11-01T00:00:00",
          "value": 311.530769231,
          "variable": "Johor_Area_ma_new"
         },
         {
          "Johor_Production": 243.713,
          "dt": "2007-12-01T00:00:00",
          "value": 311.530769231,
          "variable": "Johor_Area_ma_new"
         },
         {
          "Johor_Production": 241.662,
          "dt": "2008-01-01T00:00:00",
          "value": 333.969230769,
          "variable": "Johor_Area_ma_new"
         },
         {
          "Johor_Production": 217.673,
          "dt": "2008-02-01T00:00:00",
          "value": 333.969230769,
          "variable": "Johor_Area_ma_new"
         },
         {
          "Johor_Production": 229.253,
          "dt": "2008-03-01T00:00:00",
          "value": 333.969230769,
          "variable": "Johor_Area_ma_new"
         },
         {
          "Johor_Production": 209.989,
          "dt": "2008-04-01T00:00:00",
          "value": 333.969230769,
          "variable": "Johor_Area_ma_new"
         },
         {
          "Johor_Production": 229.763,
          "dt": "2008-05-01T00:00:00",
          "value": 333.969230769,
          "variable": "Johor_Area_ma_new"
         },
         {
          "Johor_Production": 231.758,
          "dt": "2008-06-01T00:00:00",
          "value": 333.969230769,
          "variable": "Johor_Area_ma_new"
         },
         {
          "Johor_Production": 252.11,
          "dt": "2008-07-01T00:00:00",
          "value": 333.969230769,
          "variable": "Johor_Area_ma_new"
         },
         {
          "Johor_Production": 258.638,
          "dt": "2008-08-01T00:00:00",
          "value": 333.969230769,
          "variable": "Johor_Area_ma_new"
         },
         {
          "Johor_Production": 248.514,
          "dt": "2008-09-01T00:00:00",
          "value": 333.969230769,
          "variable": "Johor_Area_ma_new"
         },
         {
          "Johor_Production": 269.094,
          "dt": "2008-10-01T00:00:00",
          "value": 333.969230769,
          "variable": "Johor_Area_ma_new"
         },
         {
          "Johor_Production": 281.432,
          "dt": "2008-11-01T00:00:00",
          "value": 333.969230769,
          "variable": "Johor_Area_ma_new"
         },
         {
          "Johor_Production": 251.442,
          "dt": "2008-12-01T00:00:00",
          "value": 333.969230769,
          "variable": "Johor_Area_ma_new"
         },
         {
          "Johor_Production": 221.711,
          "dt": "2009-01-01T00:00:00",
          "value": 346.676923077,
          "variable": "Johor_Area_ma_new"
         },
         {
          "Johor_Production": 208.299,
          "dt": "2009-02-01T00:00:00",
          "value": 346.676923077,
          "variable": "Johor_Area_ma_new"
         },
         {
          "Johor_Production": 206.43,
          "dt": "2009-03-01T00:00:00",
          "value": 346.676923077,
          "variable": "Johor_Area_ma_new"
         },
         {
          "Johor_Production": 214.957,
          "dt": "2009-04-01T00:00:00",
          "value": 346.676923077,
          "variable": "Johor_Area_ma_new"
         },
         {
          "Johor_Production": 244.809,
          "dt": "2009-05-01T00:00:00",
          "value": 346.676923077,
          "variable": "Johor_Area_ma_new"
         },
         {
          "Johor_Production": 260.523,
          "dt": "2009-06-01T00:00:00",
          "value": 346.676923077,
          "variable": "Johor_Area_ma_new"
         },
         {
          "Johor_Production": 273.706,
          "dt": "2009-07-01T00:00:00",
          "value": 346.676923077,
          "variable": "Johor_Area_ma_new"
         },
         {
          "Johor_Production": 247.842,
          "dt": "2009-08-01T00:00:00",
          "value": 346.676923077,
          "variable": "Johor_Area_ma_new"
         },
         {
          "Johor_Production": 244.425,
          "dt": "2009-09-01T00:00:00",
          "value": 346.676923077,
          "variable": "Johor_Area_ma_new"
         },
         {
          "Johor_Production": 326.184,
          "dt": "2009-10-01T00:00:00",
          "value": 346.676923077,
          "variable": "Johor_Area_ma_new"
         },
         {
          "Johor_Production": 253.616,
          "dt": "2009-11-01T00:00:00",
          "value": 346.676923077,
          "variable": "Johor_Area_ma_new"
         },
         {
          "Johor_Production": 235.343,
          "dt": "2009-12-01T00:00:00",
          "value": 346.676923077,
          "variable": "Johor_Area_ma_new"
         },
         {
          "Johor_Production": 209.505,
          "dt": "2010-01-01T00:00:00",
          "value": 344.461538462,
          "variable": "Johor_Area_ma_new"
         },
         {
          "Johor_Production": 193.756,
          "dt": "2010-02-01T00:00:00",
          "value": 344.461538462,
          "variable": "Johor_Area_ma_new"
         },
         {
          "Johor_Production": 232.43,
          "dt": "2010-03-01T00:00:00",
          "value": 344.461538462,
          "variable": "Johor_Area_ma_new"
         },
         {
          "Johor_Production": 217.338,
          "dt": "2010-04-01T00:00:00",
          "value": 344.461538462,
          "variable": "Johor_Area_ma_new"
         },
         {
          "Johor_Production": 245.879,
          "dt": "2010-05-01T00:00:00",
          "value": 344.461538462,
          "variable": "Johor_Area_ma_new"
         },
         {
          "Johor_Production": 258.857,
          "dt": "2010-06-01T00:00:00",
          "value": 344.461538462,
          "variable": "Johor_Area_ma_new"
         },
         {
          "Johor_Production": 264.492,
          "dt": "2010-07-01T00:00:00",
          "value": 344.461538462,
          "variable": "Johor_Area_ma_new"
         },
         {
          "Johor_Production": 255.194,
          "dt": "2010-08-01T00:00:00",
          "value": 344.461538462,
          "variable": "Johor_Area_ma_new"
         },
         {
          "Johor_Production": 245.335,
          "dt": "2010-09-01T00:00:00",
          "value": 344.461538462,
          "variable": "Johor_Area_ma_new"
         },
         {
          "Johor_Production": 266.321,
          "dt": "2010-10-01T00:00:00",
          "value": 344.461538462,
          "variable": "Johor_Area_ma_new"
         },
         {
          "Johor_Production": 232.593,
          "dt": "2010-11-01T00:00:00",
          "value": 344.461538462,
          "variable": "Johor_Area_ma_new"
         },
         {
          "Johor_Production": 186.448,
          "dt": "2010-12-01T00:00:00",
          "value": 344.461538462,
          "variable": "Johor_Area_ma_new"
         },
         {
          "Johor_Production": 169.897,
          "dt": "2011-01-01T00:00:00",
          "value": 329.484615385,
          "variable": "Johor_Area_ma_new"
         },
         {
          "Johor_Production": 172.278,
          "dt": "2011-02-01T00:00:00",
          "value": 329.484615385,
          "variable": "Johor_Area_ma_new"
         },
         {
          "Johor_Production": 229.479,
          "dt": "2011-03-01T00:00:00",
          "value": 329.484615385,
          "variable": "Johor_Area_ma_new"
         },
         {
          "Johor_Production": 242.912,
          "dt": "2011-04-01T00:00:00",
          "value": 329.484615385,
          "variable": "Johor_Area_ma_new"
         },
         {
          "Johor_Production": 284.842,
          "dt": "2011-05-01T00:00:00",
          "value": 329.484615385,
          "variable": "Johor_Area_ma_new"
         },
         {
          "Johor_Production": 285.567,
          "dt": "2011-06-01T00:00:00",
          "value": 329.484615385,
          "variable": "Johor_Area_ma_new"
         },
         {
          "Johor_Production": 278.396,
          "dt": "2011-07-01T00:00:00",
          "value": 329.484615385,
          "variable": "Johor_Area_ma_new"
         },
         {
          "Johor_Production": 268.496,
          "dt": "2011-08-01T00:00:00",
          "value": 329.484615385,
          "variable": "Johor_Area_ma_new"
         },
         {
          "Johor_Production": 302.377,
          "dt": "2011-09-01T00:00:00",
          "value": 329.484615385,
          "variable": "Johor_Area_ma_new"
         },
         {
          "Johor_Production": 309.233,
          "dt": "2011-10-01T00:00:00",
          "value": 329.484615385,
          "variable": "Johor_Area_ma_new"
         },
         {
          "Johor_Production": 255.19,
          "dt": "2011-11-01T00:00:00",
          "value": 329.484615385,
          "variable": "Johor_Area_ma_new"
         },
         {
          "Johor_Production": 223.67,
          "dt": "2011-12-01T00:00:00",
          "value": 329.484615385,
          "variable": "Johor_Area_ma_new"
         },
         {
          "Johor_Production": 191.594,
          "dt": "2012-01-01T00:00:00",
          "value": 311.3,
          "variable": "Johor_Area_ma_new"
         },
         {
          "Johor_Production": 181.334,
          "dt": "2012-02-01T00:00:00",
          "value": 311.3,
          "variable": "Johor_Area_ma_new"
         },
         {
          "Johor_Production": 180.834,
          "dt": "2012-03-01T00:00:00",
          "value": 311.3,
          "variable": "Johor_Area_ma_new"
         },
         {
          "Johor_Production": 198.155,
          "dt": "2012-04-01T00:00:00",
          "value": 311.3,
          "variable": "Johor_Area_ma_new"
         },
         {
          "Johor_Production": 225.183,
          "dt": "2012-05-01T00:00:00",
          "value": 311.3,
          "variable": "Johor_Area_ma_new"
         },
         {
          "Johor_Production": 249.569,
          "dt": "2012-06-01T00:00:00",
          "value": 311.3,
          "variable": "Johor_Area_ma_new"
         },
         {
          "Johor_Production": 278.021,
          "dt": "2012-07-01T00:00:00",
          "value": 311.3,
          "variable": "Johor_Area_ma_new"
         },
         {
          "Johor_Production": 257.313,
          "dt": "2012-08-01T00:00:00",
          "value": 311.3,
          "variable": "Johor_Area_ma_new"
         },
         {
          "Johor_Production": 320.36,
          "dt": "2012-09-01T00:00:00",
          "value": 311.3,
          "variable": "Johor_Area_ma_new"
         },
         {
          "Johor_Production": 306.34,
          "dt": "2012-10-01T00:00:00",
          "value": 311.3,
          "variable": "Johor_Area_ma_new"
         },
         {
          "Johor_Production": 289.152,
          "dt": "2012-11-01T00:00:00",
          "value": 311.3,
          "variable": "Johor_Area_ma_new"
         },
         {
          "Johor_Production": 268.765,
          "dt": "2012-12-01T00:00:00",
          "value": 311.3,
          "variable": "Johor_Area_ma_new"
         },
         {
          "Johor_Production": 236.864,
          "dt": "2013-01-01T00:00:00",
          "value": 325.784615385,
          "variable": "Johor_Area_ma_new"
         },
         {
          "Johor_Production": 180.277,
          "dt": "2013-02-01T00:00:00",
          "value": 325.784615385,
          "variable": "Johor_Area_ma_new"
         },
         {
          "Johor_Production": 196.443,
          "dt": "2013-03-01T00:00:00",
          "value": 325.784615385,
          "variable": "Johor_Area_ma_new"
         },
         {
          "Johor_Production": 217.999,
          "dt": "2013-04-01T00:00:00",
          "value": 325.784615385,
          "variable": "Johor_Area_ma_new"
         },
         {
          "Johor_Production": 222.98,
          "dt": "2013-05-01T00:00:00",
          "value": 325.784615385,
          "variable": "Johor_Area_ma_new"
         },
         {
          "Johor_Production": 246.078,
          "dt": "2013-06-01T00:00:00",
          "value": 325.784615385,
          "variable": "Johor_Area_ma_new"
         },
         {
          "Johor_Production": 278.357,
          "dt": "2013-07-01T00:00:00",
          "value": 325.784615385,
          "variable": "Johor_Area_ma_new"
         },
         {
          "Johor_Production": 269.148,
          "dt": "2013-08-01T00:00:00",
          "value": 325.784615385,
          "variable": "Johor_Area_ma_new"
         },
         {
          "Johor_Production": 306.037,
          "dt": "2013-09-01T00:00:00",
          "value": 325.784615385,
          "variable": "Johor_Area_ma_new"
         },
         {
          "Johor_Production": 315.86,
          "dt": "2013-10-01T00:00:00",
          "value": 325.784615385,
          "variable": "Johor_Area_ma_new"
         },
         {
          "Johor_Production": 289.997,
          "dt": "2013-11-01T00:00:00",
          "value": 325.784615385,
          "variable": "Johor_Area_ma_new"
         },
         {
          "Johor_Production": 253.845,
          "dt": "2013-12-01T00:00:00",
          "value": 325.784615385,
          "variable": "Johor_Area_ma_new"
         },
         {
          "Johor_Production": 235.748,
          "dt": "2014-01-01T00:00:00",
          "value": 331.592307692,
          "variable": "Johor_Area_ma_new"
         },
         {
          "Johor_Production": 194.587,
          "dt": "2014-02-01T00:00:00",
          "value": 331.592307692,
          "variable": "Johor_Area_ma_new"
         },
         {
          "Johor_Production": 223.268,
          "dt": "2014-03-01T00:00:00",
          "value": 331.592307692,
          "variable": "Johor_Area_ma_new"
         },
         {
          "Johor_Production": 225.776,
          "dt": "2014-04-01T00:00:00",
          "value": 331.592307692,
          "variable": "Johor_Area_ma_new"
         },
         {
          "Johor_Production": 248.045,
          "dt": "2014-05-01T00:00:00",
          "value": 331.592307692,
          "variable": "Johor_Area_ma_new"
         },
         {
          "Johor_Production": 257.604,
          "dt": "2014-06-01T00:00:00",
          "value": 331.592307692,
          "variable": "Johor_Area_ma_new"
         },
         {
          "Johor_Production": 278.807,
          "dt": "2014-07-01T00:00:00",
          "value": 331.592307692,
          "variable": "Johor_Area_ma_new"
         },
         {
          "Johor_Production": 329.485,
          "dt": "2014-08-01T00:00:00",
          "value": 331.592307692,
          "variable": "Johor_Area_ma_new"
         },
         {
          "Johor_Production": 295.434,
          "dt": "2014-09-01T00:00:00",
          "value": 331.592307692,
          "variable": "Johor_Area_ma_new"
         },
         {
          "Johor_Production": 294.13,
          "dt": "2014-10-01T00:00:00",
          "value": 331.592307692,
          "variable": "Johor_Area_ma_new"
         },
         {
          "Johor_Production": 263.147,
          "dt": "2014-11-01T00:00:00",
          "value": 331.592307692,
          "variable": "Johor_Area_ma_new"
         },
         {
          "Johor_Production": 201.004,
          "dt": "2014-12-01T00:00:00",
          "value": 331.592307692,
          "variable": "Johor_Area_ma_new"
         },
         {
          "Johor_Production": 171.725,
          "dt": "2015-01-01T00:00:00",
          "value": 349.1,
          "variable": "Johor_Area_ma_new"
         },
         {
          "Johor_Production": 188.325,
          "dt": "2015-02-01T00:00:00",
          "value": 349.1,
          "variable": "Johor_Area_ma_new"
         },
         {
          "Johor_Production": 247.856,
          "dt": "2015-03-01T00:00:00",
          "value": 349.1,
          "variable": "Johor_Area_ma_new"
         },
         {
          "Johor_Production": 282.791,
          "dt": "2015-04-01T00:00:00",
          "value": 349.1,
          "variable": "Johor_Area_ma_new"
         },
         {
          "Johor_Production": 291.057,
          "dt": "2015-05-01T00:00:00",
          "value": 349.1,
          "variable": "Johor_Area_ma_new"
         },
         {
          "Johor_Production": 287.502,
          "dt": "2015-06-01T00:00:00",
          "value": 349.1,
          "variable": "Johor_Area_ma_new"
         },
         {
          "Johor_Production": 288.086,
          "dt": "2015-07-01T00:00:00",
          "value": 349.1,
          "variable": "Johor_Area_ma_new"
         },
         {
          "Johor_Production": 313.321,
          "dt": "2015-08-01T00:00:00",
          "value": 349.1,
          "variable": "Johor_Area_ma_new"
         },
         {
          "Johor_Production": 299.337,
          "dt": "2015-09-01T00:00:00",
          "value": 349.1,
          "variable": "Johor_Area_ma_new"
         },
         {
          "Johor_Production": 300.383,
          "dt": "2015-10-01T00:00:00",
          "value": 349.1,
          "variable": "Johor_Area_ma_new"
         },
         {
          "Johor_Production": 246.005,
          "dt": "2015-11-01T00:00:00",
          "value": 349.1,
          "variable": "Johor_Area_ma_new"
         },
         {
          "Johor_Production": 201.231,
          "dt": "2015-12-01T00:00:00",
          "value": 349.1,
          "variable": "Johor_Area_ma_new"
         },
         {
          "Johor_Production": 163.84,
          "dt": "2016-01-01T00:00:00",
          "value": 372.161538462,
          "variable": "Johor_Area_ma_new"
         },
         {
          "Johor_Production": 166.663,
          "dt": "2016-02-01T00:00:00",
          "value": 372.161538462,
          "variable": "Johor_Area_ma_new"
         },
         {
          "Johor_Production": 185.974,
          "dt": "2016-03-01T00:00:00",
          "value": 372.161538462,
          "variable": "Johor_Area_ma_new"
         },
         {
          "Johor_Production": 200.321,
          "dt": "2016-04-01T00:00:00",
          "value": 372.161538462,
          "variable": "Johor_Area_ma_new"
         },
         {
          "Johor_Production": 207.485,
          "dt": "2016-05-01T00:00:00",
          "value": 372.161538462,
          "variable": "Johor_Area_ma_new"
         },
         {
          "Johor_Production": 229.105,
          "dt": "2016-06-01T00:00:00",
          "value": 372.161538462,
          "variable": "Johor_Area_ma_new"
         },
         {
          "Johor_Production": 232.726,
          "dt": "2016-07-01T00:00:00",
          "value": 372.161538462,
          "variable": "Johor_Area_ma_new"
         },
         {
          "Johor_Production": 264.981,
          "dt": "2016-08-01T00:00:00",
          "value": 372.161538462,
          "variable": "Johor_Area_ma_new"
         },
         {
          "Johor_Production": 280.248,
          "dt": "2016-09-01T00:00:00",
          "value": 372.161538462,
          "variable": "Johor_Area_ma_new"
         },
         {
          "Johor_Production": 284.922,
          "dt": "2016-10-01T00:00:00",
          "value": 372.161538462,
          "variable": "Johor_Area_ma_new"
         },
         {
          "Johor_Production": 274.107,
          "dt": "2016-11-01T00:00:00",
          "value": 372.161538462,
          "variable": "Johor_Area_ma_new"
         },
         {
          "Johor_Production": 254.881,
          "dt": "2016-12-01T00:00:00",
          "value": 372.161538462,
          "variable": "Johor_Area_ma_new"
         },
         {
          "Johor_Production": 211.81,
          "dt": "2017-01-01T00:00:00",
          "value": 347.5927125506842,
          "variable": "Johor_Area_ma_new"
         },
         {
          "Johor_Production": 214.747,
          "dt": "2017-02-01T00:00:00",
          "value": 347.5927125506842,
          "variable": "Johor_Area_ma_new"
         },
         {
          "Johor_Production": 210.002,
          "dt": "2017-03-01T00:00:00",
          "value": 347.5927125506842,
          "variable": "Johor_Area_ma_new"
         },
         {
          "Johor_Production": 216.574,
          "dt": "2017-04-01T00:00:00",
          "value": 347.5927125506842,
          "variable": "Johor_Area_ma_new"
         },
         {
          "Johor_Production": 225.834,
          "dt": "2017-05-01T00:00:00",
          "value": 347.5927125506842,
          "variable": "Johor_Area_ma_new"
         },
         {
          "Johor_Production": 205.989,
          "dt": "2017-06-01T00:00:00",
          "value": 347.5927125506842,
          "variable": "Johor_Area_ma_new"
         },
         {
          "Johor_Production": 284.963,
          "dt": "2017-07-01T00:00:00",
          "value": 347.5927125506842,
          "variable": "Johor_Area_ma_new"
         },
         {
          "Johor_Production": 293.14,
          "dt": "2017-08-01T00:00:00",
          "value": 347.5927125506842,
          "variable": "Johor_Area_ma_new"
         },
         {
          "Johor_Production": 295.578,
          "dt": "2017-09-01T00:00:00",
          "value": 347.5927125506842,
          "variable": "Johor_Area_ma_new"
         },
         {
          "Johor_Production": 147.24,
          "dt": "1999-02-01T00:00:00",
          "value": 50.775,
          "variable": "Johor_Rainfall"
         },
         {
          "Johor_Production": 169.754,
          "dt": "1999-03-01T00:00:00",
          "value": 281.75,
          "variable": "Johor_Rainfall"
         },
         {
          "Johor_Production": 192.155,
          "dt": "1999-04-01T00:00:00",
          "value": 144.15,
          "variable": "Johor_Rainfall"
         },
         {
          "Johor_Production": 216.57,
          "dt": "1999-05-01T00:00:00",
          "value": 159.6,
          "variable": "Johor_Rainfall"
         },
         {
          "Johor_Production": 210.553,
          "dt": "1999-06-01T00:00:00",
          "value": 101.925,
          "variable": "Johor_Rainfall"
         },
         {
          "Johor_Production": 223.731,
          "dt": "1999-07-01T00:00:00",
          "value": 148.975,
          "variable": "Johor_Rainfall"
         },
         {
          "Johor_Production": 224.397,
          "dt": "1999-08-01T00:00:00",
          "value": 169.525,
          "variable": "Johor_Rainfall"
         },
         {
          "Johor_Production": 234.327,
          "dt": "1999-09-01T00:00:00",
          "value": 131.3,
          "variable": "Johor_Rainfall"
         },
         {
          "Johor_Production": 237.426,
          "dt": "1999-10-01T00:00:00",
          "value": 246.2,
          "variable": "Johor_Rainfall"
         },
         {
          "Johor_Production": 225.412,
          "dt": "1999-11-01T00:00:00",
          "value": 177.6,
          "variable": "Johor_Rainfall"
         },
         {
          "Johor_Production": 210.489,
          "dt": "1999-12-01T00:00:00",
          "value": 171.275,
          "variable": "Johor_Rainfall"
         },
         {
          "Johor_Production": 176.328,
          "dt": "2000-01-01T00:00:00",
          "value": 289,
          "variable": "Johor_Rainfall"
         },
         {
          "Johor_Production": 164.926,
          "dt": "2000-02-01T00:00:00",
          "value": 127.95,
          "variable": "Johor_Rainfall"
         },
         {
          "Johor_Production": 173.124,
          "dt": "2000-03-01T00:00:00",
          "value": 243.2,
          "variable": "Johor_Rainfall"
         },
         {
          "Johor_Production": 177.804,
          "dt": "2000-04-01T00:00:00",
          "value": 209.625,
          "variable": "Johor_Rainfall"
         },
         {
          "Johor_Production": 185.927,
          "dt": "2000-05-01T00:00:00",
          "value": 107.1,
          "variable": "Johor_Rainfall"
         },
         {
          "Johor_Production": 199.5,
          "dt": "2000-06-01T00:00:00",
          "value": 156.175,
          "variable": "Johor_Rainfall"
         },
         {
          "Johor_Production": 204.75,
          "dt": "2000-07-01T00:00:00",
          "value": 165.325,
          "variable": "Johor_Rainfall"
         },
         {
          "Johor_Production": 211.713,
          "dt": "2000-08-01T00:00:00",
          "value": 212.675,
          "variable": "Johor_Rainfall"
         },
         {
          "Johor_Production": 233.193,
          "dt": "2000-09-01T00:00:00",
          "value": 141.25,
          "variable": "Johor_Rainfall"
         },
         {
          "Johor_Production": 239.385,
          "dt": "2000-10-01T00:00:00",
          "value": 131.35,
          "variable": "Johor_Rainfall"
         },
         {
          "Johor_Production": 239.598,
          "dt": "2000-11-01T00:00:00",
          "value": 248.975,
          "variable": "Johor_Rainfall"
         },
         {
          "Johor_Production": 175.965,
          "dt": "2000-12-01T00:00:00",
          "value": 366.775,
          "variable": "Johor_Rainfall"
         },
         {
          "Johor_Production": 199.24,
          "dt": "2001-01-01T00:00:00",
          "value": 487.125,
          "variable": "Johor_Rainfall"
         },
         {
          "Johor_Production": 171.77,
          "dt": "2001-02-01T00:00:00",
          "value": 101.975,
          "variable": "Johor_Rainfall"
         },
         {
          "Johor_Production": 170.966,
          "dt": "2001-03-01T00:00:00",
          "value": 173.25,
          "variable": "Johor_Rainfall"
         },
         {
          "Johor_Production": 176.878,
          "dt": "2001-04-01T00:00:00",
          "value": 198,
          "variable": "Johor_Rainfall"
         },
         {
          "Johor_Production": 188.395,
          "dt": "2001-05-01T00:00:00",
          "value": 150.025,
          "variable": "Johor_Rainfall"
         },
         {
          "Johor_Production": 183.676,
          "dt": "2001-06-01T00:00:00",
          "value": 139.25,
          "variable": "Johor_Rainfall"
         },
         {
          "Johor_Production": 187.813,
          "dt": "2001-07-01T00:00:00",
          "value": 118.55,
          "variable": "Johor_Rainfall"
         },
         {
          "Johor_Production": 211.931,
          "dt": "2001-08-01T00:00:00",
          "value": 121.675,
          "variable": "Johor_Rainfall"
         },
         {
          "Johor_Production": 221.399,
          "dt": "2001-09-01T00:00:00",
          "value": 147.4,
          "variable": "Johor_Rainfall"
         },
         {
          "Johor_Production": 230.672,
          "dt": "2001-10-01T00:00:00",
          "value": 266.725,
          "variable": "Johor_Rainfall"
         },
         {
          "Johor_Production": 209.077,
          "dt": "2001-11-01T00:00:00",
          "value": 198.025,
          "variable": "Johor_Rainfall"
         },
         {
          "Johor_Production": 176.049,
          "dt": "2001-12-01T00:00:00",
          "value": 352.325,
          "variable": "Johor_Rainfall"
         },
         {
          "Johor_Production": 177.839,
          "dt": "2002-01-01T00:00:00",
          "value": 176.25,
          "variable": "Johor_Rainfall"
         },
         {
          "Johor_Production": 140.047,
          "dt": "2002-02-01T00:00:00",
          "value": 58.65,
          "variable": "Johor_Rainfall"
         },
         {
          "Johor_Production": 162.689,
          "dt": "2002-03-01T00:00:00",
          "value": 140.5,
          "variable": "Johor_Rainfall"
         },
         {
          "Johor_Production": 160.742,
          "dt": "2002-04-01T00:00:00",
          "value": 193.775,
          "variable": "Johor_Rainfall"
         },
         {
          "Johor_Production": 176.955,
          "dt": "2002-05-01T00:00:00",
          "value": 217.625,
          "variable": "Johor_Rainfall"
         },
         {
          "Johor_Production": 187.515,
          "dt": "2002-06-01T00:00:00",
          "value": 94.6,
          "variable": "Johor_Rainfall"
         },
         {
          "Johor_Production": 207.064,
          "dt": "2002-07-01T00:00:00",
          "value": 182.625,
          "variable": "Johor_Rainfall"
         },
         {
          "Johor_Production": 214.915,
          "dt": "2002-08-01T00:00:00",
          "value": 161.375,
          "variable": "Johor_Rainfall"
         },
         {
          "Johor_Production": 230.929,
          "dt": "2002-09-01T00:00:00",
          "value": 184.175,
          "variable": "Johor_Rainfall"
         },
         {
          "Johor_Production": 230.638,
          "dt": "2002-10-01T00:00:00",
          "value": 121.1,
          "variable": "Johor_Rainfall"
         },
         {
          "Johor_Production": 205.439,
          "dt": "2002-11-01T00:00:00",
          "value": 295.425,
          "variable": "Johor_Rainfall"
         },
         {
          "Johor_Production": 177.754,
          "dt": "2002-12-01T00:00:00",
          "value": 264.85,
          "variable": "Johor_Rainfall"
         },
         {
          "Johor_Production": 170.296,
          "dt": "2003-01-01T00:00:00",
          "value": 383.375,
          "variable": "Johor_Rainfall"
         },
         {
          "Johor_Production": 153.45,
          "dt": "2003-02-01T00:00:00",
          "value": 90.3,
          "variable": "Johor_Rainfall"
         },
         {
          "Johor_Production": 197.905,
          "dt": "2003-03-01T00:00:00",
          "value": 129.125,
          "variable": "Johor_Rainfall"
         },
         {
          "Johor_Production": 221.055,
          "dt": "2003-04-01T00:00:00",
          "value": 185.325,
          "variable": "Johor_Rainfall"
         },
         {
          "Johor_Production": 232.739,
          "dt": "2003-05-01T00:00:00",
          "value": 112.425,
          "variable": "Johor_Rainfall"
         },
         {
          "Johor_Production": 241.319,
          "dt": "2003-06-01T00:00:00",
          "value": 154.3,
          "variable": "Johor_Rainfall"
         },
         {
          "Johor_Production": 248.74,
          "dt": "2003-07-01T00:00:00",
          "value": 164.325,
          "variable": "Johor_Rainfall"
         },
         {
          "Johor_Production": 242.578,
          "dt": "2003-08-01T00:00:00",
          "value": 145.825,
          "variable": "Johor_Rainfall"
         },
         {
          "Johor_Production": 248.51,
          "dt": "2003-09-01T00:00:00",
          "value": 217.55,
          "variable": "Johor_Rainfall"
         },
         {
          "Johor_Production": 223.714,
          "dt": "2003-10-01T00:00:00",
          "value": 268.45,
          "variable": "Johor_Rainfall"
         },
         {
          "Johor_Production": 193.828,
          "dt": "2003-11-01T00:00:00",
          "value": 253.2,
          "variable": "Johor_Rainfall"
         },
         {
          "Johor_Production": 231.986,
          "dt": "2003-12-01T00:00:00",
          "value": 270.475,
          "variable": "Johor_Rainfall"
         },
         {
          "Johor_Production": 161.686,
          "dt": "2004-01-01T00:00:00",
          "value": 271.35,
          "variable": "Johor_Rainfall"
         },
         {
          "Johor_Production": 167.235,
          "dt": "2004-02-01T00:00:00",
          "value": 28.125,
          "variable": "Johor_Rainfall"
         },
         {
          "Johor_Production": 180.851,
          "dt": "2004-03-01T00:00:00",
          "value": 425.675,
          "variable": "Johor_Rainfall"
         },
         {
          "Johor_Production": 191.626,
          "dt": "2004-04-01T00:00:00",
          "value": 144.125,
          "variable": "Johor_Rainfall"
         },
         {
          "Johor_Production": 220.506,
          "dt": "2004-05-01T00:00:00",
          "value": 89.225,
          "variable": "Johor_Rainfall"
         },
         {
          "Johor_Production": 233.33,
          "dt": "2004-06-01T00:00:00",
          "value": 90.6,
          "variable": "Johor_Rainfall"
         },
         {
          "Johor_Production": 240.156,
          "dt": "2004-07-01T00:00:00",
          "value": 230.025,
          "variable": "Johor_Rainfall"
         },
         {
          "Johor_Production": 235.884,
          "dt": "2004-08-01T00:00:00",
          "value": 116,
          "variable": "Johor_Rainfall"
         },
         {
          "Johor_Production": 255.614,
          "dt": "2004-09-01T00:00:00",
          "value": 171.75,
          "variable": "Johor_Rainfall"
         },
         {
          "Johor_Production": 250.95,
          "dt": "2004-10-01T00:00:00",
          "value": 254.025,
          "variable": "Johor_Rainfall"
         },
         {
          "Johor_Production": 220.849,
          "dt": "2004-11-01T00:00:00",
          "value": 326.425,
          "variable": "Johor_Rainfall"
         },
         {
          "Johor_Production": 233.651,
          "dt": "2004-12-01T00:00:00",
          "value": 197.475,
          "variable": "Johor_Rainfall"
         },
         {
          "Johor_Production": 205.973,
          "dt": "2005-01-01T00:00:00",
          "value": 125.925,
          "variable": "Johor_Rainfall"
         },
         {
          "Johor_Production": 183.37,
          "dt": "2005-02-01T00:00:00",
          "value": 36.5,
          "variable": "Johor_Rainfall"
         },
         {
          "Johor_Production": 218.398,
          "dt": "2005-03-01T00:00:00",
          "value": 123.25,
          "variable": "Johor_Rainfall"
         },
         {
          "Johor_Production": 214.688,
          "dt": "2005-04-01T00:00:00",
          "value": 170.075,
          "variable": "Johor_Rainfall"
         },
         {
          "Johor_Production": 236.13,
          "dt": "2005-05-01T00:00:00",
          "value": 210.2,
          "variable": "Johor_Rainfall"
         },
         {
          "Johor_Production": 229.296,
          "dt": "2005-06-01T00:00:00",
          "value": 148.725,
          "variable": "Johor_Rainfall"
         },
         {
          "Johor_Production": 237.548,
          "dt": "2005-07-01T00:00:00",
          "value": 169.975,
          "variable": "Johor_Rainfall"
         },
         {
          "Johor_Production": 230.896,
          "dt": "2005-08-01T00:00:00",
          "value": 220,
          "variable": "Johor_Rainfall"
         },
         {
          "Johor_Production": 239.294,
          "dt": "2005-09-01T00:00:00",
          "value": 185.35,
          "variable": "Johor_Rainfall"
         },
         {
          "Johor_Production": 223.837,
          "dt": "2005-10-01T00:00:00",
          "value": 236.75,
          "variable": "Johor_Rainfall"
         },
         {
          "Johor_Production": 190.419,
          "dt": "2005-11-01T00:00:00",
          "value": 323.75,
          "variable": "Johor_Rainfall"
         },
         {
          "Johor_Production": 160.418,
          "dt": "2005-12-01T00:00:00",
          "value": 219,
          "variable": "Johor_Rainfall"
         },
         {
          "Johor_Production": 145.637,
          "dt": "2006-01-01T00:00:00",
          "value": 222.5,
          "variable": "Johor_Rainfall"
         },
         {
          "Johor_Production": 193.908,
          "dt": "2006-02-01T00:00:00",
          "value": 129.75,
          "variable": "Johor_Rainfall"
         },
         {
          "Johor_Production": 229.324,
          "dt": "2006-03-01T00:00:00",
          "value": 116.25,
          "variable": "Johor_Rainfall"
         },
         {
          "Johor_Production": 240.346,
          "dt": "2006-04-01T00:00:00",
          "value": 219.25,
          "variable": "Johor_Rainfall"
         },
         {
          "Johor_Production": 267.948,
          "dt": "2006-05-01T00:00:00",
          "value": 156.5,
          "variable": "Johor_Rainfall"
         },
         {
          "Johor_Production": 260.255,
          "dt": "2006-06-01T00:00:00",
          "value": 239.75,
          "variable": "Johor_Rainfall"
         },
         {
          "Johor_Production": 265.266,
          "dt": "2006-07-01T00:00:00",
          "value": 170.75,
          "variable": "Johor_Rainfall"
         },
         {
          "Johor_Production": 290.846,
          "dt": "2006-08-01T00:00:00",
          "value": 113,
          "variable": "Johor_Rainfall"
         },
         {
          "Johor_Production": 279.002,
          "dt": "2006-09-01T00:00:00",
          "value": 173.725,
          "variable": "Johor_Rainfall"
         },
         {
          "Johor_Production": 226.696,
          "dt": "2006-10-01T00:00:00",
          "value": 145.85,
          "variable": "Johor_Rainfall"
         },
         {
          "Johor_Production": 260.429,
          "dt": "2006-11-01T00:00:00",
          "value": 300.225,
          "variable": "Johor_Rainfall"
         },
         {
          "Johor_Production": 161.383,
          "dt": "2006-12-01T00:00:00",
          "value": 663.35,
          "variable": "Johor_Rainfall"
         },
         {
          "Johor_Production": 160.215,
          "dt": "2007-01-01T00:00:00",
          "value": 625.45,
          "variable": "Johor_Rainfall"
         },
         {
          "Johor_Production": 148.427,
          "dt": "2007-02-01T00:00:00",
          "value": 112.775,
          "variable": "Johor_Rainfall"
         },
         {
          "Johor_Production": 172.007,
          "dt": "2007-03-01T00:00:00",
          "value": 151.6,
          "variable": "Johor_Rainfall"
         },
         {
          "Johor_Production": 182.575,
          "dt": "2007-04-01T00:00:00",
          "value": 239.9,
          "variable": "Johor_Rainfall"
         },
         {
          "Johor_Production": 196.112,
          "dt": "2007-05-01T00:00:00",
          "value": 204.35,
          "variable": "Johor_Rainfall"
         },
         {
          "Johor_Production": 191.218,
          "dt": "2007-06-01T00:00:00",
          "value": 196.475,
          "variable": "Johor_Rainfall"
         },
         {
          "Johor_Production": 244.877,
          "dt": "2007-07-01T00:00:00",
          "value": 189.45,
          "variable": "Johor_Rainfall"
         },
         {
          "Johor_Production": 268.332,
          "dt": "2007-08-01T00:00:00",
          "value": 196.65,
          "variable": "Johor_Rainfall"
         },
         {
          "Johor_Production": 270.622,
          "dt": "2007-09-01T00:00:00",
          "value": 188.55,
          "variable": "Johor_Rainfall"
         },
         {
          "Johor_Production": 270.185,
          "dt": "2007-10-01T00:00:00",
          "value": 173.15,
          "variable": "Johor_Rainfall"
         },
         {
          "Johor_Production": 276.955,
          "dt": "2007-11-01T00:00:00",
          "value": 261.75,
          "variable": "Johor_Rainfall"
         },
         {
          "Johor_Production": 243.713,
          "dt": "2007-12-01T00:00:00",
          "value": 443.075,
          "variable": "Johor_Rainfall"
         },
         {
          "Johor_Production": 241.662,
          "dt": "2008-01-01T00:00:00",
          "value": 257.45,
          "variable": "Johor_Rainfall"
         },
         {
          "Johor_Production": 217.673,
          "dt": "2008-02-01T00:00:00",
          "value": 175.9,
          "variable": "Johor_Rainfall"
         },
         {
          "Johor_Production": 229.253,
          "dt": "2008-03-01T00:00:00",
          "value": 342.1,
          "variable": "Johor_Rainfall"
         },
         {
          "Johor_Production": 209.989,
          "dt": "2008-04-01T00:00:00",
          "value": 212.6,
          "variable": "Johor_Rainfall"
         },
         {
          "Johor_Production": 229.763,
          "dt": "2008-05-01T00:00:00",
          "value": 115.325,
          "variable": "Johor_Rainfall"
         },
         {
          "Johor_Production": 231.758,
          "dt": "2008-06-01T00:00:00",
          "value": 204.4,
          "variable": "Johor_Rainfall"
         },
         {
          "Johor_Production": 252.11,
          "dt": "2008-07-01T00:00:00",
          "value": 229.35,
          "variable": "Johor_Rainfall"
         },
         {
          "Johor_Production": 258.638,
          "dt": "2008-08-01T00:00:00",
          "value": 200.2,
          "variable": "Johor_Rainfall"
         },
         {
          "Johor_Production": 248.514,
          "dt": "2008-09-01T00:00:00",
          "value": 214.925,
          "variable": "Johor_Rainfall"
         },
         {
          "Johor_Production": 269.094,
          "dt": "2008-10-01T00:00:00",
          "value": 289.2,
          "variable": "Johor_Rainfall"
         },
         {
          "Johor_Production": 281.432,
          "dt": "2008-11-01T00:00:00",
          "value": 243.6,
          "variable": "Johor_Rainfall"
         },
         {
          "Johor_Production": 251.442,
          "dt": "2008-12-01T00:00:00",
          "value": 303.35,
          "variable": "Johor_Rainfall"
         },
         {
          "Johor_Production": 221.711,
          "dt": "2009-01-01T00:00:00",
          "value": 119.9,
          "variable": "Johor_Rainfall"
         },
         {
          "Johor_Production": 208.299,
          "dt": "2009-02-01T00:00:00",
          "value": 103.975,
          "variable": "Johor_Rainfall"
         },
         {
          "Johor_Production": 206.43,
          "dt": "2009-03-01T00:00:00",
          "value": 274.1,
          "variable": "Johor_Rainfall"
         },
         {
          "Johor_Production": 214.957,
          "dt": "2009-04-01T00:00:00",
          "value": 212.75,
          "variable": "Johor_Rainfall"
         },
         {
          "Johor_Production": 244.809,
          "dt": "2009-05-01T00:00:00",
          "value": 172.95,
          "variable": "Johor_Rainfall"
         },
         {
          "Johor_Production": 260.523,
          "dt": "2009-06-01T00:00:00",
          "value": 84.4,
          "variable": "Johor_Rainfall"
         },
         {
          "Johor_Production": 273.706,
          "dt": "2009-07-01T00:00:00",
          "value": 143.4,
          "variable": "Johor_Rainfall"
         },
         {
          "Johor_Production": 247.842,
          "dt": "2009-08-01T00:00:00",
          "value": 146.475,
          "variable": "Johor_Rainfall"
         },
         {
          "Johor_Production": 244.425,
          "dt": "2009-09-01T00:00:00",
          "value": 153.65,
          "variable": "Johor_Rainfall"
         },
         {
          "Johor_Production": 326.184,
          "dt": "2009-10-01T00:00:00",
          "value": 117.45,
          "variable": "Johor_Rainfall"
         },
         {
          "Johor_Production": 253.616,
          "dt": "2009-11-01T00:00:00",
          "value": 267.95,
          "variable": "Johor_Rainfall"
         },
         {
          "Johor_Production": 235.343,
          "dt": "2009-12-01T00:00:00",
          "value": 159.6,
          "variable": "Johor_Rainfall"
         },
         {
          "Johor_Production": 209.505,
          "dt": "2010-01-01T00:00:00",
          "value": 108.1,
          "variable": "Johor_Rainfall"
         },
         {
          "Johor_Production": 193.756,
          "dt": "2010-02-01T00:00:00",
          "value": 66.35,
          "variable": "Johor_Rainfall"
         },
         {
          "Johor_Production": 232.43,
          "dt": "2010-03-01T00:00:00",
          "value": 158.3,
          "variable": "Johor_Rainfall"
         },
         {
          "Johor_Production": 217.338,
          "dt": "2010-04-01T00:00:00",
          "value": 247.575,
          "variable": "Johor_Rainfall"
         },
         {
          "Johor_Production": 245.879,
          "dt": "2010-05-01T00:00:00",
          "value": 191.65,
          "variable": "Johor_Rainfall"
         },
         {
          "Johor_Production": 258.857,
          "dt": "2010-06-01T00:00:00",
          "value": 175.875,
          "variable": "Johor_Rainfall"
         },
         {
          "Johor_Production": 264.492,
          "dt": "2010-07-01T00:00:00",
          "value": 176.7,
          "variable": "Johor_Rainfall"
         },
         {
          "Johor_Production": 255.194,
          "dt": "2010-08-01T00:00:00",
          "value": 164.5,
          "variable": "Johor_Rainfall"
         },
         {
          "Johor_Production": 245.335,
          "dt": "2010-09-01T00:00:00",
          "value": 183.75,
          "variable": "Johor_Rainfall"
         },
         {
          "Johor_Production": 266.321,
          "dt": "2010-10-01T00:00:00",
          "value": 123.9,
          "variable": "Johor_Rainfall"
         },
         {
          "Johor_Production": 232.593,
          "dt": "2010-11-01T00:00:00",
          "value": 274.175,
          "variable": "Johor_Rainfall"
         },
         {
          "Johor_Production": 186.448,
          "dt": "2010-12-01T00:00:00",
          "value": 225.2,
          "variable": "Johor_Rainfall"
         },
         {
          "Johor_Production": 169.897,
          "dt": "2011-01-01T00:00:00",
          "value": 443.55,
          "variable": "Johor_Rainfall"
         },
         {
          "Johor_Production": 172.278,
          "dt": "2011-02-01T00:00:00",
          "value": 39.35,
          "variable": "Johor_Rainfall"
         },
         {
          "Johor_Production": 229.479,
          "dt": "2011-03-01T00:00:00",
          "value": 251.325,
          "variable": "Johor_Rainfall"
         },
         {
          "Johor_Production": 242.912,
          "dt": "2011-04-01T00:00:00",
          "value": 174.95,
          "variable": "Johor_Rainfall"
         },
         {
          "Johor_Production": 284.842,
          "dt": "2011-05-01T00:00:00",
          "value": 170.9,
          "variable": "Johor_Rainfall"
         },
         {
          "Johor_Production": 285.567,
          "dt": "2011-06-01T00:00:00",
          "value": 160.55,
          "variable": "Johor_Rainfall"
         },
         {
          "Johor_Production": 278.396,
          "dt": "2011-07-01T00:00:00",
          "value": 119.1,
          "variable": "Johor_Rainfall"
         },
         {
          "Johor_Production": 268.496,
          "dt": "2011-08-01T00:00:00",
          "value": 171.7,
          "variable": "Johor_Rainfall"
         },
         {
          "Johor_Production": 302.377,
          "dt": "2011-09-01T00:00:00",
          "value": 198.7,
          "variable": "Johor_Rainfall"
         },
         {
          "Johor_Production": 309.233,
          "dt": "2011-10-01T00:00:00",
          "value": 357.15,
          "variable": "Johor_Rainfall"
         },
         {
          "Johor_Production": 255.19,
          "dt": "2011-11-01T00:00:00",
          "value": 299.675,
          "variable": "Johor_Rainfall"
         },
         {
          "Johor_Production": 223.67,
          "dt": "2011-12-01T00:00:00",
          "value": 435.65,
          "variable": "Johor_Rainfall"
         },
         {
          "Johor_Production": 191.594,
          "dt": "2012-01-01T00:00:00",
          "value": 209.3,
          "variable": "Johor_Rainfall"
         },
         {
          "Johor_Production": 181.334,
          "dt": "2012-02-01T00:00:00",
          "value": 157.75,
          "variable": "Johor_Rainfall"
         },
         {
          "Johor_Production": 180.834,
          "dt": "2012-03-01T00:00:00",
          "value": 214.1,
          "variable": "Johor_Rainfall"
         },
         {
          "Johor_Production": 198.155,
          "dt": "2012-04-01T00:00:00",
          "value": 186.95,
          "variable": "Johor_Rainfall"
         },
         {
          "Johor_Production": 225.183,
          "dt": "2012-05-01T00:00:00",
          "value": 163.25,
          "variable": "Johor_Rainfall"
         },
         {
          "Johor_Production": 249.569,
          "dt": "2012-06-01T00:00:00",
          "value": 69.95,
          "variable": "Johor_Rainfall"
         },
         {
          "Johor_Production": 278.021,
          "dt": "2012-07-01T00:00:00",
          "value": 160.75,
          "variable": "Johor_Rainfall"
         },
         {
          "Johor_Production": 257.313,
          "dt": "2012-08-01T00:00:00",
          "value": 233.025,
          "variable": "Johor_Rainfall"
         },
         {
          "Johor_Production": 320.36,
          "dt": "2012-09-01T00:00:00",
          "value": 176.525,
          "variable": "Johor_Rainfall"
         },
         {
          "Johor_Production": 306.34,
          "dt": "2012-10-01T00:00:00",
          "value": 188.025,
          "variable": "Johor_Rainfall"
         },
         {
          "Johor_Production": 289.152,
          "dt": "2012-11-01T00:00:00",
          "value": 398.55,
          "variable": "Johor_Rainfall"
         },
         {
          "Johor_Production": 268.765,
          "dt": "2012-12-01T00:00:00",
          "value": 350.025,
          "variable": "Johor_Rainfall"
         },
         {
          "Johor_Production": 236.864,
          "dt": "2013-01-01T00:00:00",
          "value": 327.85,
          "variable": "Johor_Rainfall"
         },
         {
          "Johor_Production": 180.277,
          "dt": "2013-02-01T00:00:00",
          "value": 299.725,
          "variable": "Johor_Rainfall"
         },
         {
          "Johor_Production": 196.443,
          "dt": "2013-03-01T00:00:00",
          "value": 154.25,
          "variable": "Johor_Rainfall"
         },
         {
          "Johor_Production": 217.999,
          "dt": "2013-04-01T00:00:00",
          "value": 150.6,
          "variable": "Johor_Rainfall"
         },
         {
          "Johor_Production": 222.98,
          "dt": "2013-05-01T00:00:00",
          "value": 183.425,
          "variable": "Johor_Rainfall"
         },
         {
          "Johor_Production": 246.078,
          "dt": "2013-06-01T00:00:00",
          "value": 45.45,
          "variable": "Johor_Rainfall"
         },
         {
          "Johor_Production": 278.357,
          "dt": "2013-07-01T00:00:00",
          "value": 85.7,
          "variable": "Johor_Rainfall"
         },
         {
          "Johor_Production": 269.148,
          "dt": "2013-08-01T00:00:00",
          "value": 171.125,
          "variable": "Johor_Rainfall"
         },
         {
          "Johor_Production": 306.037,
          "dt": "2013-09-01T00:00:00",
          "value": 214.75,
          "variable": "Johor_Rainfall"
         },
         {
          "Johor_Production": 315.86,
          "dt": "2013-10-01T00:00:00",
          "value": 186.25,
          "variable": "Johor_Rainfall"
         },
         {
          "Johor_Production": 289.997,
          "dt": "2013-11-01T00:00:00",
          "value": 219.65,
          "variable": "Johor_Rainfall"
         },
         {
          "Johor_Production": 253.845,
          "dt": "2013-12-01T00:00:00",
          "value": 400.625,
          "variable": "Johor_Rainfall"
         },
         {
          "Johor_Production": 235.748,
          "dt": "2014-01-01T00:00:00",
          "value": 96.4,
          "variable": "Johor_Rainfall"
         },
         {
          "Johor_Production": 194.587,
          "dt": "2014-02-01T00:00:00",
          "value": 26.15,
          "variable": "Johor_Rainfall"
         },
         {
          "Johor_Production": 223.268,
          "dt": "2014-03-01T00:00:00",
          "value": 153.45,
          "variable": "Johor_Rainfall"
         },
         {
          "Johor_Production": 225.776,
          "dt": "2014-04-01T00:00:00",
          "value": 248.1,
          "variable": "Johor_Rainfall"
         },
         {
          "Johor_Production": 248.045,
          "dt": "2014-05-01T00:00:00",
          "value": 263.65,
          "variable": "Johor_Rainfall"
         },
         {
          "Johor_Production": 257.604,
          "dt": "2014-06-01T00:00:00",
          "value": 139.9,
          "variable": "Johor_Rainfall"
         },
         {
          "Johor_Production": 278.807,
          "dt": "2014-07-01T00:00:00",
          "value": 152.8,
          "variable": "Johor_Rainfall"
         },
         {
          "Johor_Production": 329.485,
          "dt": "2014-08-01T00:00:00",
          "value": 238.5,
          "variable": "Johor_Rainfall"
         },
         {
          "Johor_Production": 295.434,
          "dt": "2014-09-01T00:00:00",
          "value": 140.55,
          "variable": "Johor_Rainfall"
         },
         {
          "Johor_Production": 294.13,
          "dt": "2014-10-01T00:00:00",
          "value": 205.6,
          "variable": "Johor_Rainfall"
         },
         {
          "Johor_Production": 263.147,
          "dt": "2014-11-01T00:00:00",
          "value": 336.95,
          "variable": "Johor_Rainfall"
         },
         {
          "Johor_Production": 201.004,
          "dt": "2014-12-01T00:00:00",
          "value": 429.1,
          "variable": "Johor_Rainfall"
         },
         {
          "Johor_Production": 171.725,
          "dt": "2015-01-01T00:00:00",
          "value": 157.25,
          "variable": "Johor_Rainfall"
         },
         {
          "Johor_Production": 188.325,
          "dt": "2015-02-01T00:00:00",
          "value": 42.25,
          "variable": "Johor_Rainfall"
         },
         {
          "Johor_Production": 247.856,
          "dt": "2015-03-01T00:00:00",
          "value": 138.25,
          "variable": "Johor_Rainfall"
         },
         {
          "Johor_Production": 282.791,
          "dt": "2015-04-01T00:00:00",
          "value": 201.15,
          "variable": "Johor_Rainfall"
         },
         {
          "Johor_Production": 291.057,
          "dt": "2015-05-01T00:00:00",
          "value": 192.9,
          "variable": "Johor_Rainfall"
         },
         {
          "Johor_Production": 287.502,
          "dt": "2015-06-01T00:00:00",
          "value": 143.25,
          "variable": "Johor_Rainfall"
         },
         {
          "Johor_Production": 288.086,
          "dt": "2015-07-01T00:00:00",
          "value": 155.55,
          "variable": "Johor_Rainfall"
         },
         {
          "Johor_Production": 313.321,
          "dt": "2015-08-01T00:00:00",
          "value": 163.1175,
          "variable": "Johor_Rainfall"
         },
         {
          "Johor_Production": 299.337,
          "dt": "2015-09-01T00:00:00",
          "value": 162.95,
          "variable": "Johor_Rainfall"
         },
         {
          "Johor_Production": 300.383,
          "dt": "2015-10-01T00:00:00",
          "value": 156.65,
          "variable": "Johor_Rainfall"
         },
         {
          "Johor_Production": 246.005,
          "dt": "2015-11-01T00:00:00",
          "value": 290.7,
          "variable": "Johor_Rainfall"
         },
         {
          "Johor_Production": 201.231,
          "dt": "2015-12-01T00:00:00",
          "value": 365,
          "variable": "Johor_Rainfall"
         },
         {
          "Johor_Production": 163.84,
          "dt": "2016-01-01T00:00:00",
          "value": 148.15,
          "variable": "Johor_Rainfall"
         },
         {
          "Johor_Production": 166.663,
          "dt": "2016-02-01T00:00:00",
          "value": 138.75,
          "variable": "Johor_Rainfall"
         },
         {
          "Johor_Production": 185.974,
          "dt": "2016-03-01T00:00:00",
          "value": 96.1,
          "variable": "Johor_Rainfall"
         },
         {
          "Johor_Production": 200.321,
          "dt": "2016-04-01T00:00:00",
          "value": 114.55,
          "variable": "Johor_Rainfall"
         },
         {
          "Johor_Production": 207.485,
          "dt": "2016-05-01T00:00:00",
          "value": 168.3,
          "variable": "Johor_Rainfall"
         },
         {
          "Johor_Production": 229.105,
          "dt": "2016-06-01T00:00:00",
          "value": 107.4,
          "variable": "Johor_Rainfall"
         },
         {
          "Johor_Production": 232.726,
          "dt": "2016-07-01T00:00:00",
          "value": 74.15,
          "variable": "Johor_Rainfall"
         },
         {
          "Johor_Production": 264.981,
          "dt": "2016-08-01T00:00:00",
          "value": 126.55,
          "variable": "Johor_Rainfall"
         },
         {
          "Johor_Production": 280.248,
          "dt": "2016-09-01T00:00:00",
          "value": 161.85,
          "variable": "Johor_Rainfall"
         },
         {
          "Johor_Production": 284.922,
          "dt": "2016-10-01T00:00:00",
          "value": 194.7,
          "variable": "Johor_Rainfall"
         },
         {
          "Johor_Production": 274.107,
          "dt": "2016-11-01T00:00:00",
          "value": 221.4,
          "variable": "Johor_Rainfall"
         },
         {
          "Johor_Production": 254.881,
          "dt": "2016-12-01T00:00:00",
          "value": 197.3175,
          "variable": "Johor_Rainfall"
         },
         {
          "Johor_Production": 211.81,
          "dt": "2017-01-01T00:00:00",
          "value": 230.025,
          "variable": "Johor_Rainfall"
         },
         {
          "Johor_Production": 214.747,
          "dt": "2017-02-01T00:00:00",
          "value": 165.185,
          "variable": "Johor_Rainfall"
         },
         {
          "Johor_Production": 210.002,
          "dt": "2017-03-01T00:00:00",
          "value": 190.185,
          "variable": "Johor_Rainfall"
         },
         {
          "Johor_Production": 216.574,
          "dt": "2017-04-01T00:00:00",
          "value": 170.7,
          "variable": "Johor_Rainfall"
         },
         {
          "Johor_Production": 225.834,
          "dt": "2017-05-01T00:00:00",
          "value": 240.7,
          "variable": "Johor_Rainfall"
         },
         {
          "Johor_Production": 205.989,
          "dt": "2017-06-01T00:00:00",
          "value": 122.95,
          "variable": "Johor_Rainfall"
         },
         {
          "Johor_Production": 284.963,
          "dt": "2017-07-01T00:00:00",
          "value": 107.55,
          "variable": "Johor_Rainfall"
         },
         {
          "Johor_Production": 293.14,
          "dt": "2017-08-01T00:00:00",
          "value": 205.15,
          "variable": "Johor_Rainfall"
         },
         {
          "Johor_Production": 295.578,
          "dt": "2017-09-01T00:00:00",
          "value": 0,
          "variable": "Johor_Rainfall"
         }
        ]
       },
       "resolve": {
        "axis": {
         "x": "independent",
         "y": "independent"
        },
        "scale": {
         "x": "independent",
         "y": "independent"
        }
       }
      },
      "text/plain": [
       "<VegaLite 4 object>\n",
       "\n",
       "If you see this message, it means the renderer has not been properly enabled\n",
       "for the frontend that you are using. For more information, see\n",
       "https://altair-viz.github.io/user_guide/troubleshooting.html\n"
      ]
     },
     "execution_count": 88,
     "metadata": {},
     "output_type": "execute_result"
    }
   ],
   "source": [
    "from correlation_analysis import get_feature_importance_df, get_random_forest_importances, print_corr_anal, plot_correlations, part_autocorrelation\n",
    "plot_correlations(X[cols])\n"
   ]
  },
  {
   "cell_type": "code",
   "execution_count": 89,
   "metadata": {},
   "outputs": [
    {
     "data": {
      "application/vnd.vegalite.v4+json": {
       "$schema": "https://vega.github.io/schema/vega-lite/v4.8.1.json",
       "columns": 2,
       "concat": [
        {
         "encoding": {
          "x": {
           "field": "lag",
           "scale": {
            "zero": false
           },
           "type": "quantitative"
          },
          "y": {
           "field": "value",
           "scale": {
            "zero": false
           },
           "type": "quantitative"
          }
         },
         "height": 300,
         "mark": {
          "point": true,
          "type": "line"
         },
         "title": "Johor_Rainfall",
         "transform": [
          {
           "filter": {
            "equal": "Johor_Rainfall",
            "field": "variable"
           }
          }
         ],
         "width": 500
        },
        {
         "encoding": {
          "x": {
           "field": "lag",
           "scale": {
            "zero": false
           },
           "type": "quantitative"
          },
          "y": {
           "field": "value",
           "scale": {
            "zero": false
           },
           "type": "quantitative"
          }
         },
         "height": 300,
         "mark": {
          "point": true,
          "type": "line"
         },
         "title": "Johor_Production",
         "transform": [
          {
           "filter": {
            "equal": "Johor_Production",
            "field": "variable"
           }
          }
         ],
         "width": 500
        },
        {
         "encoding": {
          "x": {
           "field": "lag",
           "scale": {
            "zero": false
           },
           "type": "quantitative"
          },
          "y": {
           "field": "value",
           "scale": {
            "zero": false
           },
           "type": "quantitative"
          }
         },
         "height": 300,
         "mark": {
          "point": true,
          "type": "line"
         },
         "title": "Johor_Area_rpa",
         "transform": [
          {
           "filter": {
            "equal": "Johor_Area_rpa",
            "field": "variable"
           }
          }
         ],
         "width": 500
        },
        {
         "encoding": {
          "x": {
           "field": "lag",
           "scale": {
            "zero": false
           },
           "type": "quantitative"
          },
          "y": {
           "field": "value",
           "scale": {
            "zero": false
           },
           "type": "quantitative"
          }
         },
         "height": 300,
         "mark": {
          "point": true,
          "type": "line"
         },
         "title": "Johor_Area_npa",
         "transform": [
          {
           "filter": {
            "equal": "Johor_Area_npa",
            "field": "variable"
           }
          }
         ],
         "width": 500
        },
        {
         "encoding": {
          "x": {
           "field": "lag",
           "scale": {
            "zero": false
           },
           "type": "quantitative"
          },
          "y": {
           "field": "value",
           "scale": {
            "zero": false
           },
           "type": "quantitative"
          }
         },
         "height": 300,
         "mark": {
          "point": true,
          "type": "line"
         },
         "title": "Johor_Area_ma_new",
         "transform": [
          {
           "filter": {
            "equal": "Johor_Area_ma_new",
            "field": "variable"
           }
          }
         ],
         "width": 500
        }
       ],
       "config": {
        "axis": {
         "labelFontSize": 11,
         "titleFontSize": 11
        },
        "title": {
         "fontSize": 13
        },
        "view": {
         "continuousHeight": 300,
         "continuousWidth": 400
        }
       },
       "data": {
        "name": "data-76138988473c9efcbf892d778de32990"
       },
       "datasets": {
        "data-76138988473c9efcbf892d778de32990": [
         {
          "lag": 0,
          "value": 0.01110393277919856,
          "variable": "Johor_Rainfall"
         },
         {
          "lag": 1,
          "value": 0.038835983853174744,
          "variable": "Johor_Rainfall"
         },
         {
          "lag": 2,
          "value": 0.12641228219300457,
          "variable": "Johor_Rainfall"
         },
         {
          "lag": 3,
          "value": 0.0763419668411466,
          "variable": "Johor_Rainfall"
         },
         {
          "lag": 4,
          "value": 0.02632750340048579,
          "variable": "Johor_Rainfall"
         },
         {
          "lag": 5,
          "value": 0.014330633559170523,
          "variable": "Johor_Rainfall"
         },
         {
          "lag": 6,
          "value": 0.02052345670268694,
          "variable": "Johor_Rainfall"
         },
         {
          "lag": 7,
          "value": 0.021150399527135422,
          "variable": "Johor_Rainfall"
         },
         {
          "lag": 8,
          "value": 0.03038354558342341,
          "variable": "Johor_Rainfall"
         },
         {
          "lag": 9,
          "value": 0.04936811048238163,
          "variable": "Johor_Rainfall"
         },
         {
          "lag": 10,
          "value": 0.1083550943114916,
          "variable": "Johor_Rainfall"
         },
         {
          "lag": 11,
          "value": 0.03711362828491068,
          "variable": "Johor_Rainfall"
         },
         {
          "lag": 12,
          "value": 0.012903226859985701,
          "variable": "Johor_Rainfall"
         },
         {
          "lag": 13,
          "value": 0.010536920681998059,
          "variable": "Johor_Rainfall"
         },
         {
          "lag": 14,
          "value": 0.06049057353597057,
          "variable": "Johor_Rainfall"
         },
         {
          "lag": 15,
          "value": 0.029404363485862655,
          "variable": "Johor_Rainfall"
         },
         {
          "lag": 16,
          "value": 0.020028891155082117,
          "variable": "Johor_Rainfall"
         },
         {
          "lag": 17,
          "value": 0.019332814211052998,
          "variable": "Johor_Rainfall"
         },
         {
          "lag": 18,
          "value": 0.020317037744970276,
          "variable": "Johor_Rainfall"
         },
         {
          "lag": 19,
          "value": 0.02292135601792756,
          "variable": "Johor_Rainfall"
         },
         {
          "lag": 20,
          "value": 0.015970832816855702,
          "variable": "Johor_Rainfall"
         },
         {
          "lag": 21,
          "value": 0.03074059660147172,
          "variable": "Johor_Rainfall"
         },
         {
          "lag": 22,
          "value": 0.02926737806572736,
          "variable": "Johor_Rainfall"
         },
         {
          "lag": 23,
          "value": 0.011227828121693659,
          "variable": "Johor_Rainfall"
         },
         {
          "lag": 24,
          "value": 0.021163470598725666,
          "variable": "Johor_Rainfall"
         },
         {
          "lag": 25,
          "value": 0.02031979533076311,
          "variable": "Johor_Rainfall"
         },
         {
          "lag": 26,
          "value": 0.04205652900157294,
          "variable": "Johor_Rainfall"
         },
         {
          "lag": 27,
          "value": 0.020790829326763714,
          "variable": "Johor_Rainfall"
         },
         {
          "lag": 28,
          "value": 0.01518702561839896,
          "variable": "Johor_Rainfall"
         },
         {
          "lag": 29,
          "value": 0.020354836754713033,
          "variable": "Johor_Rainfall"
         },
         {
          "lag": 30,
          "value": 0.01673915655225358,
          "variable": "Johor_Rainfall"
         },
         {
          "lag": 0,
          "value": 0.9966205662191377,
          "variable": "Johor_Production"
         },
         {
          "lag": 1,
          "value": 0.0001311573437630372,
          "variable": "Johor_Production"
         },
         {
          "lag": 2,
          "value": 0.0001439003736991364,
          "variable": "Johor_Production"
         },
         {
          "lag": 3,
          "value": 0.00007720702522569495,
          "variable": "Johor_Production"
         },
         {
          "lag": 4,
          "value": 0.00013233140677894293,
          "variable": "Johor_Production"
         },
         {
          "lag": 5,
          "value": 0.0001284820833541706,
          "variable": "Johor_Production"
         },
         {
          "lag": 6,
          "value": 0.0001202651764657884,
          "variable": "Johor_Production"
         },
         {
          "lag": 7,
          "value": 0.00007240408324760815,
          "variable": "Johor_Production"
         },
         {
          "lag": 8,
          "value": 0.00009005563661956757,
          "variable": "Johor_Production"
         },
         {
          "lag": 9,
          "value": 0.00011431932813122441,
          "variable": "Johor_Production"
         },
         {
          "lag": 10,
          "value": 0.00009649344833234289,
          "variable": "Johor_Production"
         },
         {
          "lag": 11,
          "value": 0.0001498420310191301,
          "variable": "Johor_Production"
         },
         {
          "lag": 12,
          "value": 0.00016798743133947995,
          "variable": "Johor_Production"
         },
         {
          "lag": 13,
          "value": 0.0001053015113473537,
          "variable": "Johor_Production"
         },
         {
          "lag": 14,
          "value": 0.00013339838751919505,
          "variable": "Johor_Production"
         },
         {
          "lag": 15,
          "value": 0.00005006602281349219,
          "variable": "Johor_Production"
         },
         {
          "lag": 16,
          "value": 0.00005072243474380759,
          "variable": "Johor_Production"
         },
         {
          "lag": 17,
          "value": 0.0000763784773752374,
          "variable": "Johor_Production"
         },
         {
          "lag": 18,
          "value": 0.00007449078535673846,
          "variable": "Johor_Production"
         },
         {
          "lag": 19,
          "value": 0.00011255276350839547,
          "variable": "Johor_Production"
         },
         {
          "lag": 20,
          "value": 0.00007624265683951211,
          "variable": "Johor_Production"
         },
         {
          "lag": 21,
          "value": 0.00008296598549894667,
          "variable": "Johor_Production"
         },
         {
          "lag": 22,
          "value": 0.00007025475103239823,
          "variable": "Johor_Production"
         },
         {
          "lag": 23,
          "value": 0.00009708309894509675,
          "variable": "Johor_Production"
         },
         {
          "lag": 24,
          "value": 0.00020146788314744164,
          "variable": "Johor_Production"
         },
         {
          "lag": 25,
          "value": 0.00007942751170102316,
          "variable": "Johor_Production"
         },
         {
          "lag": 26,
          "value": 0.00013358872150925056,
          "variable": "Johor_Production"
         },
         {
          "lag": 27,
          "value": 0.00015963289475559025,
          "variable": "Johor_Production"
         },
         {
          "lag": 28,
          "value": 0.00015022289113644365,
          "variable": "Johor_Production"
         },
         {
          "lag": 29,
          "value": 0.00022224825156308019,
          "variable": "Johor_Production"
         },
         {
          "lag": 30,
          "value": 0.00007894338409329322,
          "variable": "Johor_Production"
         },
         {
          "lag": 0,
          "value": null,
          "variable": "Johor_Area_rpa"
         },
         {
          "lag": 1,
          "value": 0.02759478217647239,
          "variable": "Johor_Area_rpa"
         },
         {
          "lag": 2,
          "value": 0.015154177673976817,
          "variable": "Johor_Area_rpa"
         },
         {
          "lag": 3,
          "value": 0.029513204837004325,
          "variable": "Johor_Area_rpa"
         },
         {
          "lag": 4,
          "value": 0.02207570379909307,
          "variable": "Johor_Area_rpa"
         },
         {
          "lag": 5,
          "value": 0.01597991767506127,
          "variable": "Johor_Area_rpa"
         },
         {
          "lag": 6,
          "value": 0.0397001780374813,
          "variable": "Johor_Area_rpa"
         },
         {
          "lag": 7,
          "value": 0.01824805170467271,
          "variable": "Johor_Area_rpa"
         },
         {
          "lag": 8,
          "value": 0.027580796034753493,
          "variable": "Johor_Area_rpa"
         },
         {
          "lag": 9,
          "value": 0.029851454583761716,
          "variable": "Johor_Area_rpa"
         },
         {
          "lag": 10,
          "value": 0.051485001958342214,
          "variable": "Johor_Area_rpa"
         },
         {
          "lag": 11,
          "value": 0.08869035778252433,
          "variable": "Johor_Area_rpa"
         },
         {
          "lag": 12,
          "value": 0.03505327146180734,
          "variable": "Johor_Area_rpa"
         },
         {
          "lag": 13,
          "value": 0.026270859872912274,
          "variable": "Johor_Area_rpa"
         },
         {
          "lag": 14,
          "value": 0.02691950693112369,
          "variable": "Johor_Area_rpa"
         },
         {
          "lag": 15,
          "value": 0.021081770387732384,
          "variable": "Johor_Area_rpa"
         },
         {
          "lag": 16,
          "value": 0.04616973391791031,
          "variable": "Johor_Area_rpa"
         },
         {
          "lag": 17,
          "value": 0.03180578238799099,
          "variable": "Johor_Area_rpa"
         },
         {
          "lag": 18,
          "value": 0.03431405398367884,
          "variable": "Johor_Area_rpa"
         },
         {
          "lag": 19,
          "value": 0.024979352915440692,
          "variable": "Johor_Area_rpa"
         },
         {
          "lag": 20,
          "value": 0.03241351716676649,
          "variable": "Johor_Area_rpa"
         },
         {
          "lag": 21,
          "value": 0.0290711556040114,
          "variable": "Johor_Area_rpa"
         },
         {
          "lag": 22,
          "value": 0.03475566661125153,
          "variable": "Johor_Area_rpa"
         },
         {
          "lag": 23,
          "value": 0.07039350348488069,
          "variable": "Johor_Area_rpa"
         },
         {
          "lag": 24,
          "value": 0.043034270726969207,
          "variable": "Johor_Area_rpa"
         },
         {
          "lag": 25,
          "value": 0.02582843151157904,
          "variable": "Johor_Area_rpa"
         },
         {
          "lag": 26,
          "value": 0.04244023054619294,
          "variable": "Johor_Area_rpa"
         },
         {
          "lag": 27,
          "value": 0.025345637021802033,
          "variable": "Johor_Area_rpa"
         },
         {
          "lag": 28,
          "value": 0.020193199364925137,
          "variable": "Johor_Area_rpa"
         },
         {
          "lag": 29,
          "value": 0.025549227839301147,
          "variable": "Johor_Area_rpa"
         },
         {
          "lag": 30,
          "value": 0.03850720200058025,
          "variable": "Johor_Area_rpa"
         }
        ]
       },
       "resolve": {
        "axis": {
         "x": "independent",
         "y": "independent"
        },
        "scale": {
         "x": "independent",
         "y": "independent"
        }
       }
      },
      "text/plain": [
       "<VegaLite 4 object>\n",
       "\n",
       "If you see this message, it means the renderer has not been properly enabled\n",
       "for the frontend that you are using. For more information, see\n",
       "https://altair-viz.github.io/user_guide/troubleshooting.html\n"
      ]
     },
     "execution_count": 89,
     "metadata": {},
     "output_type": "execute_result"
    }
   ],
   "source": [
    "print_corr_anal(X[cols], n_lags=30)"
   ]
  },
  {
   "cell_type": "code",
   "execution_count": 90,
   "metadata": {},
   "outputs": [
    {
     "data": {
      "application/vnd.vegalite.v4+json": {
       "$schema": "https://vega.github.io/schema/vega-lite/v4.8.1.json",
       "columns": 2,
       "concat": [
        {
         "encoding": {
          "x": {
           "field": "lag",
           "scale": {
            "zero": false
           },
           "type": "quantitative"
          },
          "y": {
           "field": "value",
           "scale": {
            "zero": false
           },
           "type": "quantitative"
          }
         },
         "height": 300,
         "mark": {
          "point": true,
          "type": "line"
         },
         "title": "Johor_Rainfall",
         "transform": [
          {
           "filter": {
            "equal": "Johor_Rainfall",
            "field": "variable"
           }
          }
         ],
         "width": 500
        },
        {
         "encoding": {
          "x": {
           "field": "lag",
           "scale": {
            "zero": false
           },
           "type": "quantitative"
          },
          "y": {
           "field": "value",
           "scale": {
            "zero": false
           },
           "type": "quantitative"
          }
         },
         "height": 300,
         "mark": {
          "point": true,
          "type": "line"
         },
         "title": "Johor_Production",
         "transform": [
          {
           "filter": {
            "equal": "Johor_Production",
            "field": "variable"
           }
          }
         ],
         "width": 500
        },
        {
         "encoding": {
          "x": {
           "field": "lag",
           "scale": {
            "zero": false
           },
           "type": "quantitative"
          },
          "y": {
           "field": "value",
           "scale": {
            "zero": false
           },
           "type": "quantitative"
          }
         },
         "height": 300,
         "mark": {
          "point": true,
          "type": "line"
         },
         "title": "Johor_Area_rpa",
         "transform": [
          {
           "filter": {
            "equal": "Johor_Area_rpa",
            "field": "variable"
           }
          }
         ],
         "width": 500
        },
        {
         "encoding": {
          "x": {
           "field": "lag",
           "scale": {
            "zero": false
           },
           "type": "quantitative"
          },
          "y": {
           "field": "value",
           "scale": {
            "zero": false
           },
           "type": "quantitative"
          }
         },
         "height": 300,
         "mark": {
          "point": true,
          "type": "line"
         },
         "title": "Johor_Area_npa",
         "transform": [
          {
           "filter": {
            "equal": "Johor_Area_npa",
            "field": "variable"
           }
          }
         ],
         "width": 500
        },
        {
         "encoding": {
          "x": {
           "field": "lag",
           "scale": {
            "zero": false
           },
           "type": "quantitative"
          },
          "y": {
           "field": "value",
           "scale": {
            "zero": false
           },
           "type": "quantitative"
          }
         },
         "height": 300,
         "mark": {
          "point": true,
          "type": "line"
         },
         "title": "Johor_Area_ma_new",
         "transform": [
          {
           "filter": {
            "equal": "Johor_Area_ma_new",
            "field": "variable"
           }
          }
         ],
         "width": 500
        }
       ],
       "config": {
        "axis": {
         "labelFontSize": 11,
         "titleFontSize": 11
        },
        "title": {
         "fontSize": 13
        },
        "view": {
         "continuousHeight": 300,
         "continuousWidth": 400
        }
       },
       "data": {
        "name": "data-3317c4944920dd0563f1c3464fc6f293"
       },
       "datasets": {
        "data-3317c4944920dd0563f1c3464fc6f293": [
         {
          "lag": 0,
          "value": 0.010641921516451564,
          "variable": "Johor_Rainfall"
         },
         {
          "lag": 1,
          "value": -0.26677404618421785,
          "variable": "Johor_Rainfall"
         },
         {
          "lag": 2,
          "value": -0.3170548816699877,
          "variable": "Johor_Rainfall"
         },
         {
          "lag": 3,
          "value": -0.3222750347673889,
          "variable": "Johor_Rainfall"
         },
         {
          "lag": 4,
          "value": -0.1979097526982128,
          "variable": "Johor_Rainfall"
         },
         {
          "lag": 5,
          "value": -0.19184080634747638,
          "variable": "Johor_Rainfall"
         },
         {
          "lag": 6,
          "value": -0.04054474056322006,
          "variable": "Johor_Rainfall"
         },
         {
          "lag": 7,
          "value": 0.08307449392104459,
          "variable": "Johor_Rainfall"
         },
         {
          "lag": 8,
          "value": 0.16576352395563754,
          "variable": "Johor_Rainfall"
         },
         {
          "lag": 9,
          "value": 0.23382062836796721,
          "variable": "Johor_Rainfall"
         },
         {
          "lag": 10,
          "value": 0.3503833386554267,
          "variable": "Johor_Rainfall"
         },
         {
          "lag": 11,
          "value": 0.21860619731816355,
          "variable": "Johor_Rainfall"
         },
         {
          "lag": 12,
          "value": 0.08022766816011,
          "variable": "Johor_Rainfall"
         },
         {
          "lag": 13,
          "value": -0.06720112969029021,
          "variable": "Johor_Rainfall"
         },
         {
          "lag": 14,
          "value": -0.10543073364889487,
          "variable": "Johor_Rainfall"
         },
         {
          "lag": 15,
          "value": -0.1023463779524393,
          "variable": "Johor_Rainfall"
         },
         {
          "lag": 16,
          "value": -0.09930187005263853,
          "variable": "Johor_Rainfall"
         },
         {
          "lag": 17,
          "value": -0.049397246797219074,
          "variable": "Johor_Rainfall"
         },
         {
          "lag": 18,
          "value": 0.06673674356666293,
          "variable": "Johor_Rainfall"
         },
         {
          "lag": 19,
          "value": 0.024563935198871206,
          "variable": "Johor_Rainfall"
         },
         {
          "lag": 20,
          "value": 0.022125041462247447,
          "variable": "Johor_Rainfall"
         },
         {
          "lag": 21,
          "value": 0.01589704820112628,
          "variable": "Johor_Rainfall"
         },
         {
          "lag": 22,
          "value": 0.0699998724061429,
          "variable": "Johor_Rainfall"
         },
         {
          "lag": 23,
          "value": -0.029324932548062742,
          "variable": "Johor_Rainfall"
         },
         {
          "lag": 24,
          "value": -0.05431692901734214,
          "variable": "Johor_Rainfall"
         },
         {
          "lag": 25,
          "value": -0.19486645361336835,
          "variable": "Johor_Rainfall"
         },
         {
          "lag": 26,
          "value": -0.19688572726994422,
          "variable": "Johor_Rainfall"
         },
         {
          "lag": 27,
          "value": -0.08600865635534774,
          "variable": "Johor_Rainfall"
         },
         {
          "lag": 28,
          "value": 0.0018421756790003674,
          "variable": "Johor_Rainfall"
         },
         {
          "lag": 29,
          "value": 0.0883144410917075,
          "variable": "Johor_Rainfall"
         },
         {
          "lag": 30,
          "value": 0.16535527715438067,
          "variable": "Johor_Rainfall"
         },
         {
          "lag": 31,
          "value": 0.09981265841079638,
          "variable": "Johor_Rainfall"
         },
         {
          "lag": 32,
          "value": 0.1144449509166495,
          "variable": "Johor_Rainfall"
         },
         {
          "lag": 33,
          "value": 0.1875799375702837,
          "variable": "Johor_Rainfall"
         },
         {
          "lag": 34,
          "value": 0.1642734145375042,
          "variable": "Johor_Rainfall"
         },
         {
          "lag": 35,
          "value": -0.057731148137477324,
          "variable": "Johor_Rainfall"
         },
         {
          "lag": 36,
          "value": -0.07437142960214449,
          "variable": "Johor_Rainfall"
         },
         {
          "lag": 37,
          "value": -0.22519657867854634,
          "variable": "Johor_Rainfall"
         },
         {
          "lag": 38,
          "value": -0.13714748073338684,
          "variable": "Johor_Rainfall"
         },
         {
          "lag": 39,
          "value": -0.15120402902308908,
          "variable": "Johor_Rainfall"
         },
         {
          "lag": 40,
          "value": -0.0007658224605319059,
          "variable": "Johor_Rainfall"
         },
         {
          "lag": 41,
          "value": -0.041354495055997774,
          "variable": "Johor_Rainfall"
         },
         {
          "lag": 42,
          "value": 0.023481748656185,
          "variable": "Johor_Rainfall"
         },
         {
          "lag": 43,
          "value": 0.05833274364461034,
          "variable": "Johor_Rainfall"
         },
         {
          "lag": 44,
          "value": -0.10087809620981276,
          "variable": "Johor_Rainfall"
         },
         {
          "lag": 45,
          "value": -0.0054556755306637075,
          "variable": "Johor_Rainfall"
         },
         {
          "lag": 46,
          "value": 0.055458096984486456,
          "variable": "Johor_Rainfall"
         },
         {
          "lag": 47,
          "value": -0.11573828691220565,
          "variable": "Johor_Rainfall"
         },
         {
          "lag": 48,
          "value": -0.11857519881899897,
          "variable": "Johor_Rainfall"
         },
         {
          "lag": 49,
          "value": -0.2220118291967449,
          "variable": "Johor_Rainfall"
         },
         {
          "lag": 50,
          "value": -0.08834894178845545,
          "variable": "Johor_Rainfall"
         },
         {
          "lag": 51,
          "value": -0.06587491328673688,
          "variable": "Johor_Rainfall"
         },
         {
          "lag": 52,
          "value": -0.045798428007800554,
          "variable": "Johor_Rainfall"
         },
         {
          "lag": 53,
          "value": 0.034945321191672034,
          "variable": "Johor_Rainfall"
         },
         {
          "lag": 54,
          "value": 0.022641397197924913,
          "variable": "Johor_Rainfall"
         },
         {
          "lag": 55,
          "value": 0.0010311624323524823,
          "variable": "Johor_Rainfall"
         },
         {
          "lag": 56,
          "value": 0.0034138650737537365,
          "variable": "Johor_Rainfall"
         },
         {
          "lag": 57,
          "value": 0.12893413123374303,
          "variable": "Johor_Rainfall"
         },
         {
          "lag": 58,
          "value": 0.04143142542851134,
          "variable": "Johor_Rainfall"
         },
         {
          "lag": 59,
          "value": 0.020572362105522123,
          "variable": "Johor_Rainfall"
         },
         {
          "lag": 60,
          "value": 0.04697192884052229,
          "variable": "Johor_Rainfall"
         },
         {
          "lag": 61,
          "value": -0.07922841284531129,
          "variable": "Johor_Rainfall"
         },
         {
          "lag": 62,
          "value": -0.12642595613513385,
          "variable": "Johor_Rainfall"
         },
         {
          "lag": 63,
          "value": -0.11559481210917186,
          "variable": "Johor_Rainfall"
         },
         {
          "lag": 64,
          "value": -0.07909470181012598,
          "variable": "Johor_Rainfall"
         },
         {
          "lag": 65,
          "value": -0.037561570712693525,
          "variable": "Johor_Rainfall"
         },
         {
          "lag": 66,
          "value": -0.09353279722571932,
          "variable": "Johor_Rainfall"
         },
         {
          "lag": 67,
          "value": 0.061925288649915845,
          "variable": "Johor_Rainfall"
         },
         {
          "lag": 68,
          "value": -0.07109237175657669,
          "variable": "Johor_Rainfall"
         },
         {
          "lag": 69,
          "value": 0.12171116976577251,
          "variable": "Johor_Rainfall"
         },
         {
          "lag": 70,
          "value": 0.13522237252404196,
          "variable": "Johor_Rainfall"
         },
         {
          "lag": 71,
          "value": 0.10730864195866505,
          "variable": "Johor_Rainfall"
         },
         {
          "lag": 72,
          "value": 0.17651599937212054,
          "variable": "Johor_Rainfall"
         },
         {
          "lag": 73,
          "value": 0.01321488149193767,
          "variable": "Johor_Rainfall"
         },
         {
          "lag": 74,
          "value": -0.014314759217954347,
          "variable": "Johor_Rainfall"
         },
         {
          "lag": 75,
          "value": 0.029795463655246195,
          "variable": "Johor_Rainfall"
         },
         {
          "lag": 76,
          "value": 0.05475432091342777,
          "variable": "Johor_Rainfall"
         },
         {
          "lag": 77,
          "value": 0.08586740103066709,
          "variable": "Johor_Rainfall"
         },
         {
          "lag": 78,
          "value": 0.13940984962767783,
          "variable": "Johor_Rainfall"
         },
         {
          "lag": 79,
          "value": 0.08504939096779691,
          "variable": "Johor_Rainfall"
         },
         {
          "lag": 80,
          "value": 0.10165288933771746,
          "variable": "Johor_Rainfall"
         },
         {
          "lag": 81,
          "value": -0.013626419817053882,
          "variable": "Johor_Rainfall"
         },
         {
          "lag": 82,
          "value": 0.030495876203976553,
          "variable": "Johor_Rainfall"
         },
         {
          "lag": 83,
          "value": 0.04862015405032546,
          "variable": "Johor_Rainfall"
         },
         {
          "lag": 84,
          "value": -0.05062799235831076,
          "variable": "Johor_Rainfall"
         },
         {
          "lag": 85,
          "value": 0.052124623372078786,
          "variable": "Johor_Rainfall"
         },
         {
          "lag": 86,
          "value": -0.01729396261462055,
          "variable": "Johor_Rainfall"
         },
         {
          "lag": 87,
          "value": -0.02784574034274257,
          "variable": "Johor_Rainfall"
         },
         {
          "lag": 88,
          "value": 0.038731561037875506,
          "variable": "Johor_Rainfall"
         },
         {
          "lag": 89,
          "value": 0.08999219379019514,
          "variable": "Johor_Rainfall"
         },
         {
          "lag": 90,
          "value": 0.0534789018224977,
          "variable": "Johor_Rainfall"
         },
         {
          "lag": 91,
          "value": 0.09169603759592596,
          "variable": "Johor_Rainfall"
         },
         {
          "lag": 92,
          "value": 0.09534775991034963,
          "variable": "Johor_Rainfall"
         },
         {
          "lag": 93,
          "value": 0.07212810321439488,
          "variable": "Johor_Rainfall"
         },
         {
          "lag": 94,
          "value": 0.08328662255901553,
          "variable": "Johor_Rainfall"
         },
         {
          "lag": 95,
          "value": -0.022034862036907042,
          "variable": "Johor_Rainfall"
         },
         {
          "lag": 96,
          "value": -0.06279739615154138,
          "variable": "Johor_Rainfall"
         },
         {
          "lag": 97,
          "value": -0.09670776422071745,
          "variable": "Johor_Rainfall"
         },
         {
          "lag": 98,
          "value": -0.04468947777491555,
          "variable": "Johor_Rainfall"
         },
         {
          "lag": 99,
          "value": 0.0273261690010915,
          "variable": "Johor_Rainfall"
         },
         {
          "lag": 100,
          "value": 0.09011415503997248,
          "variable": "Johor_Rainfall"
         },
         {
          "lag": 0,
          "value": 0.9999999999999998,
          "variable": "Johor_Production"
         },
         {
          "lag": 1,
          "value": 0.3655480167688778,
          "variable": "Johor_Production"
         },
         {
          "lag": 2,
          "value": 0.5520805863249059,
          "variable": "Johor_Production"
         },
         {
          "lag": 3,
          "value": 0.5778761095854802,
          "variable": "Johor_Production"
         },
         {
          "lag": 4,
          "value": 0.7254611565513729,
          "variable": "Johor_Production"
         },
         {
          "lag": 5,
          "value": 0.21853208804471894,
          "variable": "Johor_Production"
         },
         {
          "lag": 6,
          "value": -0.10829071992195076,
          "variable": "Johor_Production"
         },
         {
          "lag": 7,
          "value": 0.08546894382884324,
          "variable": "Johor_Production"
         },
         {
          "lag": 8,
          "value": 0.4639881530071078,
          "variable": "Johor_Production"
         },
         {
          "lag": 9,
          "value": -0.44802645514282563,
          "variable": "Johor_Production"
         },
         {
          "lag": 10,
          "value": -0.25952688391402456,
          "variable": "Johor_Production"
         },
         {
          "lag": 11,
          "value": 0.3975064449408051,
          "variable": "Johor_Production"
         },
         {
          "lag": 12,
          "value": -0.5398949288423027,
          "variable": "Johor_Production"
         },
         {
          "lag": 13,
          "value": 0.40347003016043725,
          "variable": "Johor_Production"
         },
         {
          "lag": 14,
          "value": -0.20111528493435432,
          "variable": "Johor_Production"
         },
         {
          "lag": 15,
          "value": -0.2355373125021224,
          "variable": "Johor_Production"
         },
         {
          "lag": 16,
          "value": -0.24952759452019171,
          "variable": "Johor_Production"
         },
         {
          "lag": 17,
          "value": -0.5559673613138553,
          "variable": "Johor_Production"
         },
         {
          "lag": 18,
          "value": -0.3170133551155719,
          "variable": "Johor_Production"
         },
         {
          "lag": 19,
          "value": -0.3742743192272852,
          "variable": "Johor_Production"
         },
         {
          "lag": 20,
          "value": -0.23345480503110408,
          "variable": "Johor_Production"
         },
         {
          "lag": 21,
          "value": 0.580993700823476,
          "variable": "Johor_Production"
         },
         {
          "lag": 22,
          "value": 0.6889177221117696,
          "variable": "Johor_Production"
         },
         {
          "lag": 23,
          "value": 0.6176812704768598,
          "variable": "Johor_Production"
         },
         {
          "lag": 24,
          "value": 0.20643271724218681,
          "variable": "Johor_Production"
         },
         {
          "lag": 25,
          "value": 0.2237696063553087,
          "variable": "Johor_Production"
         },
         {
          "lag": 26,
          "value": 0.6206837774076663,
          "variable": "Johor_Production"
         },
         {
          "lag": 27,
          "value": -0.25378524351659126,
          "variable": "Johor_Production"
         },
         {
          "lag": 28,
          "value": -0.617506112501601,
          "variable": "Johor_Production"
         },
         {
          "lag": 29,
          "value": -0.2543598603840657,
          "variable": "Johor_Production"
         },
         {
          "lag": 30,
          "value": 0.12902829826953924,
          "variable": "Johor_Production"
         },
         {
          "lag": 31,
          "value": -0.0621134959073724,
          "variable": "Johor_Production"
         },
         {
          "lag": 32,
          "value": -0.46567582802168545,
          "variable": "Johor_Production"
         },
         {
          "lag": 33,
          "value": 0.6314945467288466,
          "variable": "Johor_Production"
         },
         {
          "lag": 34,
          "value": 0.6609665493730876,
          "variable": "Johor_Production"
         },
         {
          "lag": 35,
          "value": 0.5077103356725206,
          "variable": "Johor_Production"
         },
         {
          "lag": 36,
          "value": -0.16981359728825418,
          "variable": "Johor_Production"
         },
         {
          "lag": 37,
          "value": 0.2989522633128933,
          "variable": "Johor_Production"
         },
         {
          "lag": 38,
          "value": 0.5808675549430876,
          "variable": "Johor_Production"
         },
         {
          "lag": 39,
          "value": -0.2880798245104783,
          "variable": "Johor_Production"
         },
         {
          "lag": 40,
          "value": -0.5702605906986893,
          "variable": "Johor_Production"
         },
         {
          "lag": 41,
          "value": 0.07862924981508587,
          "variable": "Johor_Production"
         },
         {
          "lag": 42,
          "value": 0.21657252533087265,
          "variable": "Johor_Production"
         },
         {
          "lag": 43,
          "value": -0.459651953960657,
          "variable": "Johor_Production"
         },
         {
          "lag": 44,
          "value": -0.0876760630889269,
          "variable": "Johor_Production"
         },
         {
          "lag": 45,
          "value": 0.11828332793764876,
          "variable": "Johor_Production"
         },
         {
          "lag": 46,
          "value": 0.4874676498366741,
          "variable": "Johor_Production"
         },
         {
          "lag": 47,
          "value": 0.20614601810719507,
          "variable": "Johor_Production"
         },
         {
          "lag": 48,
          "value": -0.049715530814128106,
          "variable": "Johor_Production"
         },
         {
          "lag": 49,
          "value": 0.23291710837881235,
          "variable": "Johor_Production"
         },
         {
          "lag": 50,
          "value": 0.4040517716762301,
          "variable": "Johor_Production"
         },
         {
          "lag": 51,
          "value": -0.46670427694263594,
          "variable": "Johor_Production"
         },
         {
          "lag": 52,
          "value": -0.18441755238787522,
          "variable": "Johor_Production"
         },
         {
          "lag": 53,
          "value": -0.23239474927490572,
          "variable": "Johor_Production"
         },
         {
          "lag": 54,
          "value": -0.03084973304929757,
          "variable": "Johor_Production"
         },
         {
          "lag": 55,
          "value": -0.24784641827142692,
          "variable": "Johor_Production"
         },
         {
          "lag": 56,
          "value": -0.024952127444969392,
          "variable": "Johor_Production"
         },
         {
          "lag": 57,
          "value": 0.01700719487718206,
          "variable": "Johor_Production"
         },
         {
          "lag": 58,
          "value": -0.01050594939419565,
          "variable": "Johor_Production"
         },
         {
          "lag": 59,
          "value": 0.4038226166067559,
          "variable": "Johor_Production"
         },
         {
          "lag": 60,
          "value": 0.20277312457588495,
          "variable": "Johor_Production"
         },
         {
          "lag": 61,
          "value": 0.15562948775667673,
          "variable": "Johor_Production"
         },
         {
          "lag": 62,
          "value": 0.5320291250065144,
          "variable": "Johor_Production"
         },
         {
          "lag": 63,
          "value": -0.23535183860000208,
          "variable": "Johor_Production"
         },
         {
          "lag": 64,
          "value": -0.17709025751047094,
          "variable": "Johor_Production"
         },
         {
          "lag": 65,
          "value": -0.5512894835132307,
          "variable": "Johor_Production"
         },
         {
          "lag": 66,
          "value": -0.0321700409931168,
          "variable": "Johor_Production"
         },
         {
          "lag": 67,
          "value": -0.40870396548610405,
          "variable": "Johor_Production"
         },
         {
          "lag": 68,
          "value": -0.22518586687307046,
          "variable": "Johor_Production"
         },
         {
          "lag": 69,
          "value": 0.25400877511596975,
          "variable": "Johor_Production"
         },
         {
          "lag": 70,
          "value": 0.4750899395720846,
          "variable": "Johor_Production"
         },
         {
          "lag": 71,
          "value": -0.13129127659852033,
          "variable": "Johor_Production"
         },
         {
          "lag": 72,
          "value": -0.32927043384955107,
          "variable": "Johor_Production"
         },
         {
          "lag": 73,
          "value": 0.2339712832079253,
          "variable": "Johor_Production"
         },
         {
          "lag": 74,
          "value": 0.17524447217620104,
          "variable": "Johor_Production"
         },
         {
          "lag": 75,
          "value": -0.2301504076694177,
          "variable": "Johor_Production"
         },
         {
          "lag": 76,
          "value": 0.033097601716717294,
          "variable": "Johor_Production"
         },
         {
          "lag": 77,
          "value": 0.27282237620222494,
          "variable": "Johor_Production"
         },
         {
          "lag": 78,
          "value": -0.05725906288982518,
          "variable": "Johor_Production"
         },
         {
          "lag": 79,
          "value": -0.18527350324785588,
          "variable": "Johor_Production"
         },
         {
          "lag": 80,
          "value": -0.21585534202763343,
          "variable": "Johor_Production"
         },
         {
          "lag": 81,
          "value": -0.1834210162310877,
          "variable": "Johor_Production"
         },
         {
          "lag": 82,
          "value": 0.014444089458135023,
          "variable": "Johor_Production"
         },
         {
          "lag": 83,
          "value": -0.02497847993836378,
          "variable": "Johor_Production"
         },
         {
          "lag": 84,
          "value": 0.1309349721231511,
          "variable": "Johor_Production"
         },
         {
          "lag": 85,
          "value": 0.20347713335831966,
          "variable": "Johor_Production"
         },
         {
          "lag": 86,
          "value": 0.3171991608079624,
          "variable": "Johor_Production"
         },
         {
          "lag": 87,
          "value": -0.08790546452104547,
          "variable": "Johor_Production"
         },
         {
          "lag": 88,
          "value": 0.17556908743619565,
          "variable": "Johor_Production"
         },
         {
          "lag": 89,
          "value": 0.04046802148593422,
          "variable": "Johor_Production"
         },
         {
          "lag": 90,
          "value": 0.2709111963280237,
          "variable": "Johor_Production"
         },
         {
          "lag": 91,
          "value": 0.10825996613141041,
          "variable": "Johor_Production"
         },
         {
          "lag": 92,
          "value": 0.3268088941160605,
          "variable": "Johor_Production"
         },
         {
          "lag": 93,
          "value": 0.10242826641645149,
          "variable": "Johor_Production"
         },
         {
          "lag": 94,
          "value": 0.07293546897624564,
          "variable": "Johor_Production"
         },
         {
          "lag": 95,
          "value": -0.06174484805084536,
          "variable": "Johor_Production"
         },
         {
          "lag": 96,
          "value": 0.5101597944126655,
          "variable": "Johor_Production"
         },
         {
          "lag": 97,
          "value": 0.3818043422260394,
          "variable": "Johor_Production"
         },
         {
          "lag": 98,
          "value": 0.4964962245865239,
          "variable": "Johor_Production"
         },
         {
          "lag": 99,
          "value": 0.3048541933230244,
          "variable": "Johor_Production"
         },
         {
          "lag": 100,
          "value": 0.14190136408706366,
          "variable": "Johor_Production"
         },
         {
          "lag": 0,
          "value": null,
          "variable": "Johor_Area_rpa"
         },
         {
          "lag": 1,
          "value": -0.03951682197422686,
          "variable": "Johor_Area_rpa"
         },
         {
          "lag": 2,
          "value": -0.02425459764025284,
          "variable": "Johor_Area_rpa"
         },
         {
          "lag": 3,
          "value": -0.00792636402197564,
          "variable": "Johor_Area_rpa"
         },
         {
          "lag": 4,
          "value": 0.006590479691656245,
          "variable": "Johor_Area_rpa"
         },
         {
          "lag": 5,
          "value": 0.00843526639065384,
          "variable": "Johor_Area_rpa"
         },
         {
          "lag": 6,
          "value": 0.03343376542861799,
          "variable": "Johor_Area_rpa"
         },
         {
          "lag": 7,
          "value": 0.007796126888677989,
          "variable": "Johor_Area_rpa"
         },
         {
          "lag": 8,
          "value": 0.003571976796949174,
          "variable": "Johor_Area_rpa"
         },
         {
          "lag": 9,
          "value": 0.024705226613959692,
          "variable": "Johor_Area_rpa"
         },
         {
          "lag": 10,
          "value": 0.009719474104328869,
          "variable": "Johor_Area_rpa"
         },
         {
          "lag": 11,
          "value": 0.012423246551916142,
          "variable": "Johor_Area_rpa"
         },
         {
          "lag": 12,
          "value": 0.020316816139782253,
          "variable": "Johor_Area_rpa"
         },
         {
          "lag": 13,
          "value": 0.0031399736935048754,
          "variable": "Johor_Area_rpa"
         },
         {
          "lag": 14,
          "value": -0.01329033533011304,
          "variable": "Johor_Area_rpa"
         },
         {
          "lag": 15,
          "value": -0.037689277454000726,
          "variable": "Johor_Area_rpa"
         },
         {
          "lag": 16,
          "value": -0.014547632722450769,
          "variable": "Johor_Area_rpa"
         },
         {
          "lag": 17,
          "value": -0.02663157846883727,
          "variable": "Johor_Area_rpa"
         },
         {
          "lag": 18,
          "value": -0.0018934489894178448,
          "variable": "Johor_Area_rpa"
         },
         {
          "lag": 19,
          "value": -0.002026085878783872,
          "variable": "Johor_Area_rpa"
         },
         {
          "lag": 20,
          "value": -0.004872300976824885,
          "variable": "Johor_Area_rpa"
         },
         {
          "lag": 21,
          "value": 0.012823863663801267,
          "variable": "Johor_Area_rpa"
         },
         {
          "lag": 22,
          "value": 0.019268765450813703,
          "variable": "Johor_Area_rpa"
         },
         {
          "lag": 23,
          "value": 0.009794305363629305,
          "variable": "Johor_Area_rpa"
         },
         {
          "lag": 24,
          "value": 0.02644921895282003,
          "variable": "Johor_Area_rpa"
         },
         {
          "lag": 25,
          "value": 0.02407786916986201,
          "variable": "Johor_Area_rpa"
         },
         {
          "lag": 26,
          "value": 0.004017381459819371,
          "variable": "Johor_Area_rpa"
         },
         {
          "lag": 27,
          "value": 0.010264338447807718,
          "variable": "Johor_Area_rpa"
         },
         {
          "lag": 28,
          "value": 0.01462735508771885,
          "variable": "Johor_Area_rpa"
         },
         {
          "lag": 29,
          "value": -0.005261082899732904,
          "variable": "Johor_Area_rpa"
         },
         {
          "lag": 30,
          "value": -0.015352137834363176,
          "variable": "Johor_Area_rpa"
         },
         {
          "lag": 31,
          "value": 0.0049332222380313795,
          "variable": "Johor_Area_rpa"
         },
         {
          "lag": 32,
          "value": 0.0345530333026113,
          "variable": "Johor_Area_rpa"
         },
         {
          "lag": 33,
          "value": 0.02014524437799191,
          "variable": "Johor_Area_rpa"
         },
         {
          "lag": 34,
          "value": -0.02335829171950973,
          "variable": "Johor_Area_rpa"
         },
         {
          "lag": 35,
          "value": -0.00020510255390673797,
          "variable": "Johor_Area_rpa"
         },
         {
          "lag": 36,
          "value": -0.010156635407350886,
          "variable": "Johor_Area_rpa"
         },
         {
          "lag": 37,
          "value": 0.00015609567058926974,
          "variable": "Johor_Area_rpa"
         },
         {
          "lag": 38,
          "value": 0.021073957527099323,
          "variable": "Johor_Area_rpa"
         },
         {
          "lag": 39,
          "value": 0.023170645401091625,
          "variable": "Johor_Area_rpa"
         },
         {
          "lag": 40,
          "value": 0.021293619905986903,
          "variable": "Johor_Area_rpa"
         },
         {
          "lag": 41,
          "value": 0.014862916437431496,
          "variable": "Johor_Area_rpa"
         },
         {
          "lag": 42,
          "value": 0.0020760364767938378,
          "variable": "Johor_Area_rpa"
         },
         {
          "lag": 43,
          "value": -0.009542183175158776,
          "variable": "Johor_Area_rpa"
         },
         {
          "lag": 44,
          "value": 0.02144961837624602,
          "variable": "Johor_Area_rpa"
         },
         {
          "lag": 45,
          "value": -0.011137374525534089,
          "variable": "Johor_Area_rpa"
         },
         {
          "lag": 46,
          "value": -0.01385798173568627,
          "variable": "Johor_Area_rpa"
         },
         {
          "lag": 47,
          "value": -0.009140358454556128,
          "variable": "Johor_Area_rpa"
         },
         {
          "lag": 48,
          "value": -0.0049979147477626175,
          "variable": "Johor_Area_rpa"
         },
         {
          "lag": 49,
          "value": -0.004118710575824917,
          "variable": "Johor_Area_rpa"
         },
         {
          "lag": 50,
          "value": 0.029323043388434396,
          "variable": "Johor_Area_rpa"
         },
         {
          "lag": 51,
          "value": 0.018932910123290268,
          "variable": "Johor_Area_rpa"
         },
         {
          "lag": 52,
          "value": 0.0190461649358368,
          "variable": "Johor_Area_rpa"
         },
         {
          "lag": 53,
          "value": 0.007488507997300196,
          "variable": "Johor_Area_rpa"
         },
         {
          "lag": 54,
          "value": -0.012593987720097191,
          "variable": "Johor_Area_rpa"
         },
         {
          "lag": 55,
          "value": -0.0023468589809073313,
          "variable": "Johor_Area_rpa"
         },
         {
          "lag": 56,
          "value": 0.0019377827278856262,
          "variable": "Johor_Area_rpa"
         },
         {
          "lag": 57,
          "value": -0.0021497154066588645,
          "variable": "Johor_Area_rpa"
         },
         {
          "lag": 58,
          "value": -0.01618177523134247,
          "variable": "Johor_Area_rpa"
         },
         {
          "lag": 59,
          "value": -0.0005836672779093059,
          "variable": "Johor_Area_rpa"
         },
         {
          "lag": 60,
          "value": 0.013252162058895019,
          "variable": "Johor_Area_rpa"
         },
         {
          "lag": 61,
          "value": 0.018476550535112084,
          "variable": "Johor_Area_rpa"
         },
         {
          "lag": 62,
          "value": 0.014914594298909217,
          "variable": "Johor_Area_rpa"
         },
         {
          "lag": 63,
          "value": -0.002716730996144676,
          "variable": "Johor_Area_rpa"
         },
         {
          "lag": 64,
          "value": -0.013198524486393194,
          "variable": "Johor_Area_rpa"
         },
         {
          "lag": 65,
          "value": -0.025257646273686776,
          "variable": "Johor_Area_rpa"
         },
         {
          "lag": 66,
          "value": -0.021007393333426883,
          "variable": "Johor_Area_rpa"
         },
         {
          "lag": 67,
          "value": -0.02739073487699684,
          "variable": "Johor_Area_rpa"
         },
         {
          "lag": 68,
          "value": -0.03765853974755039,
          "variable": "Johor_Area_rpa"
         },
         {
          "lag": 69,
          "value": -0.04380667066388732,
          "variable": "Johor_Area_rpa"
         },
         {
          "lag": 70,
          "value": -0.04430563272576968,
          "variable": "Johor_Area_rpa"
         },
         {
          "lag": 71,
          "value": -0.017243105693984087,
          "variable": "Johor_Area_rpa"
         },
         {
          "lag": 72,
          "value": 0.010602846020178896,
          "variable": "Johor_Area_rpa"
         },
         {
          "lag": 73,
          "value": 0.023812901143769424,
          "variable": "Johor_Area_rpa"
         },
         {
          "lag": 74,
          "value": 0.02484606327970213,
          "variable": "Johor_Area_rpa"
         },
         {
          "lag": 75,
          "value": 0.00015719456939284894,
          "variable": "Johor_Area_rpa"
         },
         {
          "lag": 76,
          "value": -0.004153174144066496,
          "variable": "Johor_Area_rpa"
         },
         {
          "lag": 77,
          "value": -0.00879305412683031,
          "variable": "Johor_Area_rpa"
         },
         {
          "lag": 78,
          "value": -0.0066037139466943555,
          "variable": "Johor_Area_rpa"
         },
         {
          "lag": 79,
          "value": 0.0041161296576737345,
          "variable": "Johor_Area_rpa"
         },
         {
          "lag": 80,
          "value": -0.01176985177554679,
          "variable": "Johor_Area_rpa"
         },
         {
          "lag": 81,
          "value": -0.020830028553231926,
          "variable": "Johor_Area_rpa"
         },
         {
          "lag": 82,
          "value": -0.05791198525616267,
          "variable": "Johor_Area_rpa"
         },
         {
          "lag": 83,
          "value": -0.03785849373594147,
          "variable": "Johor_Area_rpa"
         },
         {
          "lag": 84,
          "value": 0.000048130899087662165,
          "variable": "Johor_Area_rpa"
         },
         {
          "lag": 85,
          "value": 0.038371495536323505,
          "variable": "Johor_Area_rpa"
         },
         {
          "lag": 86,
          "value": 0.06828167235428685,
          "variable": "Johor_Area_rpa"
         },
         {
          "lag": 87,
          "value": 0.05933100780780868,
          "variable": "Johor_Area_rpa"
         },
         {
          "lag": 88,
          "value": 0.06586370185189976,
          "variable": "Johor_Area_rpa"
         },
         {
          "lag": 89,
          "value": 0.04528862392503863,
          "variable": "Johor_Area_rpa"
         },
         {
          "lag": 90,
          "value": 0.09550233340423198,
          "variable": "Johor_Area_rpa"
         },
         {
          "lag": 91,
          "value": 0.004924312616332577,
          "variable": "Johor_Area_rpa"
         },
         {
          "lag": 92,
          "value": -0.018803913219793307,
          "variable": "Johor_Area_rpa"
         },
         {
          "lag": 93,
          "value": -0.06476875188030595,
          "variable": "Johor_Area_rpa"
         },
         {
          "lag": 94,
          "value": 0.006766916029543015,
          "variable": "Johor_Area_rpa"
         },
         {
          "lag": 95,
          "value": -0.028120113237029166,
          "variable": "Johor_Area_rpa"
         },
         {
          "lag": 96,
          "value": -0.0252396314037058,
          "variable": "Johor_Area_rpa"
         },
         {
          "lag": 97,
          "value": -0.03159992376783966,
          "variable": "Johor_Area_rpa"
         },
         {
          "lag": 98,
          "value": -0.018143233720938845,
          "variable": "Johor_Area_rpa"
         },
         {
          "lag": 99,
          "value": -0.015861902485463594,
          "variable": "Johor_Area_rpa"
         },
         {
          "lag": 100,
          "value": -0.013626627432831887,
          "variable": "Johor_Area_rpa"
         }
        ]
       },
       "resolve": {
        "axis": {
         "x": "independent",
         "y": "independent"
        },
        "scale": {
         "x": "shared",
         "y": "shared"
        }
       }
      },
      "text/plain": [
       "<VegaLite 4 object>\n",
       "\n",
       "If you see this message, it means the renderer has not been properly enabled\n",
       "for the frontend that you are using. For more information, see\n",
       "https://altair-viz.github.io/user_guide/troubleshooting.html\n"
      ]
     },
     "execution_count": 90,
     "metadata": {},
     "output_type": "execute_result"
    }
   ],
   "source": [
    "part_autocorrelation(X[cols])"
   ]
  },
  {
   "cell_type": "markdown",
   "metadata": {},
   "source": [
    "#### I would take only rainfall numbers, because only them are good enough to predict for distant future (12 months). Area correlates well on the next or few next months"
   ]
  },
  {
   "cell_type": "code",
   "execution_count": 91,
   "metadata": {},
   "outputs": [],
   "source": [
    "def process_data(production, rainfall, area, region, PRODUCTION_LAGS, RAINFALL_LAGS):\n",
    "    data = production[production.Region == region[0]]\n",
    "    data = pd.merge(data[['Year', 'Month', 'Production', 'Diff_production']],\n",
    "                    rainfall[rainfall.Region == region[1]][['Year', 'Month', 'Rainfall']], \n",
    "                    on=['Year', 'Month'], how='left')\n",
    "\n",
    "    data = pd.merge(data, area[area.Region == region[2]][\n",
    "        ['Year', 'Area_ma', 'Area_npa', 'Area_rpa', 'Area_New', 'Area_ma_new']], on='Year', how='left')\n",
    "\n",
    "    data['Year'] = data['Year'].astype(int)\n",
    "    data['Month'] = data['Month'].astype(int)\n",
    "    data.reset_index(inplace=True)\n",
    "\n",
    "    data.set_index([pd.to_datetime(['{0}-{1}-01'.format(x, y) for (x, y) in zip(data.Year, data.Month)])],\n",
    "                   inplace=True)\n",
    "\n",
    "    data.drop(['index', 'Year', 'Area_New', 'Diff_production'], axis=1, inplace=True)\n",
    "    data['Time'] = np.arange(len(data))\n",
    "\n",
    "    for lag in RAINFALL_LAGS:\n",
    "        temp = np.concatenate((np.array([np.nan for _ in range(lag)]), data.Rainfall.values[:-lag]))\n",
    "        data['Rainfall_{0}'.format(lag)] = temp\n",
    "\n",
    "    for lag in PRODUCTION_LAGS:\n",
    "        temp = np.concatenate((np.array([np.nan for _ in range(lag)]), data.Production.values[:-lag]))\n",
    "        data['Production_{0}'.format(lag)] = temp\n",
    "\n",
    "    PRODUCTION = data.Production\n",
    "    data.drop(['Production'], axis=1, inplace=True)\n",
    "\n",
    "    data.fillna(data.mean(), inplace=True)\n",
    "\n",
    "    #  And finally drop rainfalls\n",
    "    data.drop(['Rainfall'], axis=1, inplace=True)\n",
    "\n",
    "    return data[max(PRODUCTION_LAGS):], PRODUCTION[max(PRODUCTION_LAGS):]\n",
    "\n",
    "\n",
    "PRODUCTION_LAGS = [1, 15]\n",
    "RAINFALL_LAGS = [12, 35]\n",
    "\n",
    "REGION = ['JH', 'Johor', 'JH']\n"
   ]
  },
  {
   "cell_type": "code",
   "execution_count": 92,
   "metadata": {},
   "outputs": [],
   "source": [
    "# WMAPE metric\n",
    "def wmape(y, y_hat):\n",
    "    return np.abs((y - y_hat)).sum() / y.sum()\n",
    "# RMSE metric\n",
    "def rmse(y, y_hat):\n",
    "    return np.sqrt(((y - y_hat) ** 2).mean())"
   ]
  },
  {
   "cell_type": "code",
   "execution_count": 93,
   "metadata": {},
   "outputs": [],
   "source": [
    "def get_lag_subset(df, rainfall_lags, production_lags): # Rainfall_17', 'Production_1\n",
    "    columns = [f\"Production_{lag}\" for lag in range(1, production_lags + 1)] + \\\n",
    "              [f\"Rainfall_{lag + 12}\" for lag in range(rainfall_lags + 1)]\n",
    "    return df[columns]\n",
    "\n",
    "def folds_iterator(n_folds, samples_per_fold, size):\n",
    "    for i in range(n_folds):\n",
    "        yield np.arange(0, size - samples_per_fold * (i + 1)), \\\n",
    "              np.arange(size - samples_per_fold * (i + 1), size - samples_per_fold * i)\n"
   ]
  },
  {
   "cell_type": "code",
   "execution_count": 94,
   "metadata": {},
   "outputs": [],
   "source": [
    "# own k-validator\n",
    "def validate_model(model, x, y, params, cv):\n",
    "    model.set_params(**{param: param_value for param, param_value in params})\n",
    "    rmse_sum, wmape_sum, count = 0, 0, 0\n",
    "    for train_indices, test_indices in cv:\n",
    "        x_train, y_train, x_test, y_test = x.iloc[train_indices], y.iloc[train_indices], x.iloc[test_indices], y.iloc[test_indices] \n",
    "        model.fit(x_train, y_train)\n",
    "        y_hat = model.predict(x_test)\n",
    "        rmse_sum += rmse(y_test, y_hat)\n",
    "        wmape_sum += wmape(y_test, y_hat)\n",
    "        count += 1\n",
    "    \n",
    "    return model, rmse_sum / count, wmape_sum / count"
   ]
  },
  {
   "cell_type": "code",
   "execution_count": 95,
   "metadata": {},
   "outputs": [],
   "source": [
    "def validate_params(model, x, y, params, n_folds, samples_per_fold): # todo rewrite better\n",
    "    best_model = None\n",
    "    best_rmse, best_wmape = -np.Inf, -np.Inf\n",
    "    best_params = {key: None for key in params}\n",
    "\n",
    "    # idk how to handle this well\n",
    "    if not params:\n",
    "        return *validate_model(deepcopy(model), x, y, [], folds_iterator(n_folds, samples_per_fold, samples - test_set_size)), {}\n",
    "\n",
    "    for cur_params in product(*(params.values())):\n",
    "        # some combination of parameters\n",
    "        cur_model, cur_rmse, cur_wmape = validate_model(deepcopy(model), x, y, zip(params.keys(), cur_params), folds_iterator(n_folds, samples_per_fold, samples - test_set_size))\n",
    "        \n",
    "        if abs(cur_rmse) < abs(best_rmse):\n",
    "            best_rmse = cur_rmse\n",
    "            best_wmape = cur_wmape\n",
    "            best_model = cur_model\n",
    "            for param, param_value in zip(params.keys(), cur_params):\n",
    "                best_params[param] = param_value\n",
    "    \n",
    "    # return best\n",
    "    return best_model, best_rmse, best_wmape, best_params"
   ]
  },
  {
   "cell_type": "code",
   "execution_count": 96,
   "metadata": {},
   "outputs": [],
   "source": [
    "def validate_lags(model, params, train_set_size, n_folds, samples_per_fold):\n",
    "    best_model = None\n",
    "    best_rmse, best_wmape = -np.Inf, -np.Inf\n",
    "    best_params = None\n",
    "    best_prod_lags, best_rain_lags = [PRODUCTION_LAGS[0], None], [RAINFALL_LAGS[0], None]\n",
    "        \n",
    "    for prod_lag_end in range(*PRODUCTION_LAGS):\n",
    "        for rain_lag_end in range(*RAINFALL_LAGS):\n",
    "            x, y = process_data(prod, rain, area, REGION, range(PRODUCTION_LAGS[0], prod_lag_end + 1), range(RAINFALL_LAGS[0], rain_lag_end + 1))\n",
    "            cur_model, cur_rmse, cur_wmape, cur_params = validate_params(deepcopy(model), x[:train_set_size], y[:train_set_size], params, n_folds, samples_per_fold)\n",
    "\n",
    "            if abs(cur_rmse) < abs(best_rmse):\n",
    "                best_rmse = cur_rmse\n",
    "                best_wmape = cur_wmape\n",
    "                best_model = cur_model\n",
    "                best_params = cur_params\n",
    "                best_prod_lags[1] = prod_lag_end\n",
    "                best_rain_lags[1] = rain_lag_end\n",
    "    \n",
    "    print(f\"Best lags number:\\nProduction: {best_prod_lags}\\nRainfall: {best_rain_lags}\")\n",
    "    \n",
    "    print(\"\\nBest hyper-parameters\")\n",
    "    for param_name in best_params:\n",
    "        print(f\"{param_name}: {best_params[param_name]}\")\n",
    "\n",
    "    print(f\"\\nRMSE: {best_rmse}; WMAPE: {best_wmape}\")\n",
    "    \n",
    "    return best_model"
   ]
  },
  {
   "cell_type": "code",
   "execution_count": 97,
   "metadata": {},
   "outputs": [],
   "source": [
    "samples = process_data(prod, rain, area, REGION, list(range(*PRODUCTION_LAGS)), list(range(*RAINFALL_LAGS)))[0].shape[0]\n",
    "test_set_size = 12\n",
    "\n",
    "n_folds = 5\n",
    "samples_per_fold = test_set_size\n",
    "\n",
    "rainfall_lags = 37\n",
    "production_lags = 13\n"
   ]
  },
  {
   "cell_type": "code",
   "execution_count": 44,
   "metadata": {},
   "outputs": [
    {
     "name": "stdout",
     "output_type": "stream",
     "text": [
      "Best lags number:\n",
      "Production: [1, 8]\n",
      "Rainfall: [12, 34]\n",
      "\n",
      "Best hyper-parameters\n",
      "\n",
      "RMSE: 21.991628919102972; WMAPE: 0.07242298472322227\n"
     ]
    }
   ],
   "source": [
    "linear_regression = validate_lags(model=Pipeline([(\"scl\", StandardScaler()), (\"reg\", LinearRegression())]), \n",
    "                                  params={},\n",
    "                                  train_set_size=-test_set_size,\n",
    "                                  n_folds=n_folds,\n",
    "                                  samples_per_fold=samples_per_fold)"
   ]
  },
  {
   "cell_type": "code",
   "execution_count": 45,
   "metadata": {},
   "outputs": [
    {
     "name": "stdout",
     "output_type": "stream",
     "text": [
      "Best lags number:\n",
      "Production: [1, 12]\n",
      "Rainfall: [12, 34]\n",
      "\n",
      "Best hyper-parameters\n",
      "reg__alpha: 10\n",
      "\n",
      "RMSE: 20.573433222610454; WMAPE: 0.07025330720393635\n"
     ]
    }
   ],
   "source": [
    "ridge = validate_lags(model=Pipeline([(\"scl\", StandardScaler()), (\"reg\", Ridge(random_state=42))]), \n",
    "                    #   x=x_train,\n",
    "                    #   y=y_train,\n",
    "                      params={\"reg__alpha\": [0.01, 0.1, 1, 10]},\n",
    "                      n_folds=n_folds,\n",
    "                      train_set_size=-test_set_size,\n",
    "                      samples_per_fold=samples_per_fold)\n"
   ]
  },
  {
   "cell_type": "code",
   "execution_count": 17,
   "metadata": {},
   "outputs": [
    {
     "name": "stdout",
     "output_type": "stream",
     "text": [
      "Best lags number:\n",
      "Production: [1, 12]\n",
      "Rainfall: [12, 33]\n",
      "\n",
      "Best hyper-parameters\n",
      "reg__C: 10\n",
      "reg__kernel: linear\n",
      "\n",
      "RMSE: 20.076029546522008; WMAPE: 0.06701320041845805\n"
     ]
    }
   ],
   "source": [
    "svr = validate_lags(model=Pipeline([(\"scl\", StandardScaler()), (\"reg\", SVR())]), \n",
    "                #     x=x_train,\n",
    "                #     y=y_train,\n",
    "                    params={\"reg__C\": [0.01, 0.1, 1, 10],\n",
    "                            \"reg__kernel\": [\"rbf\", \"linear\"]},\n",
    "                    n_folds=n_folds,\n",
    "                    train_set_size=-test_set_size,\n",
    "\n",
    "                    samples_per_fold=samples_per_fold)\n"
   ]
  },
  {
   "cell_type": "code",
   "execution_count": 49,
   "metadata": {},
   "outputs": [
    {
     "name": "stdout",
     "output_type": "stream",
     "text": [
      "Best lags number:\n",
      "Production: [1, 14]\n",
      "Rainfall: [12, 18]\n",
      "\n",
      "Best hyper-parameters\n",
      "max_depth: 5\n",
      "min_samples_split: 6\n",
      "n_estimators: 200\n",
      "max_features: 0.6\n",
      "\n",
      "RMSE: 20.762626413225597; WMAPE: 0.06903860559474675\n"
     ]
    }
   ],
   "source": [
    "random_forest = validate_lags(model=RandomForestRegressor(random_state=42),\n",
    "                        #       x=x_train,\n",
    "                        #       y=y_train,\n",
    "                              train_set_size=-test_set_size,\n",
    "                              params={\"max_depth\": [5],\n",
    "                                      \"min_samples_split\": [6],\n",
    "                                      \"n_estimators\": [200],\n",
    "                                      \"max_features\": [0.6]},\n",
    "                              n_folds=n_folds,\n",
    "                              samples_per_fold=samples_per_fold)"
   ]
  },
  {
   "cell_type": "markdown",
   "metadata": {},
   "source": [
    "### The best model here is SVR with Production: [1, 12] and Rainfall: [12, 33], so let's train it, and test on the last year:"
   ]
  },
  {
   "cell_type": "code",
   "execution_count": 98,
   "metadata": {},
   "outputs": [],
   "source": [
    "X, y = process_data(prod, rain, area, REGION, range(PRODUCTION_LAGS[0], 12 + 1), range(RAINFALL_LAGS[0], 33 + 1))\n",
    "x_train, y_train = x[:train_set_size], y[:train_set_size]\n",
    "x_test, y_test = x[-test_set_size:], y[-test_set_size:]\n"
   ]
  },
  {
   "cell_type": "code",
   "execution_count": 99,
   "metadata": {},
   "outputs": [
    {
     "data": {
      "text/html": [
       "<div>\n",
       "<style scoped>\n",
       "    .dataframe tbody tr th:only-of-type {\n",
       "        vertical-align: middle;\n",
       "    }\n",
       "\n",
       "    .dataframe tbody tr th {\n",
       "        vertical-align: top;\n",
       "    }\n",
       "\n",
       "    .dataframe thead th {\n",
       "        text-align: right;\n",
       "    }\n",
       "</style>\n",
       "<table border=\"1\" class=\"dataframe\">\n",
       "  <thead>\n",
       "    <tr style=\"text-align: right;\">\n",
       "      <th></th>\n",
       "      <th>dt</th>\n",
       "      <th>Production</th>\n",
       "      <th>forcasted sales</th>\n",
       "    </tr>\n",
       "  </thead>\n",
       "  <tbody>\n",
       "    <tr>\n",
       "      <th>2016-10-01</th>\n",
       "      <td>2016-10-01</td>\n",
       "      <td>284.922</td>\n",
       "      <td>332.489823</td>\n",
       "    </tr>\n",
       "    <tr>\n",
       "      <th>2016-11-01</th>\n",
       "      <td>2016-11-01</td>\n",
       "      <td>274.107</td>\n",
       "      <td>306.989157</td>\n",
       "    </tr>\n",
       "    <tr>\n",
       "      <th>2016-12-01</th>\n",
       "      <td>2016-12-01</td>\n",
       "      <td>254.881</td>\n",
       "      <td>262.172019</td>\n",
       "    </tr>\n",
       "    <tr>\n",
       "      <th>2017-01-01</th>\n",
       "      <td>2017-01-01</td>\n",
       "      <td>211.810</td>\n",
       "      <td>270.506950</td>\n",
       "    </tr>\n",
       "    <tr>\n",
       "      <th>2017-02-01</th>\n",
       "      <td>2017-02-01</td>\n",
       "      <td>214.747</td>\n",
       "      <td>250.178913</td>\n",
       "    </tr>\n",
       "    <tr>\n",
       "      <th>2017-03-01</th>\n",
       "      <td>2017-03-01</td>\n",
       "      <td>210.002</td>\n",
       "      <td>251.995355</td>\n",
       "    </tr>\n",
       "    <tr>\n",
       "      <th>2017-04-01</th>\n",
       "      <td>2017-04-01</td>\n",
       "      <td>216.574</td>\n",
       "      <td>264.056989</td>\n",
       "    </tr>\n",
       "    <tr>\n",
       "      <th>2017-05-01</th>\n",
       "      <td>2017-05-01</td>\n",
       "      <td>225.834</td>\n",
       "      <td>268.615735</td>\n",
       "    </tr>\n",
       "    <tr>\n",
       "      <th>2017-06-01</th>\n",
       "      <td>2017-06-01</td>\n",
       "      <td>205.989</td>\n",
       "      <td>259.325360</td>\n",
       "    </tr>\n",
       "    <tr>\n",
       "      <th>2017-07-01</th>\n",
       "      <td>2017-07-01</td>\n",
       "      <td>284.963</td>\n",
       "      <td>247.267198</td>\n",
       "    </tr>\n",
       "    <tr>\n",
       "      <th>2017-08-01</th>\n",
       "      <td>2017-08-01</td>\n",
       "      <td>293.140</td>\n",
       "      <td>302.510956</td>\n",
       "    </tr>\n",
       "    <tr>\n",
       "      <th>2017-09-01</th>\n",
       "      <td>2017-09-01</td>\n",
       "      <td>295.578</td>\n",
       "      <td>333.481556</td>\n",
       "    </tr>\n",
       "  </tbody>\n",
       "</table>\n",
       "</div>"
      ],
      "text/plain": [
       "                   dt  Production  forcasted sales\n",
       "2016-10-01 2016-10-01     284.922       332.489823\n",
       "2016-11-01 2016-11-01     274.107       306.989157\n",
       "2016-12-01 2016-12-01     254.881       262.172019\n",
       "2017-01-01 2017-01-01     211.810       270.506950\n",
       "2017-02-01 2017-02-01     214.747       250.178913\n",
       "2017-03-01 2017-03-01     210.002       251.995355\n",
       "2017-04-01 2017-04-01     216.574       264.056989\n",
       "2017-05-01 2017-05-01     225.834       268.615735\n",
       "2017-06-01 2017-06-01     205.989       259.325360\n",
       "2017-07-01 2017-07-01     284.963       247.267198\n",
       "2017-08-01 2017-08-01     293.140       302.510956\n",
       "2017-09-01 2017-09-01     295.578       333.481556"
      ]
     },
     "execution_count": 99,
     "metadata": {},
     "output_type": "execute_result"
    }
   ],
   "source": [
    "y_hat = svr.predict(x_test)\n",
    "wmape_score = wmape(y_test, y_hat)\n",
    "rmse_score = rmse(y_test, y_hat)\n",
    "\n",
    "predictions_df = pd.DataFrame({\"dt\": x_test.index, \"Production\": y_test, \"forcasted sales\": y_hat})\n",
    "predictions_df"
   ]
  },
  {
   "cell_type": "code",
   "execution_count": 100,
   "metadata": {},
   "outputs": [
    {
     "name": "stdout",
     "output_type": "stream",
     "text": [
      "RF test RMSE: 40.555\n"
     ]
    },
    {
     "data": {
      "image/png": "[encoded data removed]",
      "text/plain": [
       "<Figure size 432x288 with 1 Axes>"
      ]
     },
     "metadata": {
      "needs_background": "light"
     },
     "output_type": "display_data"
    }
   ],
   "source": [
    "y_pred_train = svr.predict(x_train)\n",
    "y_pred = svr.predict(x_test)\n",
    "\n",
    "print(\"RF test RMSE: %.3f\" % rmse(y_test, y_pred))\n",
    "\n",
    "plt.plot(pd.Series(y_pred_train, index=x_train.index), label=\"RF Trained forecast\")\n",
    "plt.plot(y, label=\"RF Actual data\")\n",
    "plt.plot(pd.Series(y_pred, index=x_test.index), label=\"RF Forecast\")\n",
    "plt.legend();"
   ]
  },
  {
   "cell_type": "markdown",
   "metadata": {},
   "source": [
    "#### We see that although the shape of the forecast is good, the height is a bit too high. Let's look what other methods like FBProphet & DL will bring to us, and then we will choose the best model."
   ]
  },
  {
   "cell_type": "code",
   "execution_count": null,
   "metadata": {},
   "outputs": [],
   "source": []
  }
 ],
 "metadata": {
  "interpreter": {
   "hash": "c12be114c8b1c8588a74e1a2d3dc8d926d466820e21c87e3336e144c3f34dce6"
  },
  "kernelspec": {
   "display_name": "Python 3.9.6 64-bit",
   "name": "python3"
  },
  "language_info": {
   "codemirror_mode": {
    "name": "ipython",
    "version": 3
   },
   "file_extension": ".py",
   "mimetype": "text/x-python",
   "name": "python",
   "nbconvert_exporter": "python",
   "pygments_lexer": "ipython3",
   "version": "3.9.6"
  },
  "orig_nbformat": 4
 },
 "nbformat": 4,
 "nbformat_minor": 2
}
